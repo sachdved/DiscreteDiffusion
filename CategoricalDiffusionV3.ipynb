{
 "cells": [
  {
   "cell_type": "code",
   "execution_count": 1,
   "id": "8ed805f5-dec6-446f-91f9-43a8c8c3efe8",
   "metadata": {},
   "outputs": [],
   "source": [
    "import torch\n",
    "import numpy as np\n",
    "import sklearn\n",
    "\n",
    "from utils import *\n",
    "from architectures import *\n",
    "import preprocess\n",
    "\n",
    "import matplotlib.pyplot as plt\n",
    "\n",
    "from CategoricalDiffusion import *\n",
    "from denoiser import *"
   ]
  },
  {
   "cell_type": "code",
   "execution_count": 2,
   "id": "974b819c-d5c9-48d5-ac0d-4882adfc7950",
   "metadata": {},
   "outputs": [
    {
     "name": "stderr",
     "output_type": "stream",
     "text": [
      "100%|█████████████████████████████████████████████████████████████████████████████████████████████████████████████████████████████████████████████████████████████████████████████████████████████████████████████████████████████████████████| 100/100 [01:18<00:00,  1.28it/s]\n"
     ]
    }
   ],
   "source": [
    "N_samples = 100000\n",
    "\n",
    "M = 2\n",
    "N_dim = 100\n",
    "\n",
    "bias = torch.zeros((N_dim,1))\n",
    "patterns = 2*torch.bernoulli(torch.ones((N_dim, M)) * 0.5) - 1\n",
    "\n",
    "spins = generate_data(patterns, bias, N_samples, beta=4)"
   ]
  },
  {
   "cell_type": "code",
   "execution_count": 3,
   "id": "1b5db25d-af5c-4c7c-a650-6d3916ee3fe0",
   "metadata": {},
   "outputs": [],
   "source": [
    "index_spins = ((1+spins)/2).type(torch.int64)"
   ]
  },
  {
   "cell_type": "code",
   "execution_count": 4,
   "id": "58beb6f9-65b6-485c-95f7-d86b261152ac",
   "metadata": {
    "scrolled": true
   },
   "outputs": [],
   "source": [
    "one_hot_spin_vectors = torch.nn.functional.one_hot(index_spins)"
   ]
  },
  {
   "cell_type": "code",
   "execution_count": 5,
   "id": "2131734c-def4-4106-abdd-15a6349c4eb5",
   "metadata": {},
   "outputs": [],
   "source": [
    "class SpinsDataset(torch.utils.data.Dataset):\n",
    "    \"\"\"\n",
    "    takes in one hot encoded spins X with one key - sequence, and Y with one, potentially two, keys - sequence and phenotype\n",
    "    inputs:\n",
    "        one_hot_spins: torch.Tensor representing spins (num_samples, dim, num_states)\n",
    "    \n",
    "    \"\"\"\n",
    "    \n",
    "    def __init__(self,\n",
    "                 spins,\n",
    "                 include_mask = False,\n",
    "                **kwargs):\n",
    "        super().__init__(**kwargs)\n",
    "        self.include_mask = include_mask\n",
    "        self.spins = spins\n",
    "        if self.include_mask:\n",
    "\n",
    "            self.spins = torch.cat((self.spins, torch.zeros((self.spins.shape[0], self.spins.shape[1], 1))), axis=-1)\n",
    "\n",
    "    def __len__(self):\n",
    "        return self.spins.shape[0]\n",
    "\n",
    "    def __getitem__(self, index):\n",
    "        X = dict()\n",
    "        Y = dict()\n",
    "\n",
    "        Y['spins'] = self.spins[index]\n",
    "        X['spins'] = self.spins[index]\n",
    "        return X, Y"
   ]
  },
  {
   "cell_type": "code",
   "execution_count": 6,
   "id": "e1f4e738-bb3a-4897-9eb2-e4c6d8293f7b",
   "metadata": {},
   "outputs": [],
   "source": [
    "spins_dataset = SpinsDataset(one_hot_spin_vectors, include_mask=True)\n",
    "spins_loader = torch.utils.data.DataLoader(spins_dataset, batch_size=32, shuffle=True)"
   ]
  },
  {
   "cell_type": "code",
   "execution_count": 7,
   "id": "759cf08d-e62c-4fb9-b2f4-8e7e43f8a796",
   "metadata": {},
   "outputs": [],
   "source": [
    "for batch in spins_loader:\n",
    "    X, Y = batch\n",
    "    X_spins = X['spins']\n",
    "    Y_spins = Y['spins']\n",
    "    "
   ]
  },
  {
   "cell_type": "code",
   "execution_count": 8,
   "id": "62a462bf-44dc-4cc6-a990-36416e517842",
   "metadata": {},
   "outputs": [],
   "source": [
    "noise_matrix = Noiser(noiser = 'BERT-LIKE', beta_t = 0.01, k=2).noise_matrix\n",
    "ts, noised_samples = noiser(X_spins, noise_matrix, 100, X_spins.shape[-1])"
   ]
  },
  {
   "cell_type": "code",
   "execution_count": 9,
   "id": "0e97e1bb-f990-4fc6-87a3-6f0ef0053213",
   "metadata": {},
   "outputs": [],
   "source": [
    "denoiser = Denoiser(8,1,128,X_spins.shape[2])"
   ]
  },
  {
   "cell_type": "code",
   "execution_count": 10,
   "id": "327ca8b0-9956-4d6d-b91b-ffeb65600d29",
   "metadata": {},
   "outputs": [],
   "source": [
    "cat_diff = CategoricalDiffusion(denoiser, noise_matrix)"
   ]
  },
  {
   "cell_type": "code",
   "execution_count": 11,
   "id": "6542b39b-a61e-4578-a1e7-048b9bfa9dc6",
   "metadata": {},
   "outputs": [],
   "source": [
    "cat_diff.decode(noised_samples, ts)"
   ]
  },
  {
   "cell_type": "code",
   "execution_count": 12,
   "id": "43766c2b-8def-452b-833c-08024fc8374e",
   "metadata": {},
   "outputs": [],
   "source": [
    "cat_diff.calc_forward_conditionals(noised_samples)"
   ]
  },
  {
   "cell_type": "code",
   "execution_count": 13,
   "id": "6d069f9c-7338-4687-afb0-deb3cf43b677",
   "metadata": {},
   "outputs": [
    {
     "data": {
      "text/plain": [
       "tensor([[[[0.3041, 0.3294, 0.3664],\n",
       "          [0.3103, 0.3205, 0.3692],\n",
       "          [0.2981, 0.3307, 0.3712],\n",
       "          ...,\n",
       "          [0.3137, 0.3137, 0.3727],\n",
       "          [0.3179, 0.3179, 0.3641],\n",
       "          [0.3186, 0.3186, 0.3628]],\n",
       "\n",
       "         [[0.3010, 0.3186, 0.3804],\n",
       "          [0.3062, 0.3062, 0.3877],\n",
       "          [0.3171, 0.3171, 0.3659],\n",
       "          ...,\n",
       "          [0.2894, 0.3355, 0.3751],\n",
       "          [0.3027, 0.3165, 0.3808],\n",
       "          [0.3069, 0.3335, 0.3596]],\n",
       "\n",
       "         [[0.3033, 0.3033, 0.3933],\n",
       "          [0.3234, 0.3234, 0.3531],\n",
       "          [0.3128, 0.3129, 0.3743],\n",
       "          ...,\n",
       "          [0.3272, 0.3272, 0.3456],\n",
       "          [0.3179, 0.3209, 0.3612],\n",
       "          [0.3172, 0.3172, 0.3656]],\n",
       "\n",
       "         ...,\n",
       "\n",
       "         [[0.3198, 0.3399, 0.3402],\n",
       "          [0.3090, 0.3090, 0.3821],\n",
       "          [0.3282, 0.3249, 0.3469],\n",
       "          ...,\n",
       "          [0.3007, 0.3140, 0.3853],\n",
       "          [0.3058, 0.3103, 0.3838],\n",
       "          [0.2952, 0.2971, 0.4077]],\n",
       "\n",
       "         [[0.3068, 0.3068, 0.3865],\n",
       "          [0.3109, 0.3109, 0.3783],\n",
       "          [0.3032, 0.3125, 0.3843],\n",
       "          ...,\n",
       "          [0.3209, 0.3209, 0.3582],\n",
       "          [0.3063, 0.3143, 0.3794],\n",
       "          [0.3164, 0.3225, 0.3611]],\n",
       "\n",
       "         [[0.3013, 0.3188, 0.3799],\n",
       "          [0.3105, 0.3195, 0.3701],\n",
       "          [0.3198, 0.3198, 0.3604],\n",
       "          ...,\n",
       "          [0.3076, 0.3076, 0.3847],\n",
       "          [0.2972, 0.3204, 0.3824],\n",
       "          [0.3167, 0.3167, 0.3666]]],\n",
       "\n",
       "\n",
       "        [[[0.3219, 0.3009, 0.3772],\n",
       "          [0.3294, 0.3059, 0.3646],\n",
       "          [0.2891, 0.2891, 0.4218],\n",
       "          ...,\n",
       "          [0.3118, 0.3146, 0.3736],\n",
       "          [0.3149, 0.3149, 0.3703],\n",
       "          [0.3167, 0.3093, 0.3740]],\n",
       "\n",
       "         [[0.3099, 0.3099, 0.3801],\n",
       "          [0.3133, 0.3133, 0.3735],\n",
       "          [0.3175, 0.3175, 0.3650],\n",
       "          ...,\n",
       "          [0.3162, 0.3162, 0.3676],\n",
       "          [0.3145, 0.3137, 0.3718],\n",
       "          [0.2985, 0.2985, 0.4029]],\n",
       "\n",
       "         [[0.3174, 0.2911, 0.3915],\n",
       "          [0.3074, 0.3074, 0.3852],\n",
       "          [0.3145, 0.3038, 0.3818],\n",
       "          ...,\n",
       "          [0.3124, 0.3124, 0.3753],\n",
       "          [0.3053, 0.3053, 0.3893],\n",
       "          [0.3035, 0.3060, 0.3905]],\n",
       "\n",
       "         ...,\n",
       "\n",
       "         [[0.3222, 0.3183, 0.3596],\n",
       "          [0.3164, 0.2944, 0.3893],\n",
       "          [0.3057, 0.3057, 0.3886],\n",
       "          ...,\n",
       "          [0.3049, 0.3049, 0.3902],\n",
       "          [0.3116, 0.3096, 0.3788],\n",
       "          [0.2938, 0.2916, 0.4147]],\n",
       "\n",
       "         [[0.2877, 0.3019, 0.4104],\n",
       "          [0.3201, 0.3201, 0.3598],\n",
       "          [0.2959, 0.3126, 0.3915],\n",
       "          ...,\n",
       "          [0.3206, 0.3206, 0.3589],\n",
       "          [0.3109, 0.3093, 0.3798],\n",
       "          [0.3167, 0.3059, 0.3774]],\n",
       "\n",
       "         [[0.3190, 0.3118, 0.3692],\n",
       "          [0.3075, 0.3119, 0.3806],\n",
       "          [0.3270, 0.3203, 0.3527],\n",
       "          ...,\n",
       "          [0.3368, 0.3230, 0.3402],\n",
       "          [0.3001, 0.3001, 0.3998],\n",
       "          [0.2863, 0.2863, 0.4274]]],\n",
       "\n",
       "\n",
       "        [[[0.3043, 0.3043, 0.3915],\n",
       "          [0.3136, 0.3046, 0.3819],\n",
       "          [0.3040, 0.3040, 0.3920],\n",
       "          ...,\n",
       "          [0.3049, 0.3268, 0.3683],\n",
       "          [0.3138, 0.3138, 0.3725],\n",
       "          [0.2978, 0.3319, 0.3703]],\n",
       "\n",
       "         [[0.3085, 0.2921, 0.3994],\n",
       "          [0.3089, 0.3349, 0.3562],\n",
       "          [0.3335, 0.3367, 0.3298],\n",
       "          ...,\n",
       "          [0.3059, 0.3059, 0.3882],\n",
       "          [0.3293, 0.3037, 0.3670],\n",
       "          [0.3020, 0.3017, 0.3964]],\n",
       "\n",
       "         [[0.3134, 0.3039, 0.3827],\n",
       "          [0.3025, 0.3217, 0.3758],\n",
       "          [0.3117, 0.3117, 0.3766],\n",
       "          ...,\n",
       "          [0.2998, 0.3111, 0.3891],\n",
       "          [0.2986, 0.3192, 0.3822],\n",
       "          [0.3146, 0.3035, 0.3819]],\n",
       "\n",
       "         ...,\n",
       "\n",
       "         [[0.2977, 0.3202, 0.3821],\n",
       "          [0.3014, 0.3014, 0.3972],\n",
       "          [0.3193, 0.3193, 0.3614],\n",
       "          ...,\n",
       "          [0.3104, 0.3022, 0.3874],\n",
       "          [0.3066, 0.2983, 0.3951],\n",
       "          [0.2975, 0.2975, 0.4050]],\n",
       "\n",
       "         [[0.3287, 0.3004, 0.3709],\n",
       "          [0.2971, 0.2971, 0.4057],\n",
       "          [0.3088, 0.3024, 0.3888],\n",
       "          ...,\n",
       "          [0.3063, 0.3063, 0.3875],\n",
       "          [0.3112, 0.3164, 0.3724],\n",
       "          [0.2977, 0.3161, 0.3862]],\n",
       "\n",
       "         [[0.3142, 0.3003, 0.3855],\n",
       "          [0.3171, 0.3222, 0.3607],\n",
       "          [0.3281, 0.3068, 0.3651],\n",
       "          ...,\n",
       "          [0.3008, 0.3114, 0.3878],\n",
       "          [0.2997, 0.2997, 0.4006],\n",
       "          [0.3036, 0.3036, 0.3929]]],\n",
       "\n",
       "\n",
       "        ...,\n",
       "\n",
       "\n",
       "        [[[0.2946, 0.3284, 0.3770],\n",
       "          [0.3029, 0.3085, 0.3885],\n",
       "          [0.3054, 0.3081, 0.3865],\n",
       "          ...,\n",
       "          [0.2957, 0.3262, 0.3782],\n",
       "          [0.2944, 0.3233, 0.3823],\n",
       "          [0.2958, 0.3424, 0.3617]],\n",
       "\n",
       "         [[0.3010, 0.3198, 0.3792],\n",
       "          [0.2946, 0.3242, 0.3812],\n",
       "          [0.3074, 0.3305, 0.3620],\n",
       "          ...,\n",
       "          [0.3013, 0.3107, 0.3880],\n",
       "          [0.2999, 0.3222, 0.3779],\n",
       "          [0.2964, 0.3119, 0.3917]],\n",
       "\n",
       "         [[0.2983, 0.3187, 0.3829],\n",
       "          [0.3026, 0.3290, 0.3684],\n",
       "          [0.2968, 0.3109, 0.3924],\n",
       "          ...,\n",
       "          [0.2939, 0.3148, 0.3913],\n",
       "          [0.3083, 0.3080, 0.3837],\n",
       "          [0.3007, 0.3156, 0.3837]],\n",
       "\n",
       "         ...,\n",
       "\n",
       "         [[0.3056, 0.3165, 0.3779],\n",
       "          [0.3107, 0.3183, 0.3711],\n",
       "          [0.3016, 0.3142, 0.3841],\n",
       "          ...,\n",
       "          [0.2958, 0.3237, 0.3805],\n",
       "          [0.3119, 0.3106, 0.3775],\n",
       "          [0.3172, 0.2998, 0.3831]],\n",
       "\n",
       "         [[0.3096, 0.3189, 0.3715],\n",
       "          [0.3022, 0.3195, 0.3783],\n",
       "          [0.3106, 0.3095, 0.3799],\n",
       "          ...,\n",
       "          [0.3022, 0.2964, 0.4014],\n",
       "          [0.3162, 0.3258, 0.3580],\n",
       "          [0.3196, 0.3147, 0.3658]],\n",
       "\n",
       "         [[0.3007, 0.3210, 0.3783],\n",
       "          [0.2959, 0.3161, 0.3880],\n",
       "          [0.3072, 0.3104, 0.3824],\n",
       "          ...,\n",
       "          [0.2921, 0.3244, 0.3835],\n",
       "          [0.2942, 0.3410, 0.3648],\n",
       "          [0.3102, 0.3081, 0.3817]]],\n",
       "\n",
       "\n",
       "        [[[0.3197, 0.3007, 0.3796],\n",
       "          [0.3014, 0.3057, 0.3929],\n",
       "          [0.3174, 0.3057, 0.3769],\n",
       "          ...,\n",
       "          [0.2984, 0.3160, 0.3856],\n",
       "          [0.3010, 0.3244, 0.3745],\n",
       "          [0.3043, 0.3096, 0.3861]],\n",
       "\n",
       "         [[0.3181, 0.2977, 0.3842],\n",
       "          [0.3171, 0.3005, 0.3823],\n",
       "          [0.2958, 0.3315, 0.3727],\n",
       "          ...,\n",
       "          [0.2949, 0.3105, 0.3946],\n",
       "          [0.3080, 0.3027, 0.3893],\n",
       "          [0.3007, 0.3205, 0.3788]],\n",
       "\n",
       "         [[0.3100, 0.3117, 0.3783],\n",
       "          [0.2991, 0.3124, 0.3885],\n",
       "          [0.3035, 0.3132, 0.3834],\n",
       "          ...,\n",
       "          [0.2972, 0.3247, 0.3782],\n",
       "          [0.2940, 0.3143, 0.3917],\n",
       "          [0.2879, 0.3044, 0.4077]],\n",
       "\n",
       "         ...,\n",
       "\n",
       "         [[0.2935, 0.3262, 0.3803],\n",
       "          [0.3109, 0.3102, 0.3789],\n",
       "          [0.2923, 0.3118, 0.3958],\n",
       "          ...,\n",
       "          [0.2999, 0.3150, 0.3851],\n",
       "          [0.3102, 0.3040, 0.3858],\n",
       "          [0.3041, 0.3114, 0.3845]],\n",
       "\n",
       "         [[0.3154, 0.3134, 0.3712],\n",
       "          [0.3035, 0.3316, 0.3649],\n",
       "          [0.2929, 0.3042, 0.4029],\n",
       "          ...,\n",
       "          [0.2919, 0.3059, 0.4021],\n",
       "          [0.3092, 0.3156, 0.3752],\n",
       "          [0.3027, 0.3286, 0.3687]],\n",
       "\n",
       "         [[0.3099, 0.3088, 0.3813],\n",
       "          [0.3079, 0.3254, 0.3667],\n",
       "          [0.3120, 0.3021, 0.3860],\n",
       "          ...,\n",
       "          [0.2959, 0.3137, 0.3905],\n",
       "          [0.2957, 0.3145, 0.3897],\n",
       "          [0.2980, 0.3080, 0.3940]]],\n",
       "\n",
       "\n",
       "        [[[0.3031, 0.3318, 0.3651],\n",
       "          [0.3014, 0.3193, 0.3794],\n",
       "          [0.3053, 0.3146, 0.3801],\n",
       "          ...,\n",
       "          [0.3096, 0.3136, 0.3768],\n",
       "          [0.3012, 0.3130, 0.3858],\n",
       "          [0.3009, 0.3080, 0.3911]],\n",
       "\n",
       "         [[0.2985, 0.3460, 0.3555],\n",
       "          [0.2980, 0.3182, 0.3838],\n",
       "          [0.3002, 0.3175, 0.3823],\n",
       "          ...,\n",
       "          [0.3326, 0.2961, 0.3713],\n",
       "          [0.2926, 0.3100, 0.3974],\n",
       "          [0.2988, 0.3162, 0.3850]],\n",
       "\n",
       "         [[0.3020, 0.3084, 0.3895],\n",
       "          [0.2920, 0.3072, 0.4008],\n",
       "          [0.2966, 0.3124, 0.3910],\n",
       "          ...,\n",
       "          [0.2959, 0.3252, 0.3789],\n",
       "          [0.2892, 0.3250, 0.3858],\n",
       "          [0.3078, 0.3123, 0.3799]],\n",
       "\n",
       "         ...,\n",
       "\n",
       "         [[0.3098, 0.3098, 0.3803],\n",
       "          [0.3035, 0.3113, 0.3852],\n",
       "          [0.2925, 0.3244, 0.3831],\n",
       "          ...,\n",
       "          [0.3102, 0.3242, 0.3656],\n",
       "          [0.3109, 0.3219, 0.3672],\n",
       "          [0.3010, 0.3150, 0.3840]],\n",
       "\n",
       "         [[0.3003, 0.3090, 0.3907],\n",
       "          [0.3019, 0.3142, 0.3840],\n",
       "          [0.3103, 0.3236, 0.3661],\n",
       "          ...,\n",
       "          [0.3058, 0.3144, 0.3799],\n",
       "          [0.3095, 0.3162, 0.3743],\n",
       "          [0.3027, 0.3162, 0.3811]],\n",
       "\n",
       "         [[0.2958, 0.3208, 0.3834],\n",
       "          [0.3140, 0.3130, 0.3729],\n",
       "          [0.3036, 0.3094, 0.3870],\n",
       "          ...,\n",
       "          [0.2999, 0.2954, 0.4047],\n",
       "          [0.3096, 0.3123, 0.3780],\n",
       "          [0.2863, 0.3021, 0.4117]]]], grad_fn=<ViewBackward0>)"
      ]
     },
     "execution_count": 13,
     "metadata": {},
     "output_type": "execute_result"
    }
   ],
   "source": [
    "cat_diff.y_pred"
   ]
  },
  {
   "cell_type": "code",
   "execution_count": 14,
   "id": "09f69844-c9a4-4b35-976a-e45cef751d27",
   "metadata": {},
   "outputs": [
    {
     "data": {
      "text/plain": [
       "tensor(1.6887)"
      ]
     },
     "execution_count": 14,
     "metadata": {},
     "output_type": "execute_result"
    }
   ],
   "source": [
    "cat_diff.L_T(noised_samples)"
   ]
  },
  {
   "cell_type": "code",
   "execution_count": 15,
   "id": "46a39d0d-3a4a-472a-aa68-9ac38971bf50",
   "metadata": {},
   "outputs": [
    {
     "data": {
      "text/plain": [
       "tensor(1.1711, grad_fn=<NegBackward0>)"
      ]
     },
     "execution_count": 15,
     "metadata": {},
     "output_type": "execute_result"
    }
   ],
   "source": [
    "cat_diff.L_t0t1(Y_spins)"
   ]
  },
  {
   "cell_type": "code",
   "execution_count": 16,
   "id": "f3de385d-82b0-4076-b138-8ef0b218155a",
   "metadata": {},
   "outputs": [
    {
     "data": {
      "text/plain": [
       "tensor(0.7824, grad_fn=<MeanBackward0>)"
      ]
     },
     "execution_count": 16,
     "metadata": {},
     "output_type": "execute_result"
    }
   ],
   "source": [
    "cat_diff.L_tminus1(Y_spins, noised_samples)"
   ]
  },
  {
   "cell_type": "code",
   "execution_count": 39,
   "id": "1a1582be-c784-470e-ad85-c6a5f3cc33f5",
   "metadata": {},
   "outputs": [
    {
     "name": "stderr",
     "output_type": "stream",
     "text": [
      "  0%|                                                                                                                                                                                                                                                  | 0/3125 [00:00<?, ?it/s]"
     ]
    },
    {
     "name": "stdout",
     "output_type": "stream",
     "text": [
      "0.07430996000766754\n",
      "0.37103477120399475\n",
      "0.4453447461128235\n"
     ]
    },
    {
     "name": "stderr",
     "output_type": "stream",
     "text": [
      "  0%|                                                                                                                                                                                                                                       | 1/3125 [00:36<31:29:28, 36.29s/it]"
     ]
    },
    {
     "name": "stdout",
     "output_type": "stream",
     "text": [
      "0.40446680784225464\n",
      "1.9333828687667847\n",
      "2.3378496170043945\n"
     ]
    },
    {
     "name": "stderr",
     "output_type": "stream",
     "text": [
      "  0%|▏                                                                                                                                                                                                                                      | 2/3125 [01:11<31:03:29, 35.80s/it]"
     ]
    },
    {
     "name": "stdout",
     "output_type": "stream",
     "text": [
      "0.07624992728233337\n",
      "1.2241350412368774\n",
      "1.3003849983215332\n"
     ]
    },
    {
     "name": "stderr",
     "output_type": "stream",
     "text": [
      "  0%|▏                                                                                                                                                                                                                                      | 3/3125 [01:45<30:11:39, 34.82s/it]"
     ]
    },
    {
     "name": "stdout",
     "output_type": "stream",
     "text": [
      "0.09118326008319855\n",
      "0.8738067746162415\n",
      "0.9649900197982788\n"
     ]
    },
    {
     "name": "stderr",
     "output_type": "stream",
     "text": [
      "  0%|▎                                                                                                                                                                                                                                      | 4/3125 [02:18<29:45:10, 34.32s/it]"
     ]
    },
    {
     "name": "stdout",
     "output_type": "stream",
     "text": [
      "0.10097696632146835\n",
      "0.7012823820114136\n",
      "0.8022593259811401\n"
     ]
    },
    {
     "name": "stderr",
     "output_type": "stream",
     "text": [
      "  0%|▎                                                                                                                                                                                                                                      | 5/3125 [02:49<28:42:55, 33.13s/it]"
     ]
    },
    {
     "name": "stdout",
     "output_type": "stream",
     "text": [
      "0.1322679966688156\n",
      "0.4703066647052765\n",
      "0.6025746464729309\n"
     ]
    },
    {
     "name": "stderr",
     "output_type": "stream",
     "text": [
      "  0%|▍                                                                                                                                                                                                                                      | 6/3125 [03:26<29:36:48, 34.18s/it]"
     ]
    },
    {
     "name": "stdout",
     "output_type": "stream",
     "text": [
      "0.12514491379261017\n",
      "0.4814998209476471\n",
      "0.6066447496414185\n"
     ]
    },
    {
     "name": "stderr",
     "output_type": "stream",
     "text": [
      "  0%|▌                                                                                                                                                                                                                                      | 7/3125 [04:00<29:45:40, 34.36s/it]"
     ]
    },
    {
     "name": "stdout",
     "output_type": "stream",
     "text": [
      "0.10772933065891266\n",
      "0.5380478501319885\n",
      "0.64577716588974\n"
     ]
    },
    {
     "name": "stderr",
     "output_type": "stream",
     "text": [
      "  0%|▌                                                                                                                                                                                                                                      | 8/3125 [04:35<29:50:06, 34.46s/it]"
     ]
    },
    {
     "name": "stdout",
     "output_type": "stream",
     "text": [
      "0.09788627922534943\n",
      "0.5315903425216675\n",
      "0.6294766068458557\n"
     ]
    },
    {
     "name": "stderr",
     "output_type": "stream",
     "text": [
      "  0%|▋                                                                                                                                                                                                                                      | 9/3125 [05:11<30:14:04, 34.93s/it]"
     ]
    },
    {
     "name": "stdout",
     "output_type": "stream",
     "text": [
      "0.08516058325767517\n",
      "0.49674561619758606\n",
      "0.5819061994552612\n"
     ]
    },
    {
     "name": "stderr",
     "output_type": "stream",
     "text": [
      "  0%|▋                                                                                                                                                                                                                                     | 10/3125 [05:46<30:11:45, 34.90s/it]"
     ]
    },
    {
     "name": "stdout",
     "output_type": "stream",
     "text": [
      "0.09699426591396332\n",
      "0.4506804943084717\n",
      "0.5476747751235962\n"
     ]
    },
    {
     "name": "stderr",
     "output_type": "stream",
     "text": [
      "  0%|▊                                                                                                                                                                                                                                     | 11/3125 [06:21<30:09:54, 34.87s/it]"
     ]
    },
    {
     "name": "stdout",
     "output_type": "stream",
     "text": [
      "0.09590338915586472\n",
      "0.41700008511543274\n",
      "0.5129034519195557\n"
     ]
    },
    {
     "name": "stderr",
     "output_type": "stream",
     "text": [
      "  0%|▉                                                                                                                                                                                                                                     | 12/3125 [06:56<30:14:02, 34.96s/it]"
     ]
    },
    {
     "name": "stdout",
     "output_type": "stream",
     "text": [
      "0.08559533953666687\n",
      "0.4061691462993622\n",
      "0.49176448583602905\n"
     ]
    },
    {
     "name": "stderr",
     "output_type": "stream",
     "text": [
      "  0%|▉                                                                                                                                                                                                                                     | 13/3125 [07:30<30:07:19, 34.85s/it]"
     ]
    },
    {
     "name": "stdout",
     "output_type": "stream",
     "text": [
      "0.09758633375167847\n",
      "0.4148550033569336\n",
      "0.5124413371086121\n"
     ]
    },
    {
     "name": "stderr",
     "output_type": "stream",
     "text": [
      "  0%|█                                                                                                                                                                                                                                     | 14/3125 [08:05<30:05:06, 34.81s/it]"
     ]
    },
    {
     "name": "stdout",
     "output_type": "stream",
     "text": [
      "0.09096696972846985\n",
      "0.4159482419490814\n",
      "0.5069152116775513\n"
     ]
    },
    {
     "name": "stderr",
     "output_type": "stream",
     "text": [
      "  0%|█                                                                                                                                                                                                                                     | 15/3125 [08:38<29:39:29, 34.33s/it]"
     ]
    },
    {
     "name": "stdout",
     "output_type": "stream",
     "text": [
      "0.09014927595853806\n",
      "0.40489521622657776\n",
      "0.4950444996356964\n"
     ]
    },
    {
     "name": "stderr",
     "output_type": "stream",
     "text": [
      "  1%|█▏                                                                                                                                                                                                                                    | 16/3125 [09:13<29:42:01, 34.39s/it]"
     ]
    },
    {
     "name": "stdout",
     "output_type": "stream",
     "text": [
      "0.08645707368850708\n",
      "0.3999840021133423\n",
      "0.48644107580184937\n"
     ]
    },
    {
     "name": "stderr",
     "output_type": "stream",
     "text": [
      "  1%|█▎                                                                                                                                                                                                                                    | 17/3125 [09:45<29:09:25, 33.77s/it]"
     ]
    },
    {
     "name": "stdout",
     "output_type": "stream",
     "text": [
      "0.09553436189889908\n",
      "0.39514976739883423\n",
      "0.4906841218471527\n"
     ]
    },
    {
     "name": "stderr",
     "output_type": "stream",
     "text": [
      "  1%|█▎                                                                                                                                                                                                                                    | 18/3125 [10:19<29:00:32, 33.61s/it]"
     ]
    },
    {
     "name": "stdout",
     "output_type": "stream",
     "text": [
      "0.08652438223361969\n",
      "0.3944658637046814\n",
      "0.4809902310371399\n"
     ]
    },
    {
     "name": "stderr",
     "output_type": "stream",
     "text": [
      "  1%|█▍                                                                                                                                                                                                                                    | 19/3125 [10:51<28:39:48, 33.22s/it]"
     ]
    },
    {
     "name": "stdout",
     "output_type": "stream",
     "text": [
      "0.0887974202632904\n",
      "0.392701119184494\n",
      "0.4814985394477844\n"
     ]
    },
    {
     "name": "stderr",
     "output_type": "stream",
     "text": [
      "  1%|█▍                                                                                                                                                                                                                                    | 20/3125 [11:23<28:24:18, 32.93s/it]"
     ]
    },
    {
     "name": "stdout",
     "output_type": "stream",
     "text": [
      "0.08361733704805374\n",
      "0.39234301447868347\n",
      "0.4759603440761566\n"
     ]
    },
    {
     "name": "stderr",
     "output_type": "stream",
     "text": [
      "  1%|█▌                                                                                                                                                                                                                                    | 21/3125 [11:54<27:57:24, 32.42s/it]"
     ]
    },
    {
     "name": "stdout",
     "output_type": "stream",
     "text": [
      "0.0913640707731247\n",
      "0.3919111490249634\n",
      "0.48327523469924927\n"
     ]
    },
    {
     "name": "stderr",
     "output_type": "stream",
     "text": [
      "  1%|█▌                                                                                                                                                                                                                                    | 22/3125 [12:26<27:49:41, 32.29s/it]"
     ]
    },
    {
     "name": "stdout",
     "output_type": "stream",
     "text": [
      "0.09220419079065323\n",
      "0.39292898774147034\n",
      "0.48513317108154297\n"
     ]
    },
    {
     "name": "stderr",
     "output_type": "stream",
     "text": [
      "  1%|█▋                                                                                                                                                                                                                                    | 23/3125 [13:00<28:05:25, 32.60s/it]"
     ]
    },
    {
     "name": "stdout",
     "output_type": "stream",
     "text": [
      "0.0884355902671814\n",
      "0.3911934792995453\n",
      "0.4796290695667267\n"
     ]
    },
    {
     "name": "stderr",
     "output_type": "stream",
     "text": [
      "  1%|█▊                                                                                                                                                                                                                                    | 24/3125 [13:30<27:27:20, 31.87s/it]"
     ]
    },
    {
     "name": "stdout",
     "output_type": "stream",
     "text": [
      "0.08324029296636581\n",
      "0.3863489329814911\n",
      "0.4695892333984375\n"
     ]
    },
    {
     "name": "stderr",
     "output_type": "stream",
     "text": [
      "  1%|█▊                                                                                                                                                                                                                                    | 25/3125 [14:04<27:57:26, 32.47s/it]"
     ]
    },
    {
     "name": "stdout",
     "output_type": "stream",
     "text": [
      "0.09620465338230133\n",
      "0.38294392824172974\n",
      "0.4791485667228699\n"
     ]
    },
    {
     "name": "stderr",
     "output_type": "stream",
     "text": [
      "  1%|█▉                                                                                                                                                                                                                                    | 26/3125 [14:35<27:44:58, 32.24s/it]"
     ]
    },
    {
     "name": "stdout",
     "output_type": "stream",
     "text": [
      "0.08487823605537415\n",
      "0.3784160614013672\n",
      "0.46329429745674133\n"
     ]
    },
    {
     "name": "stderr",
     "output_type": "stream",
     "text": [
      "  1%|█▉                                                                                                                                                                                                                                    | 27/3125 [15:09<28:07:03, 32.67s/it]"
     ]
    },
    {
     "name": "stdout",
     "output_type": "stream",
     "text": [
      "0.08192338794469833\n",
      "0.37581926584243774\n",
      "0.4577426612377167\n"
     ]
    },
    {
     "name": "stderr",
     "output_type": "stream",
     "text": [
      "  1%|██                                                                                                                                                                                                                                    | 28/3125 [15:43<28:22:15, 32.98s/it]"
     ]
    },
    {
     "name": "stdout",
     "output_type": "stream",
     "text": [
      "0.08595511317253113\n",
      "0.3744770288467407\n",
      "0.46043214201927185\n"
     ]
    },
    {
     "name": "stderr",
     "output_type": "stream",
     "text": [
      "  1%|██▏                                                                                                                                                                                                                                   | 29/3125 [16:17<28:44:12, 33.41s/it]"
     ]
    },
    {
     "name": "stdout",
     "output_type": "stream",
     "text": [
      "0.0805070623755455\n",
      "0.3729054033756256\n",
      "0.4534124732017517\n"
     ]
    },
    {
     "name": "stderr",
     "output_type": "stream",
     "text": [
      "  1%|██▏                                                                                                                                                                                                                                   | 29/3125 [16:52<30:00:53, 34.90s/it]\n"
     ]
    },
    {
     "ename": "KeyboardInterrupt",
     "evalue": "",
     "output_type": "error",
     "traceback": [
      "\u001b[0;31m---------------------------------------------------------------------------\u001b[0m",
      "\u001b[0;31mKeyboardInterrupt\u001b[0m                         Traceback (most recent call last)",
      "Cell \u001b[0;32mIn[39], line 33\u001b[0m\n\u001b[1;32m     30\u001b[0m \u001b[38;5;28mprint\u001b[39m(loss\u001b[38;5;241m.\u001b[39mitem())\n\u001b[1;32m     32\u001b[0m optim\u001b[38;5;241m.\u001b[39mzero_grad()\n\u001b[0;32m---> 33\u001b[0m \u001b[43mloss\u001b[49m\u001b[38;5;241;43m.\u001b[39;49m\u001b[43mbackward\u001b[49m\u001b[43m(\u001b[49m\u001b[43m)\u001b[49m\n\u001b[1;32m     34\u001b[0m optim\u001b[38;5;241m.\u001b[39mstep()\n\u001b[1;32m     36\u001b[0m overall_loss \u001b[38;5;241m+\u001b[39m\u001b[38;5;241m=\u001b[39m loss\u001b[38;5;241m.\u001b[39mitem()\n",
      "File \u001b[0;32m~/miniforge3/envs/disc_diff/lib/python3.11/site-packages/torch/_tensor.py:487\u001b[0m, in \u001b[0;36mTensor.backward\u001b[0;34m(self, gradient, retain_graph, create_graph, inputs)\u001b[0m\n\u001b[1;32m    477\u001b[0m \u001b[38;5;28;01mif\u001b[39;00m has_torch_function_unary(\u001b[38;5;28mself\u001b[39m):\n\u001b[1;32m    478\u001b[0m     \u001b[38;5;28;01mreturn\u001b[39;00m handle_torch_function(\n\u001b[1;32m    479\u001b[0m         Tensor\u001b[38;5;241m.\u001b[39mbackward,\n\u001b[1;32m    480\u001b[0m         (\u001b[38;5;28mself\u001b[39m,),\n\u001b[0;32m   (...)\u001b[0m\n\u001b[1;32m    485\u001b[0m         inputs\u001b[38;5;241m=\u001b[39minputs,\n\u001b[1;32m    486\u001b[0m     )\n\u001b[0;32m--> 487\u001b[0m \u001b[43mtorch\u001b[49m\u001b[38;5;241;43m.\u001b[39;49m\u001b[43mautograd\u001b[49m\u001b[38;5;241;43m.\u001b[39;49m\u001b[43mbackward\u001b[49m\u001b[43m(\u001b[49m\n\u001b[1;32m    488\u001b[0m \u001b[43m    \u001b[49m\u001b[38;5;28;43mself\u001b[39;49m\u001b[43m,\u001b[49m\u001b[43m \u001b[49m\u001b[43mgradient\u001b[49m\u001b[43m,\u001b[49m\u001b[43m \u001b[49m\u001b[43mretain_graph\u001b[49m\u001b[43m,\u001b[49m\u001b[43m \u001b[49m\u001b[43mcreate_graph\u001b[49m\u001b[43m,\u001b[49m\u001b[43m \u001b[49m\u001b[43minputs\u001b[49m\u001b[38;5;241;43m=\u001b[39;49m\u001b[43minputs\u001b[49m\n\u001b[1;32m    489\u001b[0m \u001b[43m\u001b[49m\u001b[43m)\u001b[49m\n",
      "File \u001b[0;32m~/miniforge3/envs/disc_diff/lib/python3.11/site-packages/torch/autograd/__init__.py:200\u001b[0m, in \u001b[0;36mbackward\u001b[0;34m(tensors, grad_tensors, retain_graph, create_graph, grad_variables, inputs)\u001b[0m\n\u001b[1;32m    195\u001b[0m     retain_graph \u001b[38;5;241m=\u001b[39m create_graph\n\u001b[1;32m    197\u001b[0m \u001b[38;5;66;03m# The reason we repeat same the comment below is that\u001b[39;00m\n\u001b[1;32m    198\u001b[0m \u001b[38;5;66;03m# some Python versions print out the first line of a multi-line function\u001b[39;00m\n\u001b[1;32m    199\u001b[0m \u001b[38;5;66;03m# calls in the traceback and some print out the last line\u001b[39;00m\n\u001b[0;32m--> 200\u001b[0m \u001b[43mVariable\u001b[49m\u001b[38;5;241;43m.\u001b[39;49m\u001b[43m_execution_engine\u001b[49m\u001b[38;5;241;43m.\u001b[39;49m\u001b[43mrun_backward\u001b[49m\u001b[43m(\u001b[49m\u001b[43m  \u001b[49m\u001b[38;5;66;43;03m# Calls into the C++ engine to run the backward pass\u001b[39;49;00m\n\u001b[1;32m    201\u001b[0m \u001b[43m    \u001b[49m\u001b[43mtensors\u001b[49m\u001b[43m,\u001b[49m\u001b[43m \u001b[49m\u001b[43mgrad_tensors_\u001b[49m\u001b[43m,\u001b[49m\u001b[43m \u001b[49m\u001b[43mretain_graph\u001b[49m\u001b[43m,\u001b[49m\u001b[43m \u001b[49m\u001b[43mcreate_graph\u001b[49m\u001b[43m,\u001b[49m\u001b[43m \u001b[49m\u001b[43minputs\u001b[49m\u001b[43m,\u001b[49m\n\u001b[1;32m    202\u001b[0m \u001b[43m    \u001b[49m\u001b[43mallow_unreachable\u001b[49m\u001b[38;5;241;43m=\u001b[39;49m\u001b[38;5;28;43;01mTrue\u001b[39;49;00m\u001b[43m,\u001b[49m\u001b[43m \u001b[49m\u001b[43maccumulate_grad\u001b[49m\u001b[38;5;241;43m=\u001b[39;49m\u001b[38;5;28;43;01mTrue\u001b[39;49;00m\u001b[43m)\u001b[49m\n",
      "\u001b[0;31mKeyboardInterrupt\u001b[0m: "
     ]
    }
   ],
   "source": [
    "from tqdm import tqdm\n",
    "epochs = 100\n",
    "\n",
    "cat_diff.train()\n",
    "optim = torch.optim.Adam(cat_diff.parameters(), lr = 1e-3)\n",
    "\n",
    "for epoch in range(epochs):\n",
    "    overall_loss = 0\n",
    "    spins_loader = torch.utils.data.DataLoader(spins_dataset, batch_size=32, shuffle=True)\n",
    "    for batch in tqdm(spins_loader):\n",
    "        X, Y = batch\n",
    "        \n",
    "        X_spins = X['spins']\n",
    "        Y_spins = Y['spins']\n",
    "        \n",
    "        ts, noised_samples = noiser(X_spins, noise_matrix, 100, X_spins.shape[-1])\n",
    "\n",
    "        cat_diff.decode(noised_samples, ts)\n",
    "        cat_diff.calc_forward_conditionals(noised_samples)\n",
    "        \n",
    "        LT_loss     = cat_diff.L_T(noised_samples)\n",
    "        \n",
    "        Lt0_t1_loss = cat_diff.L_t0t1(Y_spins)\n",
    "        print(Lt0_t1_loss.item())\n",
    "\n",
    "        Ltminus1    = cat_diff.L_tminus1(Y_spins, noised_samples)\n",
    "        print(Ltminus1.item())\n",
    "\n",
    "        loss = Lt0_t1_loss + Ltminus1\n",
    "        print(loss.item())\n",
    "        \n",
    "        optim.zero_grad()\n",
    "        loss.backward()\n",
    "        optim.step()\n",
    "        \n",
    "        overall_loss += loss.item()\n",
    "    print('overall loss at epoch {} is '.format(epoch) + str(overall_loss/X_train.shape[0]))"
   ]
  },
  {
   "cell_type": "code",
   "execution_count": 49,
   "id": "a527561e-72a1-41e8-8c4d-c7c3e8d9d910",
   "metadata": {
    "scrolled": true
   },
   "outputs": [
    {
     "data": {
      "text/plain": [
       "tensor([0., 0., 1.])"
      ]
     },
     "execution_count": 49,
     "metadata": {},
     "output_type": "execute_result"
    }
   ],
   "source": [
    "noised_samples[5][0][4]"
   ]
  },
  {
   "cell_type": "code",
   "execution_count": 51,
   "id": "6a383197-d1d0-4bf9-82fb-25b7bc2e6182",
   "metadata": {},
   "outputs": [
    {
     "data": {
      "text/plain": [
       "tensor([0., 1., 0.])"
      ]
     },
     "execution_count": 51,
     "metadata": {},
     "output_type": "execute_result"
    }
   ],
   "source": [
    "noised_samples[0][0][4]"
   ]
  },
  {
   "cell_type": "code",
   "execution_count": null,
   "id": "8a50e214-b028-4b17-ba49-064179997d22",
   "metadata": {},
   "outputs": [],
   "source": [
    "y_"
   ]
  },
  {
   "cell_type": "code",
   "execution_count": 54,
   "id": "812a2ff9-0bd6-4b3c-92a6-d7262b7fb2d5",
   "metadata": {},
   "outputs": [
    {
     "data": {
      "text/plain": [
       "tensor([[0.2546, 0.0875, 0.6578],\n",
       "        [0.2047, 0.1238, 0.6715],\n",
       "        [0.2216, 0.0783, 0.7002],\n",
       "        [0.2528, 0.0928, 0.6544],\n",
       "        [0.2295, 0.0936, 0.6769],\n",
       "        [0.1915, 0.0878, 0.7207],\n",
       "        [0.2639, 0.0820, 0.6541],\n",
       "        [0.1980, 0.0884, 0.7136],\n",
       "        [0.2126, 0.0955, 0.6918],\n",
       "        [0.2177, 0.0831, 0.6992],\n",
       "        [0.2414, 0.0764, 0.6823],\n",
       "        [0.1962, 0.0821, 0.7217],\n",
       "        [0.2059, 0.0703, 0.7239],\n",
       "        [0.2776, 0.0904, 0.6320],\n",
       "        [0.2183, 0.0807, 0.7010],\n",
       "        [0.0770, 0.7789, 0.1442],\n",
       "        [0.1740, 0.0795, 0.7464],\n",
       "        [0.1991, 0.0740, 0.7268],\n",
       "        [0.0728, 0.8356, 0.0917],\n",
       "        [0.2441, 0.1066, 0.6493],\n",
       "        [0.0836, 0.7678, 0.1487],\n",
       "        [0.1881, 0.0797, 0.7322],\n",
       "        [0.1819, 0.0731, 0.7450],\n",
       "        [0.8415, 0.0379, 0.1206],\n",
       "        [0.8280, 0.0375, 0.1345],\n",
       "        [0.2189, 0.0915, 0.6896],\n",
       "        [0.2233, 0.0904, 0.6864],\n",
       "        [0.0873, 0.7565, 0.1562],\n",
       "        [0.2481, 0.0756, 0.6762],\n",
       "        [0.2199, 0.0761, 0.7040],\n",
       "        [0.1987, 0.0787, 0.7226],\n",
       "        [0.8407, 0.0344, 0.1248],\n",
       "        [0.1809, 0.0887, 0.7304],\n",
       "        [0.2305, 0.0798, 0.6897],\n",
       "        [0.2249, 0.1013, 0.6737],\n",
       "        [0.2422, 0.0878, 0.6700],\n",
       "        [0.2399, 0.0895, 0.6706],\n",
       "        [0.2380, 0.0704, 0.6916],\n",
       "        [0.2295, 0.0782, 0.6923],\n",
       "        [0.2453, 0.0886, 0.6661],\n",
       "        [0.2662, 0.0863, 0.6475],\n",
       "        [0.2461, 0.0868, 0.6671],\n",
       "        [0.2088, 0.1017, 0.6895],\n",
       "        [0.1922, 0.0902, 0.7175],\n",
       "        [0.2351, 0.0810, 0.6839],\n",
       "        [0.2440, 0.0842, 0.6718],\n",
       "        [0.8730, 0.0293, 0.0976],\n",
       "        [0.2234, 0.0893, 0.6873],\n",
       "        [0.0717, 0.8104, 0.1178],\n",
       "        [0.1884, 0.0719, 0.7397],\n",
       "        [0.2220, 0.1098, 0.6682],\n",
       "        [0.2254, 0.0973, 0.6773],\n",
       "        [0.2250, 0.0818, 0.6933],\n",
       "        [0.2236, 0.0826, 0.6938],\n",
       "        [0.2308, 0.0915, 0.6778],\n",
       "        [0.2270, 0.0899, 0.6831],\n",
       "        [0.2246, 0.0914, 0.6840],\n",
       "        [0.0739, 0.8161, 0.1100],\n",
       "        [0.2280, 0.0723, 0.6997],\n",
       "        [0.2052, 0.1092, 0.6856],\n",
       "        [0.2141, 0.0822, 0.7037],\n",
       "        [0.2696, 0.0815, 0.6490],\n",
       "        [0.2604, 0.0947, 0.6449],\n",
       "        [0.2255, 0.0723, 0.7022],\n",
       "        [0.0772, 0.8070, 0.1158],\n",
       "        [0.2132, 0.0939, 0.6928],\n",
       "        [0.2986, 0.0808, 0.6207],\n",
       "        [0.2318, 0.0900, 0.6781],\n",
       "        [0.2004, 0.0860, 0.7136],\n",
       "        [0.8367, 0.0326, 0.1307],\n",
       "        [0.1943, 0.0802, 0.7255],\n",
       "        [0.2581, 0.0786, 0.6633],\n",
       "        [0.1815, 0.0755, 0.7430],\n",
       "        [0.1510, 0.0755, 0.7735],\n",
       "        [0.8201, 0.0372, 0.1427],\n",
       "        [0.2140, 0.0806, 0.7053],\n",
       "        [0.2344, 0.0905, 0.6751],\n",
       "        [0.1870, 0.0851, 0.7279],\n",
       "        [0.1938, 0.0830, 0.7232],\n",
       "        [0.0710, 0.8081, 0.1209],\n",
       "        [0.2382, 0.0930, 0.6689],\n",
       "        [0.2367, 0.0892, 0.6740],\n",
       "        [0.1534, 0.0908, 0.7558],\n",
       "        [0.1719, 0.0733, 0.7548],\n",
       "        [0.2300, 0.0881, 0.6819],\n",
       "        [0.2000, 0.0826, 0.7175],\n",
       "        [0.1961, 0.0805, 0.7234],\n",
       "        [0.1815, 0.1098, 0.7087],\n",
       "        [0.2875, 0.1067, 0.6059],\n",
       "        [0.2149, 0.0813, 0.7038],\n",
       "        [0.2955, 0.0833, 0.6212],\n",
       "        [0.2524, 0.0825, 0.6651],\n",
       "        [0.2007, 0.0903, 0.7090],\n",
       "        [0.2656, 0.0803, 0.6541],\n",
       "        [0.2392, 0.0864, 0.6744],\n",
       "        [0.1888, 0.1095, 0.7017],\n",
       "        [0.2147, 0.0879, 0.6974],\n",
       "        [0.2139, 0.0829, 0.7033],\n",
       "        [0.2286, 0.0734, 0.6980],\n",
       "        [0.2213, 0.0871, 0.6916]], grad_fn=<SelectBackward0>)"
      ]
     },
     "execution_count": 54,
     "metadata": {},
     "output_type": "execute_result"
    }
   ],
   "source": [
    "cat_diff.y_pred[20][0]"
   ]
  },
  {
   "cell_type": "code",
   "execution_count": 32,
   "id": "756f3fc9-fa19-46f0-a679-9f92129c8220",
   "metadata": {},
   "outputs": [
    {
     "data": {
      "text/plain": [
       "tensor([ 3.,  3., 94.])"
      ]
     },
     "execution_count": 32,
     "metadata": {},
     "output_type": "execute_result"
    }
   ],
   "source": [
    "torch.sum(noised_samples[20][0], axis=0)"
   ]
  },
  {
   "cell_type": "code",
   "execution_count": 36,
   "id": "dd88eaa9-b014-4646-99f3-db06e9574fee",
   "metadata": {
    "scrolled": true
   },
   "outputs": [
    {
     "data": {
      "text/plain": [
       "tensor([[1., 0., 0.],\n",
       "        [0., 1., 0.],\n",
       "        [0., 1., 0.],\n",
       "        [1., 0., 0.],\n",
       "        [0., 1., 0.],\n",
       "        [1., 0., 0.],\n",
       "        [0., 1., 0.],\n",
       "        [0., 1., 0.],\n",
       "        [1., 0., 0.],\n",
       "        [0., 1., 0.],\n",
       "        [1., 0., 0.],\n",
       "        [1., 0., 0.],\n",
       "        [1., 0., 0.],\n",
       "        [1., 0., 0.],\n",
       "        [0., 1., 0.],\n",
       "        [1., 0., 0.],\n",
       "        [1., 0., 0.],\n",
       "        [1., 0., 0.],\n",
       "        [1., 0., 0.],\n",
       "        [1., 0., 0.],\n",
       "        [1., 0., 0.],\n",
       "        [1., 0., 0.],\n",
       "        [1., 0., 0.],\n",
       "        [1., 0., 0.],\n",
       "        [0., 1., 0.],\n",
       "        [1., 0., 0.],\n",
       "        [0., 1., 0.],\n",
       "        [1., 0., 0.],\n",
       "        [1., 0., 0.],\n",
       "        [0., 1., 0.],\n",
       "        [1., 0., 0.],\n",
       "        [0., 1., 0.],\n",
       "        [0., 1., 0.],\n",
       "        [1., 0., 0.],\n",
       "        [1., 0., 0.],\n",
       "        [0., 1., 0.],\n",
       "        [1., 0., 0.],\n",
       "        [0., 1., 0.],\n",
       "        [0., 1., 0.],\n",
       "        [1., 0., 0.],\n",
       "        [1., 0., 0.],\n",
       "        [0., 1., 0.],\n",
       "        [0., 1., 0.],\n",
       "        [0., 1., 0.],\n",
       "        [1., 0., 0.],\n",
       "        [0., 1., 0.],\n",
       "        [0., 1., 0.],\n",
       "        [1., 0., 0.],\n",
       "        [1., 0., 0.],\n",
       "        [0., 1., 0.],\n",
       "        [1., 0., 0.],\n",
       "        [0., 1., 0.],\n",
       "        [1., 0., 0.],\n",
       "        [0., 1., 0.],\n",
       "        [1., 0., 0.],\n",
       "        [1., 0., 0.],\n",
       "        [0., 1., 0.],\n",
       "        [1., 0., 0.],\n",
       "        [1., 0., 0.],\n",
       "        [0., 1., 0.],\n",
       "        [0., 1., 0.],\n",
       "        [1., 0., 0.],\n",
       "        [0., 1., 0.],\n",
       "        [1., 0., 0.],\n",
       "        [1., 0., 0.],\n",
       "        [1., 0., 0.],\n",
       "        [1., 0., 0.],\n",
       "        [0., 1., 0.],\n",
       "        [1., 0., 0.],\n",
       "        [0., 1., 0.],\n",
       "        [1., 0., 0.],\n",
       "        [1., 0., 0.],\n",
       "        [0., 1., 0.],\n",
       "        [0., 1., 0.],\n",
       "        [0., 1., 0.],\n",
       "        [1., 0., 0.],\n",
       "        [0., 1., 0.],\n",
       "        [0., 1., 0.],\n",
       "        [0., 1., 0.],\n",
       "        [1., 0., 0.],\n",
       "        [1., 0., 0.],\n",
       "        [1., 0., 0.],\n",
       "        [1., 0., 0.],\n",
       "        [0., 1., 0.],\n",
       "        [0., 1., 0.],\n",
       "        [0., 1., 0.],\n",
       "        [0., 1., 0.],\n",
       "        [0., 1., 0.],\n",
       "        [0., 1., 0.],\n",
       "        [1., 0., 0.],\n",
       "        [1., 0., 0.],\n",
       "        [1., 0., 0.],\n",
       "        [1., 0., 0.],\n",
       "        [1., 0., 0.],\n",
       "        [0., 1., 0.],\n",
       "        [0., 1., 0.],\n",
       "        [1., 0., 0.],\n",
       "        [0., 1., 0.],\n",
       "        [1., 0., 0.],\n",
       "        [0., 1., 0.]])"
      ]
     },
     "execution_count": 36,
     "metadata": {},
     "output_type": "execute_result"
    }
   ],
   "source": [
    "noised_samples[0][0]"
   ]
  },
  {
   "cell_type": "code",
   "execution_count": 38,
   "id": "e7fc40a1-7a26-42ba-a5dc-02d2a64b75c1",
   "metadata": {},
   "outputs": [
    {
     "data": {
      "text/plain": [
       "tensor([[0., 0., 1.],\n",
       "        [0., 0., 1.],\n",
       "        [0., 0., 1.],\n",
       "        [0., 0., 1.],\n",
       "        [0., 0., 1.],\n",
       "        [0., 0., 1.],\n",
       "        [0., 0., 1.],\n",
       "        [0., 0., 1.],\n",
       "        [0., 0., 1.],\n",
       "        [0., 0., 1.],\n",
       "        [0., 0., 1.],\n",
       "        [0., 0., 1.],\n",
       "        [0., 0., 1.],\n",
       "        [0., 0., 1.],\n",
       "        [0., 0., 1.],\n",
       "        [0., 0., 1.],\n",
       "        [0., 0., 1.],\n",
       "        [0., 0., 1.],\n",
       "        [0., 0., 1.],\n",
       "        [0., 0., 1.],\n",
       "        [0., 0., 1.],\n",
       "        [0., 0., 1.],\n",
       "        [0., 0., 1.],\n",
       "        [0., 0., 1.],\n",
       "        [0., 0., 1.],\n",
       "        [0., 0., 1.],\n",
       "        [0., 0., 1.],\n",
       "        [0., 0., 1.],\n",
       "        [0., 0., 1.],\n",
       "        [0., 0., 1.],\n",
       "        [0., 0., 1.],\n",
       "        [0., 0., 1.],\n",
       "        [0., 0., 1.],\n",
       "        [0., 0., 1.],\n",
       "        [0., 0., 1.],\n",
       "        [0., 0., 1.],\n",
       "        [0., 0., 1.],\n",
       "        [0., 1., 0.],\n",
       "        [0., 1., 0.],\n",
       "        [0., 0., 1.],\n",
       "        [0., 0., 1.],\n",
       "        [0., 0., 1.],\n",
       "        [0., 0., 1.],\n",
       "        [0., 0., 1.],\n",
       "        [0., 0., 1.],\n",
       "        [0., 0., 1.],\n",
       "        [0., 0., 1.],\n",
       "        [0., 0., 1.],\n",
       "        [0., 0., 1.],\n",
       "        [0., 0., 1.],\n",
       "        [1., 0., 0.],\n",
       "        [0., 0., 1.],\n",
       "        [0., 0., 1.],\n",
       "        [0., 0., 1.],\n",
       "        [0., 0., 1.],\n",
       "        [0., 0., 1.],\n",
       "        [0., 0., 1.],\n",
       "        [0., 0., 1.],\n",
       "        [0., 0., 1.],\n",
       "        [0., 0., 1.],\n",
       "        [0., 0., 1.],\n",
       "        [0., 0., 1.],\n",
       "        [0., 0., 1.],\n",
       "        [1., 0., 0.],\n",
       "        [0., 0., 1.],\n",
       "        [0., 0., 1.],\n",
       "        [0., 0., 1.],\n",
       "        [0., 0., 1.],\n",
       "        [1., 0., 0.],\n",
       "        [0., 0., 1.],\n",
       "        [0., 0., 1.],\n",
       "        [0., 0., 1.],\n",
       "        [0., 0., 1.],\n",
       "        [0., 0., 1.],\n",
       "        [0., 0., 1.],\n",
       "        [0., 0., 1.],\n",
       "        [0., 0., 1.],\n",
       "        [0., 0., 1.],\n",
       "        [0., 0., 1.],\n",
       "        [0., 0., 1.],\n",
       "        [0., 0., 1.],\n",
       "        [0., 0., 1.],\n",
       "        [0., 0., 1.],\n",
       "        [0., 1., 0.],\n",
       "        [0., 0., 1.],\n",
       "        [0., 0., 1.],\n",
       "        [0., 0., 1.],\n",
       "        [0., 0., 1.],\n",
       "        [0., 0., 1.],\n",
       "        [0., 0., 1.],\n",
       "        [0., 0., 1.],\n",
       "        [0., 0., 1.],\n",
       "        [0., 0., 1.],\n",
       "        [0., 0., 1.],\n",
       "        [0., 0., 1.],\n",
       "        [0., 0., 1.],\n",
       "        [0., 0., 1.],\n",
       "        [0., 0., 1.],\n",
       "        [0., 0., 1.],\n",
       "        [0., 0., 1.]])"
      ]
     },
     "execution_count": 38,
     "metadata": {},
     "output_type": "execute_result"
    }
   ],
   "source": [
    "noised_samples[20][0]"
   ]
  },
  {
   "cell_type": "code",
   "execution_count": 37,
   "id": "30ec1d8b-29eb-4d46-9b84-f89048f31575",
   "metadata": {},
   "outputs": [
    {
     "data": {
      "text/plain": [
       "tensor([[0.0759, 0.1358, 0.7883],\n",
       "        [0.0824, 0.1348, 0.7828],\n",
       "        [0.0750, 0.0975, 0.8275],\n",
       "        [0.0765, 0.1111, 0.8124],\n",
       "        [0.0663, 0.1048, 0.8290],\n",
       "        [0.0616, 0.1049, 0.8335],\n",
       "        [0.0601, 0.1525, 0.7874],\n",
       "        [0.0730, 0.0903, 0.8367],\n",
       "        [0.0723, 0.0850, 0.8427],\n",
       "        [0.0797, 0.0934, 0.8268],\n",
       "        [0.0668, 0.1035, 0.8298],\n",
       "        [0.0774, 0.1301, 0.7925],\n",
       "        [0.0748, 0.1057, 0.8195],\n",
       "        [0.0677, 0.1093, 0.8230],\n",
       "        [0.0919, 0.1118, 0.7963],\n",
       "        [0.0778, 0.1123, 0.8099],\n",
       "        [0.0902, 0.1442, 0.7656],\n",
       "        [0.0881, 0.1147, 0.7972],\n",
       "        [0.0806, 0.0900, 0.8294],\n",
       "        [0.0793, 0.0919, 0.8288],\n",
       "        [0.1042, 0.1194, 0.7764],\n",
       "        [0.0615, 0.1023, 0.8362],\n",
       "        [0.0635, 0.0857, 0.8508],\n",
       "        [0.1065, 0.1346, 0.7589],\n",
       "        [0.0830, 0.1108, 0.8062],\n",
       "        [0.0927, 0.1189, 0.7884],\n",
       "        [0.0675, 0.1347, 0.7979],\n",
       "        [0.1007, 0.1121, 0.7872],\n",
       "        [0.0790, 0.1328, 0.7883],\n",
       "        [0.0658, 0.1093, 0.8249],\n",
       "        [0.0825, 0.1014, 0.8161],\n",
       "        [0.0764, 0.1150, 0.8086],\n",
       "        [0.0801, 0.0890, 0.8308],\n",
       "        [0.0832, 0.1257, 0.7911],\n",
       "        [0.0626, 0.1166, 0.8208],\n",
       "        [0.0748, 0.1387, 0.7865],\n",
       "        [0.0698, 0.0952, 0.8350],\n",
       "        [0.0367, 0.5598, 0.4035],\n",
       "        [0.0357, 0.5286, 0.4357],\n",
       "        [0.0761, 0.1252, 0.7987],\n",
       "        [0.0938, 0.1370, 0.7692],\n",
       "        [0.0823, 0.1210, 0.7967],\n",
       "        [0.0785, 0.0993, 0.8222],\n",
       "        [0.0707, 0.1154, 0.8139],\n",
       "        [0.0717, 0.1048, 0.8236],\n",
       "        [0.0673, 0.0975, 0.8352],\n",
       "        [0.0796, 0.1335, 0.7869],\n",
       "        [0.1075, 0.0851, 0.8074],\n",
       "        [0.0669, 0.1318, 0.8013],\n",
       "        [0.0717, 0.1540, 0.7743],\n",
       "        [0.4825, 0.0486, 0.4689],\n",
       "        [0.0692, 0.1270, 0.8039],\n",
       "        [0.0697, 0.1110, 0.8193],\n",
       "        [0.1147, 0.1229, 0.7623],\n",
       "        [0.0753, 0.1004, 0.8243],\n",
       "        [0.0999, 0.1293, 0.7707],\n",
       "        [0.0773, 0.1156, 0.8071],\n",
       "        [0.0762, 0.1347, 0.7891],\n",
       "        [0.0732, 0.1079, 0.8190],\n",
       "        [0.0930, 0.1150, 0.7920],\n",
       "        [0.0635, 0.1119, 0.8245],\n",
       "        [0.0745, 0.0890, 0.8365],\n",
       "        [0.0605, 0.1234, 0.8162],\n",
       "        [0.5955, 0.0431, 0.3614],\n",
       "        [0.0788, 0.1425, 0.7787],\n",
       "        [0.0650, 0.1133, 0.8217],\n",
       "        [0.1229, 0.1209, 0.7562],\n",
       "        [0.0760, 0.0973, 0.8267],\n",
       "        [0.6273, 0.0436, 0.3291],\n",
       "        [0.0915, 0.1156, 0.7929],\n",
       "        [0.1150, 0.1200, 0.7649],\n",
       "        [0.0986, 0.0958, 0.8057],\n",
       "        [0.0784, 0.1098, 0.8118],\n",
       "        [0.0665, 0.0708, 0.8626],\n",
       "        [0.0847, 0.1288, 0.7865],\n",
       "        [0.0764, 0.2097, 0.7138],\n",
       "        [0.0799, 0.1262, 0.7939],\n",
       "        [0.0738, 0.1129, 0.8133],\n",
       "        [0.0998, 0.0963, 0.8039],\n",
       "        [0.0818, 0.0901, 0.8281],\n",
       "        [0.0618, 0.0985, 0.8397],\n",
       "        [0.0750, 0.1502, 0.7748],\n",
       "        [0.0714, 0.1415, 0.7871],\n",
       "        [0.0413, 0.4673, 0.4914],\n",
       "        [0.0621, 0.1023, 0.8357],\n",
       "        [0.0862, 0.1371, 0.7767],\n",
       "        [0.0646, 0.0979, 0.8375],\n",
       "        [0.0742, 0.1454, 0.7804],\n",
       "        [0.0625, 0.1174, 0.8201],\n",
       "        [0.0926, 0.1379, 0.7696],\n",
       "        [0.0778, 0.1244, 0.7978],\n",
       "        [0.0514, 0.1448, 0.8039],\n",
       "        [0.0597, 0.1098, 0.8305],\n",
       "        [0.1089, 0.1110, 0.7800],\n",
       "        [0.0887, 0.0722, 0.8391],\n",
       "        [0.0786, 0.1589, 0.7625],\n",
       "        [0.0754, 0.1166, 0.8081],\n",
       "        [0.0922, 0.1349, 0.7729],\n",
       "        [0.0479, 0.1170, 0.8351],\n",
       "        [0.0913, 0.1037, 0.8050]], grad_fn=<SelectBackward0>)"
      ]
     },
     "execution_count": 37,
     "metadata": {},
     "output_type": "execute_result"
    }
   ],
   "source": [
    "cat_diff.y_pred[20][0]"
   ]
  },
  {
   "cell_type": "code",
   "execution_count": null,
   "id": "43822bec-a9a3-4032-b40e-82dc737cba41",
   "metadata": {},
   "outputs": [],
   "source": []
  }
 ],
 "metadata": {
  "kernelspec": {
   "display_name": "Python 3 (ipykernel)",
   "language": "python",
   "name": "python3"
  },
  "language_info": {
   "codemirror_mode": {
    "name": "ipython",
    "version": 3
   },
   "file_extension": ".py",
   "mimetype": "text/x-python",
   "name": "python",
   "nbconvert_exporter": "python",
   "pygments_lexer": "ipython3",
   "version": "3.11.4"
  }
 },
 "nbformat": 4,
 "nbformat_minor": 5
}
