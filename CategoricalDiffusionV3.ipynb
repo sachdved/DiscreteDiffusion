{
 "cells": [
  {
   "cell_type": "code",
   "execution_count": 1,
   "id": "8ed805f5-dec6-446f-91f9-43a8c8c3efe8",
   "metadata": {},
   "outputs": [],
   "source": [
    "import torch\n",
    "import numpy as np\n",
    "import sklearn\n",
    "\n",
    "from utils import *\n",
    "from architectures import *\n",
    "import preprocess\n",
    "\n",
    "import matplotlib.pyplot as plt\n",
    "\n",
    "from CategoricalDiffusion import *\n",
    "from denoiser import *"
   ]
  },
  {
   "cell_type": "code",
   "execution_count": 2,
   "id": "974b819c-d5c9-48d5-ac0d-4882adfc7950",
   "metadata": {},
   "outputs": [
    {
     "name": "stderr",
     "output_type": "stream",
     "text": [
      "100%|█████████████████████████████████████████| 100/100 [03:14<00:00,  1.94s/it]\n"
     ]
    }
   ],
   "source": [
    "N_samples = 100000\n",
    "\n",
    "M = 2\n",
    "N_dim = 100\n",
    "\n",
    "bias = torch.zeros((N_dim,1))\n",
    "patterns = 2*torch.bernoulli(torch.ones((N_dim, M)) * 0.5) - 1\n",
    "\n",
    "spins = generate_data(patterns, bias, N_samples, beta=4)"
   ]
  },
  {
   "cell_type": "code",
   "execution_count": 3,
   "id": "1b5db25d-af5c-4c7c-a650-6d3916ee3fe0",
   "metadata": {},
   "outputs": [],
   "source": [
    "index_spins = ((1+spins)/2).type(torch.int64)"
   ]
  },
  {
   "cell_type": "code",
   "execution_count": 4,
   "id": "58beb6f9-65b6-485c-95f7-d86b261152ac",
   "metadata": {
    "scrolled": true
   },
   "outputs": [],
   "source": [
    "one_hot_spin_vectors = torch.nn.functional.one_hot(index_spins)"
   ]
  },
  {
   "cell_type": "code",
   "execution_count": 5,
   "id": "2131734c-def4-4106-abdd-15a6349c4eb5",
   "metadata": {},
   "outputs": [],
   "source": [
    "class SpinsDataset(torch.utils.data.Dataset):\n",
    "    \"\"\"\n",
    "    takes in one hot encoded spins X with one key - sequence, and Y with one, potentially two, keys - sequence and phenotype\n",
    "    inputs:\n",
    "        one_hot_spins: torch.Tensor representing spins (num_samples, dim, num_states)\n",
    "    \n",
    "    \"\"\"\n",
    "    \n",
    "    def __init__(self,\n",
    "                 spins,\n",
    "                 include_mask = False,\n",
    "                **kwargs):\n",
    "        super().__init__(**kwargs)\n",
    "        self.include_mask = include_mask\n",
    "        self.spins = spins\n",
    "        if self.include_mask:\n",
    "\n",
    "            self.spins = torch.cat((self.spins, torch.zeros((self.spins.shape[0], self.spins.shape[1], 1))), axis=-1)\n",
    "\n",
    "    def __len__(self):\n",
    "        return self.spins.shape[0]\n",
    "\n",
    "    def __getitem__(self, index):\n",
    "        X = dict()\n",
    "        Y = dict()\n",
    "\n",
    "        Y['spins'] = self.spins[index]\n",
    "        X['spins'] = self.spins[index]\n",
    "        return X, Y"
   ]
  },
  {
   "cell_type": "code",
   "execution_count": 6,
   "id": "e1f4e738-bb3a-4897-9eb2-e4c6d8293f7b",
   "metadata": {},
   "outputs": [],
   "source": [
    "spins_dataset = SpinsDataset(one_hot_spin_vectors, include_mask=True)\n",
    "spins_loader = torch.utils.data.DataLoader(spins_dataset, batch_size=32, shuffle=True)"
   ]
  },
  {
   "cell_type": "code",
   "execution_count": 7,
   "id": "759cf08d-e62c-4fb9-b2f4-8e7e43f8a796",
   "metadata": {},
   "outputs": [],
   "source": [
    "for batch in spins_loader:\n",
    "    X, Y = batch\n",
    "    X_spins = X['spins']\n",
    "    Y_spins = Y['spins']\n",
    "    "
   ]
  },
  {
   "cell_type": "code",
   "execution_count": 8,
   "id": "62a462bf-44dc-4cc6-a990-36416e517842",
   "metadata": {},
   "outputs": [],
   "source": [
    "noise_matrix = Noiser(noiser = 'BERT-LIKE', beta_t = 0.01, k=2).noise_matrix\n",
    "ts, noised_samples = noiser(X_spins, noise_matrix, 100, X_spins.shape[-1])"
   ]
  },
  {
   "cell_type": "code",
   "execution_count": 9,
   "id": "d4c004cb-109e-4143-a259-f81d73b0b5f0",
   "metadata": {},
   "outputs": [
    {
     "data": {
      "text/plain": [
       "torch.Size([100, 32])"
      ]
     },
     "execution_count": 9,
     "metadata": {},
     "output_type": "execute_result"
    }
   ],
   "source": [
    "ts.shape"
   ]
  },
  {
   "cell_type": "code",
   "execution_count": 10,
   "id": "c5034d94-c260-4e3c-9399-2ea303c11772",
   "metadata": {},
   "outputs": [
    {
     "data": {
      "text/plain": [
       "torch.Size([100, 32, 100, 3])"
      ]
     },
     "execution_count": 10,
     "metadata": {},
     "output_type": "execute_result"
    }
   ],
   "source": [
    "noised_samples.shape"
   ]
  },
  {
   "cell_type": "code",
   "execution_count": 11,
   "id": "f0e33987-69ac-4abd-bf2e-3ca4e0778b51",
   "metadata": {},
   "outputs": [
    {
     "data": {
      "text/plain": [
       "torch.Size([100, 32, 100, 3])"
      ]
     },
     "execution_count": 11,
     "metadata": {},
     "output_type": "execute_result"
    }
   ],
   "source": [
    "noised_samples.shape"
   ]
  },
  {
   "cell_type": "code",
   "execution_count": 22,
   "id": "0e97e1bb-f990-4fc6-87a3-6f0ef0053213",
   "metadata": {},
   "outputs": [],
   "source": [
    "denoiser = AttentionDenoiser(8,1,128,X_spins.shape[2])"
   ]
  },
  {
   "cell_type": "code",
   "execution_count": 23,
   "id": "945df491-0cea-4e19-ab15-12bf73f70b92",
   "metadata": {},
   "outputs": [],
   "source": [
    "Y_pred = denoiser(noised_samples, ts)"
   ]
  },
  {
   "cell_type": "code",
   "execution_count": 24,
   "id": "8540d8ce-a143-4240-a200-8ebf1e3a9bb1",
   "metadata": {},
   "outputs": [
    {
     "data": {
      "text/plain": [
       "torch.Size([100, 32, 100, 3])"
      ]
     },
     "execution_count": 24,
     "metadata": {},
     "output_type": "execute_result"
    }
   ],
   "source": [
    "Y_pred.shape"
   ]
  },
  {
   "cell_type": "code",
   "execution_count": 25,
   "id": "77e9b4e1-f9fc-4fe8-a0f0-4e8400a1b0e3",
   "metadata": {
    "scrolled": true
   },
   "outputs": [
    {
     "data": {
      "text/plain": [
       "AttentionDenoiser(\n",
       "  (activation): ReLU()\n",
       "  (forward_time_1): FeedForward(\n",
       "    (layer): Linear(in_features=1, out_features=128, bias=True)\n",
       "    (activation): ReLU()\n",
       "  )\n",
       "  (forward_time_2): FeedForward(\n",
       "    (layer): Linear(in_features=128, out_features=128, bias=True)\n",
       "    (activation): ReLU()\n",
       "  )\n",
       "  (forward_time_3): FeedForward(\n",
       "    (layer): Linear(in_features=128, out_features=128, bias=True)\n",
       "    (activation): ReLU()\n",
       "  )\n",
       "  (forward_seq_1): FeedForward(\n",
       "    (layer): Linear(in_features=3, out_features=128, bias=True)\n",
       "    (activation): ReLU()\n",
       "  )\n",
       "  (forward_seq_2): FeedForward(\n",
       "    (layer): Linear(in_features=128, out_features=128, bias=True)\n",
       "    (activation): ReLU()\n",
       "  )\n",
       "  (forward_seq_3): FeedForward(\n",
       "    (layer): Linear(in_features=128, out_features=128, bias=True)\n",
       "    (activation): ReLU()\n",
       "  )\n",
       "  (forward_time_seq): FeedForward(\n",
       "    (layer): Linear(in_features=256, out_features=128, bias=True)\n",
       "    (activation): ReLU()\n",
       "  )\n",
       "  (mha_1): MultiHeadedAttention(\n",
       "    (attention): Attention()\n",
       "    (W_q): Linear(in_features=128, out_features=1024, bias=True)\n",
       "    (W_k): Linear(in_features=128, out_features=1024, bias=True)\n",
       "    (W_v): Linear(in_features=128, out_features=1024, bias=True)\n",
       "    (W_o): Linear(in_features=1024, out_features=128, bias=True)\n",
       "  )\n",
       "  (dropout_1): Dropout(p=0.1, inplace=False)\n",
       "  (addnorm_1): AddNorm(\n",
       "    (layer_norm): LayerNorm((128,), eps=1e-05, elementwise_affine=True)\n",
       "  )\n",
       "  (feedforward_1): FeedForward(\n",
       "    (layer): Linear(in_features=128, out_features=128, bias=True)\n",
       "    (activation): ReLU()\n",
       "  )\n",
       "  (mha_2): MultiHeadedAttention(\n",
       "    (attention): Attention()\n",
       "    (W_q): Linear(in_features=128, out_features=1024, bias=True)\n",
       "    (W_k): Linear(in_features=128, out_features=1024, bias=True)\n",
       "    (W_v): Linear(in_features=128, out_features=1024, bias=True)\n",
       "    (W_o): Linear(in_features=1024, out_features=128, bias=True)\n",
       "  )\n",
       "  (dropout_2): Dropout(p=0.1, inplace=False)\n",
       "  (addnorm_2): AddNorm(\n",
       "    (layer_norm): LayerNorm((128,), eps=1e-05, elementwise_affine=True)\n",
       "  )\n",
       "  (feedforward_2): FeedForward(\n",
       "    (layer): Linear(in_features=128, out_features=128, bias=True)\n",
       "    (activation): ReLU()\n",
       "  )\n",
       "  (feedforward_3): FeedForward(\n",
       "    (layer): Linear(in_features=128, out_features=3, bias=True)\n",
       "    (activation): ReLU()\n",
       "  )\n",
       ")"
      ]
     },
     "execution_count": 25,
     "metadata": {},
     "output_type": "execute_result"
    }
   ],
   "source": [
    "denoiser"
   ]
  },
  {
   "cell_type": "code",
   "execution_count": 26,
   "id": "327ca8b0-9956-4d6d-b91b-ffeb65600d29",
   "metadata": {},
   "outputs": [],
   "source": [
    "cat_diff = CategoricalDiffusion(denoiser, noise_matrix)"
   ]
  },
  {
   "cell_type": "code",
   "execution_count": 27,
   "id": "6542b39b-a61e-4578-a1e7-048b9bfa9dc6",
   "metadata": {},
   "outputs": [],
   "source": [
    "cat_diff.decode(noised_samples, ts)"
   ]
  },
  {
   "cell_type": "code",
   "execution_count": 28,
   "id": "43766c2b-8def-452b-833c-08024fc8374e",
   "metadata": {},
   "outputs": [],
   "source": [
    "cat_diff.calc_forward_conditionals(noised_samples)"
   ]
  },
  {
   "cell_type": "code",
   "execution_count": 29,
   "id": "6d069f9c-7338-4687-afb0-deb3cf43b677",
   "metadata": {},
   "outputs": [
    {
     "data": {
      "text/plain": [
       "tensor([[[[0.3666, 0.3440, 0.2894],\n",
       "          [0.3653, 0.3328, 0.3019],\n",
       "          [0.3655, 0.3346, 0.2999],\n",
       "          ...,\n",
       "          [0.3537, 0.3535, 0.2928],\n",
       "          [0.3781, 0.3257, 0.2962],\n",
       "          [0.3929, 0.3203, 0.2868]],\n",
       "\n",
       "         [[0.4009, 0.3083, 0.2908],\n",
       "          [0.3802, 0.3233, 0.2965],\n",
       "          [0.3628, 0.3294, 0.3078],\n",
       "          ...,\n",
       "          [0.3805, 0.3129, 0.3066],\n",
       "          [0.3924, 0.3038, 0.3038],\n",
       "          [0.3858, 0.3237, 0.2905]],\n",
       "\n",
       "         [[0.3619, 0.3428, 0.2953],\n",
       "          [0.4102, 0.3021, 0.2878],\n",
       "          [0.4272, 0.2864, 0.2864],\n",
       "          ...,\n",
       "          [0.3633, 0.3398, 0.2969],\n",
       "          [0.3867, 0.3083, 0.3050],\n",
       "          [0.3800, 0.3354, 0.2847]],\n",
       "\n",
       "         ...,\n",
       "\n",
       "         [[0.3722, 0.3339, 0.2939],\n",
       "          [0.3838, 0.3165, 0.2997],\n",
       "          [0.3825, 0.3208, 0.2967],\n",
       "          ...,\n",
       "          [0.4035, 0.2933, 0.3032],\n",
       "          [0.3527, 0.3408, 0.3065],\n",
       "          [0.3703, 0.3310, 0.2987]],\n",
       "\n",
       "         [[0.3749, 0.3123, 0.3128],\n",
       "          [0.3859, 0.3328, 0.2813],\n",
       "          [0.4049, 0.3078, 0.2873],\n",
       "          ...,\n",
       "          [0.3976, 0.3191, 0.2833],\n",
       "          [0.3461, 0.3672, 0.2867],\n",
       "          [0.4016, 0.3074, 0.2910]],\n",
       "\n",
       "         [[0.3583, 0.3407, 0.3010],\n",
       "          [0.3883, 0.3249, 0.2868],\n",
       "          [0.3955, 0.3096, 0.2950],\n",
       "          ...,\n",
       "          [0.4080, 0.2997, 0.2922],\n",
       "          [0.3762, 0.3417, 0.2820],\n",
       "          [0.3979, 0.3137, 0.2884]]],\n",
       "\n",
       "\n",
       "        [[[0.4095, 0.2897, 0.3008],\n",
       "          [0.4167, 0.2932, 0.2901],\n",
       "          [0.3935, 0.3024, 0.3040],\n",
       "          ...,\n",
       "          [0.4087, 0.2849, 0.3064],\n",
       "          [0.4195, 0.3058, 0.2747],\n",
       "          [0.4104, 0.3064, 0.2832]],\n",
       "\n",
       "         [[0.4351, 0.2887, 0.2762],\n",
       "          [0.4163, 0.2995, 0.2843],\n",
       "          [0.3931, 0.3216, 0.2854],\n",
       "          ...,\n",
       "          [0.4519, 0.2860, 0.2622],\n",
       "          [0.4169, 0.2876, 0.2955],\n",
       "          [0.4121, 0.3016, 0.2863]],\n",
       "\n",
       "         [[0.3944, 0.3207, 0.2849],\n",
       "          [0.4014, 0.3169, 0.2817],\n",
       "          [0.4080, 0.3165, 0.2755],\n",
       "          ...,\n",
       "          [0.3980, 0.3221, 0.2799],\n",
       "          [0.3784, 0.3185, 0.3031],\n",
       "          [0.4100, 0.3113, 0.2788]],\n",
       "\n",
       "         ...,\n",
       "\n",
       "         [[0.3944, 0.3072, 0.2984],\n",
       "          [0.4251, 0.2885, 0.2864],\n",
       "          [0.3977, 0.3206, 0.2818],\n",
       "          ...,\n",
       "          [0.3942, 0.3248, 0.2810],\n",
       "          [0.4357, 0.2822, 0.2822],\n",
       "          [0.4478, 0.2757, 0.2765]],\n",
       "\n",
       "         [[0.4038, 0.3062, 0.2900],\n",
       "          [0.4175, 0.2964, 0.2862],\n",
       "          [0.4128, 0.3108, 0.2763],\n",
       "          ...,\n",
       "          [0.4327, 0.2832, 0.2840],\n",
       "          [0.4324, 0.2928, 0.2748],\n",
       "          [0.4109, 0.3135, 0.2756]],\n",
       "\n",
       "         [[0.3979, 0.3181, 0.2840],\n",
       "          [0.3978, 0.3171, 0.2851],\n",
       "          [0.4083, 0.3010, 0.2907],\n",
       "          ...,\n",
       "          [0.3932, 0.3191, 0.2877],\n",
       "          [0.3880, 0.3217, 0.2902],\n",
       "          [0.4282, 0.2859, 0.2859]]],\n",
       "\n",
       "\n",
       "        [[[0.4121, 0.2980, 0.2899],\n",
       "          [0.4131, 0.2935, 0.2933],\n",
       "          [0.4010, 0.3204, 0.2786],\n",
       "          ...,\n",
       "          [0.4146, 0.3040, 0.2814],\n",
       "          [0.4190, 0.3031, 0.2779],\n",
       "          [0.4240, 0.2961, 0.2799]],\n",
       "\n",
       "         [[0.4143, 0.2977, 0.2880],\n",
       "          [0.4082, 0.3164, 0.2754],\n",
       "          [0.3765, 0.3536, 0.2699],\n",
       "          ...,\n",
       "          [0.4210, 0.2945, 0.2845],\n",
       "          [0.3987, 0.3054, 0.2958],\n",
       "          [0.4305, 0.2914, 0.2780]],\n",
       "\n",
       "         [[0.3655, 0.3405, 0.2940],\n",
       "          [0.4198, 0.2878, 0.2925],\n",
       "          [0.4280, 0.2752, 0.2968],\n",
       "          ...,\n",
       "          [0.3835, 0.3440, 0.2725],\n",
       "          [0.3817, 0.3220, 0.2963],\n",
       "          [0.3921, 0.3211, 0.2868]],\n",
       "\n",
       "         ...,\n",
       "\n",
       "         [[0.4130, 0.2847, 0.3023],\n",
       "          [0.3970, 0.3154, 0.2876],\n",
       "          [0.4357, 0.2865, 0.2777],\n",
       "          ...,\n",
       "          [0.4038, 0.3105, 0.2857],\n",
       "          [0.4055, 0.2939, 0.3006],\n",
       "          [0.3736, 0.3385, 0.2879]],\n",
       "\n",
       "         [[0.4037, 0.3051, 0.2912],\n",
       "          [0.4061, 0.2882, 0.3057],\n",
       "          [0.4258, 0.2948, 0.2794],\n",
       "          ...,\n",
       "          [0.4151, 0.2991, 0.2858],\n",
       "          [0.4040, 0.3005, 0.2954],\n",
       "          [0.4022, 0.3153, 0.2824]],\n",
       "\n",
       "         [[0.4271, 0.2926, 0.2803],\n",
       "          [0.3888, 0.3151, 0.2961],\n",
       "          [0.3863, 0.3251, 0.2886],\n",
       "          ...,\n",
       "          [0.4208, 0.2839, 0.2954],\n",
       "          [0.4192, 0.2946, 0.2862],\n",
       "          [0.4136, 0.2980, 0.2884]]],\n",
       "\n",
       "\n",
       "        ...,\n",
       "\n",
       "\n",
       "        [[[0.4528, 0.2736, 0.2736],\n",
       "          [0.4435, 0.2693, 0.2872],\n",
       "          [0.4396, 0.2915, 0.2689],\n",
       "          ...,\n",
       "          [0.4385, 0.2847, 0.2768],\n",
       "          [0.4345, 0.2923, 0.2732],\n",
       "          [0.4103, 0.3056, 0.2842]],\n",
       "\n",
       "         [[0.4218, 0.2989, 0.2793],\n",
       "          [0.4305, 0.2988, 0.2707],\n",
       "          [0.4352, 0.2824, 0.2824],\n",
       "          ...,\n",
       "          [0.4359, 0.2933, 0.2708],\n",
       "          [0.4632, 0.2768, 0.2601],\n",
       "          [0.4534, 0.2772, 0.2693]],\n",
       "\n",
       "         [[0.4416, 0.2819, 0.2765],\n",
       "          [0.4286, 0.2857, 0.2857],\n",
       "          [0.4159, 0.2958, 0.2883],\n",
       "          ...,\n",
       "          [0.4797, 0.2609, 0.2594],\n",
       "          [0.4372, 0.2886, 0.2742],\n",
       "          [0.4407, 0.2881, 0.2712]],\n",
       "\n",
       "         ...,\n",
       "\n",
       "         [[0.4531, 0.2754, 0.2715],\n",
       "          [0.4462, 0.2829, 0.2709],\n",
       "          [0.4450, 0.2778, 0.2772],\n",
       "          ...,\n",
       "          [0.4530, 0.2718, 0.2751],\n",
       "          [0.4348, 0.2858, 0.2794],\n",
       "          [0.4380, 0.2812, 0.2809]],\n",
       "\n",
       "         [[0.4482, 0.2784, 0.2734],\n",
       "          [0.4372, 0.2927, 0.2701],\n",
       "          [0.4262, 0.2869, 0.2869],\n",
       "          ...,\n",
       "          [0.4446, 0.2814, 0.2740],\n",
       "          [0.4583, 0.2749, 0.2668],\n",
       "          [0.4323, 0.2851, 0.2825]],\n",
       "\n",
       "         [[0.4497, 0.2829, 0.2675],\n",
       "          [0.4585, 0.2728, 0.2687],\n",
       "          [0.4364, 0.2877, 0.2759],\n",
       "          ...,\n",
       "          [0.4161, 0.3011, 0.2828],\n",
       "          [0.4427, 0.2855, 0.2718],\n",
       "          [0.4605, 0.2714, 0.2681]]],\n",
       "\n",
       "\n",
       "        [[[0.4458, 0.2877, 0.2665],\n",
       "          [0.4466, 0.2853, 0.2680],\n",
       "          [0.4437, 0.2869, 0.2694],\n",
       "          ...,\n",
       "          [0.4287, 0.2957, 0.2756],\n",
       "          [0.4423, 0.2846, 0.2731],\n",
       "          [0.4478, 0.2821, 0.2700]],\n",
       "\n",
       "         [[0.4452, 0.2774, 0.2774],\n",
       "          [0.4450, 0.2775, 0.2775],\n",
       "          [0.4659, 0.2670, 0.2670],\n",
       "          ...,\n",
       "          [0.4432, 0.2824, 0.2744],\n",
       "          [0.4398, 0.2801, 0.2801],\n",
       "          [0.4399, 0.2821, 0.2779]],\n",
       "\n",
       "         [[0.4583, 0.2756, 0.2662],\n",
       "          [0.4433, 0.2753, 0.2814],\n",
       "          [0.4237, 0.2921, 0.2842],\n",
       "          ...,\n",
       "          [0.4370, 0.2934, 0.2696],\n",
       "          [0.4601, 0.2729, 0.2670],\n",
       "          [0.4465, 0.2831, 0.2704]],\n",
       "\n",
       "         ...,\n",
       "\n",
       "         [[0.4292, 0.2970, 0.2738],\n",
       "          [0.4392, 0.2799, 0.2809],\n",
       "          [0.4831, 0.2654, 0.2515],\n",
       "          ...,\n",
       "          [0.4620, 0.2690, 0.2690],\n",
       "          [0.4396, 0.2861, 0.2743],\n",
       "          [0.4084, 0.3115, 0.2801]],\n",
       "\n",
       "         [[0.4377, 0.2820, 0.2803],\n",
       "          [0.4315, 0.2923, 0.2762],\n",
       "          [0.4505, 0.2747, 0.2747],\n",
       "          ...,\n",
       "          [0.4355, 0.2877, 0.2768],\n",
       "          [0.4373, 0.2847, 0.2780],\n",
       "          [0.4413, 0.2939, 0.2649]],\n",
       "\n",
       "         [[0.4582, 0.2718, 0.2700],\n",
       "          [0.4555, 0.2722, 0.2722],\n",
       "          [0.4426, 0.2780, 0.2793],\n",
       "          ...,\n",
       "          [0.4654, 0.2678, 0.2668],\n",
       "          [0.4524, 0.2778, 0.2698],\n",
       "          [0.4411, 0.2839, 0.2750]]],\n",
       "\n",
       "\n",
       "        [[[0.4426, 0.2875, 0.2699],\n",
       "          [0.4607, 0.2696, 0.2697],\n",
       "          [0.4464, 0.2752, 0.2784],\n",
       "          ...,\n",
       "          [0.4465, 0.2767, 0.2767],\n",
       "          [0.4320, 0.2868, 0.2812],\n",
       "          [0.4471, 0.2764, 0.2764]],\n",
       "\n",
       "         [[0.4142, 0.3022, 0.2836],\n",
       "          [0.4493, 0.2818, 0.2689],\n",
       "          [0.4433, 0.2846, 0.2721],\n",
       "          ...,\n",
       "          [0.4400, 0.2864, 0.2736],\n",
       "          [0.4304, 0.2935, 0.2761],\n",
       "          [0.4539, 0.2737, 0.2724]],\n",
       "\n",
       "         [[0.4245, 0.2903, 0.2852],\n",
       "          [0.4394, 0.2849, 0.2758],\n",
       "          [0.4298, 0.2868, 0.2834],\n",
       "          ...,\n",
       "          [0.4574, 0.2757, 0.2668],\n",
       "          [0.4354, 0.2879, 0.2767],\n",
       "          [0.4566, 0.2793, 0.2641]],\n",
       "\n",
       "         ...,\n",
       "\n",
       "         [[0.4337, 0.2855, 0.2808],\n",
       "          [0.4508, 0.2768, 0.2724],\n",
       "          [0.4445, 0.2808, 0.2747],\n",
       "          ...,\n",
       "          [0.4412, 0.2897, 0.2691],\n",
       "          [0.4625, 0.2728, 0.2647],\n",
       "          [0.4615, 0.2755, 0.2630]],\n",
       "\n",
       "         [[0.4383, 0.2808, 0.2808],\n",
       "          [0.4376, 0.2868, 0.2756],\n",
       "          [0.4162, 0.3115, 0.2723],\n",
       "          ...,\n",
       "          [0.4342, 0.2911, 0.2747],\n",
       "          [0.4384, 0.2808, 0.2808],\n",
       "          [0.4433, 0.2784, 0.2783]],\n",
       "\n",
       "         [[0.4606, 0.2723, 0.2671],\n",
       "          [0.4397, 0.2801, 0.2801],\n",
       "          [0.4503, 0.2759, 0.2738],\n",
       "          ...,\n",
       "          [0.4416, 0.2792, 0.2792],\n",
       "          [0.4375, 0.2812, 0.2812],\n",
       "          [0.4567, 0.2788, 0.2645]]]], grad_fn=<ViewBackward0>)"
      ]
     },
     "execution_count": 29,
     "metadata": {},
     "output_type": "execute_result"
    }
   ],
   "source": [
    "cat_diff.y_pred"
   ]
  },
  {
   "cell_type": "code",
   "execution_count": 30,
   "id": "09f69844-c9a4-4b35-976a-e45cef751d27",
   "metadata": {},
   "outputs": [
    {
     "data": {
      "text/plain": [
       "tensor(1.7190)"
      ]
     },
     "execution_count": 30,
     "metadata": {},
     "output_type": "execute_result"
    }
   ],
   "source": [
    "cat_diff.L_T(noised_samples)"
   ]
  },
  {
   "cell_type": "code",
   "execution_count": 31,
   "id": "46a39d0d-3a4a-472a-aa68-9ac38971bf50",
   "metadata": {},
   "outputs": [
    {
     "data": {
      "text/plain": [
       "tensor(1.0542, grad_fn=<NegBackward0>)"
      ]
     },
     "execution_count": 31,
     "metadata": {},
     "output_type": "execute_result"
    }
   ],
   "source": [
    "cat_diff.L_t0t1(Y_spins)"
   ]
  },
  {
   "cell_type": "code",
   "execution_count": 32,
   "id": "f3de385d-82b0-4076-b138-8ef0b218155a",
   "metadata": {},
   "outputs": [
    {
     "data": {
      "text/plain": [
       "tensor(0.8860, grad_fn=<MeanBackward0>)"
      ]
     },
     "execution_count": 32,
     "metadata": {},
     "output_type": "execute_result"
    }
   ],
   "source": [
    "cat_diff.L_tminus1(Y_spins, noised_samples)"
   ]
  },
  {
   "cell_type": "code",
   "execution_count": 63,
   "id": "1a1582be-c784-470e-ad85-c6a5f3cc33f5",
   "metadata": {
    "collapsed": true,
    "jupyter": {
     "outputs_hidden": true
    }
   },
   "outputs": [
    {
     "name": "stderr",
     "output_type": "stream",
     "text": [
      "  0%|                                                  | 0/3125 [00:00<?, ?it/s]"
     ]
    },
    {
     "name": "stdout",
     "output_type": "stream",
     "text": [
      "0.16421779990196228\n",
      "0.8125371932983398\n",
      "0.9767550230026245\n"
     ]
    },
    {
     "name": "stderr",
     "output_type": "stream",
     "text": [
      "  0%|                                     | 1/3125 [02:28<129:03:56, 148.73s/it]"
     ]
    },
    {
     "name": "stdout",
     "output_type": "stream",
     "text": [
      "0.30432596802711487\n",
      "0.7709723114967346\n",
      "1.0752983093261719\n"
     ]
    },
    {
     "name": "stderr",
     "output_type": "stream",
     "text": [
      "  0%|                                     | 2/3125 [04:28<114:19:30, 131.79s/it]"
     ]
    },
    {
     "name": "stdout",
     "output_type": "stream",
     "text": [
      "0.6773074269294739\n",
      "0.8158389329910278\n",
      "1.4931464195251465\n"
     ]
    },
    {
     "name": "stderr",
     "output_type": "stream",
     "text": [
      "  0%|                                     | 3/3125 [06:11<102:55:50, 118.69s/it]"
     ]
    },
    {
     "name": "stdout",
     "output_type": "stream",
     "text": [
      "0.11997884511947632\n",
      "0.7584633231163025\n",
      "0.8784421682357788\n"
     ]
    },
    {
     "name": "stderr",
     "output_type": "stream",
     "text": [
      "  0%|                                      | 4/3125 [07:54<97:35:22, 112.57s/it]"
     ]
    },
    {
     "name": "stdout",
     "output_type": "stream",
     "text": [
      "0.1489763706922531\n",
      "0.7436121106147766\n",
      "0.8925884962081909\n"
     ]
    },
    {
     "name": "stderr",
     "output_type": "stream",
     "text": [
      "  0%|                                      | 5/3125 [09:36<94:07:11, 108.60s/it]"
     ]
    },
    {
     "name": "stdout",
     "output_type": "stream",
     "text": [
      "0.1511092633008957\n",
      "0.6768866777420044\n",
      "0.8279959559440613\n"
     ]
    },
    {
     "name": "stderr",
     "output_type": "stream",
     "text": [
      "  0%|                                      | 6/3125 [11:17<91:54:59, 106.09s/it]"
     ]
    },
    {
     "name": "stdout",
     "output_type": "stream",
     "text": [
      "0.1121843159198761\n",
      "0.6301479339599609\n",
      "0.7423322200775146\n"
     ]
    },
    {
     "name": "stderr",
     "output_type": "stream",
     "text": [
      "  0%|                                      | 7/3125 [13:08<93:16:04, 107.69s/it]"
     ]
    },
    {
     "name": "stdout",
     "output_type": "stream",
     "text": [
      "0.11779102683067322\n",
      "0.5986711978912354\n",
      "0.716462254524231\n"
     ]
    },
    {
     "name": "stderr",
     "output_type": "stream",
     "text": [
      "  0%|                                      | 8/3125 [14:50<91:29:10, 105.66s/it]"
     ]
    },
    {
     "name": "stdout",
     "output_type": "stream",
     "text": [
      "0.10749813169240952\n",
      "0.5632871389389038\n",
      "0.6707852482795715\n"
     ]
    },
    {
     "name": "stderr",
     "output_type": "stream",
     "text": [
      "  0%|                                      | 9/3125 [16:34<91:08:00, 105.29s/it]"
     ]
    },
    {
     "name": "stdout",
     "output_type": "stream",
     "text": [
      "0.10868397355079651\n",
      "0.5163050293922424\n",
      "0.6249890327453613\n"
     ]
    },
    {
     "name": "stderr",
     "output_type": "stream",
     "text": [
      "  0%|                                     | 10/3125 [18:16<90:10:33, 104.22s/it]"
     ]
    },
    {
     "name": "stdout",
     "output_type": "stream",
     "text": [
      "0.08883217722177505\n",
      "0.48652133345603943\n",
      "0.5753535032272339\n"
     ]
    },
    {
     "name": "stderr",
     "output_type": "stream",
     "text": [
      "  0%|                                    | 10/3125 [20:05<104:21:02, 120.60s/it]\n"
     ]
    },
    {
     "ename": "KeyboardInterrupt",
     "evalue": "",
     "output_type": "error",
     "traceback": [
      "\u001b[0;31m---------------------------------------------------------------------------\u001b[0m",
      "\u001b[0;31mKeyboardInterrupt\u001b[0m                         Traceback (most recent call last)",
      "Cell \u001b[0;32mIn[63], line 33\u001b[0m\n\u001b[1;32m     30\u001b[0m \u001b[38;5;28mprint\u001b[39m(loss\u001b[38;5;241m.\u001b[39mitem())\n\u001b[1;32m     32\u001b[0m optim\u001b[38;5;241m.\u001b[39mzero_grad()\n\u001b[0;32m---> 33\u001b[0m \u001b[43mloss\u001b[49m\u001b[38;5;241;43m.\u001b[39;49m\u001b[43mbackward\u001b[49m\u001b[43m(\u001b[49m\u001b[43m)\u001b[49m\n\u001b[1;32m     34\u001b[0m optim\u001b[38;5;241m.\u001b[39mstep()\n\u001b[1;32m     36\u001b[0m overall_loss \u001b[38;5;241m+\u001b[39m\u001b[38;5;241m=\u001b[39m loss\u001b[38;5;241m.\u001b[39mitem()\n",
      "File \u001b[0;32m~/miniconda3/envs/disc_diff/lib/python3.11/site-packages/torch/_tensor.py:487\u001b[0m, in \u001b[0;36mTensor.backward\u001b[0;34m(self, gradient, retain_graph, create_graph, inputs)\u001b[0m\n\u001b[1;32m    477\u001b[0m \u001b[38;5;28;01mif\u001b[39;00m has_torch_function_unary(\u001b[38;5;28mself\u001b[39m):\n\u001b[1;32m    478\u001b[0m     \u001b[38;5;28;01mreturn\u001b[39;00m handle_torch_function(\n\u001b[1;32m    479\u001b[0m         Tensor\u001b[38;5;241m.\u001b[39mbackward,\n\u001b[1;32m    480\u001b[0m         (\u001b[38;5;28mself\u001b[39m,),\n\u001b[0;32m   (...)\u001b[0m\n\u001b[1;32m    485\u001b[0m         inputs\u001b[38;5;241m=\u001b[39minputs,\n\u001b[1;32m    486\u001b[0m     )\n\u001b[0;32m--> 487\u001b[0m \u001b[43mtorch\u001b[49m\u001b[38;5;241;43m.\u001b[39;49m\u001b[43mautograd\u001b[49m\u001b[38;5;241;43m.\u001b[39;49m\u001b[43mbackward\u001b[49m\u001b[43m(\u001b[49m\n\u001b[1;32m    488\u001b[0m \u001b[43m    \u001b[49m\u001b[38;5;28;43mself\u001b[39;49m\u001b[43m,\u001b[49m\u001b[43m \u001b[49m\u001b[43mgradient\u001b[49m\u001b[43m,\u001b[49m\u001b[43m \u001b[49m\u001b[43mretain_graph\u001b[49m\u001b[43m,\u001b[49m\u001b[43m \u001b[49m\u001b[43mcreate_graph\u001b[49m\u001b[43m,\u001b[49m\u001b[43m \u001b[49m\u001b[43minputs\u001b[49m\u001b[38;5;241;43m=\u001b[39;49m\u001b[43minputs\u001b[49m\n\u001b[1;32m    489\u001b[0m \u001b[43m\u001b[49m\u001b[43m)\u001b[49m\n",
      "File \u001b[0;32m~/miniconda3/envs/disc_diff/lib/python3.11/site-packages/torch/autograd/__init__.py:200\u001b[0m, in \u001b[0;36mbackward\u001b[0;34m(tensors, grad_tensors, retain_graph, create_graph, grad_variables, inputs)\u001b[0m\n\u001b[1;32m    195\u001b[0m     retain_graph \u001b[38;5;241m=\u001b[39m create_graph\n\u001b[1;32m    197\u001b[0m \u001b[38;5;66;03m# The reason we repeat same the comment below is that\u001b[39;00m\n\u001b[1;32m    198\u001b[0m \u001b[38;5;66;03m# some Python versions print out the first line of a multi-line function\u001b[39;00m\n\u001b[1;32m    199\u001b[0m \u001b[38;5;66;03m# calls in the traceback and some print out the last line\u001b[39;00m\n\u001b[0;32m--> 200\u001b[0m \u001b[43mVariable\u001b[49m\u001b[38;5;241;43m.\u001b[39;49m\u001b[43m_execution_engine\u001b[49m\u001b[38;5;241;43m.\u001b[39;49m\u001b[43mrun_backward\u001b[49m\u001b[43m(\u001b[49m\u001b[43m  \u001b[49m\u001b[38;5;66;43;03m# Calls into the C++ engine to run the backward pass\u001b[39;49;00m\n\u001b[1;32m    201\u001b[0m \u001b[43m    \u001b[49m\u001b[43mtensors\u001b[49m\u001b[43m,\u001b[49m\u001b[43m \u001b[49m\u001b[43mgrad_tensors_\u001b[49m\u001b[43m,\u001b[49m\u001b[43m \u001b[49m\u001b[43mretain_graph\u001b[49m\u001b[43m,\u001b[49m\u001b[43m \u001b[49m\u001b[43mcreate_graph\u001b[49m\u001b[43m,\u001b[49m\u001b[43m \u001b[49m\u001b[43minputs\u001b[49m\u001b[43m,\u001b[49m\n\u001b[1;32m    202\u001b[0m \u001b[43m    \u001b[49m\u001b[43mallow_unreachable\u001b[49m\u001b[38;5;241;43m=\u001b[39;49m\u001b[38;5;28;43;01mTrue\u001b[39;49;00m\u001b[43m,\u001b[49m\u001b[43m \u001b[49m\u001b[43maccumulate_grad\u001b[49m\u001b[38;5;241;43m=\u001b[39;49m\u001b[38;5;28;43;01mTrue\u001b[39;49;00m\u001b[43m)\u001b[49m\n",
      "\u001b[0;31mKeyboardInterrupt\u001b[0m: "
     ]
    }
   ],
   "source": [
    "from tqdm import tqdm\n",
    "epochs = 100\n",
    "\n",
    "cat_diff.train()\n",
    "optim = torch.optim.Adam(cat_diff.parameters(), lr = 1e-3)\n",
    "\n",
    "for epoch in range(epochs):\n",
    "    overall_loss = 0\n",
    "    spins_loader = torch.utils.data.DataLoader(spins_dataset, batch_size=32, shuffle=True)\n",
    "    for batch in tqdm(spins_loader):\n",
    "        X, Y = batch\n",
    "        \n",
    "        X_spins = X['spins']\n",
    "        Y_spins = Y['spins']\n",
    "        \n",
    "        ts, noised_samples = noiser(X_spins, noise_matrix, 100, X_spins.shape[-1])\n",
    "\n",
    "        cat_diff.decode(noised_samples, ts)\n",
    "        cat_diff.calc_forward_conditionals(noised_samples)\n",
    "        \n",
    "        LT_loss     = cat_diff.L_T(noised_samples)\n",
    "        \n",
    "        Lt0_t1_loss = cat_diff.L_t0t1(Y_spins)\n",
    "        print(Lt0_t1_loss.item())\n",
    "\n",
    "        Ltminus1    = cat_diff.L_tminus1(Y_spins, noised_samples)\n",
    "        print(Ltminus1.item())\n",
    "\n",
    "        loss = Lt0_t1_loss + Ltminus1\n",
    "        print(loss.item())\n",
    "        \n",
    "        optim.zero_grad()\n",
    "        loss.backward()\n",
    "        optim.step()\n",
    "        \n",
    "        overall_loss += loss.item()\n",
    "    print('overall loss at epoch {} is '.format(epoch) + str(overall_loss/X_train.shape[0]))"
   ]
  },
  {
   "cell_type": "code",
   "execution_count": 68,
   "id": "08d9e93b-fdd5-4f25-8422-bc456614ade5",
   "metadata": {
    "scrolled": true
   },
   "outputs": [
    {
     "data": {
      "text/plain": [
       "tensor([[[0.1477, 0.1477, 0.7045],\n",
       "         [0.1340, 0.1340, 0.7320],\n",
       "         [0.1431, 0.1431, 0.7139],\n",
       "         ...,\n",
       "         [0.1390, 0.1390, 0.7220],\n",
       "         [0.1402, 0.1402, 0.7196],\n",
       "         [0.1352, 0.1352, 0.7295]],\n",
       "\n",
       "        [[0.1360, 0.1360, 0.7279],\n",
       "         [0.1444, 0.1444, 0.7113],\n",
       "         [0.1399, 0.1399, 0.7203],\n",
       "         ...,\n",
       "         [0.1459, 0.1459, 0.7083],\n",
       "         [0.1341, 0.1341, 0.7318],\n",
       "         [0.1393, 0.1393, 0.7215]],\n",
       "\n",
       "        [[0.1431, 0.1431, 0.7138],\n",
       "         [0.1357, 0.1357, 0.7286],\n",
       "         [0.1397, 0.1397, 0.7206],\n",
       "         ...,\n",
       "         [0.1368, 0.1368, 0.7265],\n",
       "         [0.1412, 0.1412, 0.7176],\n",
       "         [0.1506, 0.1506, 0.6988]],\n",
       "\n",
       "        ...,\n",
       "\n",
       "        [[0.1430, 0.1430, 0.7140],\n",
       "         [0.1346, 0.1346, 0.7308],\n",
       "         [0.1407, 0.1407, 0.7186],\n",
       "         ...,\n",
       "         [0.1325, 0.1325, 0.7350],\n",
       "         [0.1360, 0.1360, 0.7279],\n",
       "         [0.1437, 0.1437, 0.7126]],\n",
       "\n",
       "        [[0.1378, 0.1378, 0.7244],\n",
       "         [0.1362, 0.1362, 0.7276],\n",
       "         [0.1465, 0.1465, 0.7070],\n",
       "         ...,\n",
       "         [0.1467, 0.1467, 0.7066],\n",
       "         [0.1432, 0.1432, 0.7136],\n",
       "         [0.1390, 0.1390, 0.7220]],\n",
       "\n",
       "        [[0.1360, 0.1360, 0.7281],\n",
       "         [0.1421, 0.1421, 0.7158],\n",
       "         [0.1381, 0.1381, 0.7239],\n",
       "         ...,\n",
       "         [0.1388, 0.1388, 0.7224],\n",
       "         [0.1339, 0.1339, 0.7322],\n",
       "         [0.1389, 0.1389, 0.7222]]], grad_fn=<SelectBackward0>)"
      ]
     },
     "execution_count": 68,
     "metadata": {},
     "output_type": "execute_result"
    }
   ],
   "source": [
    "cat_diff.y_pred[-20]"
   ]
  },
  {
   "cell_type": "code",
   "execution_count": 69,
   "id": "e07b366b-6385-4260-a462-88164ae8d0f7",
   "metadata": {
    "scrolled": true
   },
   "outputs": [
    {
     "data": {
      "text/plain": [
       "tensor([[[0., 0., 1.],\n",
       "         [0., 0., 1.],\n",
       "         [0., 0., 1.],\n",
       "         ...,\n",
       "         [0., 0., 1.],\n",
       "         [0., 0., 1.],\n",
       "         [0., 0., 1.]],\n",
       "\n",
       "        [[0., 0., 1.],\n",
       "         [0., 0., 1.],\n",
       "         [0., 0., 1.],\n",
       "         ...,\n",
       "         [0., 0., 1.],\n",
       "         [0., 0., 1.],\n",
       "         [0., 0., 1.]],\n",
       "\n",
       "        [[0., 0., 1.],\n",
       "         [0., 0., 1.],\n",
       "         [0., 0., 1.],\n",
       "         ...,\n",
       "         [0., 0., 1.],\n",
       "         [0., 0., 1.],\n",
       "         [0., 0., 1.]],\n",
       "\n",
       "        ...,\n",
       "\n",
       "        [[0., 0., 1.],\n",
       "         [0., 0., 1.],\n",
       "         [0., 0., 1.],\n",
       "         ...,\n",
       "         [0., 0., 1.],\n",
       "         [0., 0., 1.],\n",
       "         [0., 0., 1.]],\n",
       "\n",
       "        [[0., 0., 1.],\n",
       "         [0., 0., 1.],\n",
       "         [0., 0., 1.],\n",
       "         ...,\n",
       "         [0., 0., 1.],\n",
       "         [0., 0., 1.],\n",
       "         [0., 0., 1.]],\n",
       "\n",
       "        [[0., 0., 1.],\n",
       "         [0., 0., 1.],\n",
       "         [0., 0., 1.],\n",
       "         ...,\n",
       "         [0., 0., 1.],\n",
       "         [0., 0., 1.],\n",
       "         [0., 0., 1.]]])"
      ]
     },
     "execution_count": 69,
     "metadata": {},
     "output_type": "execute_result"
    }
   ],
   "source": [
    "noised_samples[-20]"
   ]
  },
  {
   "cell_type": "code",
   "execution_count": 58,
   "id": "d5432f2e-9892-47fc-b32d-d555d2e439aa",
   "metadata": {},
   "outputs": [
    {
     "data": {
      "text/plain": [
       "torch.Size([100, 32, 100, 3])"
      ]
     },
     "execution_count": 58,
     "metadata": {},
     "output_type": "execute_result"
    }
   ],
   "source": [
    "noised_samples.shape"
   ]
  },
  {
   "cell_type": "code",
   "execution_count": 62,
   "id": "ec5e3c03-6fb1-4aa4-a5e7-4776141001c3",
   "metadata": {},
   "outputs": [
    {
     "data": {
      "text/plain": [
       "tensor([[0.3333, 0.3333, 0.3333],\n",
       "        [0.3333, 0.3333, 0.3333],\n",
       "        [0.3333, 0.3333, 0.3333],\n",
       "        [0.3333, 0.3333, 0.3333],\n",
       "        [0.3333, 0.3333, 0.3333],\n",
       "        [0.3333, 0.3333, 0.3333],\n",
       "        [0.3333, 0.3333, 0.3333],\n",
       "        [0.3333, 0.3333, 0.3333],\n",
       "        [0.3333, 0.3333, 0.3333],\n",
       "        [0.3333, 0.3333, 0.3333],\n",
       "        [0.3333, 0.3333, 0.3333],\n",
       "        [0.3333, 0.3333, 0.3333],\n",
       "        [0.3333, 0.3333, 0.3333],\n",
       "        [0.3333, 0.3333, 0.3333],\n",
       "        [0.3333, 0.3333, 0.3333],\n",
       "        [0.3333, 0.3333, 0.3333],\n",
       "        [0.3333, 0.3333, 0.3333],\n",
       "        [0.3333, 0.3333, 0.3333],\n",
       "        [0.3333, 0.3333, 0.3333],\n",
       "        [0.3333, 0.3333, 0.3333],\n",
       "        [0.3333, 0.3333, 0.3333],\n",
       "        [0.3333, 0.3333, 0.3333],\n",
       "        [0.3333, 0.3333, 0.3333],\n",
       "        [0.3333, 0.3333, 0.3333],\n",
       "        [0.3333, 0.3333, 0.3333],\n",
       "        [0.3333, 0.3333, 0.3333],\n",
       "        [0.3333, 0.3333, 0.3333],\n",
       "        [0.3333, 0.3333, 0.3333],\n",
       "        [0.3333, 0.3333, 0.3333],\n",
       "        [0.3333, 0.3333, 0.3333],\n",
       "        [0.3333, 0.3333, 0.3333],\n",
       "        [0.3333, 0.3333, 0.3333],\n",
       "        [0.3333, 0.3333, 0.3333],\n",
       "        [0.3333, 0.3333, 0.3333],\n",
       "        [0.3333, 0.3333, 0.3333],\n",
       "        [0.3333, 0.3333, 0.3333],\n",
       "        [0.3333, 0.3333, 0.3333],\n",
       "        [0.3333, 0.3333, 0.3333],\n",
       "        [0.3333, 0.3333, 0.3333],\n",
       "        [0.3333, 0.3333, 0.3333],\n",
       "        [0.3333, 0.3333, 0.3333],\n",
       "        [0.3333, 0.3333, 0.3333],\n",
       "        [0.3333, 0.3333, 0.3333],\n",
       "        [0.3333, 0.3333, 0.3333],\n",
       "        [0.3333, 0.3333, 0.3333],\n",
       "        [0.3333, 0.3333, 0.3333],\n",
       "        [0.3333, 0.3333, 0.3333],\n",
       "        [0.3333, 0.3333, 0.3333],\n",
       "        [0.3333, 0.3333, 0.3333],\n",
       "        [0.3333, 0.3333, 0.3333],\n",
       "        [0.3333, 0.3333, 0.3333],\n",
       "        [0.3333, 0.3333, 0.3333],\n",
       "        [0.3333, 0.3333, 0.3333],\n",
       "        [0.3333, 0.3333, 0.3333],\n",
       "        [0.3333, 0.3333, 0.3333],\n",
       "        [0.3333, 0.3333, 0.3333],\n",
       "        [0.3333, 0.3333, 0.3333],\n",
       "        [0.3333, 0.3333, 0.3333],\n",
       "        [0.3333, 0.3333, 0.3333],\n",
       "        [0.3333, 0.3333, 0.3333],\n",
       "        [0.3333, 0.3333, 0.3333],\n",
       "        [0.3333, 0.3333, 0.3333],\n",
       "        [0.3333, 0.3333, 0.3333],\n",
       "        [0.3333, 0.3333, 0.3333],\n",
       "        [0.3333, 0.3333, 0.3333],\n",
       "        [0.3333, 0.3333, 0.3333],\n",
       "        [0.3333, 0.3333, 0.3333],\n",
       "        [0.3333, 0.3333, 0.3333],\n",
       "        [0.3333, 0.3333, 0.3333],\n",
       "        [0.3333, 0.3333, 0.3333],\n",
       "        [0.3333, 0.3333, 0.3333],\n",
       "        [0.3333, 0.3333, 0.3333],\n",
       "        [0.3333, 0.3333, 0.3333],\n",
       "        [0.3333, 0.3333, 0.3333],\n",
       "        [0.3333, 0.3333, 0.3333],\n",
       "        [0.3333, 0.3333, 0.3333],\n",
       "        [0.3333, 0.3333, 0.3333],\n",
       "        [0.3333, 0.3333, 0.3333],\n",
       "        [0.3333, 0.3333, 0.3333],\n",
       "        [0.3333, 0.3333, 0.3333],\n",
       "        [0.3333, 0.3333, 0.3333],\n",
       "        [0.3333, 0.3333, 0.3333],\n",
       "        [0.3333, 0.3333, 0.3333],\n",
       "        [0.3333, 0.3333, 0.3333],\n",
       "        [0.3333, 0.3333, 0.3333],\n",
       "        [0.3333, 0.3333, 0.3333],\n",
       "        [0.3333, 0.3333, 0.3333],\n",
       "        [0.3333, 0.3333, 0.3333],\n",
       "        [0.3333, 0.3333, 0.3333],\n",
       "        [0.3333, 0.3333, 0.3333],\n",
       "        [0.3333, 0.3333, 0.3333],\n",
       "        [0.3333, 0.3333, 0.3333],\n",
       "        [0.3333, 0.3333, 0.3333],\n",
       "        [0.3333, 0.3333, 0.3333],\n",
       "        [0.3333, 0.3333, 0.3333],\n",
       "        [0.3333, 0.3333, 0.3333],\n",
       "        [0.3333, 0.3333, 0.3333],\n",
       "        [0.3333, 0.3333, 0.3333],\n",
       "        [0.3333, 0.3333, 0.3333],\n",
       "        [0.3333, 0.3333, 0.3333]], grad_fn=<SelectBackward0>)"
      ]
     },
     "execution_count": 62,
     "metadata": {},
     "output_type": "execute_result"
    }
   ],
   "source": [
    "cat_diff.y_pred[-80][0]"
   ]
  },
  {
   "cell_type": "code",
   "execution_count": 34,
   "id": "a527561e-72a1-41e8-8c4d-c7c3e8d9d910",
   "metadata": {
    "scrolled": true
   },
   "outputs": [
    {
     "data": {
      "text/plain": [
       "tensor([[[[0.1709, 0.7877, 0.0414],\n",
       "          [0.8030, 0.1634, 0.0336],\n",
       "          [0.1539, 0.8111, 0.0349],\n",
       "          ...,\n",
       "          [0.1511, 0.8132, 0.0357],\n",
       "          [0.8139, 0.1538, 0.0323],\n",
       "          [0.1841, 0.7795, 0.0364]],\n",
       "\n",
       "         [[0.1337, 0.8304, 0.0358],\n",
       "          [0.8365, 0.1304, 0.0331],\n",
       "          [0.1624, 0.8012, 0.0364],\n",
       "          ...,\n",
       "          [0.1556, 0.8074, 0.0371],\n",
       "          [0.7740, 0.1878, 0.0382],\n",
       "          [0.1822, 0.7812, 0.0366]],\n",
       "\n",
       "         [[0.1527, 0.8109, 0.0364],\n",
       "          [0.8175, 0.1504, 0.0321],\n",
       "          [0.1919, 0.7714, 0.0368],\n",
       "          ...,\n",
       "          [0.1483, 0.8171, 0.0346],\n",
       "          [0.7637, 0.1947, 0.0417],\n",
       "          [0.1757, 0.7848, 0.0394]],\n",
       "\n",
       "         ...,\n",
       "\n",
       "         [[0.1291, 0.8332, 0.0377],\n",
       "          [0.8154, 0.1508, 0.0338],\n",
       "          [0.8095, 0.1545, 0.0361],\n",
       "          ...,\n",
       "          [0.1802, 0.7799, 0.0398],\n",
       "          [0.1443, 0.8168, 0.0389],\n",
       "          [0.8178, 0.1449, 0.0372]],\n",
       "\n",
       "         [[0.8469, 0.1207, 0.0325],\n",
       "          [0.1528, 0.8095, 0.0377],\n",
       "          [0.8310, 0.1339, 0.0351],\n",
       "          ...,\n",
       "          [0.8292, 0.1388, 0.0320],\n",
       "          [0.7829, 0.1824, 0.0347],\n",
       "          [0.1403, 0.8257, 0.0339]],\n",
       "\n",
       "         [[0.8013, 0.1598, 0.0389],\n",
       "          [0.1534, 0.8068, 0.0398],\n",
       "          [0.7962, 0.1694, 0.0343],\n",
       "          ...,\n",
       "          [0.8103, 0.1540, 0.0357],\n",
       "          [0.1528, 0.8105, 0.0367],\n",
       "          [0.8111, 0.1551, 0.0339]]],\n",
       "\n",
       "\n",
       "        [[[0.1323, 0.8237, 0.0440],\n",
       "          [0.8389, 0.1241, 0.0370],\n",
       "          [0.1293, 0.8251, 0.0457],\n",
       "          ...,\n",
       "          [0.1347, 0.8190, 0.0463],\n",
       "          [0.7756, 0.1790, 0.0454],\n",
       "          [0.1361, 0.8189, 0.0451]],\n",
       "\n",
       "         [[0.1356, 0.8215, 0.0429],\n",
       "          [0.8213, 0.1405, 0.0382],\n",
       "          [0.1065, 0.8477, 0.0458],\n",
       "          ...,\n",
       "          [0.1267, 0.8288, 0.0445],\n",
       "          [0.8227, 0.1409, 0.0364],\n",
       "          [0.1242, 0.8281, 0.0477]],\n",
       "\n",
       "         [[0.1351, 0.8154, 0.0495],\n",
       "          [0.8074, 0.1561, 0.0364],\n",
       "          [0.1285, 0.8195, 0.0519],\n",
       "          ...,\n",
       "          [0.1239, 0.8340, 0.0420],\n",
       "          [0.8176, 0.1437, 0.0387],\n",
       "          [0.1264, 0.8285, 0.0452]],\n",
       "\n",
       "         ...,\n",
       "\n",
       "         [[0.1423, 0.8080, 0.0498],\n",
       "          [0.7631, 0.1964, 0.0405],\n",
       "          [0.7979, 0.1603, 0.0419],\n",
       "          ...,\n",
       "          [0.1345, 0.8164, 0.0491],\n",
       "          [0.1190, 0.8338, 0.0472],\n",
       "          [0.8042, 0.1536, 0.0422]],\n",
       "\n",
       "         [[0.7799, 0.1815, 0.0387],\n",
       "          [0.1409, 0.8133, 0.0458],\n",
       "          [0.8227, 0.1424, 0.0349],\n",
       "          ...,\n",
       "          [0.8183, 0.1439, 0.0378],\n",
       "          [0.8203, 0.1418, 0.0379],\n",
       "          [0.1387, 0.8214, 0.0399]],\n",
       "\n",
       "         [[0.7800, 0.1787, 0.0413],\n",
       "          [0.1251, 0.8343, 0.0406],\n",
       "          [0.7830, 0.1706, 0.0463],\n",
       "          ...,\n",
       "          [0.7956, 0.1648, 0.0396],\n",
       "          [0.1451, 0.8069, 0.0480],\n",
       "          [0.8129, 0.1467, 0.0403]]],\n",
       "\n",
       "\n",
       "        [[[0.1466, 0.7700, 0.0834],\n",
       "          [0.7043, 0.2201, 0.0756],\n",
       "          [0.1262, 0.7901, 0.0837],\n",
       "          ...,\n",
       "          [0.1371, 0.7638, 0.0991],\n",
       "          [0.7256, 0.1964, 0.0781],\n",
       "          [0.1313, 0.7666, 0.1020]],\n",
       "\n",
       "         [[0.1344, 0.7761, 0.0895],\n",
       "          [0.7254, 0.1952, 0.0793],\n",
       "          [0.1279, 0.7694, 0.1027],\n",
       "          ...,\n",
       "          [0.1137, 0.8036, 0.0828],\n",
       "          [0.6353, 0.2689, 0.0958],\n",
       "          [0.1432, 0.7582, 0.0986]],\n",
       "\n",
       "         [[0.1210, 0.7813, 0.0977],\n",
       "          [0.6980, 0.2215, 0.0804],\n",
       "          [0.1154, 0.7989, 0.0858],\n",
       "          ...,\n",
       "          [0.1203, 0.7864, 0.0933],\n",
       "          [0.6910, 0.2225, 0.0865],\n",
       "          [0.1382, 0.7809, 0.0809]],\n",
       "\n",
       "         ...,\n",
       "\n",
       "         [[0.1312, 0.7642, 0.1046],\n",
       "          [0.6176, 0.2764, 0.1060],\n",
       "          [0.6849, 0.2173, 0.0978],\n",
       "          ...,\n",
       "          [0.1443, 0.7580, 0.0977],\n",
       "          [0.1245, 0.7805, 0.0950],\n",
       "          [0.6218, 0.2880, 0.0902]],\n",
       "\n",
       "         [[0.7094, 0.2157, 0.0749],\n",
       "          [0.1188, 0.7995, 0.0816],\n",
       "          [0.7700, 0.1660, 0.0640],\n",
       "          ...,\n",
       "          [0.7220, 0.2059, 0.0720],\n",
       "          [0.7598, 0.1635, 0.0767],\n",
       "          [0.1316, 0.7685, 0.0998]],\n",
       "\n",
       "         [[0.6992, 0.2122, 0.0885],\n",
       "          [0.1372, 0.7569, 0.1059],\n",
       "          [0.6303, 0.2818, 0.0879],\n",
       "          ...,\n",
       "          [0.6461, 0.2629, 0.0910],\n",
       "          [0.1255, 0.7645, 0.1100],\n",
       "          [0.7294, 0.1874, 0.0832]]],\n",
       "\n",
       "\n",
       "        ...,\n",
       "\n",
       "\n",
       "        [[[0.3333, 0.3333, 0.3333],\n",
       "          [0.3333, 0.3333, 0.3333],\n",
       "          [0.3333, 0.3333, 0.3333],\n",
       "          ...,\n",
       "          [0.3333, 0.3333, 0.3333],\n",
       "          [0.3333, 0.3333, 0.3333],\n",
       "          [0.3333, 0.3333, 0.3333]],\n",
       "\n",
       "         [[0.3333, 0.3333, 0.3333],\n",
       "          [0.3333, 0.3333, 0.3333],\n",
       "          [0.3333, 0.3333, 0.3333],\n",
       "          ...,\n",
       "          [0.3333, 0.3333, 0.3333],\n",
       "          [0.3333, 0.3333, 0.3333],\n",
       "          [0.3333, 0.3333, 0.3333]],\n",
       "\n",
       "         [[0.3333, 0.3333, 0.3333],\n",
       "          [0.3333, 0.3333, 0.3333],\n",
       "          [0.3333, 0.3333, 0.3333],\n",
       "          ...,\n",
       "          [0.3333, 0.3333, 0.3333],\n",
       "          [0.3333, 0.3333, 0.3333],\n",
       "          [0.3333, 0.3333, 0.3333]],\n",
       "\n",
       "         ...,\n",
       "\n",
       "         [[0.3333, 0.3333, 0.3333],\n",
       "          [0.3333, 0.3333, 0.3333],\n",
       "          [0.3333, 0.3333, 0.3333],\n",
       "          ...,\n",
       "          [0.3333, 0.3333, 0.3333],\n",
       "          [0.3333, 0.3333, 0.3333],\n",
       "          [0.3333, 0.3333, 0.3333]],\n",
       "\n",
       "         [[0.3333, 0.3333, 0.3333],\n",
       "          [0.3333, 0.3333, 0.3333],\n",
       "          [0.3333, 0.3333, 0.3333],\n",
       "          ...,\n",
       "          [0.3333, 0.3333, 0.3333],\n",
       "          [0.3333, 0.3333, 0.3333],\n",
       "          [0.3333, 0.3333, 0.3333]],\n",
       "\n",
       "         [[0.3333, 0.3333, 0.3333],\n",
       "          [0.3333, 0.3333, 0.3333],\n",
       "          [0.3333, 0.3333, 0.3333],\n",
       "          ...,\n",
       "          [0.3333, 0.3333, 0.3333],\n",
       "          [0.3333, 0.3333, 0.3333],\n",
       "          [0.3333, 0.3333, 0.3333]]],\n",
       "\n",
       "\n",
       "        [[[0.3333, 0.3333, 0.3333],\n",
       "          [0.3333, 0.3333, 0.3333],\n",
       "          [0.3333, 0.3333, 0.3333],\n",
       "          ...,\n",
       "          [0.3333, 0.3333, 0.3333],\n",
       "          [0.3333, 0.3333, 0.3333],\n",
       "          [0.3333, 0.3333, 0.3333]],\n",
       "\n",
       "         [[0.3333, 0.3333, 0.3333],\n",
       "          [0.3333, 0.3333, 0.3333],\n",
       "          [0.3333, 0.3333, 0.3333],\n",
       "          ...,\n",
       "          [0.3333, 0.3333, 0.3333],\n",
       "          [0.3333, 0.3333, 0.3333],\n",
       "          [0.3333, 0.3333, 0.3333]],\n",
       "\n",
       "         [[0.3333, 0.3333, 0.3333],\n",
       "          [0.3333, 0.3333, 0.3333],\n",
       "          [0.3333, 0.3333, 0.3333],\n",
       "          ...,\n",
       "          [0.3333, 0.3333, 0.3333],\n",
       "          [0.3333, 0.3333, 0.3333],\n",
       "          [0.3333, 0.3333, 0.3333]],\n",
       "\n",
       "         ...,\n",
       "\n",
       "         [[0.3333, 0.3333, 0.3333],\n",
       "          [0.3333, 0.3333, 0.3333],\n",
       "          [0.3333, 0.3333, 0.3333],\n",
       "          ...,\n",
       "          [0.3331, 0.3331, 0.3338],\n",
       "          [0.3333, 0.3333, 0.3333],\n",
       "          [0.3333, 0.3333, 0.3333]],\n",
       "\n",
       "         [[0.3333, 0.3333, 0.3333],\n",
       "          [0.3333, 0.3333, 0.3333],\n",
       "          [0.3333, 0.3333, 0.3333],\n",
       "          ...,\n",
       "          [0.3333, 0.3333, 0.3333],\n",
       "          [0.3333, 0.3333, 0.3333],\n",
       "          [0.3333, 0.3333, 0.3333]],\n",
       "\n",
       "         [[0.3333, 0.3333, 0.3333],\n",
       "          [0.3333, 0.3333, 0.3333],\n",
       "          [0.3333, 0.3333, 0.3333],\n",
       "          ...,\n",
       "          [0.3333, 0.3333, 0.3333],\n",
       "          [0.3333, 0.3333, 0.3333],\n",
       "          [0.3333, 0.3333, 0.3333]]],\n",
       "\n",
       "\n",
       "        [[[0.3333, 0.3333, 0.3333],\n",
       "          [0.3333, 0.3333, 0.3333],\n",
       "          [0.3333, 0.3333, 0.3333],\n",
       "          ...,\n",
       "          [0.3333, 0.3333, 0.3333],\n",
       "          [0.3333, 0.3333, 0.3333],\n",
       "          [0.3333, 0.3333, 0.3333]],\n",
       "\n",
       "         [[0.3333, 0.3333, 0.3333],\n",
       "          [0.3333, 0.3333, 0.3333],\n",
       "          [0.3333, 0.3333, 0.3333],\n",
       "          ...,\n",
       "          [0.3333, 0.3333, 0.3333],\n",
       "          [0.3333, 0.3333, 0.3333],\n",
       "          [0.3333, 0.3333, 0.3333]],\n",
       "\n",
       "         [[0.3333, 0.3333, 0.3333],\n",
       "          [0.3333, 0.3333, 0.3333],\n",
       "          [0.3333, 0.3333, 0.3333],\n",
       "          ...,\n",
       "          [0.3333, 0.3333, 0.3333],\n",
       "          [0.3333, 0.3333, 0.3333],\n",
       "          [0.3333, 0.3333, 0.3333]],\n",
       "\n",
       "         ...,\n",
       "\n",
       "         [[0.3333, 0.3333, 0.3333],\n",
       "          [0.3333, 0.3333, 0.3333],\n",
       "          [0.3333, 0.3333, 0.3333],\n",
       "          ...,\n",
       "          [0.3333, 0.3333, 0.3333],\n",
       "          [0.3333, 0.3333, 0.3333],\n",
       "          [0.3333, 0.3333, 0.3333]],\n",
       "\n",
       "         [[0.3333, 0.3333, 0.3333],\n",
       "          [0.3333, 0.3333, 0.3333],\n",
       "          [0.3333, 0.3333, 0.3333],\n",
       "          ...,\n",
       "          [0.3333, 0.3333, 0.3333],\n",
       "          [0.3333, 0.3333, 0.3333],\n",
       "          [0.3333, 0.3333, 0.3333]],\n",
       "\n",
       "         [[0.3333, 0.3333, 0.3333],\n",
       "          [0.3333, 0.3333, 0.3333],\n",
       "          [0.3333, 0.3333, 0.3333],\n",
       "          ...,\n",
       "          [0.3333, 0.3333, 0.3333],\n",
       "          [0.3333, 0.3333, 0.3333],\n",
       "          [0.3333, 0.3333, 0.3333]]]], grad_fn=<ViewBackward0>)"
      ]
     },
     "execution_count": 34,
     "metadata": {},
     "output_type": "execute_result"
    }
   ],
   "source": [
    "cat_diff.y_pred"
   ]
  },
  {
   "cell_type": "code",
   "execution_count": 51,
   "id": "6a383197-d1d0-4bf9-82fb-25b7bc2e6182",
   "metadata": {},
   "outputs": [
    {
     "data": {
      "text/plain": [
       "tensor([0., 1., 0.])"
      ]
     },
     "execution_count": 51,
     "metadata": {},
     "output_type": "execute_result"
    }
   ],
   "source": [
    "noised_samples[0][0][4]"
   ]
  },
  {
   "cell_type": "code",
   "execution_count": null,
   "id": "8a50e214-b028-4b17-ba49-064179997d22",
   "metadata": {},
   "outputs": [],
   "source": [
    "y_"
   ]
  },
  {
   "cell_type": "code",
   "execution_count": 54,
   "id": "812a2ff9-0bd6-4b3c-92a6-d7262b7fb2d5",
   "metadata": {
    "scrolled": true
   },
   "outputs": [
    {
     "data": {
      "text/plain": [
       "tensor([[0.2546, 0.0875, 0.6578],\n",
       "        [0.2047, 0.1238, 0.6715],\n",
       "        [0.2216, 0.0783, 0.7002],\n",
       "        [0.2528, 0.0928, 0.6544],\n",
       "        [0.2295, 0.0936, 0.6769],\n",
       "        [0.1915, 0.0878, 0.7207],\n",
       "        [0.2639, 0.0820, 0.6541],\n",
       "        [0.1980, 0.0884, 0.7136],\n",
       "        [0.2126, 0.0955, 0.6918],\n",
       "        [0.2177, 0.0831, 0.6992],\n",
       "        [0.2414, 0.0764, 0.6823],\n",
       "        [0.1962, 0.0821, 0.7217],\n",
       "        [0.2059, 0.0703, 0.7239],\n",
       "        [0.2776, 0.0904, 0.6320],\n",
       "        [0.2183, 0.0807, 0.7010],\n",
       "        [0.0770, 0.7789, 0.1442],\n",
       "        [0.1740, 0.0795, 0.7464],\n",
       "        [0.1991, 0.0740, 0.7268],\n",
       "        [0.0728, 0.8356, 0.0917],\n",
       "        [0.2441, 0.1066, 0.6493],\n",
       "        [0.0836, 0.7678, 0.1487],\n",
       "        [0.1881, 0.0797, 0.7322],\n",
       "        [0.1819, 0.0731, 0.7450],\n",
       "        [0.8415, 0.0379, 0.1206],\n",
       "        [0.8280, 0.0375, 0.1345],\n",
       "        [0.2189, 0.0915, 0.6896],\n",
       "        [0.2233, 0.0904, 0.6864],\n",
       "        [0.0873, 0.7565, 0.1562],\n",
       "        [0.2481, 0.0756, 0.6762],\n",
       "        [0.2199, 0.0761, 0.7040],\n",
       "        [0.1987, 0.0787, 0.7226],\n",
       "        [0.8407, 0.0344, 0.1248],\n",
       "        [0.1809, 0.0887, 0.7304],\n",
       "        [0.2305, 0.0798, 0.6897],\n",
       "        [0.2249, 0.1013, 0.6737],\n",
       "        [0.2422, 0.0878, 0.6700],\n",
       "        [0.2399, 0.0895, 0.6706],\n",
       "        [0.2380, 0.0704, 0.6916],\n",
       "        [0.2295, 0.0782, 0.6923],\n",
       "        [0.2453, 0.0886, 0.6661],\n",
       "        [0.2662, 0.0863, 0.6475],\n",
       "        [0.2461, 0.0868, 0.6671],\n",
       "        [0.2088, 0.1017, 0.6895],\n",
       "        [0.1922, 0.0902, 0.7175],\n",
       "        [0.2351, 0.0810, 0.6839],\n",
       "        [0.2440, 0.0842, 0.6718],\n",
       "        [0.8730, 0.0293, 0.0976],\n",
       "        [0.2234, 0.0893, 0.6873],\n",
       "        [0.0717, 0.8104, 0.1178],\n",
       "        [0.1884, 0.0719, 0.7397],\n",
       "        [0.2220, 0.1098, 0.6682],\n",
       "        [0.2254, 0.0973, 0.6773],\n",
       "        [0.2250, 0.0818, 0.6933],\n",
       "        [0.2236, 0.0826, 0.6938],\n",
       "        [0.2308, 0.0915, 0.6778],\n",
       "        [0.2270, 0.0899, 0.6831],\n",
       "        [0.2246, 0.0914, 0.6840],\n",
       "        [0.0739, 0.8161, 0.1100],\n",
       "        [0.2280, 0.0723, 0.6997],\n",
       "        [0.2052, 0.1092, 0.6856],\n",
       "        [0.2141, 0.0822, 0.7037],\n",
       "        [0.2696, 0.0815, 0.6490],\n",
       "        [0.2604, 0.0947, 0.6449],\n",
       "        [0.2255, 0.0723, 0.7022],\n",
       "        [0.0772, 0.8070, 0.1158],\n",
       "        [0.2132, 0.0939, 0.6928],\n",
       "        [0.2986, 0.0808, 0.6207],\n",
       "        [0.2318, 0.0900, 0.6781],\n",
       "        [0.2004, 0.0860, 0.7136],\n",
       "        [0.8367, 0.0326, 0.1307],\n",
       "        [0.1943, 0.0802, 0.7255],\n",
       "        [0.2581, 0.0786, 0.6633],\n",
       "        [0.1815, 0.0755, 0.7430],\n",
       "        [0.1510, 0.0755, 0.7735],\n",
       "        [0.8201, 0.0372, 0.1427],\n",
       "        [0.2140, 0.0806, 0.7053],\n",
       "        [0.2344, 0.0905, 0.6751],\n",
       "        [0.1870, 0.0851, 0.7279],\n",
       "        [0.1938, 0.0830, 0.7232],\n",
       "        [0.0710, 0.8081, 0.1209],\n",
       "        [0.2382, 0.0930, 0.6689],\n",
       "        [0.2367, 0.0892, 0.6740],\n",
       "        [0.1534, 0.0908, 0.7558],\n",
       "        [0.1719, 0.0733, 0.7548],\n",
       "        [0.2300, 0.0881, 0.6819],\n",
       "        [0.2000, 0.0826, 0.7175],\n",
       "        [0.1961, 0.0805, 0.7234],\n",
       "        [0.1815, 0.1098, 0.7087],\n",
       "        [0.2875, 0.1067, 0.6059],\n",
       "        [0.2149, 0.0813, 0.7038],\n",
       "        [0.2955, 0.0833, 0.6212],\n",
       "        [0.2524, 0.0825, 0.6651],\n",
       "        [0.2007, 0.0903, 0.7090],\n",
       "        [0.2656, 0.0803, 0.6541],\n",
       "        [0.2392, 0.0864, 0.6744],\n",
       "        [0.1888, 0.1095, 0.7017],\n",
       "        [0.2147, 0.0879, 0.6974],\n",
       "        [0.2139, 0.0829, 0.7033],\n",
       "        [0.2286, 0.0734, 0.6980],\n",
       "        [0.2213, 0.0871, 0.6916]], grad_fn=<SelectBackward0>)"
      ]
     },
     "execution_count": 54,
     "metadata": {},
     "output_type": "execute_result"
    }
   ],
   "source": [
    "cat_diff.y_pred[20][0]"
   ]
  },
  {
   "cell_type": "code",
   "execution_count": 32,
   "id": "756f3fc9-fa19-46f0-a679-9f92129c8220",
   "metadata": {},
   "outputs": [
    {
     "data": {
      "text/plain": [
       "tensor([ 3.,  3., 94.])"
      ]
     },
     "execution_count": 32,
     "metadata": {},
     "output_type": "execute_result"
    }
   ],
   "source": [
    "torch.sum(noised_samples[20][0], axis=0)"
   ]
  },
  {
   "cell_type": "code",
   "execution_count": 36,
   "id": "dd88eaa9-b014-4646-99f3-db06e9574fee",
   "metadata": {
    "scrolled": true
   },
   "outputs": [
    {
     "data": {
      "text/plain": [
       "tensor([[1., 0., 0.],\n",
       "        [0., 1., 0.],\n",
       "        [0., 1., 0.],\n",
       "        [1., 0., 0.],\n",
       "        [0., 1., 0.],\n",
       "        [1., 0., 0.],\n",
       "        [0., 1., 0.],\n",
       "        [0., 1., 0.],\n",
       "        [1., 0., 0.],\n",
       "        [0., 1., 0.],\n",
       "        [1., 0., 0.],\n",
       "        [1., 0., 0.],\n",
       "        [1., 0., 0.],\n",
       "        [1., 0., 0.],\n",
       "        [0., 1., 0.],\n",
       "        [1., 0., 0.],\n",
       "        [1., 0., 0.],\n",
       "        [1., 0., 0.],\n",
       "        [1., 0., 0.],\n",
       "        [1., 0., 0.],\n",
       "        [1., 0., 0.],\n",
       "        [1., 0., 0.],\n",
       "        [1., 0., 0.],\n",
       "        [1., 0., 0.],\n",
       "        [0., 1., 0.],\n",
       "        [1., 0., 0.],\n",
       "        [0., 1., 0.],\n",
       "        [1., 0., 0.],\n",
       "        [1., 0., 0.],\n",
       "        [0., 1., 0.],\n",
       "        [1., 0., 0.],\n",
       "        [0., 1., 0.],\n",
       "        [0., 1., 0.],\n",
       "        [1., 0., 0.],\n",
       "        [1., 0., 0.],\n",
       "        [0., 1., 0.],\n",
       "        [1., 0., 0.],\n",
       "        [0., 1., 0.],\n",
       "        [0., 1., 0.],\n",
       "        [1., 0., 0.],\n",
       "        [1., 0., 0.],\n",
       "        [0., 1., 0.],\n",
       "        [0., 1., 0.],\n",
       "        [0., 1., 0.],\n",
       "        [1., 0., 0.],\n",
       "        [0., 1., 0.],\n",
       "        [0., 1., 0.],\n",
       "        [1., 0., 0.],\n",
       "        [1., 0., 0.],\n",
       "        [0., 1., 0.],\n",
       "        [1., 0., 0.],\n",
       "        [0., 1., 0.],\n",
       "        [1., 0., 0.],\n",
       "        [0., 1., 0.],\n",
       "        [1., 0., 0.],\n",
       "        [1., 0., 0.],\n",
       "        [0., 1., 0.],\n",
       "        [1., 0., 0.],\n",
       "        [1., 0., 0.],\n",
       "        [0., 1., 0.],\n",
       "        [0., 1., 0.],\n",
       "        [1., 0., 0.],\n",
       "        [0., 1., 0.],\n",
       "        [1., 0., 0.],\n",
       "        [1., 0., 0.],\n",
       "        [1., 0., 0.],\n",
       "        [1., 0., 0.],\n",
       "        [0., 1., 0.],\n",
       "        [1., 0., 0.],\n",
       "        [0., 1., 0.],\n",
       "        [1., 0., 0.],\n",
       "        [1., 0., 0.],\n",
       "        [0., 1., 0.],\n",
       "        [0., 1., 0.],\n",
       "        [0., 1., 0.],\n",
       "        [1., 0., 0.],\n",
       "        [0., 1., 0.],\n",
       "        [0., 1., 0.],\n",
       "        [0., 1., 0.],\n",
       "        [1., 0., 0.],\n",
       "        [1., 0., 0.],\n",
       "        [1., 0., 0.],\n",
       "        [1., 0., 0.],\n",
       "        [0., 1., 0.],\n",
       "        [0., 1., 0.],\n",
       "        [0., 1., 0.],\n",
       "        [0., 1., 0.],\n",
       "        [0., 1., 0.],\n",
       "        [0., 1., 0.],\n",
       "        [1., 0., 0.],\n",
       "        [1., 0., 0.],\n",
       "        [1., 0., 0.],\n",
       "        [1., 0., 0.],\n",
       "        [1., 0., 0.],\n",
       "        [0., 1., 0.],\n",
       "        [0., 1., 0.],\n",
       "        [1., 0., 0.],\n",
       "        [0., 1., 0.],\n",
       "        [1., 0., 0.],\n",
       "        [0., 1., 0.]])"
      ]
     },
     "execution_count": 36,
     "metadata": {},
     "output_type": "execute_result"
    }
   ],
   "source": [
    "noised_samples[0][0]"
   ]
  },
  {
   "cell_type": "code",
   "execution_count": 38,
   "id": "e7fc40a1-7a26-42ba-a5dc-02d2a64b75c1",
   "metadata": {},
   "outputs": [
    {
     "data": {
      "text/plain": [
       "tensor([[0., 0., 1.],\n",
       "        [0., 0., 1.],\n",
       "        [0., 0., 1.],\n",
       "        [0., 0., 1.],\n",
       "        [0., 0., 1.],\n",
       "        [0., 0., 1.],\n",
       "        [0., 0., 1.],\n",
       "        [0., 0., 1.],\n",
       "        [0., 0., 1.],\n",
       "        [0., 0., 1.],\n",
       "        [0., 0., 1.],\n",
       "        [0., 0., 1.],\n",
       "        [0., 0., 1.],\n",
       "        [0., 0., 1.],\n",
       "        [0., 0., 1.],\n",
       "        [0., 0., 1.],\n",
       "        [0., 0., 1.],\n",
       "        [0., 0., 1.],\n",
       "        [0., 0., 1.],\n",
       "        [0., 0., 1.],\n",
       "        [0., 0., 1.],\n",
       "        [0., 0., 1.],\n",
       "        [0., 0., 1.],\n",
       "        [0., 0., 1.],\n",
       "        [0., 0., 1.],\n",
       "        [0., 0., 1.],\n",
       "        [0., 0., 1.],\n",
       "        [0., 0., 1.],\n",
       "        [0., 0., 1.],\n",
       "        [0., 0., 1.],\n",
       "        [0., 0., 1.],\n",
       "        [0., 0., 1.],\n",
       "        [0., 0., 1.],\n",
       "        [0., 0., 1.],\n",
       "        [0., 0., 1.],\n",
       "        [0., 0., 1.],\n",
       "        [0., 0., 1.],\n",
       "        [0., 1., 0.],\n",
       "        [0., 1., 0.],\n",
       "        [0., 0., 1.],\n",
       "        [0., 0., 1.],\n",
       "        [0., 0., 1.],\n",
       "        [0., 0., 1.],\n",
       "        [0., 0., 1.],\n",
       "        [0., 0., 1.],\n",
       "        [0., 0., 1.],\n",
       "        [0., 0., 1.],\n",
       "        [0., 0., 1.],\n",
       "        [0., 0., 1.],\n",
       "        [0., 0., 1.],\n",
       "        [1., 0., 0.],\n",
       "        [0., 0., 1.],\n",
       "        [0., 0., 1.],\n",
       "        [0., 0., 1.],\n",
       "        [0., 0., 1.],\n",
       "        [0., 0., 1.],\n",
       "        [0., 0., 1.],\n",
       "        [0., 0., 1.],\n",
       "        [0., 0., 1.],\n",
       "        [0., 0., 1.],\n",
       "        [0., 0., 1.],\n",
       "        [0., 0., 1.],\n",
       "        [0., 0., 1.],\n",
       "        [1., 0., 0.],\n",
       "        [0., 0., 1.],\n",
       "        [0., 0., 1.],\n",
       "        [0., 0., 1.],\n",
       "        [0., 0., 1.],\n",
       "        [1., 0., 0.],\n",
       "        [0., 0., 1.],\n",
       "        [0., 0., 1.],\n",
       "        [0., 0., 1.],\n",
       "        [0., 0., 1.],\n",
       "        [0., 0., 1.],\n",
       "        [0., 0., 1.],\n",
       "        [0., 0., 1.],\n",
       "        [0., 0., 1.],\n",
       "        [0., 0., 1.],\n",
       "        [0., 0., 1.],\n",
       "        [0., 0., 1.],\n",
       "        [0., 0., 1.],\n",
       "        [0., 0., 1.],\n",
       "        [0., 0., 1.],\n",
       "        [0., 1., 0.],\n",
       "        [0., 0., 1.],\n",
       "        [0., 0., 1.],\n",
       "        [0., 0., 1.],\n",
       "        [0., 0., 1.],\n",
       "        [0., 0., 1.],\n",
       "        [0., 0., 1.],\n",
       "        [0., 0., 1.],\n",
       "        [0., 0., 1.],\n",
       "        [0., 0., 1.],\n",
       "        [0., 0., 1.],\n",
       "        [0., 0., 1.],\n",
       "        [0., 0., 1.],\n",
       "        [0., 0., 1.],\n",
       "        [0., 0., 1.],\n",
       "        [0., 0., 1.],\n",
       "        [0., 0., 1.]])"
      ]
     },
     "execution_count": 38,
     "metadata": {},
     "output_type": "execute_result"
    }
   ],
   "source": [
    "noised_samples[20][0]"
   ]
  },
  {
   "cell_type": "code",
   "execution_count": 37,
   "id": "30ec1d8b-29eb-4d46-9b84-f89048f31575",
   "metadata": {},
   "outputs": [
    {
     "data": {
      "text/plain": [
       "tensor([[0.0759, 0.1358, 0.7883],\n",
       "        [0.0824, 0.1348, 0.7828],\n",
       "        [0.0750, 0.0975, 0.8275],\n",
       "        [0.0765, 0.1111, 0.8124],\n",
       "        [0.0663, 0.1048, 0.8290],\n",
       "        [0.0616, 0.1049, 0.8335],\n",
       "        [0.0601, 0.1525, 0.7874],\n",
       "        [0.0730, 0.0903, 0.8367],\n",
       "        [0.0723, 0.0850, 0.8427],\n",
       "        [0.0797, 0.0934, 0.8268],\n",
       "        [0.0668, 0.1035, 0.8298],\n",
       "        [0.0774, 0.1301, 0.7925],\n",
       "        [0.0748, 0.1057, 0.8195],\n",
       "        [0.0677, 0.1093, 0.8230],\n",
       "        [0.0919, 0.1118, 0.7963],\n",
       "        [0.0778, 0.1123, 0.8099],\n",
       "        [0.0902, 0.1442, 0.7656],\n",
       "        [0.0881, 0.1147, 0.7972],\n",
       "        [0.0806, 0.0900, 0.8294],\n",
       "        [0.0793, 0.0919, 0.8288],\n",
       "        [0.1042, 0.1194, 0.7764],\n",
       "        [0.0615, 0.1023, 0.8362],\n",
       "        [0.0635, 0.0857, 0.8508],\n",
       "        [0.1065, 0.1346, 0.7589],\n",
       "        [0.0830, 0.1108, 0.8062],\n",
       "        [0.0927, 0.1189, 0.7884],\n",
       "        [0.0675, 0.1347, 0.7979],\n",
       "        [0.1007, 0.1121, 0.7872],\n",
       "        [0.0790, 0.1328, 0.7883],\n",
       "        [0.0658, 0.1093, 0.8249],\n",
       "        [0.0825, 0.1014, 0.8161],\n",
       "        [0.0764, 0.1150, 0.8086],\n",
       "        [0.0801, 0.0890, 0.8308],\n",
       "        [0.0832, 0.1257, 0.7911],\n",
       "        [0.0626, 0.1166, 0.8208],\n",
       "        [0.0748, 0.1387, 0.7865],\n",
       "        [0.0698, 0.0952, 0.8350],\n",
       "        [0.0367, 0.5598, 0.4035],\n",
       "        [0.0357, 0.5286, 0.4357],\n",
       "        [0.0761, 0.1252, 0.7987],\n",
       "        [0.0938, 0.1370, 0.7692],\n",
       "        [0.0823, 0.1210, 0.7967],\n",
       "        [0.0785, 0.0993, 0.8222],\n",
       "        [0.0707, 0.1154, 0.8139],\n",
       "        [0.0717, 0.1048, 0.8236],\n",
       "        [0.0673, 0.0975, 0.8352],\n",
       "        [0.0796, 0.1335, 0.7869],\n",
       "        [0.1075, 0.0851, 0.8074],\n",
       "        [0.0669, 0.1318, 0.8013],\n",
       "        [0.0717, 0.1540, 0.7743],\n",
       "        [0.4825, 0.0486, 0.4689],\n",
       "        [0.0692, 0.1270, 0.8039],\n",
       "        [0.0697, 0.1110, 0.8193],\n",
       "        [0.1147, 0.1229, 0.7623],\n",
       "        [0.0753, 0.1004, 0.8243],\n",
       "        [0.0999, 0.1293, 0.7707],\n",
       "        [0.0773, 0.1156, 0.8071],\n",
       "        [0.0762, 0.1347, 0.7891],\n",
       "        [0.0732, 0.1079, 0.8190],\n",
       "        [0.0930, 0.1150, 0.7920],\n",
       "        [0.0635, 0.1119, 0.8245],\n",
       "        [0.0745, 0.0890, 0.8365],\n",
       "        [0.0605, 0.1234, 0.8162],\n",
       "        [0.5955, 0.0431, 0.3614],\n",
       "        [0.0788, 0.1425, 0.7787],\n",
       "        [0.0650, 0.1133, 0.8217],\n",
       "        [0.1229, 0.1209, 0.7562],\n",
       "        [0.0760, 0.0973, 0.8267],\n",
       "        [0.6273, 0.0436, 0.3291],\n",
       "        [0.0915, 0.1156, 0.7929],\n",
       "        [0.1150, 0.1200, 0.7649],\n",
       "        [0.0986, 0.0958, 0.8057],\n",
       "        [0.0784, 0.1098, 0.8118],\n",
       "        [0.0665, 0.0708, 0.8626],\n",
       "        [0.0847, 0.1288, 0.7865],\n",
       "        [0.0764, 0.2097, 0.7138],\n",
       "        [0.0799, 0.1262, 0.7939],\n",
       "        [0.0738, 0.1129, 0.8133],\n",
       "        [0.0998, 0.0963, 0.8039],\n",
       "        [0.0818, 0.0901, 0.8281],\n",
       "        [0.0618, 0.0985, 0.8397],\n",
       "        [0.0750, 0.1502, 0.7748],\n",
       "        [0.0714, 0.1415, 0.7871],\n",
       "        [0.0413, 0.4673, 0.4914],\n",
       "        [0.0621, 0.1023, 0.8357],\n",
       "        [0.0862, 0.1371, 0.7767],\n",
       "        [0.0646, 0.0979, 0.8375],\n",
       "        [0.0742, 0.1454, 0.7804],\n",
       "        [0.0625, 0.1174, 0.8201],\n",
       "        [0.0926, 0.1379, 0.7696],\n",
       "        [0.0778, 0.1244, 0.7978],\n",
       "        [0.0514, 0.1448, 0.8039],\n",
       "        [0.0597, 0.1098, 0.8305],\n",
       "        [0.1089, 0.1110, 0.7800],\n",
       "        [0.0887, 0.0722, 0.8391],\n",
       "        [0.0786, 0.1589, 0.7625],\n",
       "        [0.0754, 0.1166, 0.8081],\n",
       "        [0.0922, 0.1349, 0.7729],\n",
       "        [0.0479, 0.1170, 0.8351],\n",
       "        [0.0913, 0.1037, 0.8050]], grad_fn=<SelectBackward0>)"
      ]
     },
     "execution_count": 37,
     "metadata": {},
     "output_type": "execute_result"
    }
   ],
   "source": [
    "cat_diff.y_pred[20][0]"
   ]
  },
  {
   "cell_type": "code",
   "execution_count": null,
   "id": "43822bec-a9a3-4032-b40e-82dc737cba41",
   "metadata": {},
   "outputs": [],
   "source": []
  }
 ],
 "metadata": {
  "kernelspec": {
   "display_name": "Python 3 (ipykernel)",
   "language": "python",
   "name": "python3"
  },
  "language_info": {
   "codemirror_mode": {
    "name": "ipython",
    "version": 3
   },
   "file_extension": ".py",
   "mimetype": "text/x-python",
   "name": "python",
   "nbconvert_exporter": "python",
   "pygments_lexer": "ipython3",
   "version": "3.11.4"
  }
 },
 "nbformat": 4,
 "nbformat_minor": 5
}
