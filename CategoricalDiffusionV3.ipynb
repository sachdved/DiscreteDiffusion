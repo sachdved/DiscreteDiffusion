{
 "cells": [
  {
   "cell_type": "code",
   "execution_count": 1,
   "id": "8ed805f5-dec6-446f-91f9-43a8c8c3efe8",
   "metadata": {},
   "outputs": [],
   "source": [
    "import torch\n",
    "import numpy as np\n",
    "import sklearn\n",
    "\n",
    "from utils import *\n",
    "from architectures import *\n",
    "import preprocess\n",
    "\n",
    "import matplotlib.pyplot as plt\n",
    "\n",
    "from CategoricalDiffusion import *\n",
    "from denoiser import *"
   ]
  },
  {
   "cell_type": "code",
   "execution_count": 2,
   "id": "974b819c-d5c9-48d5-ac0d-4882adfc7950",
   "metadata": {},
   "outputs": [
    {
     "name": "stderr",
     "output_type": "stream",
     "text": [
      "100%|█████████████████████████████████████████████████████████████████████████████████████████████████████████████████████████████████████████████████████████████████████████| 100/100 [01:18<00:00,  1.27it/s]\n"
     ]
    }
   ],
   "source": [
    "N_samples = 100000\n",
    "\n",
    "M = 2\n",
    "N_dim = 100\n",
    "\n",
    "bias = torch.zeros((N_dim,1))\n",
    "patterns = 2*torch.bernoulli(torch.ones((N_dim, M)) * 0.5) - 1\n",
    "\n",
    "spins = generate_data(patterns, bias, N_samples, beta=4)"
   ]
  },
  {
   "cell_type": "code",
   "execution_count": 3,
   "id": "1b5db25d-af5c-4c7c-a650-6d3916ee3fe0",
   "metadata": {},
   "outputs": [],
   "source": [
    "index_spins = ((1+spins)/2).type(torch.int64)"
   ]
  },
  {
   "cell_type": "code",
   "execution_count": 4,
   "id": "58beb6f9-65b6-485c-95f7-d86b261152ac",
   "metadata": {
    "scrolled": true
   },
   "outputs": [],
   "source": [
    "one_hot_spin_vectors = torch.nn.functional.one_hot(index_spins)"
   ]
  },
  {
   "cell_type": "code",
   "execution_count": 5,
   "id": "2131734c-def4-4106-abdd-15a6349c4eb5",
   "metadata": {},
   "outputs": [],
   "source": [
    "class SpinsDataset(torch.utils.data.Dataset):\n",
    "    \"\"\"\n",
    "    takes in one hot encoded spins X with one key - sequence, and Y with one, potentially two, keys - sequence and phenotype\n",
    "    inputs:\n",
    "        one_hot_spins: torch.Tensor representing spins (num_samples, dim, num_states)\n",
    "    \n",
    "    \"\"\"\n",
    "    \n",
    "    def __init__(self,\n",
    "                 spins,\n",
    "                 include_mask = False,\n",
    "                **kwargs):\n",
    "        super().__init__(**kwargs)\n",
    "        self.include_mask = include_mask\n",
    "        self.spins = spins\n",
    "        if self.include_mask:\n",
    "\n",
    "            self.spins = torch.cat((self.spins, torch.zeros((self.spins.shape[0], self.spins.shape[1], 1))), axis=-1)\n",
    "\n",
    "    def __len__(self):\n",
    "        return self.spins.shape[0]\n",
    "\n",
    "    def __getitem__(self, index):\n",
    "        X = dict()\n",
    "        Y = dict()\n",
    "\n",
    "        Y['spins'] = self.spins[index]\n",
    "        X['spins'] = self.spins[index]\n",
    "        return X, Y"
   ]
  },
  {
   "cell_type": "code",
   "execution_count": 6,
   "id": "e1f4e738-bb3a-4897-9eb2-e4c6d8293f7b",
   "metadata": {},
   "outputs": [],
   "source": [
    "spins_dataset = SpinsDataset(one_hot_spin_vectors, include_mask=True)\n",
    "spins_loader = torch.utils.data.DataLoader(spins_dataset, batch_size=32, shuffle=True)"
   ]
  },
  {
   "cell_type": "code",
   "execution_count": 7,
   "id": "759cf08d-e62c-4fb9-b2f4-8e7e43f8a796",
   "metadata": {},
   "outputs": [],
   "source": [
    "for batch in spins_loader:\n",
    "    X, Y = batch\n",
    "    X_spins = X['spins']\n",
    "    Y_spins = Y['spins']\n",
    "    "
   ]
  },
  {
   "cell_type": "code",
   "execution_count": 8,
   "id": "62a462bf-44dc-4cc6-a990-36416e517842",
   "metadata": {},
   "outputs": [],
   "source": [
    "noise_matrix = Noiser(noiser = 'BERT-LIKE', beta_t = 0.01, k=2).noise_matrix\n",
    "ts, noised_samples = noiser(X_spins, noise_matrix, 100, X_spins.shape[-1])"
   ]
  },
  {
   "cell_type": "code",
   "execution_count": 9,
   "id": "0c7b5aa4-3eec-459f-b46e-85a123721f41",
   "metadata": {},
   "outputs": [],
   "source": [
    "class CategoricalDiffusion(torch.nn.Module):\n",
    "    \"\"\"\n",
    "    Base class for Categorical diffusion.\n",
    "    input:\n",
    "        noise_matrix: tensor, K x K states\n",
    "        denoiser: torch.nn.Module, outputs denoised samples\n",
    "    \"\"\"\n",
    "    def __init__(\n",
    "        self,\n",
    "        denoiser,\n",
    "        noise_matrix,\n",
    "        **kwargs\n",
    "    ):\n",
    "        super().__init__(**kwargs)\n",
    "        self.denoiser = denoiser\n",
    "        self.noise_matrix = noise_matrix\n",
    "        vals, vecs = torch.linalg.eig(self.noise_matrix.t())\n",
    "        vals = torch.real(vals)\n",
    "        vecs = torch.real(vecs)\n",
    "        self.PxT = vecs[:, torch.argmax(vals)].unsqueeze(0).unsqueeze(1)\n",
    "\n",
    "\n",
    "    def decode(self, noised_samples, ts):\n",
    "        \"\"\"\n",
    "        Forward pass of denoiser\n",
    "        input:\n",
    "            noised_samples: tensor (num_time_steps, batch_size, seq_length, num_classes)\n",
    "            ts: tensor (num_time_steps, batch_size)\n",
    "        \"\"\"\n",
    "        self.y_pred = self.denoiser(noised_samples, ts)\n",
    "\n",
    "    def calc_forward_conditionals(self, noised_samples):\n",
    "        \"\"\"\n",
    "        computes forward conditionals of the noised samples\n",
    "        input:\n",
    "            noised_samples: tensor (num_time_steps, batch_size, seq_length, num_classes)\n",
    "        \"\"\"\n",
    "        forward_conditionals = torch.zeros(noised_samples.shape)\n",
    "\n",
    "        for t in range(forward_conditionals.shape[0]):\n",
    "            forward_conditionals[t] = torch.matmul(noised_samples[0], self.noise_matrix.matrix_power(t))\n",
    "            \n",
    "        self.forward_conditionals = forward_conditionals\n",
    "\n",
    "    def one_step_reverse_conditional(self, real, noised_sample):\n",
    "        \"\"\"\n",
    "        computes the one step reverse conditional\n",
    "        input:\n",
    "            real: tensor, (batch_size, seq_length, num_states)\n",
    "            noised_samples: tensor, (num_time_steps, batch_size, seq_length, num_states)\n",
    "        output:\n",
    "            reverse_conditionals: tensor, (num_time_steps-2, batch_size, seq_length, num_states)\n",
    "        \"\"\"\n",
    "        reverse_conditionals = torch.zeros(\n",
    "            noised_samples.shape[0]-2, noised_samples.shape[1], noised_samples.shape[2], noised_samples.shape[3]\n",
    "        )\n",
    "        x0=real\n",
    "        for t in range(2, noised_samples.shape[0]):\n",
    "            \n",
    "            xt = noised_samples[t]\n",
    "            numer = torch.matmul(xt, noise_matrix.t()) * torch.matmul(x0, self.noise_matrix.matrix_power(t-1))\n",
    "            denom = torch.matmul(torch.matmul(x0, self.noise_matrix.matrix_power(t)), xt.permute(0,2,1))\n",
    "            denom = torch.diagonal(denom, dim1=-2, dim2=-1).unsqueeze(-1)\n",
    "            reverse_conditionals[t-2] = numer/denom\n",
    "            \n",
    "        return reverse_conditionals\n",
    "\n",
    "    def q_xtminus1_xt_giv_x0(self, noised_samples, reverse_conditionals):\n",
    "        \n",
    "        q_xtminus1_xt_giv_x0 = torch.zeros(\n",
    "            (noised_samples.shape[0]-2, noised_samples.shape[1], noised_samples.shape[2], noised_samples.shape[3])\n",
    "        )\n",
    "\n",
    "        for t in range(q_xtminus1_xt_giv_x0.shape[0]):\n",
    "            q_xtminus1_xt_giv_x0[t] = reverse_conditionals[t] * torch.matmul(noised_samples[0], self.noise_matrix.matrix_power(t+2))\n",
    "\n",
    "        return q_xtminus1_xt_giv_x0\n",
    "\n",
    "    def L_T(self, noised_sample): \n",
    "        \"\"\"\n",
    "        computes D_KL of noised samples from the steady state distribution. Not relevant for gradient updates\n",
    "        input:\n",
    "            noised_samples: tensor (num_time_steps, batch_size, seq_length, num_classes)\n",
    "        output:\n",
    "            dkl_steady_state: tensor, (1, grad=None)\n",
    "        \"\"\"\n",
    "        dkl_steady_state = torch.mean(\n",
    "            torch.sum(\n",
    "                (noised_sample+1e-6) * torch.log((noised_sample+1e-6)/(self.PxT+1e-6)),\n",
    "                axis=-1\n",
    "            )\n",
    "        )\n",
    "    \n",
    "        return dkl_steady_state        \n",
    "    \n",
    "    def L_t0t1(self, real):\n",
    "        \"\"\"\n",
    "        computes cross entropy of the one step decoder. requires self.decode and self.calc_forward_conditionals\n",
    "        input:\n",
    "            real: tensor, (batch_size, seq_length, states)\n",
    "        output:\n",
    "            one_step_cross_ent_loss: tensor, (1, grad=True)\n",
    "        \"\"\"\n",
    "        y_pred = self.y_pred[1]\n",
    "        return -torch.mean(torch.sum(self.forward_conditionals[1] * torch.log(y_pred),axis=-1))\n",
    "\n",
    "        \n",
    "\n",
    "    def L_tminus1(self, real, noised_sample):\n",
    "        \"\"\"\n",
    "        computes D_KL of each one step backwards decoding\n",
    "        input:\n",
    "            real: tensor, (batch_size, seq_length, states)\n",
    "            noised_sample: tensor, (num_time_steps, batch_size, seq_length, states)\n",
    "        output:\n",
    "            d_kl_per_time_step: tensor, (1, grad=True)\n",
    "        \"\"\"\n",
    "        \n",
    "        reverse_conditionals = self.one_step_reverse_conditional(real, noised_sample)\n",
    "\n",
    "        \n",
    "        q_xtminus1_xt_giv_x0 = self.q_xtminus1_xt_giv_x0(noised_sample, reverse_conditionals)\n",
    "\n",
    "        denoised = self.y_pred[2:]\n",
    "\n",
    "        px_tminus1_giv_xt = q_xtminus1_xt_giv_x0 * denoised\n",
    "        \n",
    "        return torch.mean(\n",
    "            torch.sum(\n",
    "                self.forward_conditionals[2:] * (\n",
    "                    reverse_conditionals * torch.log(\n",
    "                        (reverse_conditionals + 1e-6)/(px_tminus1_giv_xt+1e-6)\n",
    "                    )\n",
    "                ),\n",
    "                axis=-1\n",
    "            )\n",
    "        )"
   ]
  },
  {
   "cell_type": "code",
   "execution_count": 10,
   "id": "0e97e1bb-f990-4fc6-87a3-6f0ef0053213",
   "metadata": {},
   "outputs": [],
   "source": [
    "denoiser = Denoiser(8,1,128,X_spins.shape[2])"
   ]
  },
  {
   "cell_type": "code",
   "execution_count": 11,
   "id": "327ca8b0-9956-4d6d-b91b-ffeb65600d29",
   "metadata": {},
   "outputs": [],
   "source": [
    "cat_diff = CategoricalDiffusion(denoiser, noise_matrix)"
   ]
  },
  {
   "cell_type": "code",
   "execution_count": 12,
   "id": "6542b39b-a61e-4578-a1e7-048b9bfa9dc6",
   "metadata": {},
   "outputs": [],
   "source": [
    "cat_diff.decode(noised_samples, ts)"
   ]
  },
  {
   "cell_type": "code",
   "execution_count": 13,
   "id": "43766c2b-8def-452b-833c-08024fc8374e",
   "metadata": {},
   "outputs": [],
   "source": [
    "cat_diff.calc_forward_conditionals(noised_samples)"
   ]
  },
  {
   "cell_type": "code",
   "execution_count": 14,
   "id": "09f69844-c9a4-4b35-976a-e45cef751d27",
   "metadata": {},
   "outputs": [
    {
     "data": {
      "text/plain": [
       "tensor(1.7133)"
      ]
     },
     "execution_count": 14,
     "metadata": {},
     "output_type": "execute_result"
    }
   ],
   "source": [
    "cat_diff.L_T(noised_samples)"
   ]
  },
  {
   "cell_type": "code",
   "execution_count": 15,
   "id": "46a39d0d-3a4a-472a-aa68-9ac38971bf50",
   "metadata": {},
   "outputs": [
    {
     "data": {
      "text/plain": [
       "tensor(1.2170, grad_fn=<NegBackward0>)"
      ]
     },
     "execution_count": 15,
     "metadata": {},
     "output_type": "execute_result"
    }
   ],
   "source": [
    "cat_diff.L_t0t1(Y_spins)"
   ]
  },
  {
   "cell_type": "code",
   "execution_count": 16,
   "id": "f3de385d-82b0-4076-b138-8ef0b218155a",
   "metadata": {},
   "outputs": [
    {
     "data": {
      "text/plain": [
       "tensor(0.8247, grad_fn=<MeanBackward0>)"
      ]
     },
     "execution_count": 16,
     "metadata": {},
     "output_type": "execute_result"
    }
   ],
   "source": [
    "cat_diff.L_tminus1(Y_spins, noised_samples)"
   ]
  },
  {
   "cell_type": "code",
   "execution_count": null,
   "id": "1a1582be-c784-470e-ad85-c6a5f3cc33f5",
   "metadata": {},
   "outputs": [
    {
     "name": "stderr",
     "output_type": "stream",
     "text": [
      "  0%|                                                                                                                                                                                                                                                  | 0/3125 [00:00<?, ?it/s]"
     ]
    },
    {
     "name": "stdout",
     "output_type": "stream",
     "text": [
      "1.21830415725708\n",
      "0.7575411796569824\n",
      "1.9758453369140625\n"
     ]
    },
    {
     "name": "stderr",
     "output_type": "stream",
     "text": [
      "  0%|                                                                                                                                                                                                                                       | 1/3125 [00:43<37:25:04, 43.12s/it]"
     ]
    },
    {
     "name": "stdout",
     "output_type": "stream",
     "text": [
      "1.0813572406768799\n",
      "0.7494692802429199\n",
      "1.8308265209197998\n"
     ]
    },
    {
     "name": "stderr",
     "output_type": "stream",
     "text": [
      "  0%|▏                                                                                                                                                                                                                                      | 2/3125 [01:19<34:09:35, 39.38s/it]"
     ]
    },
    {
     "name": "stdout",
     "output_type": "stream",
     "text": [
      "0.9573370218276978\n",
      "0.7444831132888794\n",
      "1.7018201351165771\n"
     ]
    },
    {
     "name": "stderr",
     "output_type": "stream",
     "text": [
      "  0%|▏                                                                                                                                                                                                                                      | 3/3125 [01:55<32:32:48, 37.53s/it]"
     ]
    },
    {
     "name": "stdout",
     "output_type": "stream",
     "text": [
      "0.8924304246902466\n",
      "0.742101788520813\n",
      "1.6345322132110596\n"
     ]
    },
    {
     "name": "stderr",
     "output_type": "stream",
     "text": [
      "  0%|▎                                                                                                                                                                                                                                      | 4/3125 [02:29<31:22:26, 36.19s/it]"
     ]
    },
    {
     "name": "stdout",
     "output_type": "stream",
     "text": [
      "0.8543373346328735\n",
      "0.739834189414978\n",
      "1.5941715240478516\n"
     ]
    },
    {
     "name": "stderr",
     "output_type": "stream",
     "text": [
      "  0%|▎                                                                                                                                                                                                                                      | 5/3125 [03:04<31:00:06, 35.77s/it]"
     ]
    },
    {
     "name": "stdout",
     "output_type": "stream",
     "text": [
      "0.8293694853782654\n",
      "0.7438334226608276\n",
      "1.5732028484344482\n"
     ]
    },
    {
     "name": "stderr",
     "output_type": "stream",
     "text": [
      "  0%|▍                                                                                                                                                                                                                                      | 6/3125 [03:39<30:51:31, 35.62s/it]"
     ]
    },
    {
     "name": "stdout",
     "output_type": "stream",
     "text": [
      "0.8111544251441956\n",
      "0.7444204688072205\n",
      "1.555574893951416\n"
     ]
    },
    {
     "name": "stderr",
     "output_type": "stream",
     "text": [
      "  0%|▌                                                                                                                                                                                                                                      | 7/3125 [04:15<30:57:04, 35.74s/it]"
     ]
    },
    {
     "name": "stdout",
     "output_type": "stream",
     "text": [
      "0.7992609143257141\n",
      "0.7437841296195984\n",
      "1.5430450439453125\n"
     ]
    },
    {
     "name": "stderr",
     "output_type": "stream",
     "text": [
      "  0%|▌                                                                                                                                                                                                                                      | 8/3125 [04:50<30:34:29, 35.31s/it]"
     ]
    },
    {
     "name": "stdout",
     "output_type": "stream",
     "text": [
      "0.7883644104003906\n",
      "0.7389649152755737\n",
      "1.5273293256759644\n"
     ]
    },
    {
     "name": "stderr",
     "output_type": "stream",
     "text": [
      "  0%|▋                                                                                                                                                                                                                                      | 9/3125 [05:27<31:01:16, 35.84s/it]"
     ]
    },
    {
     "name": "stdout",
     "output_type": "stream",
     "text": [
      "0.7792285084724426\n",
      "0.7418856620788574\n",
      "1.5211141109466553\n"
     ]
    },
    {
     "name": "stderr",
     "output_type": "stream",
     "text": [
      "  0%|▋                                                                                                                                                                                                                                     | 10/3125 [06:01<30:42:54, 35.50s/it]"
     ]
    },
    {
     "name": "stdout",
     "output_type": "stream",
     "text": [
      "0.7719051241874695\n",
      "0.7500696778297424\n",
      "1.521974802017212\n"
     ]
    },
    {
     "name": "stderr",
     "output_type": "stream",
     "text": [
      "  0%|▊                                                                                                                                                                                                                                     | 11/3125 [06:35<30:14:41, 34.97s/it]"
     ]
    },
    {
     "name": "stdout",
     "output_type": "stream",
     "text": [
      "0.7654650211334229\n",
      "0.7501637935638428\n",
      "1.5156288146972656\n"
     ]
    },
    {
     "name": "stderr",
     "output_type": "stream",
     "text": [
      "  0%|▉                                                                                                                                                                                                                                     | 12/3125 [07:09<30:00:43, 34.71s/it]"
     ]
    },
    {
     "name": "stdout",
     "output_type": "stream",
     "text": [
      "0.7604207396507263\n",
      "0.7371329069137573\n",
      "1.4975535869598389\n"
     ]
    },
    {
     "name": "stderr",
     "output_type": "stream",
     "text": [
      "  0%|▉                                                                                                                                                                                                                                     | 13/3125 [07:45<30:21:17, 35.12s/it]"
     ]
    },
    {
     "name": "stdout",
     "output_type": "stream",
     "text": [
      "0.7549020648002625\n",
      "0.7424541711807251\n",
      "1.4973561763763428\n"
     ]
    },
    {
     "name": "stderr",
     "output_type": "stream",
     "text": [
      "  0%|█                                                                                                                                                                                                                                     | 14/3125 [08:24<31:16:39, 36.19s/it]"
     ]
    },
    {
     "name": "stdout",
     "output_type": "stream",
     "text": [
      "0.7514030933380127\n",
      "0.7450118660926819\n",
      "1.4964148998260498\n"
     ]
    },
    {
     "name": "stderr",
     "output_type": "stream",
     "text": [
      "  0%|█                                                                                                                                                                                                                                     | 15/3125 [09:00<31:15:33, 36.18s/it]"
     ]
    },
    {
     "name": "stdout",
     "output_type": "stream",
     "text": [
      "0.7493706345558167\n",
      "0.7482198476791382\n",
      "1.4975905418395996\n"
     ]
    },
    {
     "name": "stderr",
     "output_type": "stream",
     "text": [
      "  1%|█▏                                                                                                                                                                                                                                    | 16/3125 [09:35<31:01:04, 35.92s/it]"
     ]
    },
    {
     "name": "stdout",
     "output_type": "stream",
     "text": [
      "0.7472766041755676\n",
      "0.7448191046714783\n",
      "1.492095708847046\n"
     ]
    },
    {
     "name": "stderr",
     "output_type": "stream",
     "text": [
      "  1%|█▎                                                                                                                                                                                                                                    | 17/3125 [10:11<30:58:26, 35.88s/it]"
     ]
    },
    {
     "name": "stdout",
     "output_type": "stream",
     "text": [
      "0.746214747428894\n",
      "0.7539440393447876\n",
      "1.5001587867736816\n"
     ]
    },
    {
     "name": "stderr",
     "output_type": "stream",
     "text": [
      "  1%|█▎                                                                                                                                                                                                                                    | 18/3125 [10:48<31:08:30, 36.08s/it]"
     ]
    },
    {
     "name": "stdout",
     "output_type": "stream",
     "text": [
      "0.7434281706809998\n",
      "0.7501891255378723\n",
      "1.493617296218872\n"
     ]
    },
    {
     "name": "stderr",
     "output_type": "stream",
     "text": [
      "  1%|█▍                                                                                                                                                                                                                                    | 19/3125 [11:23<30:52:52, 35.79s/it]"
     ]
    },
    {
     "name": "stdout",
     "output_type": "stream",
     "text": [
      "0.7432730197906494\n",
      "0.7322185039520264\n",
      "1.4754915237426758\n"
     ]
    },
    {
     "name": "stderr",
     "output_type": "stream",
     "text": [
      "  1%|█▍                                                                                                                                                                                                                                    | 20/3125 [11:58<30:42:51, 35.61s/it]"
     ]
    },
    {
     "name": "stdout",
     "output_type": "stream",
     "text": [
      "0.742911159992218\n",
      "0.7474761009216309\n",
      "1.490387201309204\n"
     ]
    },
    {
     "name": "stderr",
     "output_type": "stream",
     "text": [
      "  1%|█▌                                                                                                                                                                                                                                    | 21/3125 [12:32<30:14:18, 35.07s/it]"
     ]
    },
    {
     "name": "stdout",
     "output_type": "stream",
     "text": [
      "0.7425565123558044\n",
      "0.7397345900535583\n",
      "1.4822911024093628\n"
     ]
    },
    {
     "name": "stderr",
     "output_type": "stream",
     "text": [
      "  1%|█▌                                                                                                                                                                                                                                    | 22/3125 [13:07<30:10:04, 35.00s/it]"
     ]
    }
   ],
   "source": [
    "from tqdm import tqdm\n",
    "epochs = 100\n",
    "\n",
    "cat_diff.train()\n",
    "optim = torch.optim.Adam(cat_diff.parameters(), lr = 1e-3)\n",
    "\n",
    "for epoch in range(epochs):\n",
    "    overall_loss = 0\n",
    "    spins_loader = torch.utils.data.DataLoader(spins_dataset, batch_size=32, shuffle=True)\n",
    "    for batch in tqdm(spins_loader):\n",
    "        X, Y = batch\n",
    "        \n",
    "        X_spins = X['spins']\n",
    "        Y_spins = Y['spins']\n",
    "        \n",
    "        ts, noised_samples = noiser(X_spins, noise_matrix, 100, X_spins.shape[-1])\n",
    "\n",
    "        cat_diff.decode(noised_samples, ts)\n",
    "        \n",
    "        LT_loss     = cat_diff.L_T(noised_samples)\n",
    "        \n",
    "        Lt0_t1_loss = cat_diff.L_t0t1(Y_spins)\n",
    "        print(Lt0_t1_loss.item())\n",
    "\n",
    "        Ltminus1    = cat_diff.L_tminus1(Y_spins, noised_samples)\n",
    "        print(Ltminus1.item())\n",
    "\n",
    "        loss = Lt0_t1_loss + Ltminus1\n",
    "        print(loss.item())\n",
    "        \n",
    "        optim.zero_grad()\n",
    "        loss.backward()\n",
    "        optim.step()\n",
    "        \n",
    "        overall_loss += loss.item()\n",
    "    print('overall loss at epoch {} is '.format(epoch) + str(overall_loss/X_train.shape[0]))"
   ]
  }
 ],
 "metadata": {
  "kernelspec": {
   "display_name": "Python 3 (ipykernel)",
   "language": "python",
   "name": "python3"
  },
  "language_info": {
   "codemirror_mode": {
    "name": "ipython",
    "version": 3
   },
   "file_extension": ".py",
   "mimetype": "text/x-python",
   "name": "python",
   "nbconvert_exporter": "python",
   "pygments_lexer": "ipython3",
   "version": "3.11.4"
  }
 },
 "nbformat": 4,
 "nbformat_minor": 5
}
