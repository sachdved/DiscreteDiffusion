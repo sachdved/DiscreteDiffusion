{
 "cells": [
  {
   "cell_type": "code",
   "execution_count": 1,
   "id": "b8605fcd-2201-40d2-850c-f7891db59663",
   "metadata": {},
   "outputs": [],
   "source": [
    "import torch\n",
    "import numpy as np\n",
    "import sklearn\n",
    "\n",
    "from utils import *\n",
    "from architectures import *\n",
    "import preprocess\n",
    "\n",
    "import matplotlib.pyplot as plt\n",
    "\n",
    "from CategoricalDiffusion import *\n",
    "from denoiser import *"
   ]
  },
  {
   "cell_type": "code",
   "execution_count": 12,
   "id": "81d2efe8-6774-423d-8c03-725bb38e5f5d",
   "metadata": {},
   "outputs": [],
   "source": [
    "class MLPDenoiser(torch.nn.Module):\n",
    "    def __init__(\n",
    "        self,\n",
    "        d_time,\n",
    "        d_seq,\n",
    "        d_aas,\n",
    "        d_model = 128,\n",
    "        p = 0.1,\n",
    "        activation = torch.nn.ReLU(),\n",
    "        **kwargs\n",
    "    ):\n",
    "        super().__init__(**kwargs)\n",
    "        self.activation = activation\n",
    "        self.p = p\n",
    "\n",
    "\n",
    "        self.forward_time_seq = FeedForward(d_seq*d_aas + d_time, d_model)\n",
    "\n",
    "        self.forward_time_seq_1 = FeedForward(d_model, d_model)\n",
    "        self.dropout_1 = torch.nn.Dropout(self.p)\n",
    "        \n",
    "        self.forward_time_seq_2 = FeedForward(d_model, d_model)\n",
    "        self.dropout_2 = torch.nn.Dropout(self.p)\n",
    "        \n",
    "        self.forward_time_seq_3 = FeedForward(d_model, d_model)\n",
    "        self.dropout_3 = torch.nn.Dropout(self.p)\n",
    "\n",
    "        self.feedforward_final = FeedForward(d_model, d_seq*d_aas)\n",
    "        \n",
    "    def forward(self, X, t):\n",
    "\n",
    "        time_points, batch_size, seq_length, aas = X.shape[0], X.shape[1], X.shape[2], X.shape[3]\n",
    "        \n",
    "        t = t.reshape(t.shape[0] * t.shape[1], 1)\n",
    "        X = X.view(time_points*batch_size, seq_length, aas)\n",
    "        \n",
    "        X_flattened = torch.nn.Flatten(start_dim=1)(X)\n",
    "        \n",
    "        seq_time_encoding = torch.concat([t, X_flattened], dim=-1)\n",
    "\n",
    "        input_encoding = self.forward_time_seq(seq_time_encoding)\n",
    "\n",
    "        X_1 = self.forward_time_seq_1(input_encoding)\n",
    "\n",
    "        X_1 = self.dropout_1(X_1)\n",
    "\n",
    "        X_2 = self.forward_time_seq_2(X_1)\n",
    "\n",
    "        X_2 = self.dropout_2(X_2)\n",
    "\n",
    "        X_3 = self.forward_time_seq_3(X_2)\n",
    "\n",
    "        X_3 = self.dropout_3(X_3)\n",
    "\n",
    "        X_final = self.feedforward_final(X_3)\n",
    "\n",
    "        X_final = X_final.view(time_points, batch_size, seq_length, aas)\n",
    "        \n",
    "        Y_pred = torch.nn.Softmax(dim=-1)(X_final)\n",
    "        return Y_pred"
   ]
  },
  {
   "cell_type": "code",
   "execution_count": 3,
   "id": "f4bd5823-7041-418a-884c-ca1031c065b2",
   "metadata": {},
   "outputs": [
    {
     "name": "stderr",
     "output_type": "stream",
     "text": [
      "100%|█████████████████████████████████████████| 100/100 [00:21<00:00,  4.56it/s]\n"
     ]
    }
   ],
   "source": [
    "N_samples = 10000\n",
    "\n",
    "M = 2\n",
    "N_dim = 100\n",
    "\n",
    "bias = torch.zeros((N_dim,1))\n",
    "patterns = 2*torch.bernoulli(torch.ones((N_dim, M)) * 0.5) - 1\n",
    "\n",
    "spins = generate_data(patterns, bias, N_samples, beta=4)"
   ]
  },
  {
   "cell_type": "code",
   "execution_count": 4,
   "id": "338d12d8-6a9c-4938-b139-ad7ff32d9822",
   "metadata": {},
   "outputs": [],
   "source": [
    "index_spins = ((1+spins)/2).type(torch.int64)"
   ]
  },
  {
   "cell_type": "code",
   "execution_count": 5,
   "id": "343ebac6-c349-47b7-9f36-cb87fe85cc6b",
   "metadata": {},
   "outputs": [],
   "source": [
    "one_hot_spin_vectors = torch.nn.functional.one_hot(index_spins)"
   ]
  },
  {
   "cell_type": "code",
   "execution_count": 6,
   "id": "dbef2da4-18fd-41ba-96d5-682267df6c9d",
   "metadata": {},
   "outputs": [],
   "source": [
    "class SpinsDataset(torch.utils.data.Dataset):\n",
    "    \"\"\"\n",
    "    takes in one hot encoded spins X with one key - sequence, and Y with one, potentially two, keys - sequence and phenotype\n",
    "    inputs:\n",
    "        one_hot_spins: torch.Tensor representing spins (num_samples, dim, num_states)\n",
    "    \n",
    "    \"\"\"\n",
    "    \n",
    "    def __init__(self,\n",
    "                 spins,\n",
    "                 include_mask = False,\n",
    "                **kwargs):\n",
    "        super().__init__(**kwargs)\n",
    "        self.include_mask = include_mask\n",
    "        self.spins = spins\n",
    "        if self.include_mask:\n",
    "\n",
    "            self.spins = torch.cat((self.spins, torch.zeros((self.spins.shape[0], self.spins.shape[1], 1))), axis=-1)\n",
    "\n",
    "    def __len__(self):\n",
    "        return self.spins.shape[0]\n",
    "\n",
    "    def __getitem__(self, index):\n",
    "        X = dict()\n",
    "        Y = dict()\n",
    "\n",
    "        Y['spins'] = self.spins[index]\n",
    "        X['spins'] = self.spins[index]\n",
    "        return X, Y"
   ]
  },
  {
   "cell_type": "code",
   "execution_count": 7,
   "id": "0eb26dae-688f-4860-8fe9-7579105db651",
   "metadata": {},
   "outputs": [],
   "source": [
    "spins_dataset = SpinsDataset(one_hot_spin_vectors, include_mask=True)\n",
    "spins_loader = torch.utils.data.DataLoader(spins_dataset, batch_size=32, shuffle=True)"
   ]
  },
  {
   "cell_type": "code",
   "execution_count": 8,
   "id": "c2e2131f-2ef3-4641-9512-9879531ea990",
   "metadata": {},
   "outputs": [],
   "source": [
    "for batch in spins_loader:\n",
    "    X, Y = batch\n",
    "    X_spins = X['spins']\n",
    "    Y_spins = Y['spins']\n",
    "    "
   ]
  },
  {
   "cell_type": "code",
   "execution_count": 9,
   "id": "6dde4ff0-281f-4261-a652-ddfce207a84d",
   "metadata": {},
   "outputs": [],
   "source": [
    "noise_matrix = Noiser(noiser = 'BERT-LIKE', beta_t = 0.01, k=2).noise_matrix\n",
    "ts, noised_samples = noiser(X_spins, noise_matrix, 200, X_spins.shape[-1])"
   ]
  },
  {
   "cell_type": "code",
   "execution_count": 10,
   "id": "3da49505-e103-4358-a5fa-c6d25dcebf9a",
   "metadata": {},
   "outputs": [
    {
     "data": {
      "text/plain": [
       "torch.Size([200, 16, 100, 3])"
      ]
     },
     "execution_count": 10,
     "metadata": {},
     "output_type": "execute_result"
    }
   ],
   "source": [
    "noised_samples.shape"
   ]
  },
  {
   "cell_type": "code",
   "execution_count": 13,
   "id": "1eed3a9a-e00a-4a16-afd4-3ffd52296b38",
   "metadata": {},
   "outputs": [
    {
     "name": "stderr",
     "output_type": "stream",
     "text": [
      "  1%|▍                                        | 1/100 [01:23<2:17:58, 83.62s/it]"
     ]
    },
    {
     "name": "stdout",
     "output_type": "stream",
     "text": [
      "overall loss at epoch 0 is 100.06969994306564\n"
     ]
    },
    {
     "name": "stderr",
     "output_type": "stream",
     "text": [
      "  2%|▊                                        | 2/100 [03:00<2:29:03, 91.26s/it]"
     ]
    },
    {
     "name": "stdout",
     "output_type": "stream",
     "text": [
      "overall loss at epoch 1 is 64.72410082817078\n"
     ]
    },
    {
     "name": "stderr",
     "output_type": "stream",
     "text": [
      "  3%|█▏                                       | 3/100 [04:37<2:31:58, 94.00s/it]"
     ]
    },
    {
     "name": "stdout",
     "output_type": "stream",
     "text": [
      "overall loss at epoch 2 is 62.15826719999313\n"
     ]
    },
    {
     "name": "stderr",
     "output_type": "stream",
     "text": [
      "  4%|█▋                                       | 4/100 [06:17<2:33:55, 96.20s/it]"
     ]
    },
    {
     "name": "stdout",
     "output_type": "stream",
     "text": [
      "overall loss at epoch 3 is 60.835922598838806\n"
     ]
    },
    {
     "name": "stderr",
     "output_type": "stream",
     "text": [
      "  5%|██                                       | 5/100 [07:59<2:35:55, 98.48s/it]"
     ]
    },
    {
     "name": "stdout",
     "output_type": "stream",
     "text": [
      "overall loss at epoch 4 is 59.70040690898895\n"
     ]
    },
    {
     "name": "stderr",
     "output_type": "stream",
     "text": [
      "  6%|██▍                                      | 6/100 [09:41<2:36:01, 99.59s/it]"
     ]
    },
    {
     "name": "stdout",
     "output_type": "stream",
     "text": [
      "overall loss at epoch 5 is 59.211028814315796\n"
     ]
    },
    {
     "name": "stderr",
     "output_type": "stream",
     "text": [
      "  7%|██▊                                     | 7/100 [11:31<2:39:50, 103.12s/it]"
     ]
    },
    {
     "name": "stdout",
     "output_type": "stream",
     "text": [
      "overall loss at epoch 6 is 58.22878170013428\n"
     ]
    },
    {
     "name": "stderr",
     "output_type": "stream",
     "text": [
      "  8%|███▏                                    | 8/100 [13:18<2:39:41, 104.14s/it]"
     ]
    },
    {
     "name": "stdout",
     "output_type": "stream",
     "text": [
      "overall loss at epoch 7 is 57.48782426118851\n"
     ]
    },
    {
     "name": "stderr",
     "output_type": "stream",
     "text": [
      "  9%|███▌                                    | 9/100 [15:10<2:41:40, 106.60s/it]"
     ]
    },
    {
     "name": "stdout",
     "output_type": "stream",
     "text": [
      "overall loss at epoch 8 is 57.26657783985138\n"
     ]
    },
    {
     "name": "stderr",
     "output_type": "stream",
     "text": [
      " 10%|███▉                                   | 10/100 [16:51<2:37:44, 105.16s/it]"
     ]
    },
    {
     "name": "stdout",
     "output_type": "stream",
     "text": [
      "overall loss at epoch 9 is 57.30648738145828\n"
     ]
    },
    {
     "name": "stderr",
     "output_type": "stream",
     "text": [
      " 11%|████▎                                  | 11/100 [18:29<2:32:36, 102.88s/it]"
     ]
    },
    {
     "name": "stdout",
     "output_type": "stream",
     "text": [
      "overall loss at epoch 10 is 57.21241170167923\n"
     ]
    },
    {
     "name": "stderr",
     "output_type": "stream",
     "text": [
      " 12%|████▋                                  | 12/100 [20:06<2:28:06, 100.99s/it]"
     ]
    },
    {
     "name": "stdout",
     "output_type": "stream",
     "text": [
      "overall loss at epoch 11 is 57.10530799627304\n"
     ]
    },
    {
     "name": "stderr",
     "output_type": "stream",
     "text": [
      " 13%|█████                                  | 13/100 [21:44<2:25:10, 100.12s/it]"
     ]
    },
    {
     "name": "stdout",
     "output_type": "stream",
     "text": [
      "overall loss at epoch 12 is 57.073893547058105\n"
     ]
    },
    {
     "name": "stderr",
     "output_type": "stream",
     "text": [
      " 14%|█████▍                                 | 14/100 [23:26<2:24:30, 100.82s/it]"
     ]
    },
    {
     "name": "stdout",
     "output_type": "stream",
     "text": [
      "overall loss at epoch 13 is 56.110202729701996\n"
     ]
    },
    {
     "name": "stderr",
     "output_type": "stream",
     "text": [
      " 15%|█████▊                                 | 15/100 [25:05<2:21:41, 100.02s/it]"
     ]
    },
    {
     "name": "stdout",
     "output_type": "stream",
     "text": [
      "overall loss at epoch 14 is 55.54197037220001\n"
     ]
    },
    {
     "name": "stderr",
     "output_type": "stream",
     "text": [
      " 16%|██████▏                                | 16/100 [26:46<2:20:25, 100.31s/it]"
     ]
    },
    {
     "name": "stdout",
     "output_type": "stream",
     "text": [
      "overall loss at epoch 15 is 55.242895007133484\n"
     ]
    },
    {
     "name": "stderr",
     "output_type": "stream",
     "text": [
      " 17%|██████▋                                | 17/100 [28:36<2:23:03, 103.41s/it]"
     ]
    },
    {
     "name": "stdout",
     "output_type": "stream",
     "text": [
      "overall loss at epoch 16 is 54.28800082206726\n"
     ]
    },
    {
     "name": "stderr",
     "output_type": "stream",
     "text": [
      " 18%|███████                                | 18/100 [30:16<2:19:49, 102.31s/it]"
     ]
    },
    {
     "name": "stdout",
     "output_type": "stream",
     "text": [
      "overall loss at epoch 17 is 53.56894689798355\n"
     ]
    },
    {
     "name": "stderr",
     "output_type": "stream",
     "text": [
      " 19%|███████▍                               | 19/100 [31:58<2:18:07, 102.32s/it]"
     ]
    },
    {
     "name": "stdout",
     "output_type": "stream",
     "text": [
      "overall loss at epoch 18 is 53.33845406770706\n"
     ]
    },
    {
     "name": "stderr",
     "output_type": "stream",
     "text": [
      " 20%|███████▊                               | 20/100 [33:51<2:20:45, 105.56s/it]"
     ]
    },
    {
     "name": "stdout",
     "output_type": "stream",
     "text": [
      "overall loss at epoch 19 is 53.37296104431152\n"
     ]
    },
    {
     "name": "stderr",
     "output_type": "stream",
     "text": [
      " 21%|████████▏                              | 21/100 [35:35<2:18:13, 104.98s/it]"
     ]
    },
    {
     "name": "stdout",
     "output_type": "stream",
     "text": [
      "overall loss at epoch 20 is 53.28182291984558\n"
     ]
    },
    {
     "name": "stderr",
     "output_type": "stream",
     "text": [
      " 22%|████████▌                              | 22/100 [37:13<2:13:41, 102.84s/it]"
     ]
    },
    {
     "name": "stdout",
     "output_type": "stream",
     "text": [
      "overall loss at epoch 21 is 53.26785868406296\n"
     ]
    },
    {
     "name": "stderr",
     "output_type": "stream",
     "text": [
      " 23%|████████▉                              | 23/100 [38:56<2:12:14, 103.05s/it]"
     ]
    },
    {
     "name": "stdout",
     "output_type": "stream",
     "text": [
      "overall loss at epoch 22 is 52.71163988113403\n"
     ]
    },
    {
     "name": "stderr",
     "output_type": "stream",
     "text": [
      " 24%|█████████▎                             | 24/100 [40:37<2:09:44, 102.42s/it]"
     ]
    },
    {
     "name": "stdout",
     "output_type": "stream",
     "text": [
      "overall loss at epoch 23 is 51.93733125925064\n"
     ]
    },
    {
     "name": "stderr",
     "output_type": "stream",
     "text": [
      " 25%|██████████                              | 25/100 [41:57<1:59:18, 95.44s/it]"
     ]
    },
    {
     "name": "stdout",
     "output_type": "stream",
     "text": [
      "overall loss at epoch 24 is 51.699801206588745\n"
     ]
    },
    {
     "name": "stderr",
     "output_type": "stream",
     "text": [
      " 26%|██████████▍                             | 26/100 [43:17<1:52:13, 90.99s/it]"
     ]
    },
    {
     "name": "stdout",
     "output_type": "stream",
     "text": [
      "overall loss at epoch 25 is 51.45796573162079\n"
     ]
    },
    {
     "name": "stderr",
     "output_type": "stream",
     "text": [
      " 27%|██████████▊                             | 27/100 [44:40<1:47:38, 88.47s/it]"
     ]
    },
    {
     "name": "stdout",
     "output_type": "stream",
     "text": [
      "overall loss at epoch 26 is 51.36398386955261\n"
     ]
    },
    {
     "name": "stderr",
     "output_type": "stream",
     "text": [
      " 28%|███████████▏                            | 28/100 [46:37<1:56:33, 97.13s/it]"
     ]
    },
    {
     "name": "stdout",
     "output_type": "stream",
     "text": [
      "overall loss at epoch 27 is 51.33103656768799\n"
     ]
    },
    {
     "name": "stderr",
     "output_type": "stream",
     "text": [
      " 29%|███████████▌                            | 29/100 [48:21<1:57:13, 99.07s/it]"
     ]
    },
    {
     "name": "stdout",
     "output_type": "stream",
     "text": [
      "overall loss at epoch 28 is 51.15240693092346\n"
     ]
    },
    {
     "name": "stderr",
     "output_type": "stream",
     "text": [
      " 30%|████████████                            | 30/100 [50:02<1:56:19, 99.71s/it]"
     ]
    },
    {
     "name": "stdout",
     "output_type": "stream",
     "text": [
      "overall loss at epoch 29 is 51.094566106796265\n"
     ]
    },
    {
     "name": "stderr",
     "output_type": "stream",
     "text": [
      " 31%|████████████                           | 31/100 [51:45<1:56:00, 100.87s/it]"
     ]
    },
    {
     "name": "stdout",
     "output_type": "stream",
     "text": [
      "overall loss at epoch 30 is 50.81892514228821\n"
     ]
    },
    {
     "name": "stderr",
     "output_type": "stream",
     "text": [
      " 32%|████████████▍                          | 32/100 [53:33<1:56:27, 102.76s/it]"
     ]
    },
    {
     "name": "stdout",
     "output_type": "stream",
     "text": [
      "overall loss at epoch 31 is 50.66588360071182\n"
     ]
    },
    {
     "name": "stderr",
     "output_type": "stream",
     "text": [
      " 33%|████████████▊                          | 33/100 [55:18<1:55:44, 103.64s/it]"
     ]
    },
    {
     "name": "stdout",
     "output_type": "stream",
     "text": [
      "overall loss at epoch 32 is 50.23755240440369\n"
     ]
    },
    {
     "name": "stderr",
     "output_type": "stream",
     "text": [
      " 34%|█████████████▎                         | 34/100 [56:58<1:52:45, 102.51s/it]"
     ]
    },
    {
     "name": "stdout",
     "output_type": "stream",
     "text": [
      "overall loss at epoch 33 is 49.900306046009064\n"
     ]
    },
    {
     "name": "stderr",
     "output_type": "stream",
     "text": [
      " 35%|█████████████▋                         | 35/100 [58:35<1:49:06, 100.71s/it]"
     ]
    },
    {
     "name": "stdout",
     "output_type": "stream",
     "text": [
      "overall loss at epoch 34 is 49.43292784690857\n"
     ]
    },
    {
     "name": "stderr",
     "output_type": "stream",
     "text": [
      " 36%|█████████████▎                       | 36/100 [1:00:16<1:47:36, 100.88s/it]"
     ]
    },
    {
     "name": "stdout",
     "output_type": "stream",
     "text": [
      "overall loss at epoch 35 is 49.06233096122742\n"
     ]
    },
    {
     "name": "stderr",
     "output_type": "stream",
     "text": [
      " 37%|██████████████                        | 37/100 [1:01:53<1:44:39, 99.68s/it]"
     ]
    },
    {
     "name": "stdout",
     "output_type": "stream",
     "text": [
      "overall loss at epoch 36 is 48.983771204948425\n"
     ]
    },
    {
     "name": "stderr",
     "output_type": "stream",
     "text": [
      " 38%|██████████████                       | 38/100 [1:03:39<1:45:05, 101.70s/it]"
     ]
    },
    {
     "name": "stdout",
     "output_type": "stream",
     "text": [
      "overall loss at epoch 37 is 48.90850472450256\n"
     ]
    },
    {
     "name": "stderr",
     "output_type": "stream",
     "text": [
      " 39%|██████████████▍                      | 39/100 [1:05:15<1:41:41, 100.02s/it]"
     ]
    },
    {
     "name": "stdout",
     "output_type": "stream",
     "text": [
      "overall loss at epoch 38 is 48.70907241106033\n"
     ]
    },
    {
     "name": "stderr",
     "output_type": "stream",
     "text": [
      " 40%|███████████████▏                      | 40/100 [1:06:51<1:38:40, 98.67s/it]"
     ]
    },
    {
     "name": "stdout",
     "output_type": "stream",
     "text": [
      "overall loss at epoch 39 is 48.59527415037155\n"
     ]
    },
    {
     "name": "stderr",
     "output_type": "stream",
     "text": [
      " 41%|███████████████▌                      | 41/100 [1:08:30<1:37:15, 98.92s/it]"
     ]
    },
    {
     "name": "stdout",
     "output_type": "stream",
     "text": [
      "overall loss at epoch 40 is 48.53797972202301\n"
     ]
    },
    {
     "name": "stderr",
     "output_type": "stream",
     "text": [
      " 42%|███████████████▉                      | 42/100 [1:10:08<1:35:16, 98.56s/it]"
     ]
    },
    {
     "name": "stdout",
     "output_type": "stream",
     "text": [
      "overall loss at epoch 41 is 48.35039621591568\n"
     ]
    },
    {
     "name": "stderr",
     "output_type": "stream",
     "text": [
      " 43%|████████████████▎                     | 43/100 [1:11:45<1:33:05, 97.99s/it]"
     ]
    },
    {
     "name": "stdout",
     "output_type": "stream",
     "text": [
      "overall loss at epoch 42 is 48.26460725069046\n"
     ]
    },
    {
     "name": "stderr",
     "output_type": "stream",
     "text": [
      " 44%|████████████████▎                    | 44/100 [1:13:40<1:36:12, 103.09s/it]"
     ]
    },
    {
     "name": "stdout",
     "output_type": "stream",
     "text": [
      "overall loss at epoch 43 is 48.18594175577164\n"
     ]
    },
    {
     "name": "stderr",
     "output_type": "stream",
     "text": [
      " 45%|████████████████▋                    | 45/100 [1:15:19<1:33:31, 102.03s/it]"
     ]
    },
    {
     "name": "stdout",
     "output_type": "stream",
     "text": [
      "overall loss at epoch 44 is 48.066030979156494\n"
     ]
    },
    {
     "name": "stderr",
     "output_type": "stream",
     "text": [
      " 46%|█████████████████                    | 46/100 [1:17:06<1:33:01, 103.35s/it]"
     ]
    },
    {
     "name": "stdout",
     "output_type": "stream",
     "text": [
      "overall loss at epoch 45 is 47.954599261283875\n"
     ]
    },
    {
     "name": "stderr",
     "output_type": "stream",
     "text": [
      " 47%|█████████████████▍                   | 47/100 [1:18:48<1:31:04, 103.10s/it]"
     ]
    },
    {
     "name": "stdout",
     "output_type": "stream",
     "text": [
      "overall loss at epoch 46 is 47.848890244960785\n"
     ]
    },
    {
     "name": "stderr",
     "output_type": "stream",
     "text": [
      " 48%|█████████████████▊                   | 48/100 [1:20:36<1:30:32, 104.47s/it]"
     ]
    },
    {
     "name": "stdout",
     "output_type": "stream",
     "text": [
      "overall loss at epoch 47 is 47.69820964336395\n"
     ]
    },
    {
     "name": "stderr",
     "output_type": "stream",
     "text": [
      " 49%|██████████████████▏                  | 49/100 [1:22:25<1:30:04, 105.98s/it]"
     ]
    },
    {
     "name": "stdout",
     "output_type": "stream",
     "text": [
      "overall loss at epoch 48 is 47.62423038482666\n"
     ]
    },
    {
     "name": "stderr",
     "output_type": "stream",
     "text": [
      " 50%|██████████████████▌                  | 50/100 [1:24:07<1:27:05, 104.51s/it]"
     ]
    },
    {
     "name": "stdout",
     "output_type": "stream",
     "text": [
      "overall loss at epoch 49 is 47.586633920669556\n"
     ]
    },
    {
     "name": "stderr",
     "output_type": "stream",
     "text": [
      " 51%|██████████████████▊                  | 51/100 [1:25:46<1:24:04, 102.95s/it]"
     ]
    },
    {
     "name": "stdout",
     "output_type": "stream",
     "text": [
      "overall loss at epoch 50 is 47.51938647031784\n"
     ]
    },
    {
     "name": "stderr",
     "output_type": "stream",
     "text": [
      " 52%|███████████████████▏                 | 52/100 [1:27:25<1:21:32, 101.93s/it]"
     ]
    },
    {
     "name": "stdout",
     "output_type": "stream",
     "text": [
      "overall loss at epoch 51 is 47.44450807571411\n"
     ]
    },
    {
     "name": "stderr",
     "output_type": "stream",
     "text": [
      " 53%|███████████████████▌                 | 53/100 [1:29:04<1:19:08, 101.03s/it]"
     ]
    },
    {
     "name": "stdout",
     "output_type": "stream",
     "text": [
      "overall loss at epoch 52 is 47.307036101818085\n"
     ]
    },
    {
     "name": "stderr",
     "output_type": "stream",
     "text": [
      " 54%|███████████████████▉                 | 54/100 [1:30:43<1:16:56, 100.37s/it]"
     ]
    },
    {
     "name": "stdout",
     "output_type": "stream",
     "text": [
      "overall loss at epoch 53 is 47.28451108932495\n"
     ]
    },
    {
     "name": "stderr",
     "output_type": "stream",
     "text": [
      " 55%|████████████████████▉                 | 55/100 [1:32:21<1:14:40, 99.56s/it]"
     ]
    },
    {
     "name": "stdout",
     "output_type": "stream",
     "text": [
      "overall loss at epoch 54 is 47.24653619527817\n"
     ]
    },
    {
     "name": "stderr",
     "output_type": "stream",
     "text": [
      " 56%|████████████████████▋                | 56/100 [1:34:03<1:13:29, 100.21s/it]"
     ]
    },
    {
     "name": "stdout",
     "output_type": "stream",
     "text": [
      "overall loss at epoch 55 is 47.11367845535278\n"
     ]
    },
    {
     "name": "stderr",
     "output_type": "stream",
     "text": [
      " 57%|█████████████████████▋                | 57/100 [1:35:42<1:11:37, 99.95s/it]"
     ]
    },
    {
     "name": "stdout",
     "output_type": "stream",
     "text": [
      "overall loss at epoch 56 is 47.07690840959549\n"
     ]
    },
    {
     "name": "stderr",
     "output_type": "stream",
     "text": [
      " 58%|██████████████████████                | 58/100 [1:37:13<1:08:10, 97.40s/it]"
     ]
    },
    {
     "name": "stdout",
     "output_type": "stream",
     "text": [
      "overall loss at epoch 57 is 46.9900666475296\n"
     ]
    },
    {
     "name": "stderr",
     "output_type": "stream",
     "text": [
      " 59%|█████████████████████▊               | 59/100 [1:39:07<1:09:48, 102.15s/it]"
     ]
    },
    {
     "name": "stdout",
     "output_type": "stream",
     "text": [
      "overall loss at epoch 58 is 46.93121302127838\n"
     ]
    },
    {
     "name": "stderr",
     "output_type": "stream",
     "text": [
      " 60%|██████████████████████▏              | 60/100 [1:40:52<1:08:43, 103.09s/it]"
     ]
    },
    {
     "name": "stdout",
     "output_type": "stream",
     "text": [
      "overall loss at epoch 59 is 46.861046731472015\n"
     ]
    },
    {
     "name": "stderr",
     "output_type": "stream",
     "text": [
      " 61%|██████████████████████▌              | 61/100 [1:42:41<1:08:08, 104.84s/it]"
     ]
    },
    {
     "name": "stdout",
     "output_type": "stream",
     "text": [
      "overall loss at epoch 60 is 46.787689208984375\n"
     ]
    },
    {
     "name": "stderr",
     "output_type": "stream",
     "text": [
      " 62%|██████████████████████▉              | 62/100 [1:45:01<1:13:07, 115.46s/it]"
     ]
    },
    {
     "name": "stdout",
     "output_type": "stream",
     "text": [
      "overall loss at epoch 61 is 46.72508245706558\n"
     ]
    },
    {
     "name": "stderr",
     "output_type": "stream",
     "text": [
      " 63%|███████████████████████▎             | 63/100 [1:46:59<1:11:45, 116.37s/it]"
     ]
    },
    {
     "name": "stdout",
     "output_type": "stream",
     "text": [
      "overall loss at epoch 62 is 46.71050316095352\n"
     ]
    },
    {
     "name": "stderr",
     "output_type": "stream",
     "text": [
      " 64%|███████████████████████▋             | 64/100 [1:48:45<1:07:52, 113.13s/it]"
     ]
    },
    {
     "name": "stdout",
     "output_type": "stream",
     "text": [
      "overall loss at epoch 63 is 46.61284452676773\n"
     ]
    },
    {
     "name": "stderr",
     "output_type": "stream",
     "text": [
      " 65%|████████████████████████             | 65/100 [1:50:28<1:04:14, 110.12s/it]"
     ]
    },
    {
     "name": "stdout",
     "output_type": "stream",
     "text": [
      "overall loss at epoch 64 is 46.561629474163055\n"
     ]
    },
    {
     "name": "stderr",
     "output_type": "stream",
     "text": [
      " 66%|████████████████████████▍            | 66/100 [1:52:27<1:03:49, 112.62s/it]"
     ]
    },
    {
     "name": "stdout",
     "output_type": "stream",
     "text": [
      "overall loss at epoch 65 is 46.54560285806656\n"
     ]
    },
    {
     "name": "stderr",
     "output_type": "stream",
     "text": [
      " 67%|████████████████████████▊            | 67/100 [1:54:19<1:01:53, 112.53s/it]"
     ]
    },
    {
     "name": "stdout",
     "output_type": "stream",
     "text": [
      "overall loss at epoch 66 is 46.52586871385574\n"
     ]
    },
    {
     "name": "stderr",
     "output_type": "stream",
     "text": [
      " 68%|██████████████████████████▌            | 68/100 [1:56:01<58:24, 109.53s/it]"
     ]
    },
    {
     "name": "stdout",
     "output_type": "stream",
     "text": [
      "overall loss at epoch 67 is 46.4762402176857\n"
     ]
    },
    {
     "name": "stderr",
     "output_type": "stream",
     "text": [
      " 69%|██████████████████████████▉            | 69/100 [1:57:48<56:09, 108.69s/it]"
     ]
    },
    {
     "name": "stdout",
     "output_type": "stream",
     "text": [
      "overall loss at epoch 68 is 46.280232667922974\n"
     ]
    },
    {
     "name": "stderr",
     "output_type": "stream",
     "text": [
      " 70%|███████████████████████████▎           | 70/100 [1:59:37<54:21, 108.72s/it]"
     ]
    },
    {
     "name": "stdout",
     "output_type": "stream",
     "text": [
      "overall loss at epoch 69 is 46.25557631254196\n"
     ]
    },
    {
     "name": "stderr",
     "output_type": "stream",
     "text": [
      " 71%|███████████████████████████▋           | 71/100 [2:01:46<55:26, 114.70s/it]"
     ]
    },
    {
     "name": "stdout",
     "output_type": "stream",
     "text": [
      "overall loss at epoch 70 is 46.24967133998871\n"
     ]
    },
    {
     "name": "stderr",
     "output_type": "stream",
     "text": [
      " 72%|████████████████████████████           | 72/100 [2:03:16<50:07, 107.42s/it]"
     ]
    },
    {
     "name": "stdout",
     "output_type": "stream",
     "text": [
      "overall loss at epoch 71 is 46.144320011138916\n"
     ]
    },
    {
     "name": "stderr",
     "output_type": "stream",
     "text": [
      " 73%|█████████████████████████████▏          | 73/100 [2:04:35<44:31, 98.94s/it]"
     ]
    },
    {
     "name": "stdout",
     "output_type": "stream",
     "text": [
      "overall loss at epoch 72 is 46.010707437992096\n"
     ]
    },
    {
     "name": "stderr",
     "output_type": "stream",
     "text": [
      " 74%|█████████████████████████████▌          | 74/100 [2:05:53<40:10, 92.72s/it]"
     ]
    },
    {
     "name": "stdout",
     "output_type": "stream",
     "text": [
      "overall loss at epoch 73 is 46.083362340927124\n"
     ]
    },
    {
     "name": "stderr",
     "output_type": "stream",
     "text": [
      " 75%|██████████████████████████████          | 75/100 [2:07:13<36:57, 88.69s/it]"
     ]
    },
    {
     "name": "stdout",
     "output_type": "stream",
     "text": [
      "overall loss at epoch 74 is 46.009502589702606\n"
     ]
    },
    {
     "name": "stderr",
     "output_type": "stream",
     "text": [
      " 76%|██████████████████████████████▍         | 76/100 [2:08:33<34:29, 86.25s/it]"
     ]
    },
    {
     "name": "stdout",
     "output_type": "stream",
     "text": [
      "overall loss at epoch 75 is 45.898802638053894\n"
     ]
    },
    {
     "name": "stderr",
     "output_type": "stream",
     "text": [
      " 77%|██████████████████████████████▊         | 77/100 [2:10:01<33:12, 86.63s/it]"
     ]
    },
    {
     "name": "stdout",
     "output_type": "stream",
     "text": [
      "overall loss at epoch 76 is 45.94507896900177\n"
     ]
    },
    {
     "name": "stderr",
     "output_type": "stream",
     "text": [
      " 78%|███████████████████████████████▏        | 78/100 [2:11:20<30:57, 84.43s/it]"
     ]
    },
    {
     "name": "stdout",
     "output_type": "stream",
     "text": [
      "overall loss at epoch 77 is 45.86523634195328\n"
     ]
    },
    {
     "name": "stderr",
     "output_type": "stream",
     "text": [
      " 79%|███████████████████████████████▌        | 79/100 [2:12:39<28:58, 82.79s/it]"
     ]
    },
    {
     "name": "stdout",
     "output_type": "stream",
     "text": [
      "overall loss at epoch 78 is 45.7953125834465\n"
     ]
    },
    {
     "name": "stderr",
     "output_type": "stream",
     "text": [
      " 80%|████████████████████████████████        | 80/100 [2:13:58<27:13, 81.67s/it]"
     ]
    },
    {
     "name": "stdout",
     "output_type": "stream",
     "text": [
      "overall loss at epoch 79 is 45.89622259140015\n"
     ]
    },
    {
     "name": "stderr",
     "output_type": "stream",
     "text": [
      " 81%|████████████████████████████████▍       | 81/100 [2:15:17<25:35, 80.79s/it]"
     ]
    },
    {
     "name": "stdout",
     "output_type": "stream",
     "text": [
      "overall loss at epoch 80 is 45.756455302238464\n"
     ]
    },
    {
     "name": "stderr",
     "output_type": "stream",
     "text": [
      " 82%|████████████████████████████████▊       | 82/100 [2:16:35<23:59, 79.96s/it]"
     ]
    },
    {
     "name": "stdout",
     "output_type": "stream",
     "text": [
      "overall loss at epoch 81 is 45.715791404247284\n"
     ]
    },
    {
     "name": "stderr",
     "output_type": "stream",
     "text": [
      " 83%|█████████████████████████████████▏      | 83/100 [2:17:53<22:27, 79.28s/it]"
     ]
    },
    {
     "name": "stdout",
     "output_type": "stream",
     "text": [
      "overall loss at epoch 82 is 45.746273934841156\n"
     ]
    },
    {
     "name": "stderr",
     "output_type": "stream",
     "text": [
      " 84%|█████████████████████████████████▌      | 84/100 [2:19:11<21:06, 79.16s/it]"
     ]
    },
    {
     "name": "stdout",
     "output_type": "stream",
     "text": [
      "overall loss at epoch 83 is 45.700822710990906\n"
     ]
    },
    {
     "name": "stderr",
     "output_type": "stream",
     "text": [
      " 85%|██████████████████████████████████      | 85/100 [2:20:31<19:49, 79.28s/it]"
     ]
    },
    {
     "name": "stdout",
     "output_type": "stream",
     "text": [
      "overall loss at epoch 84 is 45.62009572982788\n"
     ]
    },
    {
     "name": "stderr",
     "output_type": "stream",
     "text": [
      " 86%|██████████████████████████████████▍     | 86/100 [2:21:49<18:23, 78.85s/it]"
     ]
    },
    {
     "name": "stdout",
     "output_type": "stream",
     "text": [
      "overall loss at epoch 85 is 45.55710655450821\n"
     ]
    },
    {
     "name": "stderr",
     "output_type": "stream",
     "text": [
      " 87%|██████████████████████████████████▊     | 87/100 [2:23:08<17:06, 78.93s/it]"
     ]
    },
    {
     "name": "stdout",
     "output_type": "stream",
     "text": [
      "overall loss at epoch 86 is 45.47724175453186\n"
     ]
    },
    {
     "name": "stderr",
     "output_type": "stream",
     "text": [
      " 88%|███████████████████████████████████▏    | 88/100 [2:24:27<15:47, 78.93s/it]"
     ]
    },
    {
     "name": "stdout",
     "output_type": "stream",
     "text": [
      "overall loss at epoch 87 is 45.39179515838623\n"
     ]
    },
    {
     "name": "stderr",
     "output_type": "stream",
     "text": [
      " 89%|███████████████████████████████████▌    | 89/100 [2:25:45<14:26, 78.78s/it]"
     ]
    },
    {
     "name": "stdout",
     "output_type": "stream",
     "text": [
      "overall loss at epoch 88 is 45.45664024353027\n"
     ]
    },
    {
     "name": "stderr",
     "output_type": "stream",
     "text": [
      " 90%|████████████████████████████████████    | 90/100 [2:27:04<13:08, 78.83s/it]"
     ]
    },
    {
     "name": "stdout",
     "output_type": "stream",
     "text": [
      "overall loss at epoch 89 is 45.41257292032242\n"
     ]
    },
    {
     "name": "stderr",
     "output_type": "stream",
     "text": [
      " 91%|████████████████████████████████████▍   | 91/100 [2:28:23<11:49, 78.83s/it]"
     ]
    },
    {
     "name": "stdout",
     "output_type": "stream",
     "text": [
      "overall loss at epoch 90 is 45.377503991127014\n"
     ]
    },
    {
     "name": "stderr",
     "output_type": "stream",
     "text": [
      " 92%|████████████████████████████████████▊   | 92/100 [2:29:43<10:32, 79.07s/it]"
     ]
    },
    {
     "name": "stdout",
     "output_type": "stream",
     "text": [
      "overall loss at epoch 91 is 45.26091003417969\n"
     ]
    },
    {
     "name": "stderr",
     "output_type": "stream",
     "text": [
      " 93%|█████████████████████████████████████▏  | 93/100 [2:31:03<09:16, 79.45s/it]"
     ]
    },
    {
     "name": "stdout",
     "output_type": "stream",
     "text": [
      "overall loss at epoch 92 is 45.37160402536392\n"
     ]
    },
    {
     "name": "stderr",
     "output_type": "stream",
     "text": [
      " 94%|█████████████████████████████████████▌  | 94/100 [2:32:26<08:02, 80.37s/it]"
     ]
    },
    {
     "name": "stdout",
     "output_type": "stream",
     "text": [
      "overall loss at epoch 93 is 45.136182963848114\n"
     ]
    },
    {
     "name": "stderr",
     "output_type": "stream",
     "text": [
      " 95%|██████████████████████████████████████  | 95/100 [2:33:45<06:40, 80.15s/it]"
     ]
    },
    {
     "name": "stdout",
     "output_type": "stream",
     "text": [
      "overall loss at epoch 94 is 44.84328246116638\n"
     ]
    },
    {
     "name": "stderr",
     "output_type": "stream",
     "text": [
      " 96%|██████████████████████████████████████▍ | 96/100 [2:35:12<05:28, 82.13s/it]"
     ]
    },
    {
     "name": "stdout",
     "output_type": "stream",
     "text": [
      "overall loss at epoch 95 is 44.78454273939133\n"
     ]
    },
    {
     "name": "stderr",
     "output_type": "stream",
     "text": [
      " 97%|██████████████████████████████████████▊ | 97/100 [2:36:42<04:13, 84.46s/it]"
     ]
    },
    {
     "name": "stdout",
     "output_type": "stream",
     "text": [
      "overall loss at epoch 96 is 44.68179214000702\n"
     ]
    },
    {
     "name": "stderr",
     "output_type": "stream",
     "text": [
      " 98%|███████████████████████████████████████▏| 98/100 [2:38:01<02:45, 82.90s/it]"
     ]
    },
    {
     "name": "stdout",
     "output_type": "stream",
     "text": [
      "overall loss at epoch 97 is 44.59868311882019\n"
     ]
    },
    {
     "name": "stderr",
     "output_type": "stream",
     "text": [
      " 99%|███████████████████████████████████████▌| 99/100 [2:39:21<01:22, 82.09s/it]"
     ]
    },
    {
     "name": "stdout",
     "output_type": "stream",
     "text": [
      "overall loss at epoch 98 is 44.650520503520966\n"
     ]
    },
    {
     "name": "stderr",
     "output_type": "stream",
     "text": [
      "100%|███████████████████████████████████████| 100/100 [2:40:40<00:00, 96.41s/it]"
     ]
    },
    {
     "name": "stdout",
     "output_type": "stream",
     "text": [
      "overall loss at epoch 99 is 44.63087421655655\n"
     ]
    },
    {
     "name": "stderr",
     "output_type": "stream",
     "text": [
      "\n"
     ]
    }
   ],
   "source": [
    "from tqdm import tqdm\n",
    "epochs = 100\n",
    "\n",
    "denoiser = MLPDenoiser(d_time = 1, d_seq = X_spins.shape[1], d_aas = X_spins.shape[2], d_model = 128, p=0.1, activation = torch.nn.ReLU())\n",
    "cat_diff = CategoricalDiffusion(denoiser, noise_matrix)\n",
    "\n",
    "cat_diff.train()\n",
    "optim = torch.optim.Adam(cat_diff.parameters(), lr = 1e-3)\n",
    "\n",
    "for epoch in tqdm(range(epochs)):\n",
    "    overall_loss = 0\n",
    "    spins_loader = torch.utils.data.DataLoader(spins_dataset, batch_size=128, shuffle=True)\n",
    "    for batch in spins_loader:\n",
    "        X, Y = batch\n",
    "        \n",
    "        X_spins = X['spins']\n",
    "        Y_spins = Y['spins']\n",
    "        \n",
    "        ts, noised_samples = noiser(X_spins, noise_matrix, 200, X_spins.shape[-1])\n",
    "\n",
    "        cat_diff.decode(noised_samples, ts)\n",
    "        cat_diff.calc_forward_conditionals(noised_samples)\n",
    "        \n",
    "        LT_loss     = cat_diff.L_T(noised_samples)\n",
    "        \n",
    "        Lt0_t1_loss = cat_diff.L_t0t1(Y_spins)\n",
    "\n",
    "        Ltminus1    = cat_diff.L_tminus1(Y_spins, noised_samples)\n",
    "\n",
    "\n",
    "        loss = Lt0_t1_loss + Ltminus1\n",
    "        \n",
    "        optim.zero_grad()\n",
    "        loss.backward()\n",
    "\n",
    "        #torch.nn.utils.clip_grad_value_(cat_diff.parameters(), 0.1)\n",
    "\n",
    "        optim.step()\n",
    "        if np.isnan(loss.item()):\n",
    "            break\n",
    "            \n",
    "        overall_loss += loss.item()\n",
    "    if np.isnan(loss.item()):\n",
    "        break\n",
    "    print('overall loss at epoch {} is '.format(epoch) + str(overall_loss))"
   ]
  },
  {
   "cell_type": "code",
   "execution_count": 17,
   "id": "a965c745-a018-4eb6-9d44-992afbb7eb05",
   "metadata": {
    "scrolled": true
   },
   "outputs": [
    {
     "data": {
      "text/plain": [
       "tensor([[0., 1., 0.],\n",
       "        [0., 0., 1.],\n",
       "        [1., 0., 0.],\n",
       "        [0., 0., 1.],\n",
       "        [1., 0., 0.],\n",
       "        [0., 1., 0.],\n",
       "        [0., 1., 0.],\n",
       "        [1., 0., 0.],\n",
       "        [1., 0., 0.],\n",
       "        [0., 1., 0.],\n",
       "        [0., 0., 1.],\n",
       "        [0., 0., 1.],\n",
       "        [1., 0., 0.],\n",
       "        [0., 0., 1.],\n",
       "        [1., 0., 0.],\n",
       "        [1., 0., 0.],\n",
       "        [0., 0., 1.],\n",
       "        [0., 1., 0.],\n",
       "        [0., 1., 0.],\n",
       "        [1., 0., 0.],\n",
       "        [0., 0., 1.],\n",
       "        [1., 0., 0.],\n",
       "        [0., 0., 1.],\n",
       "        [0., 0., 1.],\n",
       "        [1., 0., 0.],\n",
       "        [1., 0., 0.],\n",
       "        [0., 0., 1.],\n",
       "        [0., 0., 1.],\n",
       "        [0., 1., 0.],\n",
       "        [0., 0., 1.],\n",
       "        [1., 0., 0.],\n",
       "        [0., 0., 1.],\n",
       "        [1., 0., 0.],\n",
       "        [1., 0., 0.],\n",
       "        [0., 0., 1.],\n",
       "        [0., 0., 1.],\n",
       "        [0., 0., 1.],\n",
       "        [0., 0., 1.],\n",
       "        [0., 0., 1.],\n",
       "        [0., 0., 1.],\n",
       "        [1., 0., 0.],\n",
       "        [0., 0., 1.],\n",
       "        [0., 0., 1.],\n",
       "        [0., 1., 0.],\n",
       "        [0., 0., 1.],\n",
       "        [1., 0., 0.],\n",
       "        [1., 0., 0.],\n",
       "        [0., 0., 1.],\n",
       "        [0., 0., 1.],\n",
       "        [0., 1., 0.],\n",
       "        [0., 1., 0.],\n",
       "        [1., 0., 0.],\n",
       "        [1., 0., 0.],\n",
       "        [0., 0., 1.],\n",
       "        [0., 0., 1.],\n",
       "        [0., 0., 1.],\n",
       "        [0., 1., 0.],\n",
       "        [0., 1., 0.],\n",
       "        [0., 0., 1.],\n",
       "        [0., 0., 1.],\n",
       "        [0., 1., 0.],\n",
       "        [0., 0., 1.],\n",
       "        [0., 0., 1.],\n",
       "        [0., 0., 1.],\n",
       "        [1., 0., 0.],\n",
       "        [1., 0., 0.],\n",
       "        [0., 1., 0.],\n",
       "        [0., 0., 1.],\n",
       "        [1., 0., 0.],\n",
       "        [0., 1., 0.],\n",
       "        [0., 0., 1.],\n",
       "        [0., 0., 1.],\n",
       "        [1., 0., 0.],\n",
       "        [0., 1., 0.],\n",
       "        [0., 0., 1.],\n",
       "        [0., 1., 0.],\n",
       "        [1., 0., 0.],\n",
       "        [0., 1., 0.],\n",
       "        [1., 0., 0.],\n",
       "        [0., 0., 1.],\n",
       "        [1., 0., 0.],\n",
       "        [0., 1., 0.],\n",
       "        [0., 0., 1.],\n",
       "        [1., 0., 0.],\n",
       "        [0., 0., 1.],\n",
       "        [1., 0., 0.],\n",
       "        [1., 0., 0.],\n",
       "        [0., 1., 0.],\n",
       "        [1., 0., 0.],\n",
       "        [0., 1., 0.],\n",
       "        [1., 0., 0.],\n",
       "        [0., 1., 0.],\n",
       "        [1., 0., 0.],\n",
       "        [0., 0., 1.],\n",
       "        [0., 1., 0.],\n",
       "        [0., 0., 1.],\n",
       "        [0., 1., 0.],\n",
       "        [0., 1., 0.],\n",
       "        [1., 0., 0.],\n",
       "        [0., 0., 1.]])"
      ]
     },
     "execution_count": 17,
     "metadata": {},
     "output_type": "execute_result"
    }
   ],
   "source": [
    "noised_samples[50][0]"
   ]
  },
  {
   "cell_type": "code",
   "execution_count": 16,
   "id": "45cbb88f-6834-485c-8af3-11930020b6a8",
   "metadata": {
    "scrolled": true
   },
   "outputs": [
    {
     "data": {
      "text/plain": [
       "tensor([[4.5065e-08, 8.9144e-01, 1.0856e-01],\n",
       "        [4.7650e-05, 5.7511e-02, 9.4244e-01],\n",
       "        [5.6188e-01, 1.3088e-06, 4.3812e-01],\n",
       "        [7.6338e-01, 5.6680e-07, 2.3662e-01],\n",
       "        [9.3882e-01, 1.2777e-06, 6.1175e-02],\n",
       "        [5.4274e-06, 9.7300e-01, 2.6997e-02],\n",
       "        [7.8631e-08, 9.2914e-01, 7.0860e-02],\n",
       "        [6.3727e-01, 8.9061e-08, 3.6273e-01],\n",
       "        [7.6796e-01, 1.1465e-06, 2.3204e-01],\n",
       "        [1.8923e-08, 9.7842e-01, 2.1581e-02],\n",
       "        [5.6258e-01, 3.1737e-05, 4.3739e-01],\n",
       "        [8.6632e-06, 4.8849e-01, 5.1150e-01],\n",
       "        [8.2178e-01, 1.8486e-05, 1.7821e-01],\n",
       "        [5.0460e-07, 6.9131e-01, 3.0869e-01],\n",
       "        [8.7242e-01, 6.6569e-05, 1.2751e-01],\n",
       "        [7.7559e-01, 3.3692e-07, 2.2441e-01],\n",
       "        [3.1820e-06, 9.1739e-01, 8.2606e-02],\n",
       "        [2.1653e-07, 8.8438e-01, 1.1562e-01],\n",
       "        [8.1607e-08, 7.6258e-01, 2.3742e-01],\n",
       "        [7.5530e-01, 2.0627e-05, 2.4468e-01],\n",
       "        [2.5186e-07, 6.8006e-01, 3.1993e-01],\n",
       "        [6.0897e-01, 4.5614e-08, 3.9103e-01],\n",
       "        [9.3606e-06, 4.5517e-01, 5.4482e-01],\n",
       "        [2.4079e-01, 2.4079e-01, 5.1843e-01],\n",
       "        [8.4951e-01, 1.4645e-06, 1.5048e-01],\n",
       "        [7.1784e-01, 3.4012e-06, 2.8216e-01],\n",
       "        [8.3334e-02, 6.5746e-05, 9.1660e-01],\n",
       "        [2.4823e-01, 1.4747e-06, 7.5177e-01],\n",
       "        [4.6551e-07, 9.9730e-01, 2.6967e-03],\n",
       "        [8.6371e-01, 1.2824e-07, 1.3629e-01],\n",
       "        [7.7035e-01, 5.1548e-06, 2.2964e-01],\n",
       "        [6.1320e-01, 2.5420e-06, 3.8680e-01],\n",
       "        [3.2457e-01, 5.0233e-07, 6.7543e-01],\n",
       "        [7.9660e-01, 2.6098e-07, 2.0340e-01],\n",
       "        [3.8349e-01, 6.7702e-06, 6.1651e-01],\n",
       "        [8.0594e-02, 4.0426e-06, 9.1940e-01],\n",
       "        [5.4679e-05, 4.7691e-01, 5.2303e-01],\n",
       "        [4.0586e-01, 8.7673e-05, 5.9405e-01],\n",
       "        [5.8459e-06, 5.8405e-01, 4.1595e-01],\n",
       "        [1.2658e-07, 7.7730e-01, 2.2270e-01],\n",
       "        [7.3165e-01, 9.4588e-08, 2.6835e-01],\n",
       "        [7.4092e-01, 7.0513e-09, 2.5908e-01],\n",
       "        [8.5635e-08, 7.2237e-01, 2.7763e-01],\n",
       "        [1.0886e-06, 6.1502e-01, 3.8497e-01],\n",
       "        [4.6850e-01, 1.1485e-05, 5.3149e-01],\n",
       "        [7.0064e-01, 3.0468e-07, 2.9935e-01],\n",
       "        [6.9101e-01, 3.3779e-07, 3.0899e-01],\n",
       "        [2.7658e-06, 8.0917e-01, 1.9083e-01],\n",
       "        [8.5724e-01, 1.1072e-07, 1.4276e-01],\n",
       "        [2.3507e-07, 7.9569e-01, 2.0431e-01],\n",
       "        [5.3925e-08, 9.0250e-01, 9.7502e-02],\n",
       "        [7.5842e-01, 8.0904e-07, 2.4158e-01],\n",
       "        [8.0000e-01, 1.2924e-05, 1.9999e-01],\n",
       "        [5.2438e-01, 1.9105e-07, 4.7562e-01],\n",
       "        [4.0584e-01, 1.6870e-05, 5.9414e-01],\n",
       "        [5.2064e-01, 3.2633e-07, 4.7936e-01],\n",
       "        [9.4287e-06, 8.9561e-01, 1.0438e-01],\n",
       "        [9.3148e-07, 7.9497e-01, 2.0503e-01],\n",
       "        [4.5450e-01, 2.1485e-06, 5.4550e-01],\n",
       "        [3.2197e-01, 1.1460e-05, 6.7802e-01],\n",
       "        [1.2972e-06, 7.0656e-01, 2.9344e-01],\n",
       "        [9.3923e-08, 6.1804e-01, 3.8196e-01],\n",
       "        [1.5483e-01, 1.0020e-05, 8.4516e-01],\n",
       "        [8.0675e-08, 7.1267e-01, 2.8733e-01],\n",
       "        [5.5558e-01, 6.5779e-06, 4.4441e-01],\n",
       "        [8.5143e-01, 3.0010e-07, 1.4857e-01],\n",
       "        [7.9495e-06, 5.9615e-01, 4.0384e-01],\n",
       "        [2.7794e-05, 9.2253e-01, 7.7445e-02],\n",
       "        [9.2814e-01, 3.7507e-06, 7.1858e-02],\n",
       "        [6.1736e-08, 7.4048e-01, 2.5952e-01],\n",
       "        [7.9826e-01, 9.8831e-08, 2.0174e-01],\n",
       "        [1.4167e-05, 8.2398e-02, 9.1759e-01],\n",
       "        [9.7537e-01, 4.7045e-07, 2.4634e-02],\n",
       "        [7.4199e-07, 6.2258e-01, 3.7742e-01],\n",
       "        [3.8697e-05, 6.9256e-02, 9.3071e-01],\n",
       "        [1.1171e-08, 9.2377e-01, 7.6228e-02],\n",
       "        [8.1280e-01, 7.7957e-09, 1.8720e-01],\n",
       "        [1.1238e-07, 7.6637e-01, 2.3363e-01],\n",
       "        [9.3336e-01, 5.1855e-08, 6.6641e-02],\n",
       "        [5.7135e-07, 7.1210e-01, 2.8790e-01],\n",
       "        [8.7704e-01, 3.2735e-08, 1.2296e-01],\n",
       "        [2.7718e-07, 6.0950e-01, 3.9050e-01],\n",
       "        [6.1392e-08, 6.9452e-01, 3.0548e-01],\n",
       "        [9.6258e-01, 9.9535e-09, 3.7421e-02],\n",
       "        [5.0903e-06, 5.8961e-02, 9.4103e-01],\n",
       "        [8.0843e-01, 1.2445e-07, 1.9157e-01],\n",
       "        [8.0464e-01, 2.9051e-08, 1.9536e-01],\n",
       "        [6.0654e-07, 9.5945e-01, 4.0548e-02],\n",
       "        [8.4136e-01, 9.6359e-05, 1.5854e-01],\n",
       "        [1.1143e-07, 8.3543e-01, 1.6457e-01],\n",
       "        [3.4619e-01, 1.0154e-05, 6.5380e-01],\n",
       "        [3.6549e-07, 5.7317e-01, 4.2683e-01],\n",
       "        [7.8124e-01, 1.9206e-05, 2.1875e-01],\n",
       "        [1.0737e-06, 6.3881e-01, 3.6119e-01],\n",
       "        [1.7648e-04, 1.6371e-01, 8.3611e-01],\n",
       "        [4.9097e-01, 6.1850e-06, 5.0902e-01],\n",
       "        [2.8606e-07, 5.3222e-01, 4.6778e-01],\n",
       "        [7.6916e-08, 8.8525e-01, 1.1475e-01],\n",
       "        [9.7889e-01, 6.4270e-08, 2.1107e-02],\n",
       "        [4.9457e-05, 1.5185e-01, 8.4810e-01]], grad_fn=<SelectBackward0>)"
      ]
     },
     "execution_count": 16,
     "metadata": {},
     "output_type": "execute_result"
    }
   ],
   "source": [
    "cat_diff.y_pred[50][0]"
   ]
  },
  {
   "cell_type": "code",
   "execution_count": 208,
   "id": "03da8669-1401-4c0d-9f75-6836e4eba60d",
   "metadata": {},
   "outputs": [],
   "source": [
    "denoised = cat_diff.y_pred[2:]\n",
    "\n",
    "px_tminus1_giv_xt = q_xtminus1_xt_giv_x0 * denoised"
   ]
  },
  {
   "cell_type": "code",
   "execution_count": 209,
   "id": "3b0281aa-033a-48f7-b36e-e66f753d6818",
   "metadata": {
    "scrolled": true
   },
   "outputs": [
    {
     "data": {
      "text/plain": [
       "tensor([[[[0.0000e+00, 3.1462e-01, 0.0000e+00],\n",
       "          [3.5677e-01, 0.0000e+00, 0.0000e+00],\n",
       "          [3.3245e-01, 0.0000e+00, 0.0000e+00],\n",
       "          ...,\n",
       "          [0.0000e+00, 3.2670e-01, 0.0000e+00],\n",
       "          [0.0000e+00, 3.0302e-01, 0.0000e+00],\n",
       "          [0.0000e+00, 2.9244e-01, 0.0000e+00]],\n",
       "\n",
       "         [[0.0000e+00, 3.3716e-01, 0.0000e+00],\n",
       "          [3.2219e-01, 0.0000e+00, 0.0000e+00],\n",
       "          [2.9704e-01, 0.0000e+00, 0.0000e+00],\n",
       "          ...,\n",
       "          [0.0000e+00, 3.2619e-01, 0.0000e+00],\n",
       "          [3.6161e-01, 0.0000e+00, 0.0000e+00],\n",
       "          [2.8870e-01, 0.0000e+00, 0.0000e+00]],\n",
       "\n",
       "         [[0.0000e+00, 3.0515e-01, 0.0000e+00],\n",
       "          [0.0000e+00, 3.1967e-01, 0.0000e+00],\n",
       "          [3.1448e-01, 0.0000e+00, 0.0000e+00],\n",
       "          ...,\n",
       "          [2.8615e-01, 0.0000e+00, 0.0000e+00],\n",
       "          [0.0000e+00, 3.0698e-01, 0.0000e+00],\n",
       "          [3.2339e-01, 0.0000e+00, 0.0000e+00]],\n",
       "\n",
       "         ...,\n",
       "\n",
       "         [[0.0000e+00, 1.5856e-01, 3.2519e-03],\n",
       "          [3.3326e-01, 0.0000e+00, 0.0000e+00],\n",
       "          [0.0000e+00, 3.2670e-01, 0.0000e+00],\n",
       "          ...,\n",
       "          [3.3106e-01, 0.0000e+00, 0.0000e+00],\n",
       "          [0.0000e+00, 3.2086e-01, 0.0000e+00],\n",
       "          [0.0000e+00, 3.1995e-01, 0.0000e+00]],\n",
       "\n",
       "         [[3.2948e-01, 0.0000e+00, 0.0000e+00],\n",
       "          [0.0000e+00, 3.3625e-01, 0.0000e+00],\n",
       "          [0.0000e+00, 3.2670e-01, 0.0000e+00],\n",
       "          ...,\n",
       "          [2.8064e-01, 0.0000e+00, 0.0000e+00],\n",
       "          [3.0472e-01, 0.0000e+00, 0.0000e+00],\n",
       "          [0.0000e+00, 3.2592e-01, 0.0000e+00]],\n",
       "\n",
       "         [[3.2670e-01, 0.0000e+00, 0.0000e+00],\n",
       "          [3.6159e-01, 0.0000e+00, 0.0000e+00],\n",
       "          [0.0000e+00, 3.4483e-01, 0.0000e+00],\n",
       "          ...,\n",
       "          [3.4310e-01, 0.0000e+00, 0.0000e+00],\n",
       "          [3.5662e-01, 0.0000e+00, 0.0000e+00],\n",
       "          [3.2670e-01, 0.0000e+00, 0.0000e+00]]],\n",
       "\n",
       "\n",
       "        [[[0.0000e+00, 3.3722e-01, 0.0000e+00],\n",
       "          [3.1850e-01, 0.0000e+00, 0.0000e+00],\n",
       "          [3.4382e-01, 0.0000e+00, 0.0000e+00],\n",
       "          ...,\n",
       "          [0.0000e+00, 3.2148e-01, 0.0000e+00],\n",
       "          [0.0000e+00, 3.4507e-01, 0.0000e+00],\n",
       "          [0.0000e+00, 3.3020e-01, 0.0000e+00]],\n",
       "\n",
       "         [[0.0000e+00, 3.0407e-01, 0.0000e+00],\n",
       "          [3.6837e-01, 0.0000e+00, 0.0000e+00],\n",
       "          [3.2343e-01, 0.0000e+00, 0.0000e+00],\n",
       "          ...,\n",
       "          [0.0000e+00, 3.2343e-01, 0.0000e+00],\n",
       "          [3.3788e-01, 0.0000e+00, 0.0000e+00],\n",
       "          [3.4038e-01, 0.0000e+00, 0.0000e+00]],\n",
       "\n",
       "         [[0.0000e+00, 3.4823e-01, 0.0000e+00],\n",
       "          [0.0000e+00, 3.0180e-01, 0.0000e+00],\n",
       "          [3.3380e-01, 0.0000e+00, 0.0000e+00],\n",
       "          ...,\n",
       "          [3.2256e-01, 0.0000e+00, 0.0000e+00],\n",
       "          [0.0000e+00, 3.2715e-01, 0.0000e+00],\n",
       "          [3.0749e-01, 0.0000e+00, 0.0000e+00]],\n",
       "\n",
       "         ...,\n",
       "\n",
       "         [[0.0000e+00, 8.7965e-02, 5.4671e-03],\n",
       "          [3.1709e-01, 0.0000e+00, 0.0000e+00],\n",
       "          [0.0000e+00, 3.2343e-01, 0.0000e+00],\n",
       "          ...,\n",
       "          [3.1614e-01, 0.0000e+00, 0.0000e+00],\n",
       "          [0.0000e+00, 2.6522e-01, 0.0000e+00],\n",
       "          [0.0000e+00, 2.9581e-01, 0.0000e+00]],\n",
       "\n",
       "         [[3.1504e-01, 0.0000e+00, 0.0000e+00],\n",
       "          [0.0000e+00, 3.0370e-01, 0.0000e+00],\n",
       "          [0.0000e+00, 3.2343e-01, 0.0000e+00],\n",
       "          ...,\n",
       "          [3.1425e-01, 0.0000e+00, 0.0000e+00],\n",
       "          [3.0266e-01, 0.0000e+00, 0.0000e+00],\n",
       "          [0.0000e+00, 1.1164e-01, 6.4808e-03]],\n",
       "\n",
       "         [[3.5002e-01, 0.0000e+00, 0.0000e+00],\n",
       "          [3.1669e-01, 0.0000e+00, 0.0000e+00],\n",
       "          [0.0000e+00, 3.3298e-01, 0.0000e+00],\n",
       "          ...,\n",
       "          [3.2343e-01, 0.0000e+00, 0.0000e+00],\n",
       "          [3.0823e-01, 0.0000e+00, 0.0000e+00],\n",
       "          [3.0815e-01, 0.0000e+00, 0.0000e+00]]],\n",
       "\n",
       "\n",
       "        [[[0.0000e+00, 3.3066e-01, 0.0000e+00],\n",
       "          [3.3928e-01, 0.0000e+00, 0.0000e+00],\n",
       "          [3.0747e-01, 0.0000e+00, 0.0000e+00],\n",
       "          ...,\n",
       "          [0.0000e+00, 3.8212e-01, 0.0000e+00],\n",
       "          [0.0000e+00, 3.0885e-01, 0.0000e+00],\n",
       "          [0.0000e+00, 3.6789e-01, 0.0000e+00]],\n",
       "\n",
       "         [[0.0000e+00, 2.9206e-01, 0.0000e+00],\n",
       "          [3.2165e-01, 0.0000e+00, 0.0000e+00],\n",
       "          [3.3117e-01, 0.0000e+00, 0.0000e+00],\n",
       "          ...,\n",
       "          [0.0000e+00, 3.1823e-01, 0.0000e+00],\n",
       "          [3.3278e-01, 0.0000e+00, 0.0000e+00],\n",
       "          [3.1436e-01, 0.0000e+00, 0.0000e+00]],\n",
       "\n",
       "         [[0.0000e+00, 3.2958e-01, 0.0000e+00],\n",
       "          [0.0000e+00, 3.2058e-01, 0.0000e+00],\n",
       "          [3.1537e-01, 0.0000e+00, 0.0000e+00],\n",
       "          ...,\n",
       "          [3.6215e-01, 0.0000e+00, 0.0000e+00],\n",
       "          [0.0000e+00, 3.3315e-01, 0.0000e+00],\n",
       "          [3.2449e-01, 0.0000e+00, 0.0000e+00]],\n",
       "\n",
       "         ...,\n",
       "\n",
       "         [[0.0000e+00, 7.6083e-02, 1.0498e-02],\n",
       "          [2.9603e-01, 0.0000e+00, 0.0000e+00],\n",
       "          [0.0000e+00, 2.9741e-01, 0.0000e+00],\n",
       "          ...,\n",
       "          [3.2020e-01, 0.0000e+00, 0.0000e+00],\n",
       "          [0.0000e+00, 3.2264e-01, 0.0000e+00],\n",
       "          [0.0000e+00, 3.3696e-01, 0.0000e+00]],\n",
       "\n",
       "         [[3.1637e-01, 0.0000e+00, 0.0000e+00],\n",
       "          [0.0000e+00, 3.2020e-01, 0.0000e+00],\n",
       "          [0.0000e+00, 3.0711e-01, 0.0000e+00],\n",
       "          ...,\n",
       "          [3.1888e-01, 0.0000e+00, 0.0000e+00],\n",
       "          [3.2946e-01, 0.0000e+00, 0.0000e+00],\n",
       "          [0.0000e+00, 8.7624e-02, 9.3493e-03]],\n",
       "\n",
       "         [[3.4573e-01, 0.0000e+00, 0.0000e+00],\n",
       "          [3.4582e-01, 0.0000e+00, 0.0000e+00],\n",
       "          [0.0000e+00, 3.1756e-01, 0.0000e+00],\n",
       "          ...,\n",
       "          [3.4381e-01, 0.0000e+00, 0.0000e+00],\n",
       "          [7.8847e-02, 0.0000e+00, 9.9003e-03],\n",
       "          [2.8895e-01, 0.0000e+00, 0.0000e+00]]],\n",
       "\n",
       "\n",
       "        ...,\n",
       "\n",
       "\n",
       "        [[[0.0000e+00, 3.7909e-04, 4.1565e-01],\n",
       "          [1.1423e-03, 0.0000e+00, 2.2191e-01],\n",
       "          [5.8507e-04, 0.0000e+00, 1.2066e-01],\n",
       "          ...,\n",
       "          [0.0000e+00, 3.7304e-04, 3.0467e-01],\n",
       "          [0.0000e+00, 4.0612e-04, 4.0841e-01],\n",
       "          [0.0000e+00, 7.6940e-04, 2.0632e-01]],\n",
       "\n",
       "         [[0.0000e+00, 5.3297e-04, 2.4242e-01],\n",
       "          [7.2225e-04, 0.0000e+00, 2.2855e-01],\n",
       "          [7.6940e-04, 0.0000e+00, 2.0632e-01],\n",
       "          ...,\n",
       "          [0.0000e+00, 7.6940e-04, 2.0632e-01],\n",
       "          [7.6297e-04, 0.0000e+00, 2.0976e-01],\n",
       "          [6.2826e-04, 0.0000e+00, 2.3843e-01]],\n",
       "\n",
       "         [[0.0000e+00, 6.9511e-04, 1.8640e-01],\n",
       "          [0.0000e+00, 4.6922e-04, 3.6730e-01],\n",
       "          [7.6940e-04, 0.0000e+00, 2.0632e-01],\n",
       "          ...,\n",
       "          [5.9710e-04, 0.0000e+00, 2.9872e-01],\n",
       "          [0.0000e+00, 5.9034e-04, 3.0234e-01],\n",
       "          [5.8848e-04, 0.0000e+00, 3.0334e-01]],\n",
       "\n",
       "         ...,\n",
       "\n",
       "         [[0.0000e+00, 6.6684e-04, 1.9659e-01],\n",
       "          [7.5912e-04, 0.0000e+00, 2.1183e-01],\n",
       "          [0.0000e+00, 7.7719e-04, 2.0527e-01],\n",
       "          ...,\n",
       "          [7.4850e-04, 0.0000e+00, 2.1752e-01],\n",
       "          [0.0000e+00, 7.0018e-04, 1.8250e-01],\n",
       "          [0.0000e+00, 7.6940e-04, 2.0632e-01]],\n",
       "\n",
       "         [[6.1240e-04, 0.0000e+00, 2.9052e-01],\n",
       "          [0.0000e+00, 1.0043e-03, 2.1995e-01],\n",
       "          [0.0000e+00, 6.5847e-04, 2.6581e-01],\n",
       "          ...,\n",
       "          [5.5107e-04, 0.0000e+00, 3.2341e-01],\n",
       "          [5.1028e-04, 0.0000e+00, 3.4528e-01],\n",
       "          [0.0000e+00, 8.2352e-04, 1.9133e-01]],\n",
       "\n",
       "         [[9.9928e-04, 0.0000e+00, 1.7550e-01],\n",
       "          [5.6144e-04, 0.0000e+00, 3.1785e-01],\n",
       "          [0.0000e+00, 6.8461e-04, 2.1139e-01],\n",
       "          ...,\n",
       "          [8.1555e-04, 0.0000e+00, 1.5929e-01],\n",
       "          [7.4270e-04, 0.0000e+00, 2.2063e-01],\n",
       "          [6.8001e-04, 0.0000e+00, 2.5426e-01]]],\n",
       "\n",
       "\n",
       "        [[[0.0000e+00, 6.2419e-04, 2.7702e-01],\n",
       "          [6.2415e-04, 0.0000e+00, 2.3417e-01],\n",
       "          [7.4954e-04, 0.0000e+00, 2.0759e-01],\n",
       "          ...,\n",
       "          [0.0000e+00, 7.4954e-04, 2.0759e-01],\n",
       "          [0.0000e+00, 4.9372e-04, 1.6831e-01],\n",
       "          [0.0000e+00, 7.4954e-04, 2.0759e-01]],\n",
       "\n",
       "         [[0.0000e+00, 6.7042e-04, 1.7931e-01],\n",
       "          [8.1981e-04, 0.0000e+00, 2.1633e-01],\n",
       "          [7.4954e-04, 0.0000e+00, 2.0759e-01],\n",
       "          ...,\n",
       "          [0.0000e+00, 7.3227e-04, 2.2773e-01],\n",
       "          [8.1097e-04, 0.0000e+00, 1.9908e-01],\n",
       "          [7.4954e-04, 0.0000e+00, 2.0759e-01]],\n",
       "\n",
       "         [[0.0000e+00, 7.2805e-04, 2.0163e-01],\n",
       "          [0.0000e+00, 7.3321e-04, 2.0630e-01],\n",
       "          [7.4954e-04, 0.0000e+00, 2.0759e-01],\n",
       "          ...,\n",
       "          [7.4690e-04, 0.0000e+00, 2.0905e-01],\n",
       "          [0.0000e+00, 7.3979e-04, 2.0055e-01],\n",
       "          [7.6551e-04, 0.0000e+00, 2.0245e-01]],\n",
       "\n",
       "         ...,\n",
       "\n",
       "         [[0.0000e+00, 7.4153e-04, 2.0537e-01],\n",
       "          [7.9015e-04, 0.0000e+00, 1.9154e-01],\n",
       "          [0.0000e+00, 7.2907e-04, 2.1708e-01],\n",
       "          ...,\n",
       "          [7.4954e-04, 0.0000e+00, 2.0759e-01],\n",
       "          [0.0000e+00, 7.2993e-04, 2.0216e-01],\n",
       "          [0.0000e+00, 7.7022e-04, 1.9826e-01]],\n",
       "\n",
       "         [[7.5745e-04, 0.0000e+00, 2.3313e-01],\n",
       "          [0.0000e+00, 6.9705e-04, 2.3667e-01],\n",
       "          [0.0000e+00, 7.2789e-04, 2.0094e-01],\n",
       "          ...,\n",
       "          [7.4954e-04, 0.0000e+00, 2.0759e-01],\n",
       "          [1.0090e-03, 0.0000e+00, 1.7166e-01],\n",
       "          [0.0000e+00, 7.1179e-04, 2.2850e-01]],\n",
       "\n",
       "         [[7.4954e-04, 0.0000e+00, 2.0759e-01],\n",
       "          [6.9930e-04, 0.0000e+00, 2.3542e-01],\n",
       "          [0.0000e+00, 6.7917e-04, 2.3259e-01],\n",
       "          ...,\n",
       "          [7.6032e-04, 0.0000e+00, 2.0610e-01],\n",
       "          [8.4695e-04, 0.0000e+00, 2.0037e-01],\n",
       "          [7.4954e-04, 0.0000e+00, 2.0759e-01]]],\n",
       "\n",
       "\n",
       "        [[[0.0000e+00, 7.3587e-04, 1.9927e-01],\n",
       "          [7.1227e-04, 0.0000e+00, 2.0369e-01],\n",
       "          [7.3028e-04, 0.0000e+00, 2.0885e-01],\n",
       "          ...,\n",
       "          [0.0000e+00, 6.9042e-04, 2.3164e-01],\n",
       "          [0.0000e+00, 7.0599e-04, 2.2274e-01],\n",
       "          [0.0000e+00, 7.0283e-04, 2.1575e-01]],\n",
       "\n",
       "         [[0.0000e+00, 7.5273e-04, 1.9288e-01],\n",
       "          [7.3204e-04, 0.0000e+00, 2.2124e-01],\n",
       "          [7.3028e-04, 0.0000e+00, 2.0885e-01],\n",
       "          ...,\n",
       "          [0.0000e+00, 7.4048e-04, 2.1745e-01],\n",
       "          [8.1192e-04, 0.0000e+00, 1.9717e-01],\n",
       "          [8.4004e-04, 0.0000e+00, 1.9564e-01]],\n",
       "\n",
       "         [[0.0000e+00, 7.3111e-04, 1.6817e-01],\n",
       "          [0.0000e+00, 6.2841e-04, 2.6711e-01],\n",
       "          [8.2073e-04, 0.0000e+00, 2.3377e-01],\n",
       "          ...,\n",
       "          [7.5608e-04, 0.0000e+00, 2.0516e-01],\n",
       "          [0.0000e+00, 6.2543e-04, 1.7886e-01],\n",
       "          [7.7498e-04, 0.0000e+00, 2.0334e-01]],\n",
       "\n",
       "         ...,\n",
       "\n",
       "         [[0.0000e+00, 1.0958e-03, 1.5658e-01],\n",
       "          [5.5401e-04, 0.0000e+00, 2.2553e-01],\n",
       "          [0.0000e+00, 6.7116e-04, 1.7928e-01],\n",
       "          ...,\n",
       "          [5.4571e-04, 0.0000e+00, 3.1441e-01],\n",
       "          [0.0000e+00, 7.2986e-04, 2.0908e-01],\n",
       "          [0.0000e+00, 7.3028e-04, 2.0885e-01]],\n",
       "\n",
       "         [[7.9693e-04, 0.0000e+00, 1.7161e-01],\n",
       "          [0.0000e+00, 6.9062e-04, 1.9751e-01],\n",
       "          [0.0000e+00, 4.5239e-04, 1.5962e-01],\n",
       "          ...,\n",
       "          [7.3028e-04, 0.0000e+00, 2.0885e-01],\n",
       "          [9.1702e-04, 0.0000e+00, 1.7157e-01],\n",
       "          [0.0000e+00, 1.1570e-03, 1.4782e-01]],\n",
       "\n",
       "         [[1.2283e-03, 0.0000e+00, 1.3519e-01],\n",
       "          [1.2280e-03, 0.0000e+00, 1.3768e-01],\n",
       "          [0.0000e+00, 7.3028e-04, 2.0885e-01],\n",
       "          ...,\n",
       "          [3.8107e-04, 0.0000e+00, 4.0858e-01],\n",
       "          [8.8149e-04, 0.0000e+00, 1.8722e-01],\n",
       "          [7.2787e-04, 0.0000e+00, 2.0816e-01]]]], grad_fn=<MulBackward0>)"
      ]
     },
     "execution_count": 209,
     "metadata": {},
     "output_type": "execute_result"
    }
   ],
   "source": [
    "px_tminus1_giv_xt"
   ]
  },
  {
   "cell_type": "code",
   "execution_count": 212,
   "id": "813b7f46-7726-4729-a299-bc61557e6f20",
   "metadata": {},
   "outputs": [
    {
     "data": {
      "text/plain": [
       "tensor(nan, grad_fn=<MeanBackward0>)"
      ]
     },
     "execution_count": 212,
     "metadata": {},
     "output_type": "execute_result"
    }
   ],
   "source": [
    "torch.mean(\n",
    "            torch.sum(\n",
    "                cat_diff.forward_conditionals[2:] * (\n",
    "                    stuff * torch.log(\n",
    "                        (stuff + 1e-6)/(px_tminus1_giv_xt+1e-6)\n",
    "                    )\n",
    "                ),\n",
    "                axis=-1\n",
    "            )\n",
    "        )"
   ]
  },
  {
   "cell_type": "code",
   "execution_count": 226,
   "id": "b01c4bb4-af57-480e-94b1-ea888dd1b1e7",
   "metadata": {},
   "outputs": [
    {
     "data": {
      "text/plain": [
       "(array([94, 94, 94]),\n",
       " array([24, 24, 24]),\n",
       " array([15, 15, 15]),\n",
       " array([0, 1, 2]))"
      ]
     },
     "execution_count": 226,
     "metadata": {},
     "output_type": "execute_result"
    }
   ],
   "source": [
    "np.where(np.isnan(cat_diff.forward_conditionals[2:] * (\n",
    "        stuff * torch.log(\n",
    "            (stuff + 1e-6)/(px_tminus1_giv_xt+1e-6)\n",
    "        )\n",
    "    ).detach().numpy()))"
   ]
  },
  {
   "cell_type": "code",
   "execution_count": 234,
   "id": "8ae5c98c-2e1e-4b90-9cd8-9219e532fc12",
   "metadata": {},
   "outputs": [
    {
     "data": {
      "text/plain": [
       "tensor(nan)"
      ]
     },
     "execution_count": 234,
     "metadata": {},
     "output_type": "execute_result"
    }
   ],
   "source": [
    "stuff[94,24,15,2]"
   ]
  },
  {
   "cell_type": "code",
   "execution_count": 230,
   "id": "e20f9b6f-72ad-4eaf-8c2e-045948a6179f",
   "metadata": {
    "scrolled": true
   },
   "outputs": [
    {
     "data": {
      "text/plain": [
       "tensor([[[[nan, nan, nan],\n",
       "          [nan, nan, nan],\n",
       "          [nan, nan, nan],\n",
       "          ...,\n",
       "          [nan, nan, nan],\n",
       "          [nan, nan, nan],\n",
       "          [nan, nan, nan]],\n",
       "\n",
       "         [[nan, nan, nan],\n",
       "          [nan, nan, nan],\n",
       "          [nan, nan, nan],\n",
       "          ...,\n",
       "          [nan, nan, nan],\n",
       "          [nan, nan, nan],\n",
       "          [nan, nan, nan]],\n",
       "\n",
       "         [[nan, nan, nan],\n",
       "          [nan, nan, nan],\n",
       "          [nan, nan, nan],\n",
       "          ...,\n",
       "          [nan, nan, nan],\n",
       "          [nan, nan, nan],\n",
       "          [nan, nan, nan]],\n",
       "\n",
       "         ...,\n",
       "\n",
       "         [[nan, nan, nan],\n",
       "          [nan, nan, nan],\n",
       "          [nan, nan, nan],\n",
       "          ...,\n",
       "          [nan, nan, nan],\n",
       "          [nan, nan, nan],\n",
       "          [nan, nan, nan]],\n",
       "\n",
       "         [[nan, nan, nan],\n",
       "          [nan, nan, nan],\n",
       "          [nan, nan, nan],\n",
       "          ...,\n",
       "          [nan, nan, nan],\n",
       "          [nan, nan, nan],\n",
       "          [nan, nan, nan]],\n",
       "\n",
       "         [[nan, nan, nan],\n",
       "          [nan, nan, nan],\n",
       "          [nan, nan, nan],\n",
       "          ...,\n",
       "          [nan, nan, nan],\n",
       "          [nan, nan, nan],\n",
       "          [nan, nan, nan]]],\n",
       "\n",
       "\n",
       "        [[[nan, nan, nan],\n",
       "          [nan, nan, nan],\n",
       "          [nan, nan, nan],\n",
       "          ...,\n",
       "          [nan, nan, nan],\n",
       "          [nan, nan, nan],\n",
       "          [nan, nan, nan]],\n",
       "\n",
       "         [[nan, nan, nan],\n",
       "          [nan, nan, nan],\n",
       "          [nan, nan, nan],\n",
       "          ...,\n",
       "          [nan, nan, nan],\n",
       "          [nan, nan, nan],\n",
       "          [nan, nan, nan]],\n",
       "\n",
       "         [[nan, nan, nan],\n",
       "          [nan, nan, nan],\n",
       "          [nan, nan, nan],\n",
       "          ...,\n",
       "          [nan, nan, nan],\n",
       "          [nan, nan, nan],\n",
       "          [nan, nan, nan]],\n",
       "\n",
       "         ...,\n",
       "\n",
       "         [[nan, nan, nan],\n",
       "          [nan, nan, nan],\n",
       "          [nan, nan, nan],\n",
       "          ...,\n",
       "          [nan, nan, nan],\n",
       "          [nan, nan, nan],\n",
       "          [nan, nan, nan]],\n",
       "\n",
       "         [[nan, nan, nan],\n",
       "          [nan, nan, nan],\n",
       "          [nan, nan, nan],\n",
       "          ...,\n",
       "          [nan, nan, nan],\n",
       "          [nan, nan, nan],\n",
       "          [nan, nan, nan]],\n",
       "\n",
       "         [[nan, nan, nan],\n",
       "          [nan, nan, nan],\n",
       "          [nan, nan, nan],\n",
       "          ...,\n",
       "          [nan, nan, nan],\n",
       "          [nan, nan, nan],\n",
       "          [nan, nan, nan]]],\n",
       "\n",
       "\n",
       "        [[[nan, nan, nan],\n",
       "          [nan, nan, nan],\n",
       "          [nan, nan, nan],\n",
       "          ...,\n",
       "          [nan, nan, nan],\n",
       "          [nan, nan, nan],\n",
       "          [nan, nan, nan]],\n",
       "\n",
       "         [[nan, nan, nan],\n",
       "          [nan, nan, nan],\n",
       "          [nan, nan, nan],\n",
       "          ...,\n",
       "          [nan, nan, nan],\n",
       "          [nan, nan, nan],\n",
       "          [nan, nan, nan]],\n",
       "\n",
       "         [[nan, nan, nan],\n",
       "          [nan, nan, nan],\n",
       "          [nan, nan, nan],\n",
       "          ...,\n",
       "          [nan, nan, nan],\n",
       "          [nan, nan, nan],\n",
       "          [nan, nan, nan]],\n",
       "\n",
       "         ...,\n",
       "\n",
       "         [[nan, nan, nan],\n",
       "          [nan, nan, nan],\n",
       "          [nan, nan, nan],\n",
       "          ...,\n",
       "          [nan, nan, nan],\n",
       "          [nan, nan, nan],\n",
       "          [nan, nan, nan]],\n",
       "\n",
       "         [[nan, nan, nan],\n",
       "          [nan, nan, nan],\n",
       "          [nan, nan, nan],\n",
       "          ...,\n",
       "          [nan, nan, nan],\n",
       "          [nan, nan, nan],\n",
       "          [nan, nan, nan]],\n",
       "\n",
       "         [[nan, nan, nan],\n",
       "          [nan, nan, nan],\n",
       "          [nan, nan, nan],\n",
       "          ...,\n",
       "          [nan, nan, nan],\n",
       "          [nan, nan, nan],\n",
       "          [nan, nan, nan]]],\n",
       "\n",
       "\n",
       "        ...,\n",
       "\n",
       "\n",
       "        [[[nan, nan, nan],\n",
       "          [nan, nan, nan],\n",
       "          [nan, nan, nan],\n",
       "          ...,\n",
       "          [nan, nan, nan],\n",
       "          [nan, nan, nan],\n",
       "          [nan, nan, nan]],\n",
       "\n",
       "         [[nan, nan, nan],\n",
       "          [nan, nan, nan],\n",
       "          [nan, nan, nan],\n",
       "          ...,\n",
       "          [nan, nan, nan],\n",
       "          [nan, nan, nan],\n",
       "          [nan, nan, nan]],\n",
       "\n",
       "         [[nan, nan, nan],\n",
       "          [nan, nan, nan],\n",
       "          [nan, nan, nan],\n",
       "          ...,\n",
       "          [nan, nan, nan],\n",
       "          [nan, nan, nan],\n",
       "          [nan, nan, nan]],\n",
       "\n",
       "         ...,\n",
       "\n",
       "         [[nan, nan, nan],\n",
       "          [nan, nan, nan],\n",
       "          [nan, nan, nan],\n",
       "          ...,\n",
       "          [nan, nan, nan],\n",
       "          [nan, nan, nan],\n",
       "          [nan, nan, nan]],\n",
       "\n",
       "         [[nan, nan, nan],\n",
       "          [nan, nan, nan],\n",
       "          [nan, nan, nan],\n",
       "          ...,\n",
       "          [nan, nan, nan],\n",
       "          [nan, nan, nan],\n",
       "          [nan, nan, nan]],\n",
       "\n",
       "         [[nan, nan, nan],\n",
       "          [nan, nan, nan],\n",
       "          [nan, nan, nan],\n",
       "          ...,\n",
       "          [nan, nan, nan],\n",
       "          [nan, nan, nan],\n",
       "          [nan, nan, nan]]],\n",
       "\n",
       "\n",
       "        [[[nan, nan, nan],\n",
       "          [nan, nan, nan],\n",
       "          [nan, nan, nan],\n",
       "          ...,\n",
       "          [nan, nan, nan],\n",
       "          [nan, nan, nan],\n",
       "          [nan, nan, nan]],\n",
       "\n",
       "         [[nan, nan, nan],\n",
       "          [nan, nan, nan],\n",
       "          [nan, nan, nan],\n",
       "          ...,\n",
       "          [nan, nan, nan],\n",
       "          [nan, nan, nan],\n",
       "          [nan, nan, nan]],\n",
       "\n",
       "         [[nan, nan, nan],\n",
       "          [nan, nan, nan],\n",
       "          [nan, nan, nan],\n",
       "          ...,\n",
       "          [nan, nan, nan],\n",
       "          [nan, nan, nan],\n",
       "          [nan, nan, nan]],\n",
       "\n",
       "         ...,\n",
       "\n",
       "         [[nan, nan, nan],\n",
       "          [nan, nan, nan],\n",
       "          [nan, nan, nan],\n",
       "          ...,\n",
       "          [nan, nan, nan],\n",
       "          [nan, nan, nan],\n",
       "          [nan, nan, nan]],\n",
       "\n",
       "         [[nan, nan, nan],\n",
       "          [nan, nan, nan],\n",
       "          [nan, nan, nan],\n",
       "          ...,\n",
       "          [nan, nan, nan],\n",
       "          [nan, nan, nan],\n",
       "          [nan, nan, nan]],\n",
       "\n",
       "         [[nan, nan, nan],\n",
       "          [nan, nan, nan],\n",
       "          [nan, nan, nan],\n",
       "          ...,\n",
       "          [nan, nan, nan],\n",
       "          [nan, nan, nan],\n",
       "          [nan, nan, nan]]],\n",
       "\n",
       "\n",
       "        [[[nan, nan, nan],\n",
       "          [nan, nan, nan],\n",
       "          [nan, nan, nan],\n",
       "          ...,\n",
       "          [nan, nan, nan],\n",
       "          [nan, nan, nan],\n",
       "          [nan, nan, nan]],\n",
       "\n",
       "         [[nan, nan, nan],\n",
       "          [nan, nan, nan],\n",
       "          [nan, nan, nan],\n",
       "          ...,\n",
       "          [nan, nan, nan],\n",
       "          [nan, nan, nan],\n",
       "          [nan, nan, nan]],\n",
       "\n",
       "         [[nan, nan, nan],\n",
       "          [nan, nan, nan],\n",
       "          [nan, nan, nan],\n",
       "          ...,\n",
       "          [nan, nan, nan],\n",
       "          [nan, nan, nan],\n",
       "          [nan, nan, nan]],\n",
       "\n",
       "         ...,\n",
       "\n",
       "         [[nan, nan, nan],\n",
       "          [nan, nan, nan],\n",
       "          [nan, nan, nan],\n",
       "          ...,\n",
       "          [nan, nan, nan],\n",
       "          [nan, nan, nan],\n",
       "          [nan, nan, nan]],\n",
       "\n",
       "         [[nan, nan, nan],\n",
       "          [nan, nan, nan],\n",
       "          [nan, nan, nan],\n",
       "          ...,\n",
       "          [nan, nan, nan],\n",
       "          [nan, nan, nan],\n",
       "          [nan, nan, nan]],\n",
       "\n",
       "         [[nan, nan, nan],\n",
       "          [nan, nan, nan],\n",
       "          [nan, nan, nan],\n",
       "          ...,\n",
       "          [nan, nan, nan],\n",
       "          [nan, nan, nan],\n",
       "          [nan, nan, nan]]]], grad_fn=<MulBackward0>)"
      ]
     },
     "execution_count": 230,
     "metadata": {},
     "output_type": "execute_result"
    }
   ],
   "source": [
    "cat_diff.forward_conditionals[2:] * (\n",
    "        stuff * torch.log(\n",
    "            (stuff + 1e-6)/(px_tminus1_giv_xt+1e-6)\n",
    "        )\n",
    ")[94,24,15,0]\n",
    "    "
   ]
  },
  {
   "cell_type": "code",
   "execution_count": 215,
   "id": "50930109-7282-4f7a-b9b8-be4347080f01",
   "metadata": {},
   "outputs": [
    {
     "data": {
      "text/plain": [
       "True"
      ]
     },
     "execution_count": 215,
     "metadata": {},
     "output_type": "execute_result"
    }
   ],
   "source": [
    "np.isnan(torch.sum(\n",
    "    cat_diff.forward_conditionals[2:] * (\n",
    "        stuff * torch.log(\n",
    "            (stuff + 1e-6)/(px_tminus1_giv_xt+1e-6)\n",
    "        )\n",
    "    ),\n",
    "    axis=-1\n",
    ").detach().numpy()).any()"
   ]
  },
  {
   "cell_type": "code",
   "execution_count": 216,
   "id": "2c7b9ca2-b68b-423e-ba29-387f1223cf97",
   "metadata": {},
   "outputs": [
    {
     "data": {
      "text/plain": [
       "(array([94]), array([24]), array([15]))"
      ]
     },
     "execution_count": 216,
     "metadata": {},
     "output_type": "execute_result"
    }
   ],
   "source": [
    "np.where(np.isnan(torch.sum(\n",
    "    cat_diff.forward_conditionals[2:] * (\n",
    "        stuff * torch.log(\n",
    "            (stuff + 1e-6)/(px_tminus1_giv_xt+1e-6)\n",
    "        )\n",
    "    ),\n",
    "    axis=-1\n",
    ").detach().numpy()))"
   ]
  },
  {
   "cell_type": "code",
   "execution_count": 220,
   "id": "c95f773d-cdde-440a-8b0f-92e5f7d93407",
   "metadata": {},
   "outputs": [
    {
     "data": {
      "text/plain": [
       "tensor([1.0332, 0.6706, 0.9716, 0.9757, 0.9757, 0.9757, 1.0741, 0.7729, 1.1290,\n",
       "        0.9757, 0.9757, 1.4398, 0.9554, 0.7639, 0.8608,    nan, 0.7205, 0.7551,\n",
       "        1.3197, 1.0787, 1.0720, 1.4066, 0.6798, 1.0329, 1.2583, 1.5059, 1.4623,\n",
       "        0.8676, 0.9757, 0.8594, 1.1232, 0.9757, 0.9757, 0.9757, 1.1720, 1.2588,\n",
       "        0.7667, 0.7437, 1.1948, 0.9847, 0.7845, 0.5300, 0.6469, 1.4376, 1.0879,\n",
       "        0.9078, 0.7355, 1.7366, 1.0102, 1.1947, 0.6780, 1.0162, 1.2185, 1.2742,\n",
       "        1.0918, 0.9757, 1.2834, 0.9914, 0.9757, 1.0105, 1.1534, 1.3210, 1.2183,\n",
       "        0.6016, 1.0976, 0.8873, 1.2643, 1.6309, 0.6532, 1.2003, 1.3970, 1.0385,\n",
       "        0.8668, 0.9967, 1.5562, 0.8305, 1.2290, 0.5932, 0.9200, 1.2263, 1.3277,\n",
       "        0.9840, 1.3741, 0.9757, 0.9794, 1.1538, 0.9106, 1.0421, 1.3159, 0.8671,\n",
       "        0.7996, 1.5560, 1.2296, 1.1848, 1.4853, 0.9757, 1.4080, 0.9757, 1.1681,\n",
       "        0.9757], grad_fn=<SelectBackward0>)"
      ]
     },
     "execution_count": 220,
     "metadata": {},
     "output_type": "execute_result"
    }
   ],
   "source": [
    "torch.sum(\n",
    "    cat_diff.forward_conditionals[2:] * (\n",
    "        stuff * torch.log(\n",
    "            (stuff + 1e-6)/(px_tminus1_giv_xt+1e-6)\n",
    "        )\n",
    "    ),\n",
    "    axis=-1\n",
    ")[94][24]"
   ]
  },
  {
   "cell_type": "code",
   "execution_count": 222,
   "id": "e8b9276e-d662-439a-9b61-e4601a77a29f",
   "metadata": {},
   "outputs": [
    {
     "data": {
      "text/plain": [
       "torch.Size([98, 128, 100, 3])"
      ]
     },
     "execution_count": 222,
     "metadata": {},
     "output_type": "execute_result"
    }
   ],
   "source": [
    "cat_diff.forward_conditionals[2:].shape"
   ]
  },
  {
   "cell_type": "code",
   "execution_count": 180,
   "id": "b3442cad-93d6-4181-b590-a5d69354d056",
   "metadata": {
    "scrolled": true
   },
   "outputs": [],
   "source": [
    "Lt0_t1_loss = cat_diff.L_t0t1(Y_spins)"
   ]
  },
  {
   "cell_type": "code",
   "execution_count": 181,
   "id": "8da26d15-6bcb-4458-ab25-1de1515e4d61",
   "metadata": {},
   "outputs": [
    {
     "data": {
      "text/plain": [
       "tensor(1.1005, grad_fn=<NegBackward0>)"
      ]
     },
     "execution_count": 181,
     "metadata": {},
     "output_type": "execute_result"
    }
   ],
   "source": [
    "Lt0_t1_loss"
   ]
  },
  {
   "cell_type": "code",
   "execution_count": 182,
   "id": "e29f0c8f-82d6-4f43-bf68-2e46840e5d86",
   "metadata": {},
   "outputs": [],
   "source": [
    "Ltminus1    = cat_diff.L_tminus1(Y_spins, noised_samples)"
   ]
  },
  {
   "cell_type": "code",
   "execution_count": 91,
   "id": "d478c13f-58bb-4f5d-a8c8-3ad813a4c0f1",
   "metadata": {},
   "outputs": [
    {
     "data": {
      "text/plain": [
       "torch.Size([12800, 128])"
      ]
     },
     "execution_count": 91,
     "metadata": {},
     "output_type": "execute_result"
    }
   ],
   "source": [
    "cat_diff.eval()\n",
    "\n",
    "t = ts.reshape(ts.shape[0] * ts.shape[1], 1)\n",
    "\n",
    "time_encoding = cat_diff.denoiser.forward_time_1(t)\n",
    "cat_diff.denoiser.forward_time_2(time_encoding).shape"
   ]
  },
  {
   "cell_type": "code",
   "execution_count": 93,
   "id": "8d6daebf-99e6-42d5-8433-3fccc5d68420",
   "metadata": {},
   "outputs": [
    {
     "name": "stdout",
     "output_type": "stream",
     "text": [
      "tensor([ 0.0000,  0.0000,  0.0000,  ..., 37.5615, 37.5615, 37.5615],\n",
      "       grad_fn=<SelectBackward0>)\n"
     ]
    }
   ],
   "source": [
    "print(time_encoding[:,0])"
   ]
  },
  {
   "cell_type": "code",
   "execution_count": 183,
   "id": "dfe5f3b9-ea2a-4c93-964a-31ce0f11bb8a",
   "metadata": {},
   "outputs": [
    {
     "data": {
      "text/plain": [
       "tensor(nan, grad_fn=<MeanBackward0>)"
      ]
     },
     "execution_count": 183,
     "metadata": {},
     "output_type": "execute_result"
    }
   ],
   "source": [
    "Ltminus1"
   ]
  },
  {
   "cell_type": "code",
   "execution_count": 201,
   "id": "3fc83300-174d-4b94-ae57-f94084904032",
   "metadata": {
    "scrolled": true
   },
   "outputs": [
    {
     "data": {
      "text/plain": [
       "tensor([0., 0., 0., 0., 0., 0., 0., 0., 0., 0., 0., 0., 0., 0., 0., 0., 0., 0.,\n",
       "        0., 0., 0., 0., 0., 0., 0., 0., 0., 0., 0., 0., 0., 0., 0., 0., 0., 0.,\n",
       "        0., 0., 0., 0., 0., 0., 0., 0., 0., 0., 0., 0., 0., 0., 0., 0., 0., 0.,\n",
       "        0., 0., 0., 1., 0., 0., 0., 0., 0., 0., 0., 0., 0., 0., 0., 0., 0., 0.,\n",
       "        0., 0., 0., 0., 0., 0., 0., 0., 0., 0., 0., 0., 0., 0., 0., 1., 0., 0.,\n",
       "        0., 0., 0., 0., 0., 0., 0., 0., 0., 0.])"
      ]
     },
     "execution_count": 201,
     "metadata": {},
     "output_type": "execute_result"
    }
   ],
   "source": [
    "noised_samples[1][3][:,2]"
   ]
  },
  {
   "cell_type": "code",
   "execution_count": 193,
   "id": "faa4c9ab-ba8f-4ab6-a816-f799cc930644",
   "metadata": {},
   "outputs": [
    {
     "data": {
      "text/plain": [
       "tensor([[[1., 0., 0.],\n",
       "         [0., 1., 0.],\n",
       "         [1., 0., 0.],\n",
       "         ...,\n",
       "         [1., 0., 0.],\n",
       "         [0., 1., 0.],\n",
       "         [1., 0., 0.]],\n",
       "\n",
       "        [[0., 1., 0.],\n",
       "         [0., 1., 0.],\n",
       "         [1., 0., 0.],\n",
       "         ...,\n",
       "         [0., 0., 1.],\n",
       "         [0., 1., 0.],\n",
       "         [1., 0., 0.]],\n",
       "\n",
       "        [[1., 0., 0.],\n",
       "         [0., 1., 0.],\n",
       "         [1., 0., 0.],\n",
       "         ...,\n",
       "         [1., 0., 0.],\n",
       "         [0., 1., 0.],\n",
       "         [0., 1., 0.]],\n",
       "\n",
       "        ...,\n",
       "\n",
       "        [[0., 1., 0.],\n",
       "         [1., 0., 0.],\n",
       "         [1., 0., 0.],\n",
       "         ...,\n",
       "         [0., 1., 0.],\n",
       "         [0., 1., 0.],\n",
       "         [1., 0., 0.]],\n",
       "\n",
       "        [[0., 1., 0.],\n",
       "         [1., 0., 0.],\n",
       "         [1., 0., 0.],\n",
       "         ...,\n",
       "         [0., 1., 0.],\n",
       "         [0., 1., 0.],\n",
       "         [1., 0., 0.]],\n",
       "\n",
       "        [[0., 1., 0.],\n",
       "         [1., 0., 0.],\n",
       "         [0., 1., 0.],\n",
       "         ...,\n",
       "         [0., 1., 0.],\n",
       "         [0., 1., 0.],\n",
       "         [1., 0., 0.]]])"
      ]
     },
     "execution_count": 193,
     "metadata": {},
     "output_type": "execute_result"
    }
   ],
   "source": []
  },
  {
   "cell_type": "code",
   "execution_count": null,
   "id": "951cd5c0-d307-41c7-b29f-bbaa18cf2b76",
   "metadata": {},
   "outputs": [],
   "source": []
  }
 ],
 "metadata": {
  "kernelspec": {
   "display_name": "Python 3 (ipykernel)",
   "language": "python",
   "name": "python3"
  },
  "language_info": {
   "codemirror_mode": {
    "name": "ipython",
    "version": 3
   },
   "file_extension": ".py",
   "mimetype": "text/x-python",
   "name": "python",
   "nbconvert_exporter": "python",
   "pygments_lexer": "ipython3",
   "version": "3.11.4"
  }
 },
 "nbformat": 4,
 "nbformat_minor": 5
}
