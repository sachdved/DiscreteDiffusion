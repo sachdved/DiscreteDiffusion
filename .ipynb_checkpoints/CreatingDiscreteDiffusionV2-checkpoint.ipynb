{
 "cells": [
  {
   "cell_type": "code",
   "execution_count": 1,
   "id": "fe27b6f6-35db-4cc8-80ef-834ae3ae2f1d",
   "metadata": {},
   "outputs": [],
   "source": [
    "import torch\n",
    "import numpy as np\n",
    "import sklearn\n",
    "\n",
    "from utils import *\n",
    "from architectures import *\n",
    "import preprocess"
   ]
  },
  {
   "cell_type": "code",
   "execution_count": 2,
   "id": "5bae94a5-0744-45b0-9e57-2c230e158327",
   "metadata": {},
   "outputs": [
    {
     "name": "stderr",
     "output_type": "stream",
     "text": [
      "11608it [00:50, 231.99it/s]\n",
      "100%|████████████████████████████████████████| 21/21 [00:00<00:00, 26379.27it/s]\n"
     ]
    }
   ],
   "source": [
    "X_train, y_train, X_test, y_test = preprocess.main()"
   ]
  },
  {
   "cell_type": "code",
   "execution_count": 3,
   "id": "b28d1079-b4bc-445c-8720-8e141ba1def8",
   "metadata": {},
   "outputs": [],
   "source": [
    "class Denoiser(torch.nn.Module):\n",
    "    def __init__(\n",
    "        self,\n",
    "        heads,\n",
    "        d_time,\n",
    "        d_time_hidden,\n",
    "        d_seq,\n",
    "        d_query = 128,\n",
    "        d_key = 128,\n",
    "        d_values = 128,\n",
    "        d_hidden = 128,\n",
    "        d_model = 128,\n",
    "        p = 0.1,\n",
    "        activation = torch.nn.ReLU(),\n",
    "        **kwargs\n",
    "    ):\n",
    "        super().__init__(**kwargs)\n",
    "        self.heads = heads\n",
    "        self.activation = activation\n",
    "        self.forward_time_1 = FeedForward(d_time, d_time_hidden)\n",
    "        self.forward_time_2 = FeedForward(d_time_hidden, d_time_hidden)\n",
    "        self.forward_time_3 = FeedForward(d_time_hidden, d_time_hidden)\n",
    " \n",
    "        self.forward_seq_1 = FeedForward(d_seq, d_model)\n",
    "        self.forward_seq_2 = FeedForward(d_model, d_model)\n",
    "        self.forward_seq_3 = FeedForward(d_model, d_model)\n",
    "\n",
    "        self.forward_time_seq = FeedForward(d_model + d_time_hidden, d_model)\n",
    "        \n",
    "        self.mha_1 = MultiHeadedAttention(self.heads, d_model, d_model, d_model, d_hidden, d_model)\n",
    "        self.dropout_1 = torch.nn.Dropout(p)\n",
    "        self.addnorm_1 = AddNorm(d_model)\n",
    "        self.feedforward_1 = FeedForward(d_model, d_model)\n",
    "\n",
    "        self.mha_2 = MultiHeadedAttention(self.heads, d_model, d_model, d_model, d_hidden, d_model)\n",
    "        self.dropout_2 = torch.nn.Dropout(p)\n",
    "        self.addnorm_2 = AddNorm(d_model)\n",
    "        self.feedforward_2 = FeedForward(d_model, d_model)\n",
    "\n",
    "        self.feedforward_3 = FeedForward(d_model, d_seq)\n",
    "        \n",
    "    def forward(self, X, t):\n",
    "\n",
    "        time_points, batch_size, seq_length, aas = X.shape[0], X.shape[1], X.shape[2], X.shape[3]\n",
    "        \n",
    "        t = t.reshape(t.shape[0] * t.shape[1], 1)\n",
    "        X = X.view(time_points*batch_size, seq_length, aas)\n",
    "\n",
    "\n",
    "        time_encoding = self.forward_time_1(t)\n",
    "        time_encoding = self.forward_time_2(time_encoding)\n",
    "        time_encoding = self.forward_time_3(time_encoding)\n",
    "        time_encoding = time_encoding.view(time_encoding.shape[0], 1, time_encoding.shape[1])\n",
    "\n",
    "        time_encoding = time_encoding.tile((1, seq_length, 1))\n",
    "        seq_encoding = self.forward_seq_1(X)\n",
    "        seq_encoding = self.forward_seq_2(seq_encoding)\n",
    "        seq_encoding = self.forward_seq_3(seq_encoding)\n",
    "\n",
    "        \n",
    "        seq_time_encoding = torch.concat([time_encoding, seq_encoding], dim=-1)\n",
    "\n",
    "        input_encoding = self.forward_time_seq(seq_time_encoding)\n",
    "\n",
    "        X_1, _ = self.mha_1(input_encoding, input_encoding, input_encoding)\n",
    "        X_1    = self.dropout_1(X_1)\n",
    "        X_1    = self.addnorm_1(X_1, input_encoding)\n",
    "        X_1    = self.feedforward_1(X_1)\n",
    "\n",
    "        X_2, _ = self.mha_2(X_1, X_1, X_1)\n",
    "        X_2    = self.dropout_2(X_2)\n",
    "        X_2    = self.addnorm_2(X_2,X_1)\n",
    "        X_2    = self.feedforward_2(X_2)\n",
    "\n",
    "        X_3    = self.feedforward_3(X_2)\n",
    "        Y_pred = torch.nn.Softmax(dim=-1)(X_3)\n",
    "        return Y_pred.view(time_points, batch_size, seq_length, aas)"
   ]
  },
  {
   "cell_type": "code",
   "execution_count": 4,
   "id": "dd4cbac5-da0b-4b6d-b950-b55ddd3dd204",
   "metadata": {},
   "outputs": [],
   "source": [
    "protein_dataset = ProteinDataset(seq_data=X_train, include_mask=True)\n",
    "protein_loader = torch.utils.data.DataLoader(protein_dataset, batch_size=32, shuffle=True)\n",
    "for batch in protein_loader:\n",
    "    X, Y = batch\n",
    "    X_seq = X['seq']\n",
    "    Y_seq = Y['seq']\n",
    "    break"
   ]
  },
  {
   "cell_type": "code",
   "execution_count": 5,
   "id": "0469b387-a448-4ee4-ab70-1c49773881f2",
   "metadata": {},
   "outputs": [],
   "source": [
    "noise_matrix = Noiser(noiser = 'BERT-LIKE', beta_t = 0.01).noise_matrix\n",
    "ts, noised_samples = noiser(X_seq, noise_matrix, 100, X_seq.shape[-1])\n",
    "\n",
    "ts_reshaped = ts.reshape(ts.shape[0] * ts.shape[1], 1)\n",
    "noised_samples_reshaped = noised_samples.view(noised_samples.shape[0]*noised_samples.shape[1], noised_samples.shape[2], noised_samples.shape[3])"
   ]
  },
  {
   "cell_type": "code",
   "execution_count": 7,
   "id": "0f82995f-b036-4a7a-9785-aa800be48241",
   "metadata": {},
   "outputs": [],
   "source": [
    "denoiser = Denoiser(8,1,128,X_seq.shape[2])"
   ]
  },
  {
   "cell_type": "code",
   "execution_count": 8,
   "id": "dd0e77ed-b7cf-492f-b014-8eb7d989de16",
   "metadata": {
    "scrolled": true
   },
   "outputs": [
    {
     "data": {
      "text/plain": [
       "Denoiser(\n",
       "  (activation): ReLU()\n",
       "  (forward_time_1): FeedForward(\n",
       "    (layer): Linear(in_features=1, out_features=128, bias=True)\n",
       "    (activation): ReLU()\n",
       "  )\n",
       "  (forward_time_2): FeedForward(\n",
       "    (layer): Linear(in_features=128, out_features=128, bias=True)\n",
       "    (activation): ReLU()\n",
       "  )\n",
       "  (forward_time_3): FeedForward(\n",
       "    (layer): Linear(in_features=128, out_features=128, bias=True)\n",
       "    (activation): ReLU()\n",
       "  )\n",
       "  (forward_seq_1): FeedForward(\n",
       "    (layer): Linear(in_features=22, out_features=128, bias=True)\n",
       "    (activation): ReLU()\n",
       "  )\n",
       "  (forward_seq_2): FeedForward(\n",
       "    (layer): Linear(in_features=128, out_features=128, bias=True)\n",
       "    (activation): ReLU()\n",
       "  )\n",
       "  (forward_seq_3): FeedForward(\n",
       "    (layer): Linear(in_features=128, out_features=128, bias=True)\n",
       "    (activation): ReLU()\n",
       "  )\n",
       "  (forward_time_seq): FeedForward(\n",
       "    (layer): Linear(in_features=256, out_features=128, bias=True)\n",
       "    (activation): ReLU()\n",
       "  )\n",
       "  (mha_1): MultiHeadedAttention(\n",
       "    (attention): Attention()\n",
       "    (W_q): Linear(in_features=128, out_features=1024, bias=True)\n",
       "    (W_k): Linear(in_features=128, out_features=1024, bias=True)\n",
       "    (W_v): Linear(in_features=128, out_features=1024, bias=True)\n",
       "    (W_o): Linear(in_features=1024, out_features=128, bias=True)\n",
       "  )\n",
       "  (dropout_1): Dropout(p=0.1, inplace=False)\n",
       "  (addnorm_1): AddNorm(\n",
       "    (layer_norm): LayerNorm((128,), eps=1e-05, elementwise_affine=True)\n",
       "  )\n",
       "  (feedforward_1): FeedForward(\n",
       "    (layer): Linear(in_features=128, out_features=128, bias=True)\n",
       "    (activation): ReLU()\n",
       "  )\n",
       "  (mha_2): MultiHeadedAttention(\n",
       "    (attention): Attention()\n",
       "    (W_q): Linear(in_features=128, out_features=1024, bias=True)\n",
       "    (W_k): Linear(in_features=128, out_features=1024, bias=True)\n",
       "    (W_v): Linear(in_features=128, out_features=1024, bias=True)\n",
       "    (W_o): Linear(in_features=1024, out_features=128, bias=True)\n",
       "  )\n",
       "  (dropout_2): Dropout(p=0.1, inplace=False)\n",
       "  (addnorm_2): AddNorm(\n",
       "    (layer_norm): LayerNorm((128,), eps=1e-05, elementwise_affine=True)\n",
       "  )\n",
       "  (feedforward_2): FeedForward(\n",
       "    (layer): Linear(in_features=128, out_features=128, bias=True)\n",
       "    (activation): ReLU()\n",
       "  )\n",
       "  (feedforward_3): FeedForward(\n",
       "    (layer): Linear(in_features=128, out_features=22, bias=True)\n",
       "    (activation): ReLU()\n",
       "  )\n",
       ")"
      ]
     },
     "execution_count": 8,
     "metadata": {},
     "output_type": "execute_result"
    }
   ],
   "source": [
    "denoiser.eval()"
   ]
  },
  {
   "cell_type": "code",
   "execution_count": 9,
   "id": "8c1401cd-5e1c-4b45-81f0-b4dfbc8593a3",
   "metadata": {},
   "outputs": [
    {
     "data": {
      "text/plain": [
       "torch.Size([100, 32, 59, 22])"
      ]
     },
     "execution_count": 9,
     "metadata": {},
     "output_type": "execute_result"
    }
   ],
   "source": [
    "noised_samples.shape"
   ]
  },
  {
   "cell_type": "code",
   "execution_count": 10,
   "id": "b3459ffb-bfce-4502-965a-43a6a83fa4ab",
   "metadata": {},
   "outputs": [],
   "source": [
    "y_pred = denoiser(noised_samples, ts)"
   ]
  },
  {
   "cell_type": "code",
   "execution_count": 11,
   "id": "d5290347-9d82-4ec1-9cc0-aae1fa1e33bb",
   "metadata": {},
   "outputs": [
    {
     "data": {
      "text/plain": [
       "torch.Size([100, 32, 59, 22])"
      ]
     },
     "execution_count": 11,
     "metadata": {},
     "output_type": "execute_result"
    }
   ],
   "source": [
    "y_pred.shape"
   ]
  },
  {
   "cell_type": "code",
   "execution_count": 12,
   "id": "73ec04e1-bd87-4837-9458-1f5b3fbd41b3",
   "metadata": {},
   "outputs": [
    {
     "data": {
      "text/plain": [
       "tensor([[[0.0496, 0.0415, 0.0415,  ..., 0.0426, 0.0496, 0.0442],\n",
       "         [0.0496, 0.0415, 0.0415,  ..., 0.0426, 0.0496, 0.0442],\n",
       "         [0.0521, 0.0417, 0.0417,  ..., 0.0433, 0.0491, 0.0428],\n",
       "         ...,\n",
       "         [0.0508, 0.0415, 0.0415,  ..., 0.0430, 0.0490, 0.0434],\n",
       "         [0.0508, 0.0416, 0.0416,  ..., 0.0449, 0.0484, 0.0417],\n",
       "         [0.0521, 0.0417, 0.0417,  ..., 0.0433, 0.0491, 0.0428]],\n",
       "\n",
       "        [[0.0517, 0.0416, 0.0416,  ..., 0.0431, 0.0488, 0.0429],\n",
       "         [0.0509, 0.0415, 0.0415,  ..., 0.0442, 0.0486, 0.0437],\n",
       "         [0.0496, 0.0415, 0.0415,  ..., 0.0426, 0.0495, 0.0441],\n",
       "         ...,\n",
       "         [0.0508, 0.0416, 0.0416,  ..., 0.0449, 0.0483, 0.0416],\n",
       "         [0.0508, 0.0415, 0.0415,  ..., 0.0440, 0.0483, 0.0440],\n",
       "         [0.0521, 0.0417, 0.0417,  ..., 0.0438, 0.0483, 0.0423]]],\n",
       "       grad_fn=<SliceBackward0>)"
      ]
     },
     "execution_count": 12,
     "metadata": {},
     "output_type": "execute_result"
    }
   ],
   "source": [
    "y_pred[1][0:2]"
   ]
  },
  {
   "cell_type": "code",
   "execution_count": 45,
   "id": "e88aa9f6-249d-4697-8d9e-5e8065c41914",
   "metadata": {},
   "outputs": [],
   "source": [
    "class CategoricalDiffusion(torch.nn.Module):\n",
    "    def __init__(\n",
    "        self,\n",
    "        denoiser,\n",
    "        noise_matrix,\n",
    "        **kwargs\n",
    "    ):\n",
    "        super().__init__(**kwargs)\n",
    "        self.denoiser = denoiser\n",
    "        self.noise_matrix = noise_matrix\n",
    "    def L_T(self, noised_sample, noise_matrix):\n",
    "        vals, vecs = torch.linalg.eig(noise_matrix.t())\n",
    "        vals = torch.real(vals)\n",
    "        vecs = torch.real(vecs)\n",
    "    \n",
    "        PxT = vecs[:, torch.argmax(vals)].unsqueeze(0).unsqueeze(1)\n",
    "        \n",
    "        dkl_steady_state = torch.sum(\n",
    "            (noised_sample+1e-6) * torch.log((noised_sample+1e-6)/(PxT+1e-6))\n",
    "        )\n",
    "    \n",
    "        return dkl_steady_state\n",
    "    \n",
    "    def L_t0t1(self, real, ts, noised_sample):\n",
    "        t_ones = ts[1].unsqueeze(0)\n",
    "        noised_ones = noised_sample[1].unsqueeze(0)\n",
    "        y_pred = self.denoiser(noised_ones, t_ones)\n",
    "        return self.cross_entropy(real, y_pred)\n",
    "\n",
    "    def L_tminus1(self, real, ts, noised_sample):\n",
    "        \n",
    "        reverse_marginals = self.one_step_reverse_marginal(real, noised_sample)\n",
    "\n",
    "        denoised = self.denoiser(noised_sample, ts)\n",
    "        print(denoised.shape)\n",
    "        px_tminus1_giv_xt = self.px_tminus1_giv_xt(noised_samples, denoised, noise_matrix) \n",
    "\n",
    "        return torch.sum(reverse_marginals * torch.log((reverse_marginals+1e-6)/(px_tminus1_giv_xt+1e-6)))\n",
    "\n",
    "    def cross_entropy(self, real, y_pred):\n",
    "        return -torch.sum(real * torch.log(y_pred+1e-6))\n",
    "\n",
    "    def one_step_reverse_marginal(self, real, noised_sample):\n",
    "        reverse_marginals = torch.zeros(noised_samples.shape[0]-2, noised_samples.shape[1], noised_samples.shape[2], noised_samples.shape[3])\n",
    "        x0=real\n",
    "        for t in range(2, noised_samples.shape[0]):\n",
    "            \n",
    "            xt = noised_samples[t]\n",
    "            numer = torch.matmul(xt, noise_matrix.t()) * torch.matmul(x0, self.noise_matrix.matrix_power(t-1))\n",
    "            denom = torch.matmul(torch.matmul(x0, self.noise_matrix.matrix_power(t)), xt.permute(0,2,1))\n",
    "            denom = torch.diagonal(denom, dim1=-2, dim2=-1).unsqueeze(-1)\n",
    "            reverse_marginals[t-2] = numer/denom\n",
    "            \n",
    "        return reverse_marginals\n",
    "\n",
    "    def px_tminus1_giv_xt(self, noised_samples, denoised, noise_matrix):\n",
    "        \n",
    "        px_onestepback = torch.zeros(denoised.shape[0]-2, denoised.shape[1], denoised.shape[2], denoised.shape[3])\n",
    "        \n",
    "        for t in range(2, denoised.shape[0]):\n",
    "            \n",
    "            denoised_estimate = denoised[t]\n",
    "            real = noised_samples[0]\n",
    "            weighted_expectation = real*denoised_estimate\n",
    "\n",
    "            px_onestepback[t-2] = torch.matmul(weighted_expectation, noise_matrix.matrix_power(t-1))\n",
    "        return px_onestepback\n",
    "    "
   ]
  },
  {
   "cell_type": "code",
   "execution_count": 46,
   "id": "993cca43-54c6-4b6f-bc06-5035da993edc",
   "metadata": {},
   "outputs": [],
   "source": [
    "cat_diff = CategoricalDiffusion(denoiser, noise_matrix)"
   ]
  },
  {
   "cell_type": "code",
   "execution_count": 47,
   "id": "ed98cb5d-bba6-4805-b684-aeb27125ab0f",
   "metadata": {},
   "outputs": [
    {
     "data": {
      "text/plain": [
       "tensor(325148.0625)"
      ]
     },
     "execution_count": 47,
     "metadata": {},
     "output_type": "execute_result"
    }
   ],
   "source": [
    "cat_diff.L_T(noised_samples, noise_matrix)"
   ]
  },
  {
   "cell_type": "code",
   "execution_count": 48,
   "id": "d0727b9f-8fb5-431f-85b3-5c05eaa510e2",
   "metadata": {},
   "outputs": [
    {
     "data": {
      "text/plain": [
       "tensor(364.4633, grad_fn=<NegBackward0>)"
      ]
     },
     "execution_count": 48,
     "metadata": {},
     "output_type": "execute_result"
    }
   ],
   "source": [
    "cat_diff.L_t0t1(X_seq[0:2],ts[:,0:2], noised_samples[:,0:2,:,:])"
   ]
  },
  {
   "cell_type": "code",
   "execution_count": 49,
   "id": "83117b40-e662-4780-8803-780ebe0eb39f",
   "metadata": {},
   "outputs": [
    {
     "name": "stdout",
     "output_type": "stream",
     "text": [
      "torch.Size([100, 32, 59, 22])\n"
     ]
    },
    {
     "data": {
      "text/plain": [
       "tensor(720177.4375, grad_fn=<SumBackward0>)"
      ]
     },
     "execution_count": 49,
     "metadata": {},
     "output_type": "execute_result"
    }
   ],
   "source": [
    "cat_diff.L_tminus1(X_seq, ts, noised_samples)"
   ]
  },
  {
   "cell_type": "code",
   "execution_count": 53,
   "id": "965c4449-8176-4ff2-a98d-d9a41bace6a0",
   "metadata": {},
   "outputs": [
    {
     "data": {
      "text/plain": [
       "tensor([[[0.0681, 0.0589, 0.0496,  ..., 0.0395, 0.0395, 0.0431],\n",
       "         [0.0698, 0.0512, 0.0459,  ..., 0.0393, 0.0393, 0.0403],\n",
       "         [0.0639, 0.0480, 0.0537,  ..., 0.0403, 0.0403, 0.0413],\n",
       "         ...,\n",
       "         [0.0711, 0.0543, 0.0466,  ..., 0.0394, 0.0394, 0.0394],\n",
       "         [0.0685, 0.0519, 0.0478,  ..., 0.0406, 0.0391, 0.0396],\n",
       "         [0.0639, 0.0603, 0.0415,  ..., 0.0401, 0.0401, 0.0423]],\n",
       "\n",
       "        [[0.0693, 0.0582, 0.0470,  ..., 0.0406, 0.0391, 0.0428],\n",
       "         [0.0682, 0.0500, 0.0521,  ..., 0.0396, 0.0396, 0.0418],\n",
       "         [0.0679, 0.0548, 0.0482,  ..., 0.0398, 0.0398, 0.0433],\n",
       "         ...,\n",
       "         [0.0657, 0.0554, 0.0494,  ..., 0.0403, 0.0403, 0.0403],\n",
       "         [0.0653, 0.0551, 0.0487,  ..., 0.0394, 0.0394, 0.0404],\n",
       "         [0.0755, 0.0506, 0.0526,  ..., 0.0398, 0.0398, 0.0400]]],\n",
       "       grad_fn=<SliceBackward0>)"
      ]
     },
     "execution_count": 53,
     "metadata": {},
     "output_type": "execute_result"
    }
   ],
   "source": [
    "y_pred[1][0:2]"
   ]
  },
  {
   "cell_type": "code",
   "execution_count": 98,
   "id": "b8a4cfb9-b98c-4de0-9a17-e3ef639f4bda",
   "metadata": {},
   "outputs": [
    {
     "data": {
      "text/plain": [
       "torch.Size([100, 32, 59, 22])"
      ]
     },
     "execution_count": 98,
     "metadata": {},
     "output_type": "execute_result"
    }
   ],
   "source": [
    "noised_samples.shape"
   ]
  },
  {
   "cell_type": "code",
   "execution_count": 102,
   "id": "8c7d6b68-3151-4523-977a-94c3661ec4f4",
   "metadata": {},
   "outputs": [],
   "source": [
    "y_pred_reshaped = y_pred.view(noised_samples.shape)"
   ]
  },
  {
   "cell_type": "code",
   "execution_count": 120,
   "id": "ebde4ad3-1401-4104-a239-666036fe0020",
   "metadata": {},
   "outputs": [
    {
     "data": {
      "text/plain": [
       "tensor(True)"
      ]
     },
     "execution_count": 120,
     "metadata": {},
     "output_type": "execute_result"
    }
   ],
   "source": [
    "(y_pred_reshaped[2][0] == y_pred[64]).all()"
   ]
  },
  {
   "cell_type": "code",
   "execution_count": 123,
   "id": "802d72a5-1f30-468e-b6a6-9751c1348398",
   "metadata": {},
   "outputs": [
    {
     "data": {
      "text/plain": [
       "tensor(True)"
      ]
     },
     "execution_count": 123,
     "metadata": {},
     "output_type": "execute_result"
    }
   ],
   "source": [
    "(noised_samples[2][0]==noised_samples_reshaped[64]).all()"
   ]
  },
  {
   "cell_type": "code",
   "execution_count": 125,
   "id": "2ca16017-6ad0-4220-8f27-b52edeab3c04",
   "metadata": {},
   "outputs": [],
   "source": [
    "new_test = y_pred_reshaped[2]"
   ]
  },
  {
   "cell_type": "code",
   "execution_count": 129,
   "id": "781875c7-777d-4c90-a079-72c3a19c8c0a",
   "metadata": {},
   "outputs": [
    {
     "data": {
      "text/plain": [
       "tensor([[[0.0000, 0.0000, 0.0000,  ..., 0.0000, 0.0000, 0.0000],\n",
       "         [0.0000, 0.0000, 0.0000,  ..., 0.0000, 0.0000, 0.0000],\n",
       "         [0.0000, 0.0000, 0.0000,  ..., 0.0000, 0.0000, 0.0000],\n",
       "         ...,\n",
       "         [0.0000, 0.0000, 0.0000,  ..., 0.0000, 0.0000, 0.0000],\n",
       "         [0.0000, 0.0000, 0.0000,  ..., 0.0000, 0.0000, 0.0000],\n",
       "         [0.0000, 0.0000, 0.0000,  ..., 0.0000, 0.0000, 0.0000]],\n",
       "\n",
       "        [[0.0000, 0.0000, 0.0000,  ..., 0.0000, 0.0000, 0.0000],\n",
       "         [0.0000, 0.0000, 0.0000,  ..., 0.0000, 0.0000, 0.0000],\n",
       "         [0.0000, 0.0000, 0.0000,  ..., 0.0000, 0.0000, 0.0000],\n",
       "         ...,\n",
       "         [0.0000, 0.0000, 0.0000,  ..., 0.0000, 0.0000, 0.0000],\n",
       "         [0.0000, 0.0000, 0.0000,  ..., 0.0000, 0.0000, 0.0000],\n",
       "         [0.0000, 0.0000, 0.0000,  ..., 0.0000, 0.0000, 0.0000]],\n",
       "\n",
       "        [[0.0000, 0.0000, 0.0000,  ..., 0.0409, 0.0000, 0.0000],\n",
       "         [0.0000, 0.0000, 0.0000,  ..., 0.0000, 0.0000, 0.0000],\n",
       "         [0.0000, 0.0000, 0.0000,  ..., 0.0415, 0.0000, 0.0000],\n",
       "         ...,\n",
       "         [0.0000, 0.0000, 0.0000,  ..., 0.0408, 0.0000, 0.0000],\n",
       "         [0.0000, 0.0000, 0.0000,  ..., 0.0000, 0.0000, 0.0000],\n",
       "         [0.0000, 0.0000, 0.0000,  ..., 0.0000, 0.0000, 0.0000]],\n",
       "\n",
       "        ...,\n",
       "\n",
       "        [[0.0000, 0.0406, 0.0000,  ..., 0.0000, 0.0000, 0.0000],\n",
       "         [0.0000, 0.0000, 0.0000,  ..., 0.0422, 0.0000, 0.0000],\n",
       "         [0.0000, 0.0414, 0.0000,  ..., 0.0000, 0.0000, 0.0000],\n",
       "         ...,\n",
       "         [0.0000, 0.0000, 0.0000,  ..., 0.0000, 0.0000, 0.0000],\n",
       "         [0.0000, 0.0000, 0.0000,  ..., 0.0000, 0.0000, 0.0000],\n",
       "         [0.0000, 0.0000, 0.0000,  ..., 0.0000, 0.0000, 0.0000]],\n",
       "\n",
       "        [[0.0000, 0.0000, 0.0000,  ..., 0.0000, 0.0000, 0.0000],\n",
       "         [0.0000, 0.0000, 0.0000,  ..., 0.0000, 0.0000, 0.0000],\n",
       "         [0.0000, 0.0000, 0.0000,  ..., 0.0000, 0.0000, 0.0000],\n",
       "         ...,\n",
       "         [0.0000, 0.0000, 0.0000,  ..., 0.0000, 0.0000, 0.0000],\n",
       "         [0.0000, 0.0000, 0.0000,  ..., 0.0000, 0.0000, 0.0000],\n",
       "         [0.0000, 0.0000, 0.0000,  ..., 0.0000, 0.0000, 0.0000]],\n",
       "\n",
       "        [[0.0000, 0.0000, 0.0000,  ..., 0.0000, 0.0000, 0.0000],\n",
       "         [0.0000, 0.0000, 0.0000,  ..., 0.0000, 0.0000, 0.0000],\n",
       "         [0.0000, 0.0000, 0.0000,  ..., 0.0000, 0.0000, 0.0000],\n",
       "         ...,\n",
       "         [0.0000, 0.0000, 0.0000,  ..., 0.0432, 0.0000, 0.0000],\n",
       "         [0.0000, 0.0000, 0.0000,  ..., 0.0000, 0.0416, 0.0000],\n",
       "         [0.0000, 0.0000, 0.0000,  ..., 0.0000, 0.0461, 0.0000]]],\n",
       "       grad_fn=<MulBackward0>)"
      ]
     },
     "execution_count": 129,
     "metadata": {},
     "output_type": "execute_result"
    }
   ],
   "source": [
    "(new_test * noised_samples[0])"
   ]
  },
  {
   "cell_type": "code",
   "execution_count": 94,
   "id": "3b3d4d74-f9d4-4670-bdd3-7134af6a84eb",
   "metadata": {},
   "outputs": [
    {
     "data": {
      "text/plain": [
       "tensor([1.0826, 1.2775, 0.1294, 1.0052, 0.5819, 0.8000, 0.4890, 0.0455])"
      ]
     },
     "execution_count": 94,
     "metadata": {},
     "output_type": "execute_result"
    }
   ],
   "source": [
    "test[test>0]"
   ]
  },
  {
   "cell_type": "code",
   "execution_count": 58,
   "id": "83f9b41c-fd54-475a-b936-e15744b7f347",
   "metadata": {},
   "outputs": [
    {
     "data": {
      "text/plain": [
       "tensor([[[0.0000, 0.0000, 0.0000,  ..., 0.0000, 0.0000, 0.0297],\n",
       "         [0.0000, 0.0000, 0.0000,  ..., 0.0000, 0.0000, 0.0297],\n",
       "         [0.0000, 0.0000, 0.0000,  ..., 0.0000, 0.0000, 0.0297],\n",
       "         ...,\n",
       "         [0.0000, 0.0000, 0.0000,  ..., 0.0000, 0.0000, 0.0297],\n",
       "         [0.0000, 0.0000, 0.0000,  ..., 0.0000, 0.0000, 0.0297],\n",
       "         [0.0000, 0.0000, 0.0000,  ..., 0.0000, 0.0000, 0.0297]],\n",
       "\n",
       "        [[0.0000, 0.0000, 0.0000,  ..., 0.0000, 0.0000, 0.0297],\n",
       "         [0.0000, 0.0000, 0.0000,  ..., 0.0000, 0.0000, 0.0297],\n",
       "         [0.0000, 0.0000, 0.0000,  ..., 0.0000, 0.0000, 0.0297],\n",
       "         ...,\n",
       "         [0.0000, 0.0000, 0.0000,  ..., 0.0000, 0.0000, 0.0297],\n",
       "         [0.0000, 0.0000, 0.0000,  ..., 0.0000, 0.0000, 0.0297],\n",
       "         [0.0000, 0.0000, 0.0000,  ..., 0.0000, 0.0000, 0.0297]],\n",
       "\n",
       "        [[0.0000, 0.0000, 0.0000,  ..., 0.9703, 0.0000, 0.0297],\n",
       "         [0.0000, 0.0000, 0.0000,  ..., 0.0000, 0.0000, 0.0297],\n",
       "         [0.0000, 0.0000, 0.0000,  ..., 0.9703, 0.0000, 0.0297],\n",
       "         ...,\n",
       "         [0.0000, 0.0000, 0.0000,  ..., 0.9703, 0.0000, 0.0297],\n",
       "         [0.0000, 0.0000, 0.0000,  ..., 0.0000, 0.0000, 0.0297],\n",
       "         [0.0000, 0.0000, 0.0000,  ..., 0.0000, 0.0000, 0.0297]],\n",
       "\n",
       "        ...,\n",
       "\n",
       "        [[0.0000, 0.9703, 0.0000,  ..., 0.0000, 0.0000, 0.0297],\n",
       "         [0.0000, 0.0000, 0.0000,  ..., 0.9703, 0.0000, 0.0297],\n",
       "         [0.0000, 0.9703, 0.0000,  ..., 0.0000, 0.0000, 0.0297],\n",
       "         ...,\n",
       "         [0.0000, 0.0000, 0.0000,  ..., 0.0000, 0.0000, 0.0297],\n",
       "         [0.0000, 0.0000, 0.0000,  ..., 0.0000, 0.0000, 0.0297],\n",
       "         [0.0000, 0.0000, 0.0000,  ..., 0.0000, 0.0000, 0.0297]],\n",
       "\n",
       "        [[0.0000, 0.0000, 0.0000,  ..., 0.0000, 0.0000, 0.0297],\n",
       "         [0.0000, 0.0000, 0.0000,  ..., 0.0000, 0.0000, 0.0297],\n",
       "         [0.0000, 0.0000, 0.0000,  ..., 0.0000, 0.0000, 0.0297],\n",
       "         ...,\n",
       "         [0.0000, 0.0000, 0.0000,  ..., 0.0000, 0.0000, 0.0297],\n",
       "         [0.0000, 0.0000, 0.0000,  ..., 0.0000, 0.0000, 0.0297],\n",
       "         [0.0000, 0.0000, 0.0000,  ..., 0.0000, 0.0000, 0.0297]],\n",
       "\n",
       "        [[0.0000, 0.0000, 0.0000,  ..., 0.0000, 0.0000, 0.0297],\n",
       "         [0.0000, 0.0000, 0.0000,  ..., 0.0000, 0.0000, 0.0297],\n",
       "         [0.0000, 0.0000, 0.0000,  ..., 0.0000, 0.0000, 0.0297],\n",
       "         ...,\n",
       "         [0.0000, 0.0000, 0.0000,  ..., 0.9703, 0.0000, 0.0297],\n",
       "         [0.0000, 0.0000, 0.0000,  ..., 0.0000, 0.9703, 0.0297],\n",
       "         [0.0000, 0.0000, 0.0000,  ..., 0.0000, 0.9703, 0.0297]]])"
      ]
     },
     "execution_count": 58,
     "metadata": {},
     "output_type": "execute_result"
    }
   ],
   "source": [
    "torch.matmul(x0,noise_matrix.matrix_power(3))"
   ]
  },
  {
   "cell_type": "code",
   "execution_count": 39,
   "id": "6571ddb8-c3aa-4d20-a9ef-31cf8183d0c8",
   "metadata": {},
   "outputs": [],
   "source": [
    "reverse_marginals = torch.zeros(noised_samples.shape[0]-2, noised_samples.shape[1], noised_samples.shape[2], noised_samples.shape[3])"
   ]
  },
  {
   "cell_type": "code",
   "execution_count": 41,
   "id": "bb18f30c-2d04-47f3-a4b4-ab94a83a10b4",
   "metadata": {},
   "outputs": [],
   "source": [
    "for t in range(2, noised_samples.shape[0]):\n",
    "    xt = noised_samples[t]\n",
    "    x0 = noised_samples[0]\n",
    "\n",
    "    numer = torch.matmul(xt, noise_matrix.t()) * torch.matmul(x0, noise_matrix.matrix_power(t-1))\n",
    "    denom = torch.matmul(torch.matmul(x0, noise_matrix.matrix_power(t)), xt.permute(0,2,1))\n",
    "    denom = torch.diagonal(denom, dim1=-2, dim2=-1).unsqueeze(-1)\n",
    "    reverse_marginals[t-2] = numer/denom"
   ]
  },
  {
   "cell_type": "code",
   "execution_count": 63,
   "id": "06491486-2c02-42df-b345-f43b58df53e3",
   "metadata": {},
   "outputs": [
    {
     "data": {
      "text/plain": [
       "tensor([0., 0., 0., 0., 0., 0., 0., 0., 0., 0., 0., 0., 0., 0., 0., 0., 0., 0.,\n",
       "        0., 0., 0., 1.])"
      ]
     },
     "execution_count": 63,
     "metadata": {},
     "output_type": "execute_result"
    }
   ],
   "source": [
    "noised_samples[3][0][0]"
   ]
  },
  {
   "cell_type": "code",
   "execution_count": 86,
   "id": "805943ce-0805-4ad2-85df-533b7dd167b0",
   "metadata": {},
   "outputs": [],
   "source": [
    "test = reverse_marginals[1]"
   ]
  },
  {
   "cell_type": "code",
   "execution_count": 87,
   "id": "6b0be97c-3e78-45a8-9089-560180036387",
   "metadata": {},
   "outputs": [
    {
     "data": {
      "text/plain": [
       "tensor([[[0.0000, 0.0000, 0.0000,  ..., 0.0000, 0.0000, 0.6700],\n",
       "         [0.0000, 0.0000, 0.0000,  ..., 0.0000, 0.0000, 0.0000],\n",
       "         [0.0000, 0.0000, 0.0000,  ..., 0.0000, 0.0000, 0.0000],\n",
       "         ...,\n",
       "         [0.0000, 0.0000, 0.0000,  ..., 0.0000, 0.0000, 0.0000],\n",
       "         [0.0000, 0.0000, 0.0000,  ..., 0.0000, 0.0000, 0.0000],\n",
       "         [0.0000, 0.0000, 0.0000,  ..., 0.0000, 0.0000, 0.0000]],\n",
       "\n",
       "        [[0.0000, 0.0000, 0.0000,  ..., 0.0000, 0.0000, 0.0000],\n",
       "         [0.0000, 0.0000, 0.0000,  ..., 0.0000, 0.0000, 0.0000],\n",
       "         [0.0000, 0.0000, 0.0000,  ..., 0.0000, 0.0000, 0.0000],\n",
       "         ...,\n",
       "         [0.0000, 0.0000, 0.0000,  ..., 0.0000, 0.0000, 0.0000],\n",
       "         [0.0000, 0.0000, 0.0000,  ..., 0.0000, 0.0000, 0.0000],\n",
       "         [0.0000, 0.0000, 0.0000,  ..., 0.0000, 0.0000, 0.0000]],\n",
       "\n",
       "        [[0.0000, 0.0000, 0.0000,  ..., 1.0000, 0.0000, 0.0000],\n",
       "         [0.0000, 0.0000, 0.0000,  ..., 0.0000, 0.0000, 0.0000],\n",
       "         [0.0000, 0.0000, 0.0000,  ..., 1.0000, 0.0000, 0.0000],\n",
       "         ...,\n",
       "         [0.0000, 0.0000, 0.0000,  ..., 1.0000, 0.0000, 0.0000],\n",
       "         [0.0000, 0.0000, 0.0000,  ..., 0.0000, 0.0000, 0.0000],\n",
       "         [0.0000, 0.0000, 0.0000,  ..., 0.0000, 0.0000, 0.0000]],\n",
       "\n",
       "        ...,\n",
       "\n",
       "        [[0.0000, 1.0000, 0.0000,  ..., 0.0000, 0.0000, 0.0000],\n",
       "         [0.0000, 0.0000, 0.0000,  ..., 1.0000, 0.0000, 0.0000],\n",
       "         [0.0000, 1.0000, 0.0000,  ..., 0.0000, 0.0000, 0.0000],\n",
       "         ...,\n",
       "         [0.0000, 0.0000, 0.0000,  ..., 0.0000, 0.0000, 0.0000],\n",
       "         [0.0000, 0.0000, 0.0000,  ..., 0.0000, 0.0000, 0.0000],\n",
       "         [0.0000, 0.0000, 0.0000,  ..., 0.0000, 0.0000, 0.0000]],\n",
       "\n",
       "        [[0.0000, 0.0000, 0.0000,  ..., 0.0000, 0.0000, 0.0000],\n",
       "         [0.0000, 0.0000, 0.0000,  ..., 0.0000, 0.0000, 0.0000],\n",
       "         [0.0000, 0.0000, 0.0000,  ..., 0.0000, 0.0000, 0.0000],\n",
       "         ...,\n",
       "         [0.0000, 0.0000, 0.0000,  ..., 0.0000, 0.0000, 0.0000],\n",
       "         [0.0000, 0.0000, 0.0000,  ..., 0.0000, 0.0000, 0.0000],\n",
       "         [0.0000, 0.0000, 0.0000,  ..., 0.0000, 0.0000, 0.0000]],\n",
       "\n",
       "        [[0.0000, 0.0000, 0.0000,  ..., 0.0000, 0.0000, 0.0000],\n",
       "         [0.0000, 0.0000, 0.0000,  ..., 0.0000, 0.0000, 0.0000],\n",
       "         [0.0000, 0.0000, 0.0000,  ..., 0.0000, 0.0000, 0.0000],\n",
       "         ...,\n",
       "         [0.0000, 0.0000, 0.0000,  ..., 1.0000, 0.0000, 0.0000],\n",
       "         [0.0000, 0.0000, 0.0000,  ..., 0.0000, 1.0000, 0.0000],\n",
       "         [0.0000, 0.0000, 0.0000,  ..., 0.0000, 0.3300, 0.6700]]])"
      ]
     },
     "execution_count": 87,
     "metadata": {},
     "output_type": "execute_result"
    }
   ],
   "source": [
    "test"
   ]
  },
  {
   "cell_type": "code",
   "execution_count": 69,
   "id": "7f29c32d-c96e-4be1-9773-edbeac6a3092",
   "metadata": {},
   "outputs": [
    {
     "data": {
      "text/plain": [
       "torch.Size([32, 59, 22])"
      ]
     },
     "execution_count": 69,
     "metadata": {},
     "output_type": "execute_result"
    }
   ],
   "source": [
    "test.shape"
   ]
  },
  {
   "cell_type": "code",
   "execution_count": 73,
   "id": "5063f4ce-8bbb-4804-a0f5-48c01ac1f036",
   "metadata": {},
   "outputs": [],
   "source": [
    "other_test = test * torch.matmul(noised_samples[0], noise_matrix.matrix_power(3))"
   ]
  },
  {
   "cell_type": "code",
   "execution_count": 78,
   "id": "0aa8083c-1894-4e89-b3ea-5cf68b4f3c77",
   "metadata": {},
   "outputs": [
    {
     "data": {
      "text/plain": [
       "tensor([[0.0000, 0.0000, 0.0000,  ..., 0.0000, 0.0000, 0.0239],\n",
       "        [0.0000, 0.0000, 0.0000,  ..., 0.0000, 0.0000, 0.0000],\n",
       "        [0.0000, 0.0000, 0.0000,  ..., 0.0000, 0.0000, 0.0000],\n",
       "        ...,\n",
       "        [0.0000, 0.0000, 0.0000,  ..., 0.0000, 0.0000, 0.0000],\n",
       "        [0.0000, 0.0000, 0.0000,  ..., 0.0000, 0.0000, 0.0000],\n",
       "        [0.0000, 0.0000, 0.0000,  ..., 0.0000, 0.0000, 0.0000]])"
      ]
     },
     "execution_count": 78,
     "metadata": {},
     "output_type": "execute_result"
    }
   ],
   "source": [
    "other_test[0]"
   ]
  },
  {
   "cell_type": "code",
   "execution_count": 28,
   "id": "d4c59108-eabd-4612-97d8-e65762304f50",
   "metadata": {},
   "outputs": [
    {
     "data": {
      "text/plain": [
       "torch.Size([32, 1])"
      ]
     },
     "execution_count": 28,
     "metadata": {},
     "output_type": "execute_result"
    }
   ],
   "source": [
    "ts[1].unsqueeze(1).shape"
   ]
  },
  {
   "cell_type": "code",
   "execution_count": 30,
   "id": "b508bf9e-278e-4d9d-93ec-f0945342f111",
   "metadata": {},
   "outputs": [
    {
     "data": {
      "text/plain": [
       "torch.Size([32, 59, 22])"
      ]
     },
     "execution_count": 30,
     "metadata": {},
     "output_type": "execute_result"
    }
   ],
   "source": [
    "noised_samples[1].shape"
   ]
  },
  {
   "cell_type": "code",
   "execution_count": 38,
   "id": "e26635af-ea02-4c00-b57d-f84664fb5602",
   "metadata": {},
   "outputs": [
    {
     "data": {
      "text/plain": [
       "tensor([[[[0.0000, 0.0000, 0.0000,  ..., 0.0000, 0.0000, 0.0000],\n",
       "          [0.0000, 0.0000, 0.0000,  ..., 0.0000, 0.0000, 0.0000],\n",
       "          [0.0000, 0.0000, 0.0000,  ..., 0.0000, 0.0000, 0.0000],\n",
       "          ...,\n",
       "          [0.0000, 0.0000, 0.0000,  ..., 0.0000, 0.0000, 0.0000],\n",
       "          [0.0000, 0.0000, 0.0000,  ..., 0.0000, 0.0000, 0.0000],\n",
       "          [0.0000, 0.0000, 0.0000,  ..., 0.0000, 0.0000, 0.0000]],\n",
       "\n",
       "         [[0.0000, 0.0000, 0.0000,  ..., 0.0000, 0.0000, 0.0000],\n",
       "          [0.0000, 0.0000, 0.0000,  ..., 0.0000, 0.0000, 0.0000],\n",
       "          [0.0000, 0.0000, 0.0000,  ..., 0.0000, 0.0000, 0.0000],\n",
       "          ...,\n",
       "          [0.0000, 0.0000, 0.0000,  ..., 0.0000, 0.0000, 0.0000],\n",
       "          [0.0000, 0.0000, 0.0000,  ..., 0.0000, 0.0000, 0.0000],\n",
       "          [0.0000, 0.0000, 0.0000,  ..., 0.0000, 0.0000, 0.0000]],\n",
       "\n",
       "         [[0.0000, 0.0000, 0.0000,  ..., 0.9900, 0.0000, 0.0000],\n",
       "          [0.0000, 0.0000, 0.0000,  ..., 0.0000, 0.0000, 0.0000],\n",
       "          [0.0000, 0.0000, 0.0000,  ..., 0.9900, 0.0000, 0.0000],\n",
       "          ...,\n",
       "          [0.0000, 0.0000, 0.0000,  ..., 0.9900, 0.0000, 0.0000],\n",
       "          [0.0000, 0.0000, 0.0000,  ..., 0.0000, 0.0000, 0.0000],\n",
       "          [0.0000, 0.0000, 0.0000,  ..., 0.0000, 0.0000, 0.0000]],\n",
       "\n",
       "         ...,\n",
       "\n",
       "         [[0.0000, 0.9900, 0.0000,  ..., 0.0000, 0.0000, 0.0000],\n",
       "          [0.0000, 0.0000, 0.0000,  ..., 0.9900, 0.0000, 0.0000],\n",
       "          [0.0000, 0.9900, 0.0000,  ..., 0.0000, 0.0000, 0.0000],\n",
       "          ...,\n",
       "          [0.0000, 0.0000, 0.0000,  ..., 0.0000, 0.0000, 0.0000],\n",
       "          [0.0000, 0.0000, 0.0000,  ..., 0.0000, 0.0000, 0.0000],\n",
       "          [0.0000, 0.0000, 0.0000,  ..., 0.0000, 0.0000, 0.0000]],\n",
       "\n",
       "         [[0.0000, 0.0000, 0.0000,  ..., 0.0000, 0.0000, 0.0000],\n",
       "          [0.0000, 0.0000, 0.0000,  ..., 0.0000, 0.0000, 0.0000],\n",
       "          [0.0000, 0.0000, 0.0000,  ..., 0.0000, 0.0000, 0.0000],\n",
       "          ...,\n",
       "          [0.0000, 0.0000, 0.0000,  ..., 0.0000, 0.0000, 0.0000],\n",
       "          [0.0000, 0.0000, 0.0000,  ..., 0.0000, 0.0000, 0.0000],\n",
       "          [0.0000, 0.0000, 0.0000,  ..., 0.0000, 0.0000, 0.0000]],\n",
       "\n",
       "         [[0.0000, 0.0000, 0.0000,  ..., 0.0000, 0.0000, 0.0000],\n",
       "          [0.0000, 0.0000, 0.0000,  ..., 0.0000, 0.0000, 0.0000],\n",
       "          [0.0000, 0.0000, 0.0000,  ..., 0.0000, 0.0000, 0.0000],\n",
       "          ...,\n",
       "          [0.0000, 0.0000, 0.0000,  ..., 0.9900, 0.0000, 0.0000],\n",
       "          [0.0000, 0.0000, 0.0000,  ..., 0.0000, 0.9900, 0.0000],\n",
       "          [0.0000, 0.0000, 0.0000,  ..., 0.0000, 0.9900, 0.0000]]],\n",
       "\n",
       "\n",
       "        [[[0.0000, 0.0000, 0.0000,  ..., 0.0000, 0.0000, 0.0000],\n",
       "          [0.0000, 0.0000, 0.0000,  ..., 0.0000, 0.0000, 0.0000],\n",
       "          [0.0000, 0.0000, 0.0000,  ..., 0.0000, 0.0000, 0.0000],\n",
       "          ...,\n",
       "          [0.0000, 0.0000, 0.0000,  ..., 0.0000, 0.0000, 0.0000],\n",
       "          [0.0000, 0.0000, 0.0000,  ..., 0.0000, 0.0000, 0.0000],\n",
       "          [0.0000, 0.0000, 0.0000,  ..., 0.0000, 0.0000, 0.0000]],\n",
       "\n",
       "         [[0.0000, 0.0000, 0.0000,  ..., 0.0000, 0.0000, 0.0000],\n",
       "          [0.0000, 0.0000, 0.0000,  ..., 0.0000, 0.0000, 0.0000],\n",
       "          [0.0000, 0.0000, 0.0000,  ..., 0.0000, 0.0000, 0.0000],\n",
       "          ...,\n",
       "          [0.0000, 0.0000, 0.0000,  ..., 0.0000, 0.0000, 0.0000],\n",
       "          [0.0000, 0.0000, 0.0000,  ..., 0.0000, 0.0000, 0.0000],\n",
       "          [0.0000, 0.0000, 0.0000,  ..., 0.0000, 0.0000, 0.0000]],\n",
       "\n",
       "         [[0.0000, 0.0000, 0.0000,  ..., 0.9900, 0.0000, 0.0000],\n",
       "          [0.0000, 0.0000, 0.0000,  ..., 0.0000, 0.0000, 0.0000],\n",
       "          [0.0000, 0.0000, 0.0000,  ..., 0.9900, 0.0000, 0.0000],\n",
       "          ...,\n",
       "          [0.0000, 0.0000, 0.0000,  ..., 0.9900, 0.0000, 0.0000],\n",
       "          [0.0000, 0.0000, 0.0000,  ..., 0.0000, 0.0000, 0.0000],\n",
       "          [0.0000, 0.0000, 0.0000,  ..., 0.0000, 0.0000, 0.0000]],\n",
       "\n",
       "         ...,\n",
       "\n",
       "         [[0.0000, 0.9900, 0.0000,  ..., 0.0000, 0.0000, 0.0000],\n",
       "          [0.0000, 0.0000, 0.0000,  ..., 0.9900, 0.0000, 0.0000],\n",
       "          [0.0000, 0.9900, 0.0000,  ..., 0.0000, 0.0000, 0.0000],\n",
       "          ...,\n",
       "          [0.0000, 0.0000, 0.0000,  ..., 0.0000, 0.0000, 0.0000],\n",
       "          [0.0000, 0.0000, 0.0000,  ..., 0.0000, 0.0000, 0.0000],\n",
       "          [0.0000, 0.0000, 0.0000,  ..., 0.0000, 0.0000, 0.0000]],\n",
       "\n",
       "         [[0.0000, 0.0000, 0.0000,  ..., 0.0000, 0.0000, 0.0000],\n",
       "          [0.0000, 0.0000, 0.0000,  ..., 0.0000, 0.0000, 0.0000],\n",
       "          [0.0000, 0.0000, 0.0000,  ..., 0.0000, 0.0000, 0.0000],\n",
       "          ...,\n",
       "          [0.0000, 0.0000, 0.0000,  ..., 0.0000, 0.0000, 0.0000],\n",
       "          [0.0000, 0.0000, 0.0000,  ..., 0.0000, 0.0000, 0.0000],\n",
       "          [0.0000, 0.0000, 0.0000,  ..., 0.0000, 0.0000, 0.0000]],\n",
       "\n",
       "         [[0.0000, 0.0000, 0.0000,  ..., 0.0000, 0.0000, 0.0000],\n",
       "          [0.0000, 0.0000, 0.0000,  ..., 0.0000, 0.0000, 0.0000],\n",
       "          [0.0000, 0.0000, 0.0000,  ..., 0.0000, 0.0000, 0.0000],\n",
       "          ...,\n",
       "          [0.0000, 0.0000, 0.0000,  ..., 0.9900, 0.0000, 0.0000],\n",
       "          [0.0000, 0.0000, 0.0000,  ..., 0.0000, 0.9900, 0.0000],\n",
       "          [0.0000, 0.0000, 0.0000,  ..., 0.0000, 0.9900, 0.0000]]],\n",
       "\n",
       "\n",
       "        [[[0.0000, 0.0000, 0.0000,  ..., 0.0000, 0.0000, 0.0000],\n",
       "          [0.0000, 0.0000, 0.0000,  ..., 0.0000, 0.0000, 0.0000],\n",
       "          [0.0000, 0.0000, 0.0000,  ..., 0.0000, 0.0000, 0.0000],\n",
       "          ...,\n",
       "          [0.0000, 0.0000, 0.0000,  ..., 0.0000, 0.0000, 0.0000],\n",
       "          [0.0000, 0.0000, 0.0000,  ..., 0.0000, 0.0000, 0.0000],\n",
       "          [0.0000, 0.0000, 0.0000,  ..., 0.0000, 0.0000, 0.0000]],\n",
       "\n",
       "         [[0.0000, 0.0000, 0.0000,  ..., 0.0000, 0.0000, 0.0000],\n",
       "          [0.0000, 0.0000, 0.0000,  ..., 0.0000, 0.0000, 0.0000],\n",
       "          [0.0000, 0.0000, 0.0000,  ..., 0.0000, 0.0000, 0.0000],\n",
       "          ...,\n",
       "          [0.0000, 0.0000, 0.0000,  ..., 0.0000, 0.0000, 0.0000],\n",
       "          [0.0000, 0.0000, 0.0000,  ..., 0.0000, 0.0000, 0.0000],\n",
       "          [0.0000, 0.0000, 0.0000,  ..., 0.0000, 0.0000, 0.0000]],\n",
       "\n",
       "         [[0.0000, 0.0000, 0.0000,  ..., 0.9900, 0.0000, 0.0000],\n",
       "          [0.0000, 0.0000, 0.0000,  ..., 0.0000, 0.0000, 0.0000],\n",
       "          [0.0000, 0.0000, 0.0000,  ..., 0.9900, 0.0000, 0.0000],\n",
       "          ...,\n",
       "          [0.0000, 0.0000, 0.0000,  ..., 0.9900, 0.0000, 0.0000],\n",
       "          [0.0000, 0.0000, 0.0000,  ..., 0.0000, 0.0000, 0.0000],\n",
       "          [0.0000, 0.0000, 0.0000,  ..., 0.0000, 0.0000, 0.0000]],\n",
       "\n",
       "         ...,\n",
       "\n",
       "         [[0.0000, 0.9900, 0.0000,  ..., 0.0000, 0.0000, 0.0000],\n",
       "          [0.0000, 0.0000, 0.0000,  ..., 0.9900, 0.0000, 0.0000],\n",
       "          [0.0000, 0.9900, 0.0000,  ..., 0.0000, 0.0000, 0.0000],\n",
       "          ...,\n",
       "          [0.0000, 0.0000, 0.0000,  ..., 0.0000, 0.0000, 0.0000],\n",
       "          [0.0000, 0.0000, 0.0000,  ..., 0.0000, 0.0000, 0.0000],\n",
       "          [0.0000, 0.0000, 0.0000,  ..., 0.0000, 0.0000, 0.0000]],\n",
       "\n",
       "         [[0.0000, 0.0000, 0.0000,  ..., 0.0000, 0.0000, 0.0000],\n",
       "          [0.0000, 0.0000, 0.0000,  ..., 0.0000, 0.0000, 0.0000],\n",
       "          [0.0000, 0.0000, 0.0000,  ..., 0.0000, 0.0000, 0.0000],\n",
       "          ...,\n",
       "          [0.0000, 0.0000, 0.0000,  ..., 0.0000, 0.0000, 0.0000],\n",
       "          [0.0000, 0.0000, 0.0000,  ..., 0.0000, 0.0000, 0.0000],\n",
       "          [0.0000, 0.0000, 0.0000,  ..., 0.0000, 0.0000, 0.0000]],\n",
       "\n",
       "         [[0.0000, 0.0000, 0.0000,  ..., 0.0000, 0.0000, 0.0000],\n",
       "          [0.0000, 0.0000, 0.0000,  ..., 0.0000, 0.0000, 0.0000],\n",
       "          [0.0000, 0.0000, 0.0000,  ..., 0.0000, 0.0000, 0.0000],\n",
       "          ...,\n",
       "          [0.0000, 0.0000, 0.0000,  ..., 0.9900, 0.0000, 0.0000],\n",
       "          [0.0000, 0.0000, 0.0000,  ..., 0.0000, 0.9900, 0.0000],\n",
       "          [0.0000, 0.0000, 0.0000,  ..., 0.0000, 0.9900, 0.0000]]],\n",
       "\n",
       "\n",
       "        ...,\n",
       "\n",
       "\n",
       "        [[[0.0100, 0.0100, 0.0100,  ..., 0.0100, 0.0100, 1.0000],\n",
       "          [0.0100, 0.0100, 0.0100,  ..., 0.0100, 0.0100, 1.0000],\n",
       "          [0.0100, 0.0100, 0.0100,  ..., 0.0100, 0.0100, 1.0000],\n",
       "          ...,\n",
       "          [0.0100, 0.0100, 0.0100,  ..., 0.0100, 0.0100, 1.0000],\n",
       "          [0.0100, 0.0100, 0.0100,  ..., 0.0100, 0.0100, 1.0000],\n",
       "          [0.0100, 0.0100, 0.0100,  ..., 0.0100, 0.0100, 1.0000]],\n",
       "\n",
       "         [[0.0100, 0.0100, 0.0100,  ..., 0.0100, 0.0100, 1.0000],\n",
       "          [0.0100, 0.0100, 0.0100,  ..., 0.0100, 0.0100, 1.0000],\n",
       "          [0.0100, 0.0100, 0.0100,  ..., 0.0100, 0.0100, 1.0000],\n",
       "          ...,\n",
       "          [0.0100, 0.0100, 0.0100,  ..., 0.0100, 0.0100, 1.0000],\n",
       "          [0.0100, 0.0100, 0.0100,  ..., 0.0100, 0.0100, 1.0000],\n",
       "          [0.0100, 0.0100, 0.0100,  ..., 0.0100, 0.0100, 1.0000]],\n",
       "\n",
       "         [[0.0100, 0.0100, 0.0100,  ..., 0.0100, 0.0100, 1.0000],\n",
       "          [0.0100, 0.0100, 0.0100,  ..., 0.0100, 0.0100, 1.0000],\n",
       "          [0.0100, 0.0100, 0.0100,  ..., 0.0100, 0.0100, 1.0000],\n",
       "          ...,\n",
       "          [0.0100, 0.0100, 0.0100,  ..., 0.0100, 0.0100, 1.0000],\n",
       "          [0.0100, 0.0100, 0.0100,  ..., 0.0100, 0.0100, 1.0000],\n",
       "          [0.0100, 0.0100, 0.0100,  ..., 0.0100, 0.0100, 1.0000]],\n",
       "\n",
       "         ...,\n",
       "\n",
       "         [[0.0100, 0.0100, 0.0100,  ..., 0.0100, 0.0100, 1.0000],\n",
       "          [0.0100, 0.0100, 0.0100,  ..., 0.0100, 0.0100, 1.0000],\n",
       "          [0.0100, 0.0100, 0.0100,  ..., 0.0100, 0.0100, 1.0000],\n",
       "          ...,\n",
       "          [0.0100, 0.0100, 0.0100,  ..., 0.0100, 0.0100, 1.0000],\n",
       "          [0.0100, 0.0100, 0.0100,  ..., 0.0100, 0.0100, 1.0000],\n",
       "          [0.0100, 0.0100, 0.0100,  ..., 0.0100, 0.0100, 1.0000]],\n",
       "\n",
       "         [[0.0100, 0.0100, 0.0100,  ..., 0.0100, 0.0100, 1.0000],\n",
       "          [0.0100, 0.0100, 0.0100,  ..., 0.0100, 0.0100, 1.0000],\n",
       "          [0.0100, 0.0100, 0.0100,  ..., 0.0100, 0.0100, 1.0000],\n",
       "          ...,\n",
       "          [0.0100, 0.0100, 0.0100,  ..., 0.0100, 0.0100, 1.0000],\n",
       "          [0.0100, 0.0100, 0.0100,  ..., 0.0100, 0.0100, 1.0000],\n",
       "          [0.0100, 0.0100, 0.0100,  ..., 0.0100, 0.0100, 1.0000]],\n",
       "\n",
       "         [[0.0100, 0.0100, 0.0100,  ..., 0.0100, 0.0100, 1.0000],\n",
       "          [0.0100, 0.0100, 0.0100,  ..., 0.0100, 0.0100, 1.0000],\n",
       "          [0.0100, 0.0100, 0.0100,  ..., 0.0100, 0.0100, 1.0000],\n",
       "          ...,\n",
       "          [0.0100, 0.0100, 0.0100,  ..., 0.0100, 0.0100, 1.0000],\n",
       "          [0.0100, 0.0100, 0.0100,  ..., 0.0100, 0.0100, 1.0000],\n",
       "          [0.0100, 0.0100, 0.0100,  ..., 0.0100, 0.0100, 1.0000]]],\n",
       "\n",
       "\n",
       "        [[[0.0100, 0.0100, 0.0100,  ..., 0.0100, 0.0100, 1.0000],\n",
       "          [0.0100, 0.0100, 0.0100,  ..., 0.0100, 0.0100, 1.0000],\n",
       "          [0.0100, 0.0100, 0.0100,  ..., 0.0100, 0.0100, 1.0000],\n",
       "          ...,\n",
       "          [0.0100, 0.0100, 0.0100,  ..., 0.0100, 0.0100, 1.0000],\n",
       "          [0.0100, 0.0100, 0.0100,  ..., 0.0100, 0.0100, 1.0000],\n",
       "          [0.0100, 0.0100, 0.0100,  ..., 0.0100, 0.0100, 1.0000]],\n",
       "\n",
       "         [[0.0100, 0.0100, 0.0100,  ..., 0.0100, 0.0100, 1.0000],\n",
       "          [0.0100, 0.0100, 0.0100,  ..., 0.0100, 0.0100, 1.0000],\n",
       "          [0.0100, 0.0100, 0.0100,  ..., 0.0100, 0.0100, 1.0000],\n",
       "          ...,\n",
       "          [0.0100, 0.0100, 0.0100,  ..., 0.0100, 0.0100, 1.0000],\n",
       "          [0.0100, 0.0100, 0.0100,  ..., 0.0100, 0.0100, 1.0000],\n",
       "          [0.0100, 0.0100, 0.0100,  ..., 0.0100, 0.0100, 1.0000]],\n",
       "\n",
       "         [[0.0100, 0.0100, 0.0100,  ..., 0.0100, 0.0100, 1.0000],\n",
       "          [0.0100, 0.0100, 0.0100,  ..., 0.0100, 0.0100, 1.0000],\n",
       "          [0.0100, 0.0100, 0.0100,  ..., 0.0100, 0.0100, 1.0000],\n",
       "          ...,\n",
       "          [0.0100, 0.0100, 0.0100,  ..., 0.0100, 0.0100, 1.0000],\n",
       "          [0.0100, 0.0100, 0.0100,  ..., 0.0100, 0.0100, 1.0000],\n",
       "          [0.0100, 0.0100, 0.0100,  ..., 0.0100, 0.0100, 1.0000]],\n",
       "\n",
       "         ...,\n",
       "\n",
       "         [[0.0100, 0.0100, 0.0100,  ..., 0.0100, 0.0100, 1.0000],\n",
       "          [0.0100, 0.0100, 0.0100,  ..., 0.0100, 0.0100, 1.0000],\n",
       "          [0.0100, 0.0100, 0.0100,  ..., 0.0100, 0.0100, 1.0000],\n",
       "          ...,\n",
       "          [0.0100, 0.0100, 0.0100,  ..., 0.0100, 0.0100, 1.0000],\n",
       "          [0.0100, 0.0100, 0.0100,  ..., 0.0100, 0.0100, 1.0000],\n",
       "          [0.0100, 0.0100, 0.0100,  ..., 0.0100, 0.0100, 1.0000]],\n",
       "\n",
       "         [[0.0100, 0.0100, 0.0100,  ..., 0.0100, 0.0100, 1.0000],\n",
       "          [0.0100, 0.0100, 0.0100,  ..., 0.0100, 0.0100, 1.0000],\n",
       "          [0.0100, 0.0100, 0.0100,  ..., 0.0100, 0.0100, 1.0000],\n",
       "          ...,\n",
       "          [0.0100, 0.0100, 0.0100,  ..., 0.0100, 0.0100, 1.0000],\n",
       "          [0.0100, 0.0100, 0.0100,  ..., 0.0100, 0.0100, 1.0000],\n",
       "          [0.0100, 0.0100, 0.0100,  ..., 0.0100, 0.0100, 1.0000]],\n",
       "\n",
       "         [[0.0100, 0.0100, 0.0100,  ..., 0.0100, 0.0100, 1.0000],\n",
       "          [0.0100, 0.0100, 0.0100,  ..., 0.0100, 0.0100, 1.0000],\n",
       "          [0.0100, 0.0100, 0.0100,  ..., 0.0100, 0.0100, 1.0000],\n",
       "          ...,\n",
       "          [0.0100, 0.0100, 0.0100,  ..., 0.0100, 0.0100, 1.0000],\n",
       "          [0.0100, 0.0100, 0.0100,  ..., 0.0100, 0.0100, 1.0000],\n",
       "          [0.0100, 0.0100, 0.0100,  ..., 0.0100, 0.0100, 1.0000]]],\n",
       "\n",
       "\n",
       "        [[[0.0100, 0.0100, 0.0100,  ..., 0.0100, 0.0100, 1.0000],\n",
       "          [0.0100, 0.0100, 0.0100,  ..., 0.0100, 0.0100, 1.0000],\n",
       "          [0.0100, 0.0100, 0.0100,  ..., 0.0100, 0.0100, 1.0000],\n",
       "          ...,\n",
       "          [0.0100, 0.0100, 0.0100,  ..., 0.0100, 0.0100, 1.0000],\n",
       "          [0.0100, 0.0100, 0.0100,  ..., 0.0100, 0.0100, 1.0000],\n",
       "          [0.0100, 0.0100, 0.0100,  ..., 0.0100, 0.0100, 1.0000]],\n",
       "\n",
       "         [[0.0100, 0.0100, 0.0100,  ..., 0.0100, 0.0100, 1.0000],\n",
       "          [0.0100, 0.0100, 0.0100,  ..., 0.0100, 0.0100, 1.0000],\n",
       "          [0.0100, 0.0100, 0.0100,  ..., 0.0100, 0.0100, 1.0000],\n",
       "          ...,\n",
       "          [0.0100, 0.0100, 0.0100,  ..., 0.0100, 0.0100, 1.0000],\n",
       "          [0.0100, 0.0100, 0.0100,  ..., 0.0100, 0.0100, 1.0000],\n",
       "          [0.0100, 0.0100, 0.0100,  ..., 0.0100, 0.0100, 1.0000]],\n",
       "\n",
       "         [[0.0100, 0.0100, 0.0100,  ..., 0.0100, 0.0100, 1.0000],\n",
       "          [0.0100, 0.0100, 0.0100,  ..., 0.0100, 0.0100, 1.0000],\n",
       "          [0.0100, 0.0100, 0.0100,  ..., 0.0100, 0.0100, 1.0000],\n",
       "          ...,\n",
       "          [0.0100, 0.0100, 0.0100,  ..., 0.0100, 0.0100, 1.0000],\n",
       "          [0.0100, 0.0100, 0.0100,  ..., 0.0100, 0.0100, 1.0000],\n",
       "          [0.0100, 0.0100, 0.0100,  ..., 0.0100, 0.0100, 1.0000]],\n",
       "\n",
       "         ...,\n",
       "\n",
       "         [[0.0100, 0.0100, 0.0100,  ..., 0.0100, 0.0100, 1.0000],\n",
       "          [0.0100, 0.0100, 0.0100,  ..., 0.0100, 0.0100, 1.0000],\n",
       "          [0.0100, 0.0100, 0.0100,  ..., 0.0100, 0.0100, 1.0000],\n",
       "          ...,\n",
       "          [0.0100, 0.0100, 0.0100,  ..., 0.0100, 0.0100, 1.0000],\n",
       "          [0.0100, 0.0100, 0.0100,  ..., 0.0100, 0.0100, 1.0000],\n",
       "          [0.0100, 0.0100, 0.0100,  ..., 0.0100, 0.0100, 1.0000]],\n",
       "\n",
       "         [[0.0100, 0.0100, 0.0100,  ..., 0.0100, 0.0100, 1.0000],\n",
       "          [0.0100, 0.0100, 0.0100,  ..., 0.0100, 0.0100, 1.0000],\n",
       "          [0.0100, 0.0100, 0.0100,  ..., 0.0100, 0.0100, 1.0000],\n",
       "          ...,\n",
       "          [0.0100, 0.0100, 0.0100,  ..., 0.0100, 0.0100, 1.0000],\n",
       "          [0.0100, 0.0100, 0.0100,  ..., 0.0100, 0.0100, 1.0000],\n",
       "          [0.0100, 0.0100, 0.0100,  ..., 0.0100, 0.0100, 1.0000]],\n",
       "\n",
       "         [[0.0100, 0.0100, 0.0100,  ..., 0.0100, 0.0100, 1.0000],\n",
       "          [0.0100, 0.0100, 0.0100,  ..., 0.0100, 0.0100, 1.0000],\n",
       "          [0.0100, 0.0100, 0.0100,  ..., 0.0100, 0.0100, 1.0000],\n",
       "          ...,\n",
       "          [0.0100, 0.0100, 0.0100,  ..., 0.0100, 0.0100, 1.0000],\n",
       "          [0.0100, 0.0100, 0.0100,  ..., 0.0100, 0.0100, 1.0000],\n",
       "          [0.0100, 0.0100, 0.0100,  ..., 0.0100, 0.0100, 1.0000]]]])"
      ]
     },
     "execution_count": 38,
     "metadata": {},
     "output_type": "execute_result"
    }
   ],
   "source": [
    "torch.matmul(noised_samples, noise_matrix.t()) * torch.matmul("
   ]
  },
  {
   "cell_type": "code",
   "execution_count": 21,
   "id": "40d18028-2ce8-402e-bcec-f29f275d7b24",
   "metadata": {},
   "outputs": [
    {
     "data": {
      "text/plain": [
       "tensor(325811.2188)"
      ]
     },
     "execution_count": 21,
     "metadata": {},
     "output_type": "execute_result"
    }
   ],
   "source": [
    "L_T(noised_samples_reshaped, noise_matrix)"
   ]
  },
  {
   "cell_type": "code",
   "execution_count": null,
   "id": "196e2e5d-d4c7-49eb-9ffd-11bac261aff3",
   "metadata": {},
   "outputs": [],
   "source": [
    "class CategoricalDiffusion(torch.nn.Module):\n",
    "    def __init__(\n",
    "        denoiser\n",
    "        \n",
    "    ):\n",
    "        super().__init__(**kwargs)\n",
    "        self.denoiser = denoiser\n",
    "\n",
    "    def denoising_process(self, noised_sample, ts):\n",
    "        y_pred = self.denoiser(noised_sample)\n",
    "        return y_pred\n",
    "\n",
    "    def L_T(self, noised_sample, noise_matrix):\n",
    "        vals, vecs = torch.linalg.eig(noise_matrix.t())\n",
    "        vals = torch.real(vals)\n",
    "        vecs = torch.real(vecs)\n",
    "\n",
    "        PxT = vecs[:, torch.argmax(vals)].unsqueeze(0).unsqueeze(1)\n",
    "\n",
    "        no_zeros_PxT = PxT + 1e-6\n",
    "        no_zeros_X   = noised_sample + 1e-6\n",
    "        \n",
    "        dkl_steady_state = torch.sum(\n",
    "            no_zeros_X * torch.log(no_zeros_X/no_zeros_PxT)\n",
    "        )\n",
    "\n",
    "        return dkl_steady_state\n",
    "\n",
    "    def L_tminus1(self, real, noise, forward_step):\n",
    "        fake = self.denoising_process(noise)\n",
    "        output = real*fake\n",
    "        qxtminus1_giv_xt_xtilde = reverse_marginal(noise_matrix, forward_step, reverse_step, output, noise)\n",
    "        qxtminus1_xt_giv_xtilde = qxtminus1_giv_xt_xtilde * noise_matrix.matrix_power(forward_step)\n",
    "\n",
    "\n",
    "    def L_t1(self, real, fake):\n",
    "        \"\"\"\n",
    "        \n",
    "        \"\"\"\n",
    "        return torch.sum(real * torch.log(fake+1e-6))\n",
    "        "
   ]
  }
 ],
 "metadata": {
  "kernelspec": {
   "display_name": "Python 3 (ipykernel)",
   "language": "python",
   "name": "python3"
  },
  "language_info": {
   "codemirror_mode": {
    "name": "ipython",
    "version": 3
   },
   "file_extension": ".py",
   "mimetype": "text/x-python",
   "name": "python",
   "nbconvert_exporter": "python",
   "pygments_lexer": "ipython3",
   "version": "3.11.4"
  }
 },
 "nbformat": 4,
 "nbformat_minor": 5
}
