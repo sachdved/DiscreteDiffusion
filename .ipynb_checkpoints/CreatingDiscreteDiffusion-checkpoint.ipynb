{
 "cells": [
  {
   "cell_type": "code",
   "execution_count": 1,
   "id": "3c3ecf48-4158-4984-8579-83e97e42f424",
   "metadata": {},
   "outputs": [],
   "source": [
    "import torch\n",
    "import numpy as np\n",
    "import sklearn\n"
   ]
  },
  {
   "cell_type": "code",
   "execution_count": 2,
   "id": "7a5f91dc-24bc-4ad1-9b5b-c8b152e31a4d",
   "metadata": {},
   "outputs": [],
   "source": [
    "class Noiser():\n",
    "    def __init__(self,\n",
    "                 noiser = 'Uniform',\n",
    "                 beta_t = 0.001,\n",
    "                 k = 21\n",
    "    ):\n",
    "        if noiser == 'Uniform':\n",
    "            self.noise_matrix = (1.-beta_t) * torch.eye(k)\n",
    "            self.noise_matrix = self.noise_matrix + beta_t/k * (torch.ones((k,k)) - torch.eye(k))\n",
    "        elif noiser == 'BERT-LIKE':\n",
    "            self.noise_matrix = (1.-beta_t) * torch.eye(k+1)\n",
    "            self.noise_matrix[:,k] = torch.ones(k+1)*beta_t\n",
    "            self.noise_matrix[k,:] = torch.zeros(k+1)\n",
    "            self.noise_matrix[k,k] = 1.\n",
    "        elif noiser == 'Gaussian':\n",
    "            one_way = torch.arange(0,k,1).unsqueeze(0)\n",
    "            other_way = torch.arange(0,k,1).unsqueeze(1)\n",
    "\n",
    "            self.noise_matrix = torch.exp(-4 * (one_way-other_way).pow(2)/((k-1)**2 * beta_t))/torch.sum(torch.exp(-4 * torch.arange(-k+1,k,1)**2/((k-1)**2 * beta_t)))\n",
    "            diagonal = 1-torch.sum(self.noise_matrix - self.noise_matrix[0,0]*torch.eye(k), dim=1)\n",
    "            \n",
    "            mask = torch.diag(torch.ones_like(self.noise_matrix))\n",
    "\n",
    "            self.noise_matrix = mask * torch.diag(diagonal) + (1.-torch.diag(mask))*self.noise_matrix"
   ]
  },
  {
   "cell_type": "code",
   "execution_count": 3,
   "id": "52ecda75-a7c5-4090-a915-ff84d8ee7ee4",
   "metadata": {},
   "outputs": [],
   "source": [
    "default_aa_keys='-GALMFWKQESPVICYHRNDT'\n",
    "def fasta_to_df(fasta_file, aa_keys = default_aa_keys):\n",
    "    \"\"\"\n",
    "    creates one hot encoding of a fasta file using biopython's alignio.read process. \n",
    "    fasta_file : filepath leading to msa file in fasta format at hand\n",
    "    \"\"\"\n",
    "    column_names = []\n",
    "    column_names.extend(aa_keys)\n",
    "    msa=AlignIO.read(fasta_file, \"fasta\")\n",
    "    num_columns = len(msa[0].seq)\n",
    "    column_names = column_names*num_columns\n",
    "    column_names.append('sequence')\n",
    "    column_names.append('id')\n",
    "    init = np.zeros((len(msa), len(column_names)))\n",
    "    df = pd.DataFrame(init, columns = column_names)\n",
    "    df.sequence = df.sequence.astype(str)\n",
    "    df.id=df.id.astype(str)\n",
    "    \n",
    "    for row_num, alignment in tqdm(enumerate(msa)):\n",
    "        sequence = str(alignment.seq)\n",
    "        for index, char in enumerate(sequence):\n",
    "            place = aa_keys.find(char)\n",
    "            df.iloc[row_num, index*len(aa_keys) + place] = 1\n",
    "        \n",
    "        df.iloc[row_num,-2]=str(alignment.seq)\n",
    "        df.iloc[row_num,-1]=str(alignment.id)\n",
    "    \n",
    "    return df"
   ]
  },
  {
   "cell_type": "code",
   "execution_count": 4,
   "id": "3f94f9d9-2df0-498c-adb0-31774d8cde1b",
   "metadata": {},
   "outputs": [],
   "source": [
    "def create_frequency_matrix(df, aa_keys = default_aa_keys):\n",
    "    \"\"\"takes one hot encoded msa and returns the frequency of each amino acid at each site\n",
    "    df : pandas dataframe whose columns are the one hot encoding of an msa\n",
    "    \"\"\"\n",
    "    num_columns=len(df['sequence'][0])\n",
    "    \n",
    "    frequency_matrix = np.zeros( (len(aa_keys) , num_columns) )\n",
    "    print('calcing sum')\n",
    "    freq=df.sum()\n",
    "    print('sum calced')\n",
    "    \n",
    "    num_entries=len(df)\n",
    "    len_aa_keys = len(aa_keys)\n",
    "    \n",
    "    for i in tqdm(range(len(aa_keys))):\n",
    "        for j in range(num_columns):\n",
    "            frequency_matrix[i, j] = freq[ i + len_aa_keys * j] / num_entries\n",
    "    \n",
    "    return frequency_matrix"
   ]
  },
  {
   "cell_type": "code",
   "execution_count": 5,
   "id": "2c7c532b-f482-4a18-885f-732352e91396",
   "metadata": {},
   "outputs": [],
   "source": [
    "import pandas as pd"
   ]
  },
  {
   "cell_type": "code",
   "execution_count": 6,
   "id": "cc700a4b-7e53-4fdd-9c83-1e804bdb842d",
   "metadata": {},
   "outputs": [],
   "source": [
    "msa = pd.read_csv('SH3_Full_Dataset_8_9_22.csv')\n",
    "msa['Type'].unique()\n",
    "naturals_msa = msa[msa['Type']=='Naturals']\n",
    "seqs = np.asarray([list(seq) for seq in naturals_msa['Sequences']])\n",
    "norm_re = np.asarray([re for re in naturals_msa['Norm_RE']])"
   ]
  },
  {
   "cell_type": "code",
   "execution_count": 7,
   "id": "3d9540e5-b540-4464-900a-883c9f333f5b",
   "metadata": {},
   "outputs": [],
   "source": [
    "phyla = np.asarray([domain for domain in naturals_msa['Phylum']])"
   ]
  },
  {
   "cell_type": "code",
   "execution_count": 8,
   "id": "c743e3d8-c0bd-483a-a139-4ecfe76b2566",
   "metadata": {},
   "outputs": [
    {
     "name": "stderr",
     "output_type": "stream",
     "text": [
      "11608it [02:10, 89.02it/s] \n"
     ]
    },
    {
     "name": "stdout",
     "output_type": "stream",
     "text": [
      "calcing sum\n",
      "sum calced\n"
     ]
    },
    {
     "name": "stderr",
     "output_type": "stream",
     "text": [
      "100%|█████████████████████████████████████████| 21/21 [00:00<00:00, 6318.99it/s]"
     ]
    },
    {
     "name": "stdout",
     "output_type": "stream",
     "text": [
      "[16, 17, 44]\n"
     ]
    },
    {
     "name": "stderr",
     "output_type": "stream",
     "text": [
      "\n"
     ]
    }
   ],
   "source": [
    "from Bio import AlignIO\n",
    "from Bio.Seq import Seq\n",
    "from Bio.SeqRecord import SeqRecord\n",
    "from tqdm import tqdm\n",
    "vae_alignment = []\n",
    "phenotypes = []\n",
    "\n",
    "vae_data = msa[msa['Type']=='VAE'].reset_index()\n",
    "\n",
    "for r in range(len(vae_data)):\n",
    "    alignment = vae_data.loc[r]\n",
    "    if len(alignment['Sequences'])==62:\n",
    "        record = SeqRecord(seq = Seq(alignment['Sequences']), id = alignment['Header'])\n",
    "    \n",
    "    vae_alignment.append(record)\n",
    "    phenotypes.append(alignment['Norm_RE'])\n",
    "\n",
    "vae_alignment = AlignIO.MultipleSeqAlignment(vae_alignment)\n",
    "\n",
    "AlignIO.write(vae_alignment, 'vae_alignment.fasta', 'fasta')\n",
    "\n",
    "vae_df = fasta_to_df('vae_alignment.fasta')\n",
    "\n",
    "freq_matrix = create_frequency_matrix(vae_df)\n",
    "\n",
    "trim_positions = []\n",
    "\n",
    "for i in range(freq_matrix.shape[1]):\n",
    "    if 1 in freq_matrix[:,i]:\n",
    "        trim_positions.append(i)\n",
    "\n",
    "print(trim_positions)\n",
    "\n",
    "\n",
    "vae_alignment_trimmed = []\n",
    "\n",
    "\n",
    "for alignment in vae_alignment:\n",
    "    new_seq = ''\n",
    "    for i in range(62):\n",
    "        if i not in trim_positions:\n",
    "            new_seq+=alignment.seq[i]\n",
    "    re_alignment = SeqRecord(seq=Seq(new_seq), id = alignment.id)\n",
    "    vae_alignment_trimmed.append(re_alignment)\n",
    "\n",
    "vae_alignment_trimmed = AlignIO.MultipleSeqAlignment(vae_alignment_trimmed)\n",
    "\n",
    "AlignIO.write(vae_alignment_trimmed, 'vae_alignment_trimmed.fasta', 'fasta')\n",
    "\n",
    "test_seqs = np.asarray([list(str(alignment.seq)) for alignment in vae_alignment_trimmed])\n",
    "\n",
    "phenotypes = np.asarray(phenotypes)"
   ]
  },
  {
   "cell_type": "code",
   "execution_count": 9,
   "id": "96241e97-0f0f-43df-b842-d648316f54ed",
   "metadata": {},
   "outputs": [
    {
     "data": {
      "text/plain": [
       "array([['-', '-', '-', ..., 'S', 'C', 'C'],\n",
       "       ['T', 'A', 'K', ..., 'I', 'V', 'S'],\n",
       "       ['P', 'A', 'K', ..., 'I', 'E', 'V'],\n",
       "       ...,\n",
       "       ['S', 'A', 'Q', ..., 'V', '-', '-'],\n",
       "       ['K', 'K', 'H', ..., 'T', 'G', 'S'],\n",
       "       ['K', 'K', 'H', ..., 'T', 'G', 'S']], dtype='<U1')"
      ]
     },
     "execution_count": 9,
     "metadata": {},
     "output_type": "execute_result"
    }
   ],
   "source": [
    "test_seqs"
   ]
  },
  {
   "cell_type": "code",
   "execution_count": 10,
   "id": "c67b572e-b657-4dba-8e6a-7a5a37b0a996",
   "metadata": {},
   "outputs": [],
   "source": [
    "AMINO_ACIDS = \"ARNDCQEGHILKMFPSTWYV-\"\n",
    "IDX_TO_AA = list(AMINO_ACIDS)\n",
    "AA_TO_IDX = {aa: i for i, aa in enumerate(IDX_TO_AA)}"
   ]
  },
  {
   "cell_type": "code",
   "execution_count": 11,
   "id": "d3c3a6e8-5a8c-46e4-b142-243971e33578",
   "metadata": {},
   "outputs": [],
   "source": [
    "class ProteinDataset(torch.utils.data.Dataset):\n",
    "    \"\"\"\n",
    "    takes in sequence data and phenotype data and spits back two dictionaries, X with one key - sequence, and Y with one, potentially two, keys - sequence and phenotype\n",
    "    inputs:\n",
    "        seq_data: np.array representing sequences\n",
    "        phenotype_data np.array representing phenotypes\n",
    "    \n",
    "    \"\"\"\n",
    "    \n",
    "    def __init__(self,\n",
    "                 seq_data,\n",
    "                 phenotype_data = None,\n",
    "                 include_mask = False,\n",
    "                **kwargs):\n",
    "        super().__init__(**kwargs)\n",
    "        self.include_mask = include_mask\n",
    "        self.seqs = seq_data\n",
    "        self.phenotype_data = phenotype_data\n",
    "        self.AMINO_ACIDS = \"ARNDCQEGHILKMFPSTWYV-\"\n",
    "        self.IDX_TO_AA = list(self.AMINO_ACIDS)\n",
    "        self.AA_TO_IDX = {aa: i for i, aa in enumerate(self.IDX_TO_AA)}\n",
    "\n",
    "    def __len__(self):\n",
    "        return self.seqs.shape[0]\n",
    "\n",
    "    def __getitem__(self, index):\n",
    "        X = dict()\n",
    "        Y = dict()\n",
    "        if self.phenotype_data is not None:\n",
    "            Y['pheno'] = self.phenotype_data[index]\n",
    "\n",
    "        one_hot_seq = self._to_one_hot(self.seqs[index])\n",
    "        Y['seq'] = one_hot_seq\n",
    "        X['seq'] = one_hot_seq\n",
    "        return X, Y\n",
    "\n",
    "    def _to_one_hot(self, seq):\n",
    "        if self.include_mask:\n",
    "            one_hot_encoded = np.zeros((seq.shape[0],len(self.IDX_TO_AA)+1))\n",
    "            for index, char in enumerate(seq):\n",
    "                one_hot_encoded[index, self.AA_TO_IDX[char]]=1\n",
    "            return torch.tensor(one_hot_encoded, dtype=torch.float32)\n",
    "        else:\n",
    "            one_hot_encoded = np.zeros((seq.shape[0],len(self.IDX_TO_AA)))\n",
    "            for index, char in enumerate(seq):\n",
    "                one_hot_encoded[index, self.AA_TO_IDX[char]]=1\n",
    "            return torch.tensor(one_hot_encoded, dtype=torch.float32)"
   ]
  },
  {
   "cell_type": "code",
   "execution_count": 12,
   "id": "bea13234-91b9-4c46-900a-ccfb7aa4921d",
   "metadata": {},
   "outputs": [],
   "source": [
    "def sampler(sequence_matrix, noise_matrix, num_states):\n",
    "    \n",
    "    probabilities = torch.matmul(sequence_matrix, noise_matrix.unsqueeze(0))\n",
    "    results = torch.nn.functional.one_hot(torch.multinomial(probabilities.view(-1, results.shape[-1]), 1), num_classes=num_states)\n",
    "\n",
    "    results = results.view(probabilities.shape[0], probabilities.shape[1], num_states)\n",
    "\n",
    "    return results"
   ]
  },
  {
   "cell_type": "code",
   "execution_count": 13,
   "id": "deedc486-99ad-4955-9d9b-51eb70872ca6",
   "metadata": {},
   "outputs": [],
   "source": [
    "delta_t = 0.001\n",
    "\n",
    "times = torch.arange(0, 1 + delta_t, step=0.001)"
   ]
  },
  {
   "cell_type": "code",
   "execution_count": 14,
   "id": "eeac894b-419c-4f52-96d8-a269ab9fa764",
   "metadata": {},
   "outputs": [],
   "source": [
    "class Attention(torch.nn.Module):\n",
    "    def __init__(self,\n",
    "                 **kwargs\n",
    "                ):\n",
    "        super().__init__()\n",
    "\n",
    "\n",
    "    def forward(queries,\n",
    "                keys,\n",
    "                values,\n",
    "                d_k,\n",
    "                mask = None\n",
    "               ):\n",
    "        scores = torch.matmul(queries, keys.transpose(-1,-2))/torch.sqrt(d_k)\n",
    "        if mask is not None:\n",
    "            scores += -1e9*mask\n",
    "\n",
    "        attention = torch.nn.Softmax(dim=-1)(scores)\n",
    "        return torch.matmul(attention, values), attention\n",
    "        \n",
    "                 "
   ]
  },
  {
   "cell_type": "code",
   "execution_count": 15,
   "id": "61553108-0ca6-4f9c-9929-33b8a4938703",
   "metadata": {},
   "outputs": [],
   "source": [
    "class MultiHeadedAttention(torch.nn.Module):\n",
    "    def __init__(self, \n",
    "                 heads,\n",
    "                 d_query,\n",
    "                 d_key,\n",
    "                 d_value,\n",
    "                 d_hidden,\n",
    "                 d_model,\n",
    "                 activation = torch.nn.ReLU,\n",
    "                 **kwargs\n",
    "                ):\n",
    "        super().__init__(**kwargs)\n",
    "        self.attention = DotProductAttention()\n",
    "        self.heads = heads\n",
    "        self.d_query = d_query\n",
    "        self.d_key = d_key\n",
    "        self.d_values = d_values\n",
    "        self.d_hidden = d_hidden\n",
    "        self.W_q = torch.nn.Linear(d_query, d_hidden*self.heads)\n",
    "        self.W_k = torch.nn.Linear(d_key, d_hidden*self.heads)\n",
    "        self.W_v = torch.nn.Linear(d_values, d_hidden*self.heads)\n",
    "        self.W_o = torch.nn.Linear(self.heads*d_hidden, d_model)\n",
    "\n",
    "    def reshape_tensor(self,\n",
    "                       x,\n",
    "                       heads,\n",
    "                       flag\n",
    "                      ):\n",
    "        if flag:\n",
    "            x = x.view(x.shape[0], x.shape[1], heads, x.shape[2]//heads)\n",
    "            x = x.permute(0,2,1,3)\n",
    "        else:\n",
    "            x = x.permute(0,2,1,3)\n",
    "            x = x.view(x.shape[0], x.shape[1], self.d_model*self.heads)\n",
    "\n",
    "    def forward(self,\n",
    "                query,\n",
    "                keys,\n",
    "                value\n",
    "               ):\n",
    "        q, k, v = self.W_q(query), self.W_k(query), self.W_v(value)\n",
    "        if self.activation is not None:\n",
    "            query_reshaped = self.reshape_tensor(self.activation(q), self.heads, True)\n",
    "            key_reshaped   = self.reshape_tensor(self.activation(k), self.heads, True)\n",
    "            value_reshaped = self.reshape_tensor(self.activation(v), self.heads, True)\n",
    "\n",
    "        activations, attention = self.attention(query_reshaped, key_reshaped, value_reshaped)\n",
    "        activations = self.reshape_tensor(activations, self.heads, False)\n",
    "        if self.activation is not None:\n",
    "            return self.W_o(output), output\n",
    "        else:\n",
    "            return output, output\n",
    "        "
   ]
  },
  {
   "cell_type": "code",
   "execution_count": 16,
   "id": "31da4005-76a7-4131-96ea-631344a99e73",
   "metadata": {},
   "outputs": [],
   "source": [
    "class AddNorm(torch.nn.Module):\n",
    "    def __init__(\n",
    "        self,\n",
    "        normalized_shape, \n",
    "        **kwargs\n",
    "    ):\n",
    "        super().__init__(**kwargs)\n",
    "        self.layer_norm = torch.nn.LayerNorm(normalized_shape)\n",
    "    def forward(\n",
    "        self,\n",
    "        x,\n",
    "        sub_layer_x\n",
    "    ):\n",
    "        add = x + sub_layer_x\n",
    "        return self.layer_norm(add)        "
   ]
  },
  {
   "cell_type": "code",
   "execution_count": 17,
   "id": "082960a3-007b-4135-85f8-9f908257ab38",
   "metadata": {},
   "outputs": [],
   "source": [
    "class FeedForward(torch.nn.Module):\n",
    "    def __init__(\n",
    "        self,\n",
    "        input_dim,\n",
    "        output_dim,\n",
    "        activation = torch.nn.ReLU,\n",
    "        **kwargs\n",
    "    ):\n",
    "        super().__init__(**kwargs)\n",
    "        self.layer = torch.nn.Linear(input_dim, output_dim)\n",
    "        self.activation = activation\n",
    "    def forward(\n",
    "        self,\n",
    "        x\n",
    "    ):\n",
    "        if self.activation is not None:\n",
    "            return self.activation(self.layer(x))\n",
    "        else:\n",
    "            return self.layer(x)"
   ]
  },
  {
   "cell_type": "code",
   "execution_count": 74,
   "id": "94a3269d-260e-42b3-a7af-fea05f4e30a3",
   "metadata": {},
   "outputs": [],
   "source": [
    "class D3PM(torch.nn.Module):\n",
    "    def __init__(\n",
    "        self,\n",
    "        input_dim,\n",
    "        d_feedforward,\n",
    "        heads,\n",
    "        d_model,\n",
    "        p_dropout,\n",
    "        noise_matrix\n",
    "    ):\n",
    "        super().__init__(**kwargs)\n",
    "        self.heads = heads\n",
    "        self.input_dim = input_dim\n",
    "        self.d_feedforward = d_feedforward\n",
    "        self.d_model = d_model\n",
    "        self.p_dropout = p_dropout\n",
    "        self.flatten = torch.nn.Flatten(start_dim=1)\n",
    "        self.feedforward_1 = FeedForward(input_dim, d_feedforward)\n",
    "        self.mha_1 = MultiHeadedAttention(heads, self.d_feedforward, self.d_feedforward, self.d_feedforward, self.d_feedforward, self.d_model)\n",
    "        self.dropout_1 = torch.nn.Dropout(0.1)\n",
    "        self.addnorm_1 = AddNorm()\n",
    "        self.feedforward_2 = FeedForward(self.d_model, self.d_feedforward)\n",
    "        self.mha_2 = MultiHeadedAttention(heads, self.d_feedforward, self.d_feedforward, self.d_feedforward, self.d_feedforward, self.d_model)\n",
    "        self.dropout_2 = torch.nn.Dropout(0.1)\n",
    "        self.addnorm_2 = AddNorm()\n",
    "        self.feedforward_3 = FeedForward(self.d_model, self.input_dim, activation = None)\n",
    "        self.noise_matrix = noise_matrix\n",
    "\n",
    "    def forward(self, X, Y = None):\n",
    "        X = self.flatten(X)\n",
    "        X_1 = self.feedforward_1(X)\n",
    "        X_2, _ = self.mha_1(X_1,X_1,X_1)\n",
    "        X_2 = self.dropout_1(X_2)\n",
    "        X_2 = self.addnorm_1(X_2, X_1)\n",
    "\n",
    "        X_2 = self.feedforward_2(X_2)\n",
    "        X_3, _ = self.mha_2(X_2, X_2, X_2)\n",
    "        X_3 = self.dropout_2(X_3)\n",
    "        X_3 = self.addnorm_2(X_3, X_2)\n",
    "        Y_pred = self.feedforward_3(X_3)\n",
    "        Y_pred = Y_pred.view(Y.shape[0], Y.shape[1], Y.shape[2])\n",
    "\n",
    "    def L_T(self, X, pX):\n",
    "        vals, vecs = torch.linalg.eig(noise_matrix.noise_matrix.t())\n",
    "        vals = torch.real(vals)\n",
    "        vecs = torch.real(vecs)\n",
    "\n",
    "        PxT = vecs[:, torch.argmax(vals)].unsqueeze(0).unsqueeze(1)\n",
    "\n",
    "        no_zeros_PxT = PxT + 1e-6\n",
    "        no_zeros_X   = X + 1e-6\n",
    "        \n",
    "        dkl_steady_state = torch.sum(\n",
    "            no_zeros_X * torch.log(no_zeros_X/no_zeros_PxT)\n",
    "        )\n",
    "\n",
    "        return dkl_steady_state\n",
    "\n",
    "    def cross_entropy_loss(self, y, yhat):\n",
    "        no_zeros_y = y+1e-6\n",
    "        no_zeros_yhat = yhat + 1e-6\n",
    "\n",
    "        return torch.sum(y * torch.log(y/yhat))  \n"
   ]
  },
  {
   "cell_type": "code",
   "execution_count": 52,
   "id": "293e45cd-f9e8-47f6-a5ac-72bf2e2802eb",
   "metadata": {},
   "outputs": [
    {
     "ename": "TypeError",
     "evalue": "LayerNorm.__init__() missing 1 required positional argument: 'normalized_shape'",
     "output_type": "error",
     "traceback": [
      "\u001b[0;31m---------------------------------------------------------------------------\u001b[0m",
      "\u001b[0;31mTypeError\u001b[0m                                 Traceback (most recent call last)",
      "Cell \u001b[0;32mIn[52], line 1\u001b[0m\n\u001b[0;32m----> 1\u001b[0m an \u001b[38;5;241m=\u001b[39m \u001b[43mAddNorm\u001b[49m\u001b[43m(\u001b[49m\u001b[43m)\u001b[49m\n",
      "Cell \u001b[0;32mIn[16], line 7\u001b[0m, in \u001b[0;36mAddNorm.__init__\u001b[0;34m(self, **kwargs)\u001b[0m\n\u001b[1;32m      2\u001b[0m \u001b[38;5;28;01mdef\u001b[39;00m \u001b[38;5;21m__init__\u001b[39m(\n\u001b[1;32m      3\u001b[0m     \u001b[38;5;28mself\u001b[39m,\n\u001b[1;32m      4\u001b[0m     \u001b[38;5;241m*\u001b[39m\u001b[38;5;241m*\u001b[39mkwargs\n\u001b[1;32m      5\u001b[0m ):\n\u001b[1;32m      6\u001b[0m     \u001b[38;5;28msuper\u001b[39m()\u001b[38;5;241m.\u001b[39m\u001b[38;5;21m__init__\u001b[39m(\u001b[38;5;241m*\u001b[39m\u001b[38;5;241m*\u001b[39mkwargs)\n\u001b[0;32m----> 7\u001b[0m     \u001b[38;5;28mself\u001b[39m\u001b[38;5;241m.\u001b[39mlayer_norm \u001b[38;5;241m=\u001b[39m \u001b[43mtorch\u001b[49m\u001b[38;5;241;43m.\u001b[39;49m\u001b[43mnn\u001b[49m\u001b[38;5;241;43m.\u001b[39;49m\u001b[43mLayerNorm\u001b[49m\u001b[43m(\u001b[49m\u001b[43m)\u001b[49m\n",
      "\u001b[0;31mTypeError\u001b[0m: LayerNorm.__init__() missing 1 required positional argument: 'normalized_shape'"
     ]
    }
   ],
   "source": [
    "an = AddNorm()"
   ]
  },
  {
   "cell_type": "code",
   "execution_count": 21,
   "id": "392660be-c046-40aa-a39b-d3ef21cfa6ae",
   "metadata": {},
   "outputs": [],
   "source": [
    "proteins = ProteinDataset(seq_data=seqs, include_mask=True)"
   ]
  },
  {
   "cell_type": "code",
   "execution_count": 22,
   "id": "46a9bcab-4bf2-45c0-b379-79cd3dc4805b",
   "metadata": {},
   "outputs": [],
   "source": [
    "loader = torch.utils.data.DataLoader(proteins, batch_size=32, shuffle=True)\n"
   ]
  },
  {
   "cell_type": "code",
   "execution_count": 23,
   "id": "81d52890-c30d-45bb-9d8b-6739540dae96",
   "metadata": {
    "scrolled": true
   },
   "outputs": [
    {
     "name": "stdout",
     "output_type": "stream",
     "text": [
      "1\n",
      "1\n",
      "1\n",
      "1\n",
      "1\n",
      "1\n",
      "1\n",
      "1\n",
      "1\n",
      "1\n",
      "1\n",
      "1\n",
      "1\n",
      "1\n",
      "1\n",
      "1\n",
      "1\n",
      "1\n",
      "1\n",
      "1\n",
      "1\n",
      "1\n",
      "1\n",
      "1\n",
      "1\n",
      "1\n",
      "1\n",
      "1\n",
      "1\n",
      "1\n",
      "1\n",
      "1\n",
      "1\n",
      "1\n",
      "1\n",
      "1\n",
      "1\n",
      "1\n",
      "1\n",
      "1\n",
      "1\n",
      "1\n",
      "1\n",
      "1\n",
      "1\n",
      "1\n",
      "1\n",
      "1\n",
      "1\n",
      "1\n",
      "1\n",
      "1\n",
      "1\n",
      "1\n",
      "1\n",
      "1\n",
      "1\n",
      "1\n",
      "1\n",
      "1\n",
      "1\n",
      "1\n",
      "1\n",
      "1\n",
      "1\n",
      "1\n",
      "1\n",
      "1\n",
      "1\n",
      "1\n",
      "1\n",
      "1\n",
      "1\n",
      "1\n",
      "1\n",
      "1\n",
      "1\n",
      "1\n",
      "1\n",
      "1\n",
      "1\n",
      "1\n",
      "1\n",
      "1\n",
      "1\n",
      "1\n",
      "1\n",
      "1\n",
      "1\n",
      "1\n",
      "1\n",
      "1\n",
      "1\n",
      "1\n",
      "1\n",
      "1\n",
      "1\n",
      "1\n",
      "1\n",
      "1\n",
      "1\n",
      "1\n",
      "1\n",
      "1\n",
      "1\n",
      "1\n",
      "1\n",
      "1\n",
      "1\n",
      "1\n",
      "1\n",
      "1\n",
      "1\n",
      "1\n",
      "1\n",
      "1\n",
      "1\n",
      "1\n",
      "1\n",
      "1\n",
      "1\n",
      "1\n",
      "1\n",
      "1\n",
      "1\n",
      "1\n",
      "1\n",
      "1\n",
      "1\n",
      "1\n",
      "1\n",
      "1\n",
      "1\n",
      "1\n",
      "1\n",
      "1\n",
      "1\n",
      "1\n",
      "1\n",
      "1\n",
      "1\n",
      "1\n",
      "1\n",
      "1\n",
      "1\n",
      "1\n",
      "1\n",
      "1\n",
      "1\n",
      "1\n",
      "1\n",
      "1\n",
      "1\n",
      "1\n",
      "1\n",
      "1\n",
      "1\n",
      "1\n",
      "1\n",
      "1\n",
      "1\n",
      "1\n",
      "1\n",
      "1\n",
      "1\n",
      "1\n",
      "1\n",
      "1\n",
      "1\n",
      "1\n",
      "1\n",
      "1\n",
      "1\n",
      "1\n",
      "1\n",
      "1\n",
      "1\n",
      "1\n",
      "1\n",
      "1\n",
      "1\n",
      "1\n",
      "1\n",
      "1\n",
      "1\n",
      "1\n",
      "1\n",
      "1\n",
      "1\n",
      "1\n",
      "1\n",
      "1\n",
      "1\n",
      "1\n",
      "1\n",
      "1\n",
      "1\n",
      "1\n",
      "1\n",
      "1\n",
      "1\n",
      "1\n",
      "1\n",
      "1\n",
      "1\n",
      "1\n",
      "1\n",
      "1\n",
      "1\n",
      "1\n",
      "1\n",
      "1\n",
      "1\n",
      "1\n",
      "1\n",
      "1\n",
      "1\n",
      "1\n",
      "1\n",
      "1\n",
      "1\n",
      "1\n",
      "1\n",
      "1\n",
      "1\n",
      "1\n",
      "1\n",
      "1\n",
      "1\n",
      "1\n",
      "1\n",
      "1\n",
      "1\n",
      "1\n",
      "1\n",
      "1\n",
      "1\n",
      "1\n",
      "1\n",
      "1\n",
      "1\n",
      "1\n",
      "1\n",
      "1\n",
      "1\n",
      "1\n"
     ]
    }
   ],
   "source": [
    "for batch in loader:\n",
    "    print(1)"
   ]
  },
  {
   "cell_type": "code",
   "execution_count": 24,
   "id": "8bab58ad-2db1-4c20-8bb4-5e14a300d2b4",
   "metadata": {},
   "outputs": [],
   "source": [
    "X, Y = batch"
   ]
  },
  {
   "cell_type": "code",
   "execution_count": 25,
   "id": "55bed9b5-3089-48a0-be8d-ecb3445567ac",
   "metadata": {},
   "outputs": [],
   "source": [
    "X_seq = X['seq']\n",
    "Y_seq = Y['seq']\n"
   ]
  },
  {
   "cell_type": "code",
   "execution_count": 26,
   "id": "a737fba5-838b-4622-a12f-d23ac59420c0",
   "metadata": {},
   "outputs": [
    {
     "data": {
      "text/plain": [
       "tensor([[0.6000, 0.0000, 0.0000, 0.0000, 0.0000, 0.0000, 0.0000, 0.0000, 0.0000,\n",
       "         0.0000, 0.0000, 0.0000, 0.0000, 0.0000, 0.0000, 0.0000, 0.0000, 0.0000,\n",
       "         0.0000, 0.0000, 0.0000, 0.4000],\n",
       "        [0.0000, 0.6000, 0.0000, 0.0000, 0.0000, 0.0000, 0.0000, 0.0000, 0.0000,\n",
       "         0.0000, 0.0000, 0.0000, 0.0000, 0.0000, 0.0000, 0.0000, 0.0000, 0.0000,\n",
       "         0.0000, 0.0000, 0.0000, 0.4000],\n",
       "        [0.0000, 0.0000, 0.6000, 0.0000, 0.0000, 0.0000, 0.0000, 0.0000, 0.0000,\n",
       "         0.0000, 0.0000, 0.0000, 0.0000, 0.0000, 0.0000, 0.0000, 0.0000, 0.0000,\n",
       "         0.0000, 0.0000, 0.0000, 0.4000],\n",
       "        [0.0000, 0.0000, 0.0000, 0.6000, 0.0000, 0.0000, 0.0000, 0.0000, 0.0000,\n",
       "         0.0000, 0.0000, 0.0000, 0.0000, 0.0000, 0.0000, 0.0000, 0.0000, 0.0000,\n",
       "         0.0000, 0.0000, 0.0000, 0.4000],\n",
       "        [0.0000, 0.0000, 0.0000, 0.0000, 0.6000, 0.0000, 0.0000, 0.0000, 0.0000,\n",
       "         0.0000, 0.0000, 0.0000, 0.0000, 0.0000, 0.0000, 0.0000, 0.0000, 0.0000,\n",
       "         0.0000, 0.0000, 0.0000, 0.4000],\n",
       "        [0.0000, 0.0000, 0.0000, 0.0000, 0.0000, 0.6000, 0.0000, 0.0000, 0.0000,\n",
       "         0.0000, 0.0000, 0.0000, 0.0000, 0.0000, 0.0000, 0.0000, 0.0000, 0.0000,\n",
       "         0.0000, 0.0000, 0.0000, 0.4000],\n",
       "        [0.0000, 0.0000, 0.0000, 0.0000, 0.0000, 0.0000, 0.6000, 0.0000, 0.0000,\n",
       "         0.0000, 0.0000, 0.0000, 0.0000, 0.0000, 0.0000, 0.0000, 0.0000, 0.0000,\n",
       "         0.0000, 0.0000, 0.0000, 0.4000],\n",
       "        [0.0000, 0.0000, 0.0000, 0.0000, 0.0000, 0.0000, 0.0000, 0.6000, 0.0000,\n",
       "         0.0000, 0.0000, 0.0000, 0.0000, 0.0000, 0.0000, 0.0000, 0.0000, 0.0000,\n",
       "         0.0000, 0.0000, 0.0000, 0.4000],\n",
       "        [0.0000, 0.0000, 0.0000, 0.0000, 0.0000, 0.0000, 0.0000, 0.0000, 0.6000,\n",
       "         0.0000, 0.0000, 0.0000, 0.0000, 0.0000, 0.0000, 0.0000, 0.0000, 0.0000,\n",
       "         0.0000, 0.0000, 0.0000, 0.4000],\n",
       "        [0.0000, 0.0000, 0.0000, 0.0000, 0.0000, 0.0000, 0.0000, 0.0000, 0.0000,\n",
       "         0.6000, 0.0000, 0.0000, 0.0000, 0.0000, 0.0000, 0.0000, 0.0000, 0.0000,\n",
       "         0.0000, 0.0000, 0.0000, 0.4000],\n",
       "        [0.0000, 0.0000, 0.0000, 0.0000, 0.0000, 0.0000, 0.0000, 0.0000, 0.0000,\n",
       "         0.0000, 0.6000, 0.0000, 0.0000, 0.0000, 0.0000, 0.0000, 0.0000, 0.0000,\n",
       "         0.0000, 0.0000, 0.0000, 0.4000],\n",
       "        [0.0000, 0.0000, 0.0000, 0.0000, 0.0000, 0.0000, 0.0000, 0.0000, 0.0000,\n",
       "         0.0000, 0.0000, 0.6000, 0.0000, 0.0000, 0.0000, 0.0000, 0.0000, 0.0000,\n",
       "         0.0000, 0.0000, 0.0000, 0.4000],\n",
       "        [0.0000, 0.0000, 0.0000, 0.0000, 0.0000, 0.0000, 0.0000, 0.0000, 0.0000,\n",
       "         0.0000, 0.0000, 0.0000, 0.6000, 0.0000, 0.0000, 0.0000, 0.0000, 0.0000,\n",
       "         0.0000, 0.0000, 0.0000, 0.4000],\n",
       "        [0.0000, 0.0000, 0.0000, 0.0000, 0.0000, 0.0000, 0.0000, 0.0000, 0.0000,\n",
       "         0.0000, 0.0000, 0.0000, 0.0000, 0.6000, 0.0000, 0.0000, 0.0000, 0.0000,\n",
       "         0.0000, 0.0000, 0.0000, 0.4000],\n",
       "        [0.0000, 0.0000, 0.0000, 0.0000, 0.0000, 0.0000, 0.0000, 0.0000, 0.0000,\n",
       "         0.0000, 0.0000, 0.0000, 0.0000, 0.0000, 0.6000, 0.0000, 0.0000, 0.0000,\n",
       "         0.0000, 0.0000, 0.0000, 0.4000],\n",
       "        [0.0000, 0.0000, 0.0000, 0.0000, 0.0000, 0.0000, 0.0000, 0.0000, 0.0000,\n",
       "         0.0000, 0.0000, 0.0000, 0.0000, 0.0000, 0.0000, 0.6000, 0.0000, 0.0000,\n",
       "         0.0000, 0.0000, 0.0000, 0.4000],\n",
       "        [0.0000, 0.0000, 0.0000, 0.0000, 0.0000, 0.0000, 0.0000, 0.0000, 0.0000,\n",
       "         0.0000, 0.0000, 0.0000, 0.0000, 0.0000, 0.0000, 0.0000, 0.6000, 0.0000,\n",
       "         0.0000, 0.0000, 0.0000, 0.4000],\n",
       "        [0.0000, 0.0000, 0.0000, 0.0000, 0.0000, 0.0000, 0.0000, 0.0000, 0.0000,\n",
       "         0.0000, 0.0000, 0.0000, 0.0000, 0.0000, 0.0000, 0.0000, 0.0000, 0.6000,\n",
       "         0.0000, 0.0000, 0.0000, 0.4000],\n",
       "        [0.0000, 0.0000, 0.0000, 0.0000, 0.0000, 0.0000, 0.0000, 0.0000, 0.0000,\n",
       "         0.0000, 0.0000, 0.0000, 0.0000, 0.0000, 0.0000, 0.0000, 0.0000, 0.0000,\n",
       "         0.6000, 0.0000, 0.0000, 0.4000],\n",
       "        [0.0000, 0.0000, 0.0000, 0.0000, 0.0000, 0.0000, 0.0000, 0.0000, 0.0000,\n",
       "         0.0000, 0.0000, 0.0000, 0.0000, 0.0000, 0.0000, 0.0000, 0.0000, 0.0000,\n",
       "         0.0000, 0.6000, 0.0000, 0.4000],\n",
       "        [0.0000, 0.0000, 0.0000, 0.0000, 0.0000, 0.0000, 0.0000, 0.0000, 0.0000,\n",
       "         0.0000, 0.0000, 0.0000, 0.0000, 0.0000, 0.0000, 0.0000, 0.0000, 0.0000,\n",
       "         0.0000, 0.0000, 0.6000, 0.4000],\n",
       "        [0.0000, 0.0000, 0.0000, 0.0000, 0.0000, 0.0000, 0.0000, 0.0000, 0.0000,\n",
       "         0.0000, 0.0000, 0.0000, 0.0000, 0.0000, 0.0000, 0.0000, 0.0000, 0.0000,\n",
       "         0.0000, 0.0000, 0.0000, 1.0000]])"
      ]
     },
     "execution_count": 26,
     "metadata": {},
     "output_type": "execute_result"
    }
   ],
   "source": [
    "noise_matrix.noise_matrix"
   ]
  },
  {
   "cell_type": "code",
   "execution_count": 77,
   "id": "f1b30f16-45c9-4eed-9960-5b03e2452c00",
   "metadata": {},
   "outputs": [],
   "source": [
    "noise_matrix_04 = Noiser(noiser = 'BERT-LIKE', beta_t = 0.4, k =21).noise_matrix\n",
    "noise_matrix_03 = Noiser(noiser = 'BERT-LIKE', beta_t = 0.3, k =21).noise_matrix\n",
    "noise_matrix_01 = Noiser(noiser = 'BERT-LIKE', beta_t = 0.1, k =21).noise_matrix\n"
   ]
  },
  {
   "cell_type": "code",
   "execution_count": 107,
   "id": "f6c7f282-cbe4-4efb-882a-77f4ce2434e4",
   "metadata": {},
   "outputs": [],
   "source": [
    "results_04 = torch.matmul(X_seq, noise_matrix_04.view(1,22,22))\n",
    "results_03 = torch.matmul(X_seq, noise_matrix_03.view(1,22,22))\n",
    "results_01 = torch.matmul(sampled[3], noise_matrix_01.view(1,22,22))\n",
    "\n",
    "sampled_04 = torch.nn.functional.one_hot(torch.multinomial(results_04.view(-1, results_04.shape[-1]), 1), num_classes=22)\n",
    "sampled_04 = sampled_04.view(results_04.shape[0], results_04.shape[1], 22)\n",
    "\n",
    "sampled_03 = torch.nn.functional.one_hot(torch.multinomial(results_03.view(-1, results_03.shape[-1]), 1), num_classes=22)\n",
    "sampled_03 = sampled_03.view(results_03.shape[0], results_03.shape[1], 22)\n",
    "\n",
    "sampled_01 = torch.nn.functional.one_hot(torch.multinomial(results_01.view(-1, results_01.shape[-1]), 1), num_classes=22)\n",
    "sampled_01 = sampled_01.view(results_01.shape[0], results_04.shape[1], 22)\n",
    "\n"
   ]
  },
  {
   "cell_type": "code",
   "execution_count": 125,
   "id": "c0400d23-aa86-4f71-9bd4-d42126c49852",
   "metadata": {},
   "outputs": [],
   "source": [
    "numer = (torch.matmul(sampled_04.type(torch.FloatTensor), noise_matrix_01.view(1,22,22).transpose(-1,-2)) * torch.matmul(X_seq, noise_matrix_03.view(1,22,22)))"
   ]
  },
  {
   "cell_type": "code",
   "execution_count": null,
   "id": "9e131cef-6367-4237-9e5f-608a444815dd",
   "metadata": {},
   "outputs": [],
   "source": [
    "denom = torch.matmul(X_seq, noise_matrix_04.view(1,22,22))"
   ]
  },
  {
   "cell_type": "code",
   "execution_count": 129,
   "id": "03f861cf-5105-4b36-b20e-20b4e3548fda",
   "metadata": {},
   "outputs": [
    {
     "data": {
      "text/plain": [
       "torch.Size([25, 59, 22])"
      ]
     },
     "execution_count": 129,
     "metadata": {},
     "output_type": "execute_result"
    }
   ],
   "source": [
    "sampled_04.shape"
   ]
  },
  {
   "cell_type": "code",
   "execution_count": 132,
   "id": "38c38122-ffd0-4867-b392-f90565da3aa8",
   "metadata": {},
   "outputs": [],
   "source": [
    "denom = torch.matmul(torch.matmul(X_seq, noise_matrix_04.view(1,22,22)), sampled_04.type(torch.FloatTensor).transpose(-1,-2))"
   ]
  },
  {
   "cell_type": "code",
   "execution_count": 134,
   "id": "2c4edf0c-5aa4-4e1d-a0aa-d4aa4134e206",
   "metadata": {},
   "outputs": [
    {
     "data": {
      "text/plain": [
       "torch.Size([25, 59, 22])"
      ]
     },
     "execution_count": 134,
     "metadata": {},
     "output_type": "execute_result"
    }
   ],
   "source": [
    "numer.shape"
   ]
  },
  {
   "cell_type": "code",
   "execution_count": 135,
   "id": "008d4f5a-2d8a-4e6f-96ca-bf8014cd2200",
   "metadata": {},
   "outputs": [
    {
     "data": {
      "text/plain": [
       "torch.Size([25, 59, 59])"
      ]
     },
     "execution_count": 135,
     "metadata": {},
     "output_type": "execute_result"
    }
   ],
   "source": [
    "denom.shape"
   ]
  },
  {
   "cell_type": "code",
   "execution_count": 140,
   "id": "ff651870-c7a2-4259-9b8d-34488453bb83",
   "metadata": {},
   "outputs": [
    {
     "data": {
      "text/plain": [
       "tensor([[0.4000, 0.4000, 0.6000,  ..., 0.6000, 0.6000, 0.6000],\n",
       "        [0.6000, 0.4000, 0.4000,  ..., 0.6000, 0.4000, 0.6000],\n",
       "        [0.4000, 0.4000, 0.6000,  ..., 0.6000, 0.6000, 0.6000],\n",
       "        ...,\n",
       "        [0.4000, 0.4000, 0.6000,  ..., 0.4000, 0.4000, 0.6000],\n",
       "        [0.6000, 0.6000, 0.6000,  ..., 0.6000, 0.6000, 0.4000],\n",
       "        [0.6000, 0.6000, 0.6000,  ..., 0.4000, 0.4000, 0.4000]])"
      ]
     },
     "execution_count": 140,
     "metadata": {},
     "output_type": "execute_result"
    }
   ],
   "source": [
    "torch.diagonal(denom,dim1=-2, dim2=-1)"
   ]
  },
  {
   "cell_type": "code",
   "execution_count": 133,
   "id": "0f967955-caea-46f9-9c27-68f9bb1c62c2",
   "metadata": {},
   "outputs": [
    {
     "ename": "RuntimeError",
     "evalue": "The size of tensor a (22) must match the size of tensor b (59) at non-singleton dimension 2",
     "output_type": "error",
     "traceback": [
      "\u001b[0;31m---------------------------------------------------------------------------\u001b[0m",
      "\u001b[0;31mRuntimeError\u001b[0m                              Traceback (most recent call last)",
      "Cell \u001b[0;32mIn[133], line 1\u001b[0m\n\u001b[0;32m----> 1\u001b[0m \u001b[43mnumer\u001b[49m\u001b[38;5;241;43m/\u001b[39;49m\u001b[43mdenom\u001b[49m\n",
      "\u001b[0;31mRuntimeError\u001b[0m: The size of tensor a (22) must match the size of tensor b (59) at non-singleton dimension 2"
     ]
    }
   ],
   "source": [
    "numer/denom"
   ]
  },
  {
   "cell_type": "code",
   "execution_count": 121,
   "id": "4c7c968f-ce1c-4de3-807e-e78d286a3156",
   "metadata": {},
   "outputs": [
    {
     "data": {
      "text/plain": [
       "tensor([[[0., 0., 0.,  ..., 0., 0., 1.],\n",
       "         [0., 0., 0.,  ..., 0., 0., 1.],\n",
       "         [0., 0., 1.,  ..., 0., 0., 0.],\n",
       "         ...,\n",
       "         [0., 0., 0.,  ..., 0., 0., 0.],\n",
       "         [0., 0., 0.,  ..., 0., 0., 0.],\n",
       "         [0., 0., 1.,  ..., 0., 0., 0.]],\n",
       "\n",
       "        [[0., 0., 0.,  ..., 0., 0., 0.],\n",
       "         [0., 0., 0.,  ..., 0., 0., 1.],\n",
       "         [0., 0., 0.,  ..., 0., 0., 1.],\n",
       "         ...,\n",
       "         [0., 0., 0.,  ..., 0., 0., 0.],\n",
       "         [0., 0., 0.,  ..., 0., 0., 1.],\n",
       "         [1., 0., 0.,  ..., 0., 0., 0.]],\n",
       "\n",
       "        [[0., 0., 0.,  ..., 0., 0., 1.],\n",
       "         [0., 0., 0.,  ..., 0., 0., 1.],\n",
       "         [0., 0., 0.,  ..., 0., 0., 0.],\n",
       "         ...,\n",
       "         [0., 0., 0.,  ..., 0., 0., 0.],\n",
       "         [0., 0., 0.,  ..., 0., 0., 0.],\n",
       "         [0., 0., 0.,  ..., 0., 0., 0.]],\n",
       "\n",
       "        ...,\n",
       "\n",
       "        [[0., 0., 0.,  ..., 0., 0., 1.],\n",
       "         [0., 0., 0.,  ..., 0., 0., 1.],\n",
       "         [0., 0., 0.,  ..., 0., 0., 0.],\n",
       "         ...,\n",
       "         [0., 0., 0.,  ..., 0., 0., 1.],\n",
       "         [0., 0., 0.,  ..., 0., 0., 1.],\n",
       "         [0., 0., 0.,  ..., 0., 1., 0.]],\n",
       "\n",
       "        [[0., 0., 0.,  ..., 0., 0., 0.],\n",
       "         [0., 0., 0.,  ..., 0., 0., 0.],\n",
       "         [0., 0., 0.,  ..., 0., 0., 0.],\n",
       "         ...,\n",
       "         [0., 0., 0.,  ..., 0., 0., 0.],\n",
       "         [0., 0., 0.,  ..., 0., 0., 0.],\n",
       "         [0., 0., 0.,  ..., 0., 0., 1.]],\n",
       "\n",
       "        [[0., 0., 0.,  ..., 0., 0., 0.],\n",
       "         [0., 0., 1.,  ..., 0., 0., 0.],\n",
       "         [0., 0., 0.,  ..., 0., 0., 0.],\n",
       "         ...,\n",
       "         [0., 0., 0.,  ..., 0., 0., 1.],\n",
       "         [0., 0., 0.,  ..., 0., 0., 1.],\n",
       "         [0., 0., 0.,  ..., 0., 0., 1.]]])"
      ]
     },
     "execution_count": 121,
     "metadata": {},
     "output_type": "execute_result"
    }
   ],
   "source": [
    "sampled_04.type(torch.FloatTensor)"
   ]
  },
  {
   "cell_type": "code",
   "execution_count": 116,
   "id": "95ddb1c5-9d84-442d-8e2a-8fecd7d4c02a",
   "metadata": {},
   "outputs": [
    {
     "data": {
      "text/plain": [
       "torch.Size([22, 22])"
      ]
     },
     "execution_count": 116,
     "metadata": {},
     "output_type": "execute_result"
    }
   ],
   "source": [
    "noise_matrix_01.t().shape"
   ]
  },
  {
   "cell_type": "code",
   "execution_count": 109,
   "id": "ea93d8bd-23ff-48b8-bbee-379d5ecc2529",
   "metadata": {},
   "outputs": [
    {
     "data": {
      "text/plain": [
       "tensor([1.0000e-06, 1.0000e-06, 1.0000e-06, 1.0000e-06, 1.0000e-06, 1.0000e-06,\n",
       "        1.0000e-06, 1.0000e-06, 1.0000e-06, 1.0000e-06, 1.0000e-06, 1.0000e-06,\n",
       "        1.0000e-06, 1.0000e-06, 1.0000e-06, 1.0500e+00, 1.0000e-06, 1.0000e-06,\n",
       "        1.0000e-06, 1.0000e-06, 1.0000e-06, 7.5001e-02])"
      ]
     },
     "execution_count": 109,
     "metadata": {},
     "output_type": "execute_result"
    }
   ],
   "source": [
    "((results_01+1e-6) * (results_03+1e-6)/(results_04+1e-6))[0][0]"
   ]
  },
  {
   "cell_type": "code",
   "execution_count": 92,
   "id": "e4ca411e-8533-4cad-9a75-5755b4eb5393",
   "metadata": {},
   "outputs": [],
   "source": [
    "sampled = torch.zeros((5, X_seq.shape[0], X_seq.shape[1], X_seq.shape[2]))"
   ]
  },
  {
   "cell_type": "code",
   "execution_count": 93,
   "id": "54be0e34-7e3d-4d17-a8b2-37ff9551f0f7",
   "metadata": {},
   "outputs": [],
   "source": [
    "sampled[0] = X_seq\n",
    "for i in range(1,5):\n",
    "    results = torch.matmul(sampled[i-1], noise_matrix_01.view(1,22,22))\n",
    "    sampled_dummy = torch.nn.functional.one_hot(torch.multinomial(results.view(-1, results.shape[-1]), 1), num_classes=22)\n",
    "    \n",
    "    sampled[i] = sampled_dummy.view(results.shape[0], results.shape[1], 22)"
   ]
  },
  {
   "cell_type": "code",
   "execution_count": 95,
   "id": "98e30111-66b8-4dbe-aca9-aba80de4ca49",
   "metadata": {},
   "outputs": [
    {
     "data": {
      "text/plain": [
       "torch.Size([5, 25, 59, 22])"
      ]
     },
     "execution_count": 95,
     "metadata": {},
     "output_type": "execute_result"
    }
   ],
   "source": [
    "sampled.shape"
   ]
  },
  {
   "cell_type": "code",
   "execution_count": 84,
   "id": "1300a5f9-abaa-4b6e-9640-a887e0d284d7",
   "metadata": {},
   "outputs": [],
   "source": [
    "qxt1givxt = ((sampled[+1e-6)*(sampled_03+1e-6)/(sampled_04+1e-6))"
   ]
  },
  {
   "cell_type": "code",
   "execution_count": 85,
   "id": "f3634516-a0de-45d4-9d34-8ecf77d43dee",
   "metadata": {},
   "outputs": [
    {
     "data": {
      "text/plain": [
       "tensor([1.0000e-06, 1.0000e-06, 1.0000e-06, 1.0000e-06, 1.0000e-06, 1.0000e-06,\n",
       "        1.0000e-06, 1.0000e-06, 1.0000e-06, 1.0000e-06, 1.0000e-06, 1.0000e-06,\n",
       "        1.0000e-06, 1.0000e-06, 1.0000e-06, 1.0000e+06, 1.0000e-06, 1.0000e-06,\n",
       "        1.0000e-06, 1.0000e-06, 1.0000e-06, 1.0000e-12])"
      ]
     },
     "execution_count": 85,
     "metadata": {},
     "output_type": "execute_result"
    }
   ],
   "source": [
    "qxt1givxt[0][0]"
   ]
  },
  {
   "cell_type": "code",
   "execution_count": 29,
   "id": "aa349dcd-7fb9-4a55-8042-7a290749c068",
   "metadata": {},
   "outputs": [],
   "source": [
    "results = torch.matmul(X_seq, noise_matrix.noise_matrix.view(1,22,22))"
   ]
  },
  {
   "cell_type": "code",
   "execution_count": 30,
   "id": "37412adb-13e2-43af-b01c-8a9a3bbcb1e7",
   "metadata": {},
   "outputs": [
    {
     "data": {
      "text/plain": [
       "torch.Size([1, 22])"
      ]
     },
     "execution_count": 30,
     "metadata": {},
     "output_type": "execute_result"
    }
   ],
   "source": [
    "torch.nn.functional.one_hot(torch.multinomial(results[0,0], 1)).shape"
   ]
  },
  {
   "cell_type": "code",
   "execution_count": 31,
   "id": "e8af4374-35df-4cfd-98a6-ab1cd1a897a1",
   "metadata": {},
   "outputs": [
    {
     "data": {
      "text/plain": [
       "torch.Size([25, 59, 22])"
      ]
     },
     "execution_count": 31,
     "metadata": {},
     "output_type": "execute_result"
    }
   ],
   "source": [
    "results.shape"
   ]
  },
  {
   "cell_type": "code",
   "execution_count": 32,
   "id": "619c0689-47dc-42f3-887b-f9285e53c80d",
   "metadata": {},
   "outputs": [
    {
     "data": {
      "text/plain": [
       "tensor([0.0000, 0.0000, 0.0000, 0.0000, 0.0000, 0.0000, 0.0000, 0.0000, 0.0000,\n",
       "        0.0000, 0.0000, 0.0000, 0.0000, 0.0000, 0.0000, 0.6000, 0.0000, 0.0000,\n",
       "        0.0000, 0.0000, 0.0000, 0.4000])"
      ]
     },
     "execution_count": 32,
     "metadata": {},
     "output_type": "execute_result"
    }
   ],
   "source": [
    "results[0][0]"
   ]
  },
  {
   "cell_type": "code",
   "execution_count": 33,
   "id": "3d8d05d0-af14-48a2-b226-ae4b89c7c9ce",
   "metadata": {},
   "outputs": [
    {
     "data": {
      "text/plain": [
       "tensor([0., 0., 0., 0., 0., 0., 0., 0., 0., 0., 0., 0., 0., 0., 0., 1., 0., 0.,\n",
       "        0., 0., 0., 0.])"
      ]
     },
     "execution_count": 33,
     "metadata": {},
     "output_type": "execute_result"
    }
   ],
   "source": [
    "X_seq[0][0]"
   ]
  },
  {
   "cell_type": "code",
   "execution_count": 34,
   "id": "04ab12da-e074-4bdf-902d-c5d7ca6a10b8",
   "metadata": {},
   "outputs": [],
   "source": [
    "sampled = torch.nn.functional.one_hot(torch.multinomial(results.view(-1, results.shape[-1]), 1), num_classes=22)"
   ]
  },
  {
   "cell_type": "code",
   "execution_count": 39,
   "id": "ffcca1f8-98c2-4d3b-a6e0-ae5cbdaa2e2a",
   "metadata": {},
   "outputs": [],
   "source": [
    "sampled = sampled.view(results.shape[0], results.shape[1], 22)"
   ]
  },
  {
   "cell_type": "code",
   "execution_count": 41,
   "id": "ec8127fb-d59b-4376-99fd-0e9f248ecdf4",
   "metadata": {},
   "outputs": [
    {
     "data": {
      "text/plain": [
       "tensor([[0, 0, 0,  ..., 0, 0, 0],\n",
       "        [0, 0, 0,  ..., 0, 0, 0],\n",
       "        [0, 0, 1,  ..., 0, 0, 0],\n",
       "        ...,\n",
       "        [0, 0, 0,  ..., 0, 0, 0],\n",
       "        [0, 0, 0,  ..., 0, 0, 0],\n",
       "        [0, 0, 0,  ..., 0, 0, 1]])"
      ]
     },
     "execution_count": 41,
     "metadata": {},
     "output_type": "execute_result"
    }
   ],
   "source": []
  },
  {
   "cell_type": "code",
   "execution_count": 36,
   "id": "0b9eab46-bfeb-4e8b-9c82-c71086c5d20e",
   "metadata": {},
   "outputs": [
    {
     "data": {
      "text/plain": [
       "torch.Size([25, 59, 22])"
      ]
     },
     "execution_count": 36,
     "metadata": {},
     "output_type": "execute_result"
    }
   ],
   "source": [
    "results.shape"
   ]
  },
  {
   "cell_type": "code",
   "execution_count": 42,
   "id": "ace39cad-1a0c-4b51-85f5-6716528ec9a8",
   "metadata": {},
   "outputs": [],
   "source": [
    "noise_matrix = Noiser('BERT-LIKE',  beta_t = 0.4, k =21)"
   ]
  },
  {
   "cell_type": "code",
   "execution_count": 43,
   "id": "5ef9976d-6ad9-4208-a5ec-9ad8a6e49a8a",
   "metadata": {},
   "outputs": [],
   "source": [
    "vals, vecs = torch.linalg.eig(noise_matrix.noise_matrix.t())\n",
    "vals = torch.real(vals)\n",
    "vecs = torch.real(vecs)"
   ]
  },
  {
   "cell_type": "code",
   "execution_count": 44,
   "id": "93c2d654-080c-4655-8a1e-770ab30e8c7e",
   "metadata": {},
   "outputs": [
    {
     "data": {
      "text/plain": [
       "tensor([0., 0., 0., 0., 0., 0., 0., 0., 0., 0., 0., 0., 0., 0., 0., 0., 0., 0.,\n",
       "        0., 0., 0., 1.])"
      ]
     },
     "execution_count": 44,
     "metadata": {},
     "output_type": "execute_result"
    }
   ],
   "source": [
    "vecs[:,0]"
   ]
  },
  {
   "cell_type": "code",
   "execution_count": 45,
   "id": "ce409601-56f4-4b29-af38-c67984ce0de9",
   "metadata": {},
   "outputs": [
    {
     "data": {
      "text/plain": [
       "tensor([1.0000, 0.6000, 0.6000, 0.6000, 0.6000, 0.6000, 0.6000, 0.6000, 0.6000,\n",
       "        0.6000, 0.6000, 0.6000, 0.6000, 0.6000, 0.6000, 0.6000, 0.6000, 0.6000,\n",
       "        0.6000, 0.6000, 0.6000, 0.6000])"
      ]
     },
     "execution_count": 45,
     "metadata": {},
     "output_type": "execute_result"
    }
   ],
   "source": [
    "vals"
   ]
  },
  {
   "cell_type": "code",
   "execution_count": 47,
   "id": "2d72e00e-d6bf-482e-ada5-99a03ec6126a",
   "metadata": {},
   "outputs": [],
   "source": [
    "PxT = vecs[:,torch.argmax(vals)]"
   ]
  },
  {
   "cell_type": "code",
   "execution_count": 50,
   "id": "086eae8a-146a-49f9-adc0-058435bfd8c7",
   "metadata": {},
   "outputs": [
    {
     "data": {
      "text/plain": [
       "torch.Size([22])"
      ]
     },
     "execution_count": 50,
     "metadata": {},
     "output_type": "execute_result"
    }
   ],
   "source": [
    "PxT.shape"
   ]
  },
  {
   "cell_type": "code",
   "execution_count": 52,
   "id": "1dd6fe7f-02b6-4e02-9fa2-3d8a278e9e40",
   "metadata": {},
   "outputs": [],
   "source": [
    "perturbed_sampled = sampled + 1e-6"
   ]
  },
  {
   "cell_type": "code",
   "execution_count": 59,
   "id": "631d50c9-ec68-4e78-bc88-0f592c0f4160",
   "metadata": {},
   "outputs": [],
   "source": [
    "unsqueeze_PxT = PxT.unsqueeze(0).unsqueeze(1) + 1e-6"
   ]
  },
  {
   "cell_type": "code",
   "execution_count": 60,
   "id": "23d6cc65-6b8c-43f4-b93b-82229209ff0d",
   "metadata": {},
   "outputs": [
    {
     "data": {
      "text/plain": [
       "torch.Size([1, 1, 22])"
      ]
     },
     "execution_count": 60,
     "metadata": {},
     "output_type": "execute_result"
    }
   ],
   "source": [
    "unsqueeze_PxT.shape"
   ]
  },
  {
   "cell_type": "code",
   "execution_count": 63,
   "id": "d5a19dda-7c8e-4724-830a-07bdfbb9d7d0",
   "metadata": {},
   "outputs": [
    {
     "data": {
      "text/plain": [
       "torch.Size([25, 59, 22])"
      ]
     },
     "execution_count": 63,
     "metadata": {},
     "output_type": "execute_result"
    }
   ],
   "source": [
    "(perturbed_sampled/unsqueeze_PxT).shape"
   ]
  },
  {
   "cell_type": "code",
   "execution_count": 73,
   "id": "256b1afd-0f40-447e-a2b4-93620a5c09cd",
   "metadata": {},
   "outputs": [
    {
     "data": {
      "text/plain": [
       "tensor([[[ 0.0000e+00,  0.0000e+00,  0.0000e+00,  ...,  0.0000e+00,\n",
       "           0.0000e+00, -1.3816e-05],\n",
       "         [ 0.0000e+00,  0.0000e+00,  0.0000e+00,  ...,  0.0000e+00,\n",
       "           0.0000e+00, -1.3816e-05],\n",
       "         [ 0.0000e+00,  0.0000e+00,  1.3816e+01,  ...,  0.0000e+00,\n",
       "           0.0000e+00, -1.3816e-05],\n",
       "         ...,\n",
       "         [ 0.0000e+00,  0.0000e+00,  0.0000e+00,  ...,  0.0000e+00,\n",
       "           0.0000e+00, -1.3816e-05],\n",
       "         [ 0.0000e+00,  0.0000e+00,  0.0000e+00,  ...,  0.0000e+00,\n",
       "           0.0000e+00, -1.3816e-05],\n",
       "         [ 0.0000e+00,  0.0000e+00,  0.0000e+00,  ...,  0.0000e+00,\n",
       "           0.0000e+00,  0.0000e+00]],\n",
       "\n",
       "        [[ 0.0000e+00,  0.0000e+00,  0.0000e+00,  ...,  0.0000e+00,\n",
       "           0.0000e+00, -1.3816e-05],\n",
       "         [ 0.0000e+00,  0.0000e+00,  0.0000e+00,  ...,  0.0000e+00,\n",
       "           0.0000e+00,  0.0000e+00],\n",
       "         [ 0.0000e+00,  0.0000e+00,  0.0000e+00,  ...,  0.0000e+00,\n",
       "           0.0000e+00, -1.3816e-05],\n",
       "         ...,\n",
       "         [ 0.0000e+00,  0.0000e+00,  0.0000e+00,  ...,  0.0000e+00,\n",
       "           0.0000e+00, -1.3816e-05],\n",
       "         [ 0.0000e+00,  0.0000e+00,  0.0000e+00,  ...,  0.0000e+00,\n",
       "           0.0000e+00,  0.0000e+00],\n",
       "         [ 1.3816e+01,  0.0000e+00,  0.0000e+00,  ...,  0.0000e+00,\n",
       "           0.0000e+00, -1.3816e-05]],\n",
       "\n",
       "        [[ 0.0000e+00,  0.0000e+00,  0.0000e+00,  ...,  0.0000e+00,\n",
       "           0.0000e+00,  0.0000e+00],\n",
       "         [ 0.0000e+00,  0.0000e+00,  0.0000e+00,  ...,  0.0000e+00,\n",
       "           0.0000e+00,  0.0000e+00],\n",
       "         [ 0.0000e+00,  0.0000e+00,  0.0000e+00,  ...,  0.0000e+00,\n",
       "           0.0000e+00,  0.0000e+00],\n",
       "         ...,\n",
       "         [ 0.0000e+00,  0.0000e+00,  0.0000e+00,  ...,  0.0000e+00,\n",
       "           0.0000e+00,  0.0000e+00],\n",
       "         [ 0.0000e+00,  0.0000e+00,  0.0000e+00,  ...,  0.0000e+00,\n",
       "           0.0000e+00,  0.0000e+00],\n",
       "         [ 0.0000e+00,  0.0000e+00,  0.0000e+00,  ...,  0.0000e+00,\n",
       "           0.0000e+00, -1.3816e-05]],\n",
       "\n",
       "        ...,\n",
       "\n",
       "        [[ 0.0000e+00,  0.0000e+00,  0.0000e+00,  ...,  0.0000e+00,\n",
       "           0.0000e+00,  0.0000e+00],\n",
       "         [ 0.0000e+00,  0.0000e+00,  0.0000e+00,  ...,  1.3816e+01,\n",
       "           0.0000e+00, -1.3816e-05],\n",
       "         [ 0.0000e+00,  0.0000e+00,  0.0000e+00,  ...,  0.0000e+00,\n",
       "           0.0000e+00, -1.3816e-05],\n",
       "         ...,\n",
       "         [ 0.0000e+00,  0.0000e+00,  0.0000e+00,  ...,  0.0000e+00,\n",
       "           1.3816e+01, -1.3816e-05],\n",
       "         [ 0.0000e+00,  0.0000e+00,  0.0000e+00,  ...,  0.0000e+00,\n",
       "           1.3816e+01, -1.3816e-05],\n",
       "         [ 0.0000e+00,  0.0000e+00,  0.0000e+00,  ...,  0.0000e+00,\n",
       "           1.3816e+01, -1.3816e-05]],\n",
       "\n",
       "        [[ 0.0000e+00,  0.0000e+00,  0.0000e+00,  ...,  0.0000e+00,\n",
       "           0.0000e+00,  0.0000e+00],\n",
       "         [ 0.0000e+00,  0.0000e+00,  0.0000e+00,  ...,  0.0000e+00,\n",
       "           0.0000e+00, -1.3816e-05],\n",
       "         [ 0.0000e+00,  0.0000e+00,  0.0000e+00,  ...,  0.0000e+00,\n",
       "           0.0000e+00, -1.3816e-05],\n",
       "         ...,\n",
       "         [ 0.0000e+00,  0.0000e+00,  0.0000e+00,  ...,  0.0000e+00,\n",
       "           0.0000e+00,  0.0000e+00],\n",
       "         [ 0.0000e+00,  0.0000e+00,  0.0000e+00,  ...,  0.0000e+00,\n",
       "           0.0000e+00,  0.0000e+00],\n",
       "         [ 0.0000e+00,  0.0000e+00,  0.0000e+00,  ...,  0.0000e+00,\n",
       "           0.0000e+00, -1.3816e-05]],\n",
       "\n",
       "        [[ 0.0000e+00,  0.0000e+00,  0.0000e+00,  ...,  0.0000e+00,\n",
       "           0.0000e+00,  0.0000e+00],\n",
       "         [ 0.0000e+00,  0.0000e+00,  0.0000e+00,  ...,  0.0000e+00,\n",
       "           0.0000e+00,  0.0000e+00],\n",
       "         [ 0.0000e+00,  0.0000e+00,  0.0000e+00,  ...,  0.0000e+00,\n",
       "           0.0000e+00, -1.3816e-05],\n",
       "         ...,\n",
       "         [ 0.0000e+00,  0.0000e+00,  0.0000e+00,  ...,  1.3816e+01,\n",
       "           0.0000e+00, -1.3816e-05],\n",
       "         [ 0.0000e+00,  0.0000e+00,  0.0000e+00,  ...,  0.0000e+00,\n",
       "           0.0000e+00,  0.0000e+00],\n",
       "         [ 0.0000e+00,  0.0000e+00,  0.0000e+00,  ...,  0.0000e+00,\n",
       "           0.0000e+00,  0.0000e+00]]])"
      ]
     },
     "execution_count": 73,
     "metadata": {},
     "output_type": "execute_result"
    }
   ],
   "source": [
    "perturbed_sampled * torch.log(perturbed_sampled/unsqueeze_PxT)"
   ]
  },
  {
   "cell_type": "code",
   "execution_count": 67,
   "id": "8068a15d-08bd-4218-a2a7-39f7cbaa9b40",
   "metadata": {},
   "outputs": [
    {
     "data": {
      "text/plain": [
       "tensor([1.0000e-06, 1.0000e-06, 1.0000e-06, 1.0000e-06, 1.0000e-06, 1.0000e-06,\n",
       "        1.0000e-06, 1.0000e-06, 1.0000e-06, 1.0000e-06, 1.0000e-06, 1.0000e-06,\n",
       "        1.0000e-06, 1.0000e-06, 1.0000e-06, 1.0000e+00, 1.0000e-06, 1.0000e-06,\n",
       "        1.0000e-06, 1.0000e-06, 1.0000e-06, 1.0000e-06])"
      ]
     },
     "execution_count": 67,
     "metadata": {},
     "output_type": "execute_result"
    }
   ],
   "source": [
    "perturbed_sampled[0][0]"
   ]
  },
  {
   "cell_type": "code",
   "execution_count": 68,
   "id": "d256133a-f702-4ffa-9519-17a2ed92ef9b",
   "metadata": {},
   "outputs": [
    {
     "data": {
      "text/plain": [
       "tensor([[[1.0000e-06, 1.0000e-06, 1.0000e-06, 1.0000e-06, 1.0000e-06,\n",
       "          1.0000e-06, 1.0000e-06, 1.0000e-06, 1.0000e-06, 1.0000e-06,\n",
       "          1.0000e-06, 1.0000e-06, 1.0000e-06, 1.0000e-06, 1.0000e-06,\n",
       "          1.0000e-06, 1.0000e-06, 1.0000e-06, 1.0000e-06, 1.0000e-06,\n",
       "          1.0000e-06, 1.0000e+00]]])"
      ]
     },
     "execution_count": 68,
     "metadata": {},
     "output_type": "execute_result"
    }
   ],
   "source": [
    "unsqueeze_PxT"
   ]
  },
  {
   "cell_type": "code",
   "execution_count": null,
   "id": "b684a909-b5ce-4b66-b340-5d0f1b473f87",
   "metadata": {},
   "outputs": [],
   "source": []
  }
 ],
 "metadata": {
  "kernelspec": {
   "display_name": "Python 3 (ipykernel)",
   "language": "python",
   "name": "python3"
  },
  "language_info": {
   "codemirror_mode": {
    "name": "ipython",
    "version": 3
   },
   "file_extension": ".py",
   "mimetype": "text/x-python",
   "name": "python",
   "nbconvert_exporter": "python",
   "pygments_lexer": "ipython3",
   "version": "3.11.4"
  }
 },
 "nbformat": 4,
 "nbformat_minor": 5
}
