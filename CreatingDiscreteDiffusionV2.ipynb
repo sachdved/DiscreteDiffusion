{
 "cells": [
  {
   "cell_type": "code",
   "execution_count": 1,
   "id": "fe27b6f6-35db-4cc8-80ef-834ae3ae2f1d",
   "metadata": {},
   "outputs": [],
   "source": [
    "import torch\n",
    "import numpy as np\n",
    "import sklearn\n",
    "\n",
    "from utils import *\n",
    "from architectures import *\n",
    "import preprocess\n",
    "\n",
    "from CategoricalDiffusion import *\n",
    "from denoiser import *"
   ]
  },
  {
   "cell_type": "code",
   "execution_count": 2,
   "id": "5bae94a5-0744-45b0-9e57-2c230e158327",
   "metadata": {},
   "outputs": [
    {
     "name": "stderr",
     "output_type": "stream",
     "text": [
      "11608it [01:51, 103.92it/s]\n",
      "100%|████████████████████████████████████████| 21/21 [00:00<00:00, 10540.97it/s]\n"
     ]
    }
   ],
   "source": [
    "X_train, y_train, X_test, y_test = preprocess.main()"
   ]
  },
  {
   "cell_type": "code",
   "execution_count": 3,
   "id": "dd4cbac5-da0b-4b6d-b950-b55ddd3dd204",
   "metadata": {},
   "outputs": [],
   "source": [
    "protein_dataset = ProteinDataset(seq_data=X_train, include_mask=True)\n",
    "protein_loader = torch.utils.data.DataLoader(protein_dataset, batch_size=32, shuffle=True)\n",
    "for batch in protein_loader:\n",
    "    X, Y = batch\n",
    "    X_seq = X['seq']\n",
    "    Y_seq = Y['seq']\n",
    "    break"
   ]
  },
  {
   "cell_type": "code",
   "execution_count": 4,
   "id": "0469b387-a448-4ee4-ab70-1c49773881f2",
   "metadata": {},
   "outputs": [],
   "source": [
    "noise_matrix = Noiser(noiser = 'BERT-LIKE', beta_t = 0.01).noise_matrix\n",
    "ts, noised_samples = noiser(X_seq, noise_matrix, 100, X_seq.shape[-1])"
   ]
  },
  {
   "cell_type": "code",
   "execution_count": 5,
   "id": "0f82995f-b036-4a7a-9785-aa800be48241",
   "metadata": {},
   "outputs": [],
   "source": [
    "denoiser = Denoiser(8,1,128,X_seq.shape[2])"
   ]
  },
  {
   "cell_type": "code",
   "execution_count": 6,
   "id": "288ee90e-903e-4c5d-8b74-83541d5a78a3",
   "metadata": {},
   "outputs": [],
   "source": [
    "cat_diff = CategoricalDiffusion(denoiser, noise_matrix)"
   ]
  },
  {
   "cell_type": "code",
   "execution_count": 12,
   "id": "f6585e19-468e-4cfb-942e-1091ea56fca6",
   "metadata": {},
   "outputs": [],
   "source": [
    "cat_diff.decode(noised_samples, ts)"
   ]
  },
  {
   "cell_type": "code",
   "execution_count": 30,
   "id": "7e65af3c-3688-4527-a680-c94cf8050365",
   "metadata": {},
   "outputs": [
    {
     "data": {
      "text/plain": [
       "tensor([[[True, True, True,  ..., True, True, True],\n",
       "         [True, True, True,  ..., True, True, True],\n",
       "         [True, True, True,  ..., True, True, True],\n",
       "         ...,\n",
       "         [True, True, True,  ..., True, True, True],\n",
       "         [True, True, True,  ..., True, True, True],\n",
       "         [True, True, True,  ..., True, True, True]],\n",
       "\n",
       "        [[True, True, True,  ..., True, True, True],\n",
       "         [True, True, True,  ..., True, True, True],\n",
       "         [True, True, True,  ..., True, True, True],\n",
       "         ...,\n",
       "         [True, True, True,  ..., True, True, True],\n",
       "         [True, True, True,  ..., True, True, True],\n",
       "         [True, True, True,  ..., True, True, True]],\n",
       "\n",
       "        [[True, True, True,  ..., True, True, True],\n",
       "         [True, True, True,  ..., True, True, True],\n",
       "         [True, True, True,  ..., True, True, True],\n",
       "         ...,\n",
       "         [True, True, True,  ..., True, True, True],\n",
       "         [True, True, True,  ..., True, True, True],\n",
       "         [True, True, True,  ..., True, True, True]],\n",
       "\n",
       "        ...,\n",
       "\n",
       "        [[True, True, True,  ..., True, True, True],\n",
       "         [True, True, True,  ..., True, True, True],\n",
       "         [True, True, True,  ..., True, True, True],\n",
       "         ...,\n",
       "         [True, True, True,  ..., True, True, True],\n",
       "         [True, True, True,  ..., True, True, True],\n",
       "         [True, True, True,  ..., True, True, True]],\n",
       "\n",
       "        [[True, True, True,  ..., True, True, True],\n",
       "         [True, True, True,  ..., True, True, True],\n",
       "         [True, True, True,  ..., True, True, True],\n",
       "         ...,\n",
       "         [True, True, True,  ..., True, True, True],\n",
       "         [True, True, True,  ..., True, True, True],\n",
       "         [True, True, True,  ..., True, True, True]],\n",
       "\n",
       "        [[True, True, True,  ..., True, True, True],\n",
       "         [True, True, True,  ..., True, True, True],\n",
       "         [True, True, True,  ..., True, True, True],\n",
       "         ...,\n",
       "         [True, True, True,  ..., True, True, True],\n",
       "         [True, True, True,  ..., True, True, True],\n",
       "         [True, True, True,  ..., True, True, True]]])"
      ]
     },
     "execution_count": 30,
     "metadata": {},
     "output_type": "execute_result"
    }
   ],
   "source": [
    "X_seq == Y_seq"
   ]
  },
  {
   "cell_type": "code",
   "execution_count": 33,
   "id": "a848a406-9975-4805-a2cf-62a8c669c83f",
   "metadata": {},
   "outputs": [],
   "source": [
    "cat_diff.y_pred = Y_seq.tile(100,1,1,1) + 1e-6"
   ]
  },
  {
   "cell_type": "code",
   "execution_count": 34,
   "id": "459f3dab-6c64-48c4-9bcb-030cdf42d200",
   "metadata": {},
   "outputs": [
    {
     "data": {
      "text/plain": [
       "tensor(-0.1783)"
      ]
     },
     "execution_count": 34,
     "metadata": {},
     "output_type": "execute_result"
    }
   ],
   "source": [
    "cat_diff.recon_loss(Y_seq.tile(100,1,1,1))"
   ]
  },
  {
   "cell_type": "code",
   "execution_count": 13,
   "id": "1fd2cb96-bbcb-41c1-bbce-8347067c2b41",
   "metadata": {
    "scrolled": true
   },
   "outputs": [
    {
     "data": {
      "text/plain": [
       "tensor([[[[0.0663, 0.0498, 0.0347,  ..., 0.0881, 0.0347, 0.0347],\n",
       "          [0.0681, 0.0517, 0.0350,  ..., 0.0869, 0.0350, 0.0350],\n",
       "          [0.0626, 0.0471, 0.0352,  ..., 0.0896, 0.0352, 0.0352],\n",
       "          ...,\n",
       "          [0.0628, 0.0507, 0.0348,  ..., 0.0894, 0.0348, 0.0348],\n",
       "          [0.0645, 0.0488, 0.0352,  ..., 0.0899, 0.0352, 0.0352],\n",
       "          [0.0656, 0.0491, 0.0347,  ..., 0.0872, 0.0347, 0.0347]],\n",
       "\n",
       "         [[0.0630, 0.0559, 0.0348,  ..., 0.0872, 0.0348, 0.0348],\n",
       "          [0.0675, 0.0501, 0.0349,  ..., 0.0875, 0.0349, 0.0349],\n",
       "          [0.0666, 0.0484, 0.0350,  ..., 0.0876, 0.0350, 0.0350],\n",
       "          ...,\n",
       "          [0.0674, 0.0524, 0.0351,  ..., 0.0812, 0.0351, 0.0351],\n",
       "          [0.0648, 0.0494, 0.0350,  ..., 0.0823, 0.0350, 0.0350],\n",
       "          [0.0682, 0.0495, 0.0353,  ..., 0.0856, 0.0353, 0.0353]],\n",
       "\n",
       "         [[0.0670, 0.0486, 0.0353,  ..., 0.0889, 0.0353, 0.0353],\n",
       "          [0.0634, 0.0499, 0.0351,  ..., 0.0943, 0.0351, 0.0351],\n",
       "          [0.0662, 0.0479, 0.0346,  ..., 0.0932, 0.0346, 0.0346],\n",
       "          ...,\n",
       "          [0.0623, 0.0494, 0.0349,  ..., 0.0930, 0.0349, 0.0349],\n",
       "          [0.0646, 0.0490, 0.0353,  ..., 0.0843, 0.0353, 0.0353],\n",
       "          [0.0609, 0.0458, 0.0352,  ..., 0.0922, 0.0352, 0.0352]],\n",
       "\n",
       "         ...,\n",
       "\n",
       "         [[0.0682, 0.0428, 0.0357,  ..., 0.0832, 0.0357, 0.0357],\n",
       "          [0.0589, 0.0513, 0.0351,  ..., 0.0917, 0.0351, 0.0351],\n",
       "          [0.0652, 0.0507, 0.0346,  ..., 0.0840, 0.0346, 0.0346],\n",
       "          ...,\n",
       "          [0.0675, 0.0427, 0.0354,  ..., 0.0809, 0.0354, 0.0354],\n",
       "          [0.0655, 0.0531, 0.0345,  ..., 0.0878, 0.0345, 0.0345],\n",
       "          [0.0636, 0.0501, 0.0348,  ..., 0.0851, 0.0348, 0.0348]],\n",
       "\n",
       "         [[0.0612, 0.0478, 0.0352,  ..., 0.0890, 0.0352, 0.0352],\n",
       "          [0.0621, 0.0520, 0.0349,  ..., 0.0886, 0.0349, 0.0349],\n",
       "          [0.0609, 0.0489, 0.0352,  ..., 0.0898, 0.0352, 0.0352],\n",
       "          ...,\n",
       "          [0.0623, 0.0512, 0.0345,  ..., 0.0875, 0.0345, 0.0345],\n",
       "          [0.0676, 0.0426, 0.0350,  ..., 0.0799, 0.0350, 0.0350],\n",
       "          [0.0609, 0.0489, 0.0356,  ..., 0.0858, 0.0356, 0.0356]],\n",
       "\n",
       "         [[0.0653, 0.0489, 0.0358,  ..., 0.0891, 0.0358, 0.0358],\n",
       "          [0.0625, 0.0485, 0.0348,  ..., 0.0934, 0.0348, 0.0348],\n",
       "          [0.0653, 0.0490, 0.0349,  ..., 0.0881, 0.0349, 0.0349],\n",
       "          ...,\n",
       "          [0.0700, 0.0476, 0.0351,  ..., 0.0759, 0.0351, 0.0351],\n",
       "          [0.0675, 0.0497, 0.0350,  ..., 0.0810, 0.0350, 0.0350],\n",
       "          [0.0669, 0.0473, 0.0355,  ..., 0.0776, 0.0355, 0.0355]]],\n",
       "\n",
       "\n",
       "        [[[0.0675, 0.0463, 0.0357,  ..., 0.0829, 0.0357, 0.0357],\n",
       "          [0.0693, 0.0525, 0.0354,  ..., 0.0857, 0.0354, 0.0354],\n",
       "          [0.0647, 0.0516, 0.0352,  ..., 0.0829, 0.0352, 0.0352],\n",
       "          ...,\n",
       "          [0.0657, 0.0465, 0.0350,  ..., 0.0861, 0.0350, 0.0350],\n",
       "          [0.0638, 0.0499, 0.0352,  ..., 0.0881, 0.0352, 0.0352],\n",
       "          [0.0580, 0.0503, 0.0351,  ..., 0.0879, 0.0351, 0.0351]],\n",
       "\n",
       "         [[0.0624, 0.0507, 0.0351,  ..., 0.0851, 0.0351, 0.0351],\n",
       "          [0.0641, 0.0511, 0.0353,  ..., 0.0822, 0.0353, 0.0353],\n",
       "          [0.0649, 0.0490, 0.0345,  ..., 0.0877, 0.0345, 0.0345],\n",
       "          ...,\n",
       "          [0.0683, 0.0451, 0.0353,  ..., 0.0912, 0.0353, 0.0353],\n",
       "          [0.0642, 0.0497, 0.0350,  ..., 0.0869, 0.0350, 0.0350],\n",
       "          [0.0638, 0.0466, 0.0348,  ..., 0.0879, 0.0348, 0.0348]],\n",
       "\n",
       "         [[0.0649, 0.0514, 0.0355,  ..., 0.0901, 0.0355, 0.0355],\n",
       "          [0.0669, 0.0493, 0.0351,  ..., 0.0868, 0.0351, 0.0351],\n",
       "          [0.0655, 0.0470, 0.0349,  ..., 0.0877, 0.0349, 0.0349],\n",
       "          ...,\n",
       "          [0.0663, 0.0513, 0.0347,  ..., 0.0849, 0.0347, 0.0347],\n",
       "          [0.0640, 0.0484, 0.0345,  ..., 0.0862, 0.0345, 0.0345],\n",
       "          [0.0707, 0.0479, 0.0350,  ..., 0.0891, 0.0350, 0.0350]],\n",
       "\n",
       "         ...,\n",
       "\n",
       "         [[0.0656, 0.0471, 0.0349,  ..., 0.0926, 0.0349, 0.0349],\n",
       "          [0.0643, 0.0520, 0.0350,  ..., 0.0838, 0.0350, 0.0350],\n",
       "          [0.0637, 0.0484, 0.0351,  ..., 0.0871, 0.0351, 0.0351],\n",
       "          ...,\n",
       "          [0.0635, 0.0486, 0.0353,  ..., 0.0848, 0.0353, 0.0353],\n",
       "          [0.0666, 0.0463, 0.0358,  ..., 0.0808, 0.0358, 0.0358],\n",
       "          [0.0614, 0.0454, 0.0353,  ..., 0.0789, 0.0353, 0.0353]],\n",
       "\n",
       "         [[0.0650, 0.0480, 0.0353,  ..., 0.0914, 0.0353, 0.0353],\n",
       "          [0.0599, 0.0469, 0.0351,  ..., 0.0853, 0.0351, 0.0351],\n",
       "          [0.0645, 0.0502, 0.0348,  ..., 0.0865, 0.0348, 0.0348],\n",
       "          ...,\n",
       "          [0.0589, 0.0489, 0.0355,  ..., 0.0884, 0.0355, 0.0355],\n",
       "          [0.0637, 0.0508, 0.0352,  ..., 0.0810, 0.0352, 0.0352],\n",
       "          [0.0653, 0.0489, 0.0347,  ..., 0.0885, 0.0347, 0.0347]],\n",
       "\n",
       "         [[0.0679, 0.0501, 0.0349,  ..., 0.0839, 0.0349, 0.0349],\n",
       "          [0.0656, 0.0516, 0.0353,  ..., 0.0802, 0.0353, 0.0353],\n",
       "          [0.0647, 0.0493, 0.0347,  ..., 0.0843, 0.0347, 0.0347],\n",
       "          ...,\n",
       "          [0.0639, 0.0546, 0.0353,  ..., 0.0835, 0.0353, 0.0353],\n",
       "          [0.0648, 0.0480, 0.0351,  ..., 0.0897, 0.0351, 0.0351],\n",
       "          [0.0650, 0.0477, 0.0359,  ..., 0.0807, 0.0359, 0.0359]]],\n",
       "\n",
       "\n",
       "        [[[0.0636, 0.0481, 0.0348,  ..., 0.0846, 0.0348, 0.0348],\n",
       "          [0.0681, 0.0491, 0.0352,  ..., 0.0877, 0.0352, 0.0352],\n",
       "          [0.0673, 0.0493, 0.0352,  ..., 0.0839, 0.0352, 0.0352],\n",
       "          ...,\n",
       "          [0.0659, 0.0460, 0.0352,  ..., 0.0889, 0.0352, 0.0352],\n",
       "          [0.0632, 0.0506, 0.0349,  ..., 0.0898, 0.0349, 0.0349],\n",
       "          [0.0648, 0.0464, 0.0351,  ..., 0.0886, 0.0351, 0.0351]],\n",
       "\n",
       "         [[0.0625, 0.0476, 0.0350,  ..., 0.0894, 0.0350, 0.0350],\n",
       "          [0.0605, 0.0453, 0.0356,  ..., 0.0884, 0.0356, 0.0356],\n",
       "          [0.0657, 0.0449, 0.0355,  ..., 0.0918, 0.0355, 0.0355],\n",
       "          ...,\n",
       "          [0.0624, 0.0527, 0.0350,  ..., 0.0863, 0.0350, 0.0350],\n",
       "          [0.0657, 0.0516, 0.0349,  ..., 0.0885, 0.0349, 0.0349],\n",
       "          [0.0678, 0.0500, 0.0350,  ..., 0.0867, 0.0350, 0.0350]],\n",
       "\n",
       "         [[0.0651, 0.0480, 0.0351,  ..., 0.0871, 0.0351, 0.0351],\n",
       "          [0.0660, 0.0471, 0.0353,  ..., 0.0799, 0.0353, 0.0353],\n",
       "          [0.0626, 0.0510, 0.0353,  ..., 0.0864, 0.0353, 0.0353],\n",
       "          ...,\n",
       "          [0.0674, 0.0469, 0.0355,  ..., 0.0846, 0.0355, 0.0355],\n",
       "          [0.0673, 0.0450, 0.0362,  ..., 0.0833, 0.0362, 0.0362],\n",
       "          [0.0651, 0.0514, 0.0349,  ..., 0.0889, 0.0349, 0.0349]],\n",
       "\n",
       "         ...,\n",
       "\n",
       "         [[0.0659, 0.0502, 0.0351,  ..., 0.0859, 0.0351, 0.0351],\n",
       "          [0.0665, 0.0494, 0.0348,  ..., 0.0893, 0.0348, 0.0348],\n",
       "          [0.0703, 0.0467, 0.0350,  ..., 0.0863, 0.0350, 0.0350],\n",
       "          ...,\n",
       "          [0.0633, 0.0517, 0.0352,  ..., 0.0809, 0.0352, 0.0352],\n",
       "          [0.0632, 0.0504, 0.0348,  ..., 0.0883, 0.0348, 0.0348],\n",
       "          [0.0653, 0.0508, 0.0350,  ..., 0.0849, 0.0350, 0.0350]],\n",
       "\n",
       "         [[0.0594, 0.0448, 0.0352,  ..., 0.0913, 0.0352, 0.0352],\n",
       "          [0.0614, 0.0513, 0.0353,  ..., 0.0835, 0.0353, 0.0353],\n",
       "          [0.0648, 0.0531, 0.0348,  ..., 0.0861, 0.0348, 0.0348],\n",
       "          ...,\n",
       "          [0.0681, 0.0467, 0.0346,  ..., 0.0841, 0.0346, 0.0346],\n",
       "          [0.0657, 0.0498, 0.0348,  ..., 0.0907, 0.0348, 0.0348],\n",
       "          [0.0667, 0.0446, 0.0348,  ..., 0.0874, 0.0348, 0.0348]],\n",
       "\n",
       "         [[0.0692, 0.0425, 0.0351,  ..., 0.0799, 0.0351, 0.0351],\n",
       "          [0.0711, 0.0487, 0.0346,  ..., 0.0883, 0.0346, 0.0346],\n",
       "          [0.0672, 0.0500, 0.0352,  ..., 0.0897, 0.0352, 0.0352],\n",
       "          ...,\n",
       "          [0.0641, 0.0480, 0.0355,  ..., 0.0844, 0.0355, 0.0355],\n",
       "          [0.0645, 0.0524, 0.0356,  ..., 0.0831, 0.0356, 0.0356],\n",
       "          [0.0658, 0.0499, 0.0349,  ..., 0.0877, 0.0349, 0.0349]]],\n",
       "\n",
       "\n",
       "        ...,\n",
       "\n",
       "\n",
       "        [[[0.0685, 0.0441, 0.0349,  ..., 0.0859, 0.0349, 0.0349],\n",
       "          [0.0659, 0.0469, 0.0354,  ..., 0.0844, 0.0354, 0.0354],\n",
       "          [0.0682, 0.0521, 0.0348,  ..., 0.0805, 0.0348, 0.0348],\n",
       "          ...,\n",
       "          [0.0647, 0.0466, 0.0352,  ..., 0.0888, 0.0352, 0.0352],\n",
       "          [0.0705, 0.0467, 0.0354,  ..., 0.0799, 0.0354, 0.0354],\n",
       "          [0.0646, 0.0508, 0.0347,  ..., 0.0862, 0.0347, 0.0347]],\n",
       "\n",
       "         [[0.0664, 0.0525, 0.0346,  ..., 0.0874, 0.0346, 0.0346],\n",
       "          [0.0648, 0.0525, 0.0359,  ..., 0.0787, 0.0359, 0.0359],\n",
       "          [0.0655, 0.0478, 0.0350,  ..., 0.0823, 0.0350, 0.0350],\n",
       "          ...,\n",
       "          [0.0706, 0.0483, 0.0346,  ..., 0.0872, 0.0346, 0.0346],\n",
       "          [0.0655, 0.0438, 0.0355,  ..., 0.0889, 0.0355, 0.0355],\n",
       "          [0.0638, 0.0454, 0.0359,  ..., 0.0813, 0.0359, 0.0359]],\n",
       "\n",
       "         [[0.0621, 0.0439, 0.0352,  ..., 0.0892, 0.0352, 0.0352],\n",
       "          [0.0706, 0.0497, 0.0352,  ..., 0.0831, 0.0352, 0.0352],\n",
       "          [0.0643, 0.0453, 0.0357,  ..., 0.0882, 0.0357, 0.0357],\n",
       "          ...,\n",
       "          [0.0659, 0.0490, 0.0349,  ..., 0.0872, 0.0349, 0.0349],\n",
       "          [0.0609, 0.0466, 0.0351,  ..., 0.0871, 0.0351, 0.0351],\n",
       "          [0.0670, 0.0517, 0.0350,  ..., 0.0877, 0.0350, 0.0350]],\n",
       "\n",
       "         ...,\n",
       "\n",
       "         [[0.0656, 0.0477, 0.0351,  ..., 0.0838, 0.0351, 0.0351],\n",
       "          [0.0677, 0.0484, 0.0356,  ..., 0.0817, 0.0356, 0.0356],\n",
       "          [0.0652, 0.0465, 0.0353,  ..., 0.0832, 0.0353, 0.0353],\n",
       "          ...,\n",
       "          [0.0629, 0.0499, 0.0348,  ..., 0.0903, 0.0348, 0.0348],\n",
       "          [0.0613, 0.0468, 0.0354,  ..., 0.0921, 0.0354, 0.0354],\n",
       "          [0.0670, 0.0527, 0.0347,  ..., 0.0903, 0.0347, 0.0347]],\n",
       "\n",
       "         [[0.0679, 0.0472, 0.0348,  ..., 0.0771, 0.0348, 0.0348],\n",
       "          [0.0686, 0.0466, 0.0354,  ..., 0.0841, 0.0354, 0.0354],\n",
       "          [0.0623, 0.0497, 0.0356,  ..., 0.0919, 0.0356, 0.0356],\n",
       "          ...,\n",
       "          [0.0670, 0.0436, 0.0346,  ..., 0.0911, 0.0346, 0.0346],\n",
       "          [0.0678, 0.0465, 0.0356,  ..., 0.0819, 0.0356, 0.0356],\n",
       "          [0.0648, 0.0476, 0.0352,  ..., 0.0818, 0.0352, 0.0352]],\n",
       "\n",
       "         [[0.0685, 0.0522, 0.0356,  ..., 0.0812, 0.0356, 0.0356],\n",
       "          [0.0700, 0.0486, 0.0357,  ..., 0.0840, 0.0357, 0.0357],\n",
       "          [0.0638, 0.0518, 0.0349,  ..., 0.0879, 0.0349, 0.0349],\n",
       "          ...,\n",
       "          [0.0666, 0.0452, 0.0350,  ..., 0.0840, 0.0350, 0.0350],\n",
       "          [0.0644, 0.0504, 0.0347,  ..., 0.0880, 0.0347, 0.0347],\n",
       "          [0.0619, 0.0456, 0.0355,  ..., 0.0884, 0.0355, 0.0355]]],\n",
       "\n",
       "\n",
       "        [[[0.0658, 0.0549, 0.0348,  ..., 0.0871, 0.0348, 0.0348],\n",
       "          [0.0672, 0.0503, 0.0348,  ..., 0.0864, 0.0348, 0.0348],\n",
       "          [0.0709, 0.0437, 0.0354,  ..., 0.0852, 0.0354, 0.0354],\n",
       "          ...,\n",
       "          [0.0665, 0.0470, 0.0350,  ..., 0.0871, 0.0350, 0.0350],\n",
       "          [0.0651, 0.0457, 0.0358,  ..., 0.0784, 0.0358, 0.0358],\n",
       "          [0.0683, 0.0504, 0.0348,  ..., 0.0906, 0.0348, 0.0348]],\n",
       "\n",
       "         [[0.0664, 0.0514, 0.0349,  ..., 0.0858, 0.0349, 0.0349],\n",
       "          [0.0677, 0.0471, 0.0347,  ..., 0.0876, 0.0347, 0.0347],\n",
       "          [0.0655, 0.0487, 0.0346,  ..., 0.0870, 0.0346, 0.0346],\n",
       "          ...,\n",
       "          [0.0645, 0.0495, 0.0352,  ..., 0.0843, 0.0352, 0.0352],\n",
       "          [0.0691, 0.0522, 0.0351,  ..., 0.0764, 0.0351, 0.0351],\n",
       "          [0.0677, 0.0464, 0.0349,  ..., 0.0840, 0.0349, 0.0349]],\n",
       "\n",
       "         [[0.0593, 0.0500, 0.0351,  ..., 0.0874, 0.0351, 0.0351],\n",
       "          [0.0646, 0.0491, 0.0351,  ..., 0.0843, 0.0351, 0.0351],\n",
       "          [0.0678, 0.0546, 0.0347,  ..., 0.0822, 0.0347, 0.0347],\n",
       "          ...,\n",
       "          [0.0678, 0.0527, 0.0348,  ..., 0.0927, 0.0348, 0.0348],\n",
       "          [0.0672, 0.0498, 0.0350,  ..., 0.0826, 0.0350, 0.0350],\n",
       "          [0.0651, 0.0500, 0.0355,  ..., 0.0919, 0.0355, 0.0355]],\n",
       "\n",
       "         ...,\n",
       "\n",
       "         [[0.0652, 0.0509, 0.0353,  ..., 0.0836, 0.0353, 0.0353],\n",
       "          [0.0679, 0.0471, 0.0352,  ..., 0.0818, 0.0352, 0.0352],\n",
       "          [0.0681, 0.0475, 0.0350,  ..., 0.0879, 0.0350, 0.0350],\n",
       "          ...,\n",
       "          [0.0652, 0.0474, 0.0355,  ..., 0.0846, 0.0355, 0.0355],\n",
       "          [0.0656, 0.0467, 0.0345,  ..., 0.0950, 0.0345, 0.0345],\n",
       "          [0.0662, 0.0489, 0.0356,  ..., 0.0799, 0.0356, 0.0356]],\n",
       "\n",
       "         [[0.0644, 0.0454, 0.0358,  ..., 0.0838, 0.0358, 0.0358],\n",
       "          [0.0672, 0.0478, 0.0351,  ..., 0.0858, 0.0351, 0.0351],\n",
       "          [0.0628, 0.0469, 0.0355,  ..., 0.0863, 0.0355, 0.0355],\n",
       "          ...,\n",
       "          [0.0633, 0.0512, 0.0354,  ..., 0.0812, 0.0354, 0.0354],\n",
       "          [0.0686, 0.0458, 0.0355,  ..., 0.0924, 0.0355, 0.0355],\n",
       "          [0.0614, 0.0491, 0.0357,  ..., 0.0799, 0.0357, 0.0357]],\n",
       "\n",
       "         [[0.0604, 0.0461, 0.0349,  ..., 0.0923, 0.0349, 0.0349],\n",
       "          [0.0657, 0.0483, 0.0346,  ..., 0.0882, 0.0346, 0.0346],\n",
       "          [0.0650, 0.0481, 0.0352,  ..., 0.0853, 0.0352, 0.0352],\n",
       "          ...,\n",
       "          [0.0643, 0.0485, 0.0350,  ..., 0.0885, 0.0350, 0.0350],\n",
       "          [0.0661, 0.0493, 0.0346,  ..., 0.0835, 0.0346, 0.0346],\n",
       "          [0.0663, 0.0536, 0.0350,  ..., 0.0890, 0.0350, 0.0350]]],\n",
       "\n",
       "\n",
       "        [[[0.0682, 0.0482, 0.0348,  ..., 0.0900, 0.0348, 0.0348],\n",
       "          [0.0662, 0.0454, 0.0356,  ..., 0.0907, 0.0356, 0.0356],\n",
       "          [0.0662, 0.0459, 0.0354,  ..., 0.0904, 0.0354, 0.0354],\n",
       "          ...,\n",
       "          [0.0624, 0.0522, 0.0353,  ..., 0.0817, 0.0353, 0.0353],\n",
       "          [0.0675, 0.0481, 0.0352,  ..., 0.0826, 0.0352, 0.0352],\n",
       "          [0.0670, 0.0520, 0.0349,  ..., 0.0878, 0.0349, 0.0349]],\n",
       "\n",
       "         [[0.0670, 0.0486, 0.0351,  ..., 0.0851, 0.0351, 0.0351],\n",
       "          [0.0657, 0.0512, 0.0351,  ..., 0.0869, 0.0351, 0.0351],\n",
       "          [0.0679, 0.0518, 0.0351,  ..., 0.0788, 0.0351, 0.0351],\n",
       "          ...,\n",
       "          [0.0680, 0.0505, 0.0354,  ..., 0.0771, 0.0354, 0.0354],\n",
       "          [0.0668, 0.0446, 0.0345,  ..., 0.0924, 0.0345, 0.0345],\n",
       "          [0.0692, 0.0459, 0.0351,  ..., 0.0823, 0.0351, 0.0351]],\n",
       "\n",
       "         [[0.0653, 0.0506, 0.0351,  ..., 0.0845, 0.0351, 0.0351],\n",
       "          [0.0630, 0.0519, 0.0347,  ..., 0.0919, 0.0347, 0.0347],\n",
       "          [0.0712, 0.0483, 0.0347,  ..., 0.0869, 0.0347, 0.0347],\n",
       "          ...,\n",
       "          [0.0637, 0.0465, 0.0350,  ..., 0.0928, 0.0350, 0.0350],\n",
       "          [0.0673, 0.0487, 0.0351,  ..., 0.0869, 0.0351, 0.0351],\n",
       "          [0.0639, 0.0470, 0.0357,  ..., 0.0913, 0.0357, 0.0357]],\n",
       "\n",
       "         ...,\n",
       "\n",
       "         [[0.0682, 0.0457, 0.0347,  ..., 0.0874, 0.0347, 0.0347],\n",
       "          [0.0620, 0.0522, 0.0343,  ..., 0.0946, 0.0343, 0.0343],\n",
       "          [0.0643, 0.0457, 0.0354,  ..., 0.0861, 0.0354, 0.0354],\n",
       "          ...,\n",
       "          [0.0718, 0.0494, 0.0348,  ..., 0.0832, 0.0348, 0.0348],\n",
       "          [0.0655, 0.0475, 0.0356,  ..., 0.0829, 0.0356, 0.0356],\n",
       "          [0.0694, 0.0490, 0.0349,  ..., 0.0867, 0.0349, 0.0349]],\n",
       "\n",
       "         [[0.0656, 0.0428, 0.0354,  ..., 0.0870, 0.0354, 0.0354],\n",
       "          [0.0653, 0.0458, 0.0348,  ..., 0.0911, 0.0348, 0.0348],\n",
       "          [0.0723, 0.0485, 0.0353,  ..., 0.0837, 0.0353, 0.0353],\n",
       "          ...,\n",
       "          [0.0682, 0.0491, 0.0350,  ..., 0.0858, 0.0350, 0.0350],\n",
       "          [0.0666, 0.0517, 0.0350,  ..., 0.0893, 0.0350, 0.0350],\n",
       "          [0.0708, 0.0487, 0.0352,  ..., 0.0895, 0.0352, 0.0352]],\n",
       "\n",
       "         [[0.0651, 0.0460, 0.0348,  ..., 0.0930, 0.0348, 0.0348],\n",
       "          [0.0639, 0.0456, 0.0358,  ..., 0.0859, 0.0358, 0.0358],\n",
       "          [0.0621, 0.0498, 0.0350,  ..., 0.0903, 0.0350, 0.0350],\n",
       "          ...,\n",
       "          [0.0629, 0.0505, 0.0350,  ..., 0.0902, 0.0350, 0.0350],\n",
       "          [0.0694, 0.0511, 0.0348,  ..., 0.0877, 0.0348, 0.0348],\n",
       "          [0.0626, 0.0520, 0.0352,  ..., 0.0837, 0.0352, 0.0352]]]],\n",
       "       grad_fn=<ViewBackward0>)"
      ]
     },
     "execution_count": 13,
     "metadata": {},
     "output_type": "execute_result"
    }
   ],
   "source": [
    "cat_diff.y_pred"
   ]
  },
  {
   "cell_type": "code",
   "execution_count": 25,
   "id": "50aadd8a-c051-43c9-ac50-15e3abd51a0c",
   "metadata": {},
   "outputs": [
    {
     "data": {
      "text/plain": [
       "[<matplotlib.lines.Line2D at 0x14df3f150>]"
      ]
     },
     "execution_count": 25,
     "metadata": {},
     "output_type": "execute_result"
    },
    {
     "data": {
      "image/png": "[encoded data removed]",
      "text/plain": [
       "<Figure size 640x480 with 1 Axes>"
      ]
     },
     "metadata": {},
     "output_type": "display_data"
    }
   ],
   "source": [
    "import matplotlib.pyplot as plt\n",
    "\n",
    "plt.plot(cat_diff.y_pred.detach().numpy()[0][0][0])\n",
    "plt.plot(noised_samples[0][0][0])"
   ]
  },
  {
   "cell_type": "code",
   "execution_count": 9,
   "id": "584362a0-daaa-44b8-832d-d64037366b88",
   "metadata": {},
   "outputs": [
    {
     "data": {
      "text/plain": [
       "tensor(581508.8125, grad_fn=<NegBackward0>)"
      ]
     },
     "execution_count": 9,
     "metadata": {},
     "output_type": "execute_result"
    }
   ],
   "source": [
    "cat_diff.recon_loss(noised_samples)"
   ]
  },
  {
   "cell_type": "code",
   "execution_count": 10,
   "id": "862527bd-08cf-4dbc-ac9b-92d904f8c30c",
   "metadata": {},
   "outputs": [
    {
     "data": {
      "text/plain": [
       "tensor(323531.6250)"
      ]
     },
     "execution_count": 10,
     "metadata": {},
     "output_type": "execute_result"
    }
   ],
   "source": [
    "cat_diff.L_T(noised_samples)"
   ]
  },
  {
   "cell_type": "code",
   "execution_count": 38,
   "id": "0d7105f8-be32-4c2e-8a63-36f509821ebe",
   "metadata": {},
   "outputs": [
    {
     "ename": "RuntimeError",
     "evalue": "mat1 and mat2 shapes cannot be multiplied (100x32 and 1x128)",
     "output_type": "error",
     "traceback": [
      "\u001b[0;31m---------------------------------------------------------------------------\u001b[0m",
      "\u001b[0;31mRuntimeError\u001b[0m                              Traceback (most recent call last)",
      "Cell \u001b[0;32mIn[38], line 1\u001b[0m\n\u001b[0;32m----> 1\u001b[0m \u001b[43mcat_diff\u001b[49m\u001b[38;5;241;43m.\u001b[39;49m\u001b[43mdenoiser\u001b[49m\u001b[38;5;241;43m.\u001b[39;49m\u001b[43mforward_time_1\u001b[49m\u001b[43m(\u001b[49m\u001b[43mts\u001b[49m\u001b[43m)\u001b[49m\n",
      "File \u001b[0;32m~/miniconda3/envs/disc_diff/lib/python3.11/site-packages/torch/nn/modules/module.py:1501\u001b[0m, in \u001b[0;36mModule._call_impl\u001b[0;34m(self, *args, **kwargs)\u001b[0m\n\u001b[1;32m   1496\u001b[0m \u001b[38;5;66;03m# If we don't have any hooks, we want to skip the rest of the logic in\u001b[39;00m\n\u001b[1;32m   1497\u001b[0m \u001b[38;5;66;03m# this function, and just call forward.\u001b[39;00m\n\u001b[1;32m   1498\u001b[0m \u001b[38;5;28;01mif\u001b[39;00m \u001b[38;5;129;01mnot\u001b[39;00m (\u001b[38;5;28mself\u001b[39m\u001b[38;5;241m.\u001b[39m_backward_hooks \u001b[38;5;129;01mor\u001b[39;00m \u001b[38;5;28mself\u001b[39m\u001b[38;5;241m.\u001b[39m_backward_pre_hooks \u001b[38;5;129;01mor\u001b[39;00m \u001b[38;5;28mself\u001b[39m\u001b[38;5;241m.\u001b[39m_forward_hooks \u001b[38;5;129;01mor\u001b[39;00m \u001b[38;5;28mself\u001b[39m\u001b[38;5;241m.\u001b[39m_forward_pre_hooks\n\u001b[1;32m   1499\u001b[0m         \u001b[38;5;129;01mor\u001b[39;00m _global_backward_pre_hooks \u001b[38;5;129;01mor\u001b[39;00m _global_backward_hooks\n\u001b[1;32m   1500\u001b[0m         \u001b[38;5;129;01mor\u001b[39;00m _global_forward_hooks \u001b[38;5;129;01mor\u001b[39;00m _global_forward_pre_hooks):\n\u001b[0;32m-> 1501\u001b[0m     \u001b[38;5;28;01mreturn\u001b[39;00m \u001b[43mforward_call\u001b[49m\u001b[43m(\u001b[49m\u001b[38;5;241;43m*\u001b[39;49m\u001b[43margs\u001b[49m\u001b[43m,\u001b[49m\u001b[43m \u001b[49m\u001b[38;5;241;43m*\u001b[39;49m\u001b[38;5;241;43m*\u001b[39;49m\u001b[43mkwargs\u001b[49m\u001b[43m)\u001b[49m\n\u001b[1;32m   1502\u001b[0m \u001b[38;5;66;03m# Do not call functions when jit is used\u001b[39;00m\n\u001b[1;32m   1503\u001b[0m full_backward_hooks, non_full_backward_hooks \u001b[38;5;241m=\u001b[39m [], []\n",
      "File \u001b[0;32m~/Evozyne Dropbox/Vedant Sachdeva/Mac (2)/Documents/GitHub/DiscreteDiffusion/architectures.py:23\u001b[0m, in \u001b[0;36mFeedForward.forward\u001b[0;34m(self, x)\u001b[0m\n\u001b[1;32m     18\u001b[0m \u001b[38;5;28;01mdef\u001b[39;00m \u001b[38;5;21mforward\u001b[39m(\n\u001b[1;32m     19\u001b[0m     \u001b[38;5;28mself\u001b[39m,\n\u001b[1;32m     20\u001b[0m     x\n\u001b[1;32m     21\u001b[0m ):\n\u001b[1;32m     22\u001b[0m     \u001b[38;5;28;01mif\u001b[39;00m \u001b[38;5;28mself\u001b[39m\u001b[38;5;241m.\u001b[39mactivation \u001b[38;5;129;01mis\u001b[39;00m \u001b[38;5;129;01mnot\u001b[39;00m \u001b[38;5;28;01mNone\u001b[39;00m:\n\u001b[0;32m---> 23\u001b[0m         \u001b[38;5;28;01mreturn\u001b[39;00m \u001b[38;5;28mself\u001b[39m\u001b[38;5;241m.\u001b[39mactivation(\u001b[38;5;28;43mself\u001b[39;49m\u001b[38;5;241;43m.\u001b[39;49m\u001b[43mlayer\u001b[49m\u001b[43m(\u001b[49m\u001b[43mx\u001b[49m\u001b[43m)\u001b[49m)\n\u001b[1;32m     24\u001b[0m     \u001b[38;5;28;01melse\u001b[39;00m:\n\u001b[1;32m     25\u001b[0m         \u001b[38;5;28;01mreturn\u001b[39;00m \u001b[38;5;28mself\u001b[39m\u001b[38;5;241m.\u001b[39mlayer(x)\n",
      "File \u001b[0;32m~/miniconda3/envs/disc_diff/lib/python3.11/site-packages/torch/nn/modules/module.py:1501\u001b[0m, in \u001b[0;36mModule._call_impl\u001b[0;34m(self, *args, **kwargs)\u001b[0m\n\u001b[1;32m   1496\u001b[0m \u001b[38;5;66;03m# If we don't have any hooks, we want to skip the rest of the logic in\u001b[39;00m\n\u001b[1;32m   1497\u001b[0m \u001b[38;5;66;03m# this function, and just call forward.\u001b[39;00m\n\u001b[1;32m   1498\u001b[0m \u001b[38;5;28;01mif\u001b[39;00m \u001b[38;5;129;01mnot\u001b[39;00m (\u001b[38;5;28mself\u001b[39m\u001b[38;5;241m.\u001b[39m_backward_hooks \u001b[38;5;129;01mor\u001b[39;00m \u001b[38;5;28mself\u001b[39m\u001b[38;5;241m.\u001b[39m_backward_pre_hooks \u001b[38;5;129;01mor\u001b[39;00m \u001b[38;5;28mself\u001b[39m\u001b[38;5;241m.\u001b[39m_forward_hooks \u001b[38;5;129;01mor\u001b[39;00m \u001b[38;5;28mself\u001b[39m\u001b[38;5;241m.\u001b[39m_forward_pre_hooks\n\u001b[1;32m   1499\u001b[0m         \u001b[38;5;129;01mor\u001b[39;00m _global_backward_pre_hooks \u001b[38;5;129;01mor\u001b[39;00m _global_backward_hooks\n\u001b[1;32m   1500\u001b[0m         \u001b[38;5;129;01mor\u001b[39;00m _global_forward_hooks \u001b[38;5;129;01mor\u001b[39;00m _global_forward_pre_hooks):\n\u001b[0;32m-> 1501\u001b[0m     \u001b[38;5;28;01mreturn\u001b[39;00m \u001b[43mforward_call\u001b[49m\u001b[43m(\u001b[49m\u001b[38;5;241;43m*\u001b[39;49m\u001b[43margs\u001b[49m\u001b[43m,\u001b[49m\u001b[43m \u001b[49m\u001b[38;5;241;43m*\u001b[39;49m\u001b[38;5;241;43m*\u001b[39;49m\u001b[43mkwargs\u001b[49m\u001b[43m)\u001b[49m\n\u001b[1;32m   1502\u001b[0m \u001b[38;5;66;03m# Do not call functions when jit is used\u001b[39;00m\n\u001b[1;32m   1503\u001b[0m full_backward_hooks, non_full_backward_hooks \u001b[38;5;241m=\u001b[39m [], []\n",
      "File \u001b[0;32m~/miniconda3/envs/disc_diff/lib/python3.11/site-packages/torch/nn/modules/linear.py:114\u001b[0m, in \u001b[0;36mLinear.forward\u001b[0;34m(self, input)\u001b[0m\n\u001b[1;32m    113\u001b[0m \u001b[38;5;28;01mdef\u001b[39;00m \u001b[38;5;21mforward\u001b[39m(\u001b[38;5;28mself\u001b[39m, \u001b[38;5;28minput\u001b[39m: Tensor) \u001b[38;5;241m-\u001b[39m\u001b[38;5;241m>\u001b[39m Tensor:\n\u001b[0;32m--> 114\u001b[0m     \u001b[38;5;28;01mreturn\u001b[39;00m \u001b[43mF\u001b[49m\u001b[38;5;241;43m.\u001b[39;49m\u001b[43mlinear\u001b[49m\u001b[43m(\u001b[49m\u001b[38;5;28;43minput\u001b[39;49m\u001b[43m,\u001b[49m\u001b[43m \u001b[49m\u001b[38;5;28;43mself\u001b[39;49m\u001b[38;5;241;43m.\u001b[39;49m\u001b[43mweight\u001b[49m\u001b[43m,\u001b[49m\u001b[43m \u001b[49m\u001b[38;5;28;43mself\u001b[39;49m\u001b[38;5;241;43m.\u001b[39;49m\u001b[43mbias\u001b[49m\u001b[43m)\u001b[49m\n",
      "\u001b[0;31mRuntimeError\u001b[0m: mat1 and mat2 shapes cannot be multiplied (100x32 and 1x128)"
     ]
    }
   ],
   "source": [
    "cat_diff.denoiser.forward_time_1(ts)"
   ]
  },
  {
   "cell_type": "code",
   "execution_count": 11,
   "id": "7b6228c8-4866-41ea-bf0b-254509503a43",
   "metadata": {},
   "outputs": [
    {
     "name": "stderr",
     "output_type": "stream",
     "text": [
      "  0%|                                                   | 0/246 [00:00<?, ?it/s]"
     ]
    },
    {
     "name": "stdout",
     "output_type": "stream",
     "text": [
      "tensor(330757.0938)\n",
      "tensor(580931.7500, grad_fn=<NegBackward0>)\n",
      "911688.875\n"
     ]
    },
    {
     "name": "stderr",
     "output_type": "stream",
     "text": [
      "  0%|▏                                        | 1/246 [00:48<3:19:25, 48.84s/it]"
     ]
    },
    {
     "name": "stdout",
     "output_type": "stream",
     "text": [
      "tensor(327054.5938)\n",
      "tensor(575279.0625, grad_fn=<NegBackward0>)\n",
      "902333.625\n"
     ]
    },
    {
     "name": "stderr",
     "output_type": "stream",
     "text": [
      "  1%|▎                                        | 2/246 [01:25<2:49:53, 41.78s/it]"
     ]
    },
    {
     "name": "stdout",
     "output_type": "stream",
     "text": [
      "tensor(329693.3750)\n",
      "tensor(570915.1250, grad_fn=<NegBackward0>)\n",
      "900608.5\n"
     ]
    },
    {
     "name": "stderr",
     "output_type": "stream",
     "text": [
      "  1%|▌                                        | 3/246 [02:04<2:43:45, 40.44s/it]"
     ]
    },
    {
     "name": "stdout",
     "output_type": "stream",
     "text": [
      "tensor(322592.1562)\n",
      "tensor(569689.1875, grad_fn=<NegBackward0>)\n",
      "892281.375\n"
     ]
    },
    {
     "name": "stderr",
     "output_type": "stream",
     "text": [
      "  2%|▋                                        | 4/246 [02:43<2:40:22, 39.76s/it]"
     ]
    },
    {
     "name": "stdout",
     "output_type": "stream",
     "text": [
      "tensor(322136.2812)\n",
      "tensor(572581.4375, grad_fn=<NegBackward0>)\n",
      "894717.75\n"
     ]
    },
    {
     "name": "stderr",
     "output_type": "stream",
     "text": [
      "  2%|▊                                        | 5/246 [03:22<2:39:34, 39.73s/it]"
     ]
    },
    {
     "name": "stdout",
     "output_type": "stream",
     "text": [
      "tensor(326073.6875)\n",
      "tensor(571429.5000, grad_fn=<NegBackward0>)\n",
      "897503.1875\n"
     ]
    },
    {
     "name": "stderr",
     "output_type": "stream",
     "text": [
      "  2%|█                                        | 6/246 [03:59<2:34:15, 38.57s/it]"
     ]
    },
    {
     "name": "stdout",
     "output_type": "stream",
     "text": [
      "tensor(319331.6875)\n",
      "tensor(570615.1250, grad_fn=<NegBackward0>)\n",
      "889946.8125\n"
     ]
    },
    {
     "name": "stderr",
     "output_type": "stream",
     "text": [
      "  3%|█▏                                       | 7/246 [04:46<2:44:45, 41.36s/it]"
     ]
    },
    {
     "name": "stdout",
     "output_type": "stream",
     "text": [
      "tensor(332497.8750)\n",
      "tensor(572171.8125, grad_fn=<NegBackward0>)\n",
      "904669.6875\n"
     ]
    },
    {
     "name": "stderr",
     "output_type": "stream",
     "text": [
      "  3%|█▎                                       | 8/246 [05:26<2:42:44, 41.03s/it]"
     ]
    },
    {
     "name": "stdout",
     "output_type": "stream",
     "text": [
      "tensor(327524.3438)\n",
      "tensor(568877.4375, grad_fn=<NegBackward0>)\n",
      "896401.75\n"
     ]
    },
    {
     "name": "stderr",
     "output_type": "stream",
     "text": [
      "  4%|█▌                                       | 9/246 [06:02<2:35:52, 39.46s/it]"
     ]
    },
    {
     "name": "stdout",
     "output_type": "stream",
     "text": [
      "tensor(322633.6250)\n",
      "tensor(565177.5000, grad_fn=<NegBackward0>)\n",
      "887811.125\n"
     ]
    },
    {
     "name": "stderr",
     "output_type": "stream",
     "text": [
      "  4%|█▋                                      | 10/246 [06:42<2:35:48, 39.61s/it]"
     ]
    },
    {
     "name": "stdout",
     "output_type": "stream",
     "text": [
      "tensor(322288.2188)\n",
      "tensor(568001.3125, grad_fn=<NegBackward0>)\n",
      "890289.5\n"
     ]
    },
    {
     "name": "stderr",
     "output_type": "stream",
     "text": [
      "  4%|█▊                                      | 11/246 [07:22<2:35:37, 39.73s/it]"
     ]
    },
    {
     "name": "stdout",
     "output_type": "stream",
     "text": [
      "tensor(332166.3438)\n",
      "tensor(567990., grad_fn=<NegBackward0>)\n",
      "900156.375\n"
     ]
    },
    {
     "name": "stderr",
     "output_type": "stream",
     "text": [
      "  5%|█▉                                      | 12/246 [07:58<2:30:17, 38.53s/it]"
     ]
    },
    {
     "name": "stdout",
     "output_type": "stream",
     "text": [
      "tensor(327096.0625)\n",
      "tensor(567166., grad_fn=<NegBackward0>)\n",
      "894262.0625\n"
     ]
    },
    {
     "name": "stderr",
     "output_type": "stream",
     "text": [
      "  5%|██                                      | 13/246 [08:36<2:29:09, 38.41s/it]"
     ]
    },
    {
     "name": "stdout",
     "output_type": "stream",
     "text": [
      "tensor(335772.1875)\n",
      "tensor(569685.8750, grad_fn=<NegBackward0>)\n",
      "905458.0625\n"
     ]
    },
    {
     "name": "stderr",
     "output_type": "stream",
     "text": [
      "  6%|██▎                                     | 14/246 [09:18<2:32:22, 39.41s/it]"
     ]
    },
    {
     "name": "stdout",
     "output_type": "stream",
     "text": [
      "tensor(324802.6250)\n",
      "tensor(566062.1875, grad_fn=<NegBackward0>)\n",
      "890864.8125\n"
     ]
    },
    {
     "name": "stderr",
     "output_type": "stream",
     "text": [
      "  6%|██▍                                     | 15/246 [09:57<2:31:09, 39.26s/it]"
     ]
    },
    {
     "name": "stdout",
     "output_type": "stream",
     "text": [
      "tensor(324899.3750)\n",
      "tensor(570312.8750, grad_fn=<NegBackward0>)\n",
      "895212.25\n"
     ]
    },
    {
     "name": "stderr",
     "output_type": "stream",
     "text": [
      "  7%|██▌                                     | 16/246 [10:35<2:29:19, 38.96s/it]"
     ]
    },
    {
     "name": "stdout",
     "output_type": "stream",
     "text": [
      "tensor(322454.0312)\n",
      "tensor(568489.7500, grad_fn=<NegBackward0>)\n",
      "890943.75\n"
     ]
    },
    {
     "name": "stderr",
     "output_type": "stream",
     "text": [
      "  7%|██▊                                     | 17/246 [11:13<2:27:28, 38.64s/it]"
     ]
    },
    {
     "name": "stdout",
     "output_type": "stream",
     "text": [
      "tensor(325603.9375)\n",
      "tensor(566207.6875, grad_fn=<NegBackward0>)\n",
      "891811.625\n"
     ]
    },
    {
     "name": "stderr",
     "output_type": "stream",
     "text": [
      "  7%|██▉                                     | 18/246 [11:53<2:28:49, 39.17s/it]"
     ]
    },
    {
     "name": "stdout",
     "output_type": "stream",
     "text": [
      "tensor(324705.9375)\n",
      "tensor(566745., grad_fn=<NegBackward0>)\n",
      "891450.9375\n"
     ]
    },
    {
     "name": "stderr",
     "output_type": "stream",
     "text": [
      "  8%|███                                     | 19/246 [12:34<2:29:50, 39.60s/it]"
     ]
    },
    {
     "name": "stdout",
     "output_type": "stream",
     "text": [
      "tensor(327413.7812)\n",
      "tensor(570738.4375, grad_fn=<NegBackward0>)\n",
      "898152.25\n"
     ]
    },
    {
     "name": "stderr",
     "output_type": "stream",
     "text": [
      "  8%|███▎                                    | 20/246 [13:11<2:26:57, 39.02s/it]"
     ]
    },
    {
     "name": "stdout",
     "output_type": "stream",
     "text": [
      "tensor(327413.7812)\n",
      "tensor(567942.7500, grad_fn=<NegBackward0>)\n",
      "895356.5\n"
     ]
    },
    {
     "name": "stderr",
     "output_type": "stream",
     "text": [
      "  9%|███▍                                    | 21/246 [13:51<2:26:46, 39.14s/it]"
     ]
    },
    {
     "name": "stdout",
     "output_type": "stream",
     "text": [
      "tensor(325382.9062)\n",
      "tensor(567929.5625, grad_fn=<NegBackward0>)\n",
      "893312.5\n"
     ]
    },
    {
     "name": "stderr",
     "output_type": "stream",
     "text": [
      "  9%|███▌                                    | 22/246 [14:29<2:25:12, 38.89s/it]"
     ]
    },
    {
     "name": "stdout",
     "output_type": "stream",
     "text": [
      "tensor(324636.8438)\n",
      "tensor(568061., grad_fn=<NegBackward0>)\n",
      "892697.875\n"
     ]
    },
    {
     "name": "stderr",
     "output_type": "stream",
     "text": [
      "  9%|███▋                                    | 23/246 [15:09<2:25:25, 39.13s/it]"
     ]
    },
    {
     "name": "stdout",
     "output_type": "stream",
     "text": [
      "tensor(329707.1875)\n",
      "tensor(569055.3750, grad_fn=<NegBackward0>)\n",
      "898762.5625\n"
     ]
    },
    {
     "name": "stderr",
     "output_type": "stream",
     "text": [
      " 10%|███▉                                    | 24/246 [15:53<2:29:49, 40.49s/it]"
     ]
    },
    {
     "name": "stdout",
     "output_type": "stream",
     "text": [
      "tensor(322854.6875)\n",
      "tensor(568472.1250, grad_fn=<NegBackward0>)\n",
      "891326.8125\n"
     ]
    },
    {
     "name": "stderr",
     "output_type": "stream",
     "text": [
      " 10%|████                                    | 25/246 [16:33<2:28:54, 40.43s/it]"
     ]
    },
    {
     "name": "stdout",
     "output_type": "stream",
     "text": [
      "tensor(325065.1250)\n",
      "tensor(569316.6250, grad_fn=<NegBackward0>)\n",
      "894381.75\n"
     ]
    },
    {
     "name": "stderr",
     "output_type": "stream",
     "text": [
      " 11%|████▏                                   | 26/246 [17:15<2:30:12, 40.97s/it]"
     ]
    },
    {
     "name": "stdout",
     "output_type": "stream",
     "text": [
      "tensor(333824.1875)\n",
      "tensor(564705.5000, grad_fn=<NegBackward0>)\n",
      "898529.6875\n"
     ]
    },
    {
     "name": "stderr",
     "output_type": "stream",
     "text": [
      " 11%|████▍                                   | 27/246 [17:52<2:24:51, 39.69s/it]"
     ]
    },
    {
     "name": "stdout",
     "output_type": "stream",
     "text": [
      "tensor(322509.2812)\n",
      "tensor(567058.6875, grad_fn=<NegBackward0>)\n",
      "889568.0\n"
     ]
    },
    {
     "name": "stderr",
     "output_type": "stream",
     "text": [
      " 11%|████▌                                   | 28/246 [18:29<2:21:23, 38.92s/it]"
     ]
    },
    {
     "name": "stdout",
     "output_type": "stream",
     "text": [
      "tensor(322757.9375)\n",
      "tensor(568386.1250, grad_fn=<NegBackward0>)\n",
      "891144.0625\n"
     ]
    },
    {
     "name": "stderr",
     "output_type": "stream",
     "text": [
      " 12%|████▋                                   | 29/246 [19:09<2:22:28, 39.39s/it]"
     ]
    },
    {
     "name": "stdout",
     "output_type": "stream",
     "text": [
      "tensor(322716.5312)\n",
      "tensor(569810.0625, grad_fn=<NegBackward0>)\n",
      "892526.625\n"
     ]
    },
    {
     "name": "stderr",
     "output_type": "stream",
     "text": [
      " 12%|████▉                                   | 30/246 [19:52<2:25:21, 40.38s/it]"
     ]
    },
    {
     "name": "stdout",
     "output_type": "stream",
     "text": [
      "tensor(327441.4062)\n",
      "tensor(564433.2500, grad_fn=<NegBackward0>)\n",
      "891874.625\n"
     ]
    },
    {
     "name": "stderr",
     "output_type": "stream",
     "text": [
      " 13%|█████                                   | 31/246 [20:34<2:26:12, 40.80s/it]"
     ]
    },
    {
     "name": "stdout",
     "output_type": "stream",
     "text": [
      "tensor(319511.3125)\n",
      "tensor(568206.8750, grad_fn=<NegBackward0>)\n",
      "887718.1875\n"
     ]
    },
    {
     "name": "stderr",
     "output_type": "stream",
     "text": [
      " 13%|█████                                   | 31/246 [21:14<2:27:19, 41.11s/it]\n"
     ]
    },
    {
     "ename": "KeyboardInterrupt",
     "evalue": "",
     "output_type": "error",
     "traceback": [
      "\u001b[0;31m---------------------------------------------------------------------------\u001b[0m",
      "\u001b[0;31mKeyboardInterrupt\u001b[0m                         Traceback (most recent call last)",
      "Cell \u001b[0;32mIn[11], line 38\u001b[0m\n\u001b[1;32m     35\u001b[0m \u001b[38;5;28mprint\u001b[39m(loss\u001b[38;5;241m.\u001b[39mitem())\n\u001b[1;32m     37\u001b[0m optim\u001b[38;5;241m.\u001b[39mzero_grad()\n\u001b[0;32m---> 38\u001b[0m \u001b[43mloss\u001b[49m\u001b[38;5;241;43m.\u001b[39;49m\u001b[43mbackward\u001b[49m\u001b[43m(\u001b[49m\u001b[43m)\u001b[49m\n\u001b[1;32m     39\u001b[0m optim\u001b[38;5;241m.\u001b[39mstep()\n\u001b[1;32m     41\u001b[0m overall_loss \u001b[38;5;241m+\u001b[39m\u001b[38;5;241m=\u001b[39m loss\u001b[38;5;241m.\u001b[39mitem()\n",
      "File \u001b[0;32m~/miniconda3/envs/disc_diff/lib/python3.11/site-packages/torch/_tensor.py:487\u001b[0m, in \u001b[0;36mTensor.backward\u001b[0;34m(self, gradient, retain_graph, create_graph, inputs)\u001b[0m\n\u001b[1;32m    477\u001b[0m \u001b[38;5;28;01mif\u001b[39;00m has_torch_function_unary(\u001b[38;5;28mself\u001b[39m):\n\u001b[1;32m    478\u001b[0m     \u001b[38;5;28;01mreturn\u001b[39;00m handle_torch_function(\n\u001b[1;32m    479\u001b[0m         Tensor\u001b[38;5;241m.\u001b[39mbackward,\n\u001b[1;32m    480\u001b[0m         (\u001b[38;5;28mself\u001b[39m,),\n\u001b[0;32m   (...)\u001b[0m\n\u001b[1;32m    485\u001b[0m         inputs\u001b[38;5;241m=\u001b[39minputs,\n\u001b[1;32m    486\u001b[0m     )\n\u001b[0;32m--> 487\u001b[0m \u001b[43mtorch\u001b[49m\u001b[38;5;241;43m.\u001b[39;49m\u001b[43mautograd\u001b[49m\u001b[38;5;241;43m.\u001b[39;49m\u001b[43mbackward\u001b[49m\u001b[43m(\u001b[49m\n\u001b[1;32m    488\u001b[0m \u001b[43m    \u001b[49m\u001b[38;5;28;43mself\u001b[39;49m\u001b[43m,\u001b[49m\u001b[43m \u001b[49m\u001b[43mgradient\u001b[49m\u001b[43m,\u001b[49m\u001b[43m \u001b[49m\u001b[43mretain_graph\u001b[49m\u001b[43m,\u001b[49m\u001b[43m \u001b[49m\u001b[43mcreate_graph\u001b[49m\u001b[43m,\u001b[49m\u001b[43m \u001b[49m\u001b[43minputs\u001b[49m\u001b[38;5;241;43m=\u001b[39;49m\u001b[43minputs\u001b[49m\n\u001b[1;32m    489\u001b[0m \u001b[43m\u001b[49m\u001b[43m)\u001b[49m\n",
      "File \u001b[0;32m~/miniconda3/envs/disc_diff/lib/python3.11/site-packages/torch/autograd/__init__.py:200\u001b[0m, in \u001b[0;36mbackward\u001b[0;34m(tensors, grad_tensors, retain_graph, create_graph, grad_variables, inputs)\u001b[0m\n\u001b[1;32m    195\u001b[0m     retain_graph \u001b[38;5;241m=\u001b[39m create_graph\n\u001b[1;32m    197\u001b[0m \u001b[38;5;66;03m# The reason we repeat same the comment below is that\u001b[39;00m\n\u001b[1;32m    198\u001b[0m \u001b[38;5;66;03m# some Python versions print out the first line of a multi-line function\u001b[39;00m\n\u001b[1;32m    199\u001b[0m \u001b[38;5;66;03m# calls in the traceback and some print out the last line\u001b[39;00m\n\u001b[0;32m--> 200\u001b[0m \u001b[43mVariable\u001b[49m\u001b[38;5;241;43m.\u001b[39;49m\u001b[43m_execution_engine\u001b[49m\u001b[38;5;241;43m.\u001b[39;49m\u001b[43mrun_backward\u001b[49m\u001b[43m(\u001b[49m\u001b[43m  \u001b[49m\u001b[38;5;66;43;03m# Calls into the C++ engine to run the backward pass\u001b[39;49;00m\n\u001b[1;32m    201\u001b[0m \u001b[43m    \u001b[49m\u001b[43mtensors\u001b[49m\u001b[43m,\u001b[49m\u001b[43m \u001b[49m\u001b[43mgrad_tensors_\u001b[49m\u001b[43m,\u001b[49m\u001b[43m \u001b[49m\u001b[43mretain_graph\u001b[49m\u001b[43m,\u001b[49m\u001b[43m \u001b[49m\u001b[43mcreate_graph\u001b[49m\u001b[43m,\u001b[49m\u001b[43m \u001b[49m\u001b[43minputs\u001b[49m\u001b[43m,\u001b[49m\n\u001b[1;32m    202\u001b[0m \u001b[43m    \u001b[49m\u001b[43mallow_unreachable\u001b[49m\u001b[38;5;241;43m=\u001b[39;49m\u001b[38;5;28;43;01mTrue\u001b[39;49;00m\u001b[43m,\u001b[49m\u001b[43m \u001b[49m\u001b[43maccumulate_grad\u001b[49m\u001b[38;5;241;43m=\u001b[39;49m\u001b[38;5;28;43;01mTrue\u001b[39;49;00m\u001b[43m)\u001b[49m\n",
      "\u001b[0;31mKeyboardInterrupt\u001b[0m: "
     ]
    }
   ],
   "source": [
    "from tqdm import tqdm\n",
    "epochs = 100\n",
    "\n",
    "cat_diff.train()\n",
    "optim = torch.optim.Adam(cat_diff.parameters(), lr = 1e-3)\n",
    "\n",
    "for epoch in range(epochs):\n",
    "    overall_loss = 0\n",
    "    protein_loader = torch.utils.data.DataLoader(protein_dataset, batch_size=32, shuffle=True)\n",
    "    for batch in tqdm(protein_loader):\n",
    "        X, Y = batch\n",
    "        \n",
    "        X_seq = X['seq']\n",
    "        Y_seq = Y['seq']\n",
    "        \n",
    "        ts, noised_samples = noiser(X_seq, noise_matrix, 100, X_seq.shape[-1])\n",
    "\n",
    "        cat_diff.decode(noised_samples, ts)\n",
    "        \n",
    "        LT_loss     = cat_diff.L_T(noised_samples)\n",
    "        print(LT_loss)\n",
    "\n",
    "        recon_loss  = cat_diff.recon_loss(noised_samples)\n",
    "        print(recon_loss)\n",
    "\n",
    "        \n",
    "        \n",
    "        #Lt0_t1_loss = cat_diff.L_t0t1(Y_seq)\n",
    "        #print(Lt0_t1_loss.item())\n",
    "\n",
    "        #Ltminus1    = cat_diff.L_tminus1(Y_seq, noised_samples)\n",
    "        #print(Ltminus1.item())\n",
    "\n",
    "        loss = LT_loss + recon_loss\n",
    "        print(loss.item())\n",
    "        \n",
    "        optim.zero_grad()\n",
    "        loss.backward()\n",
    "        optim.step()\n",
    "        \n",
    "        overall_loss += loss.item()\n",
    "    print('overall loss at epoch {} is '.format(epoch) + str(overall_loss/X_train.shape[0]))"
   ]
  },
  {
   "cell_type": "code",
   "execution_count": 8,
   "id": "dd0e77ed-b7cf-492f-b014-8eb7d989de16",
   "metadata": {
    "scrolled": true
   },
   "outputs": [
    {
     "data": {
      "text/plain": [
       "Denoiser(\n",
       "  (activation): ReLU()\n",
       "  (forward_time_1): FeedForward(\n",
       "    (layer): Linear(in_features=1, out_features=128, bias=True)\n",
       "    (activation): ReLU()\n",
       "  )\n",
       "  (forward_time_2): FeedForward(\n",
       "    (layer): Linear(in_features=128, out_features=128, bias=True)\n",
       "    (activation): ReLU()\n",
       "  )\n",
       "  (forward_time_3): FeedForward(\n",
       "    (layer): Linear(in_features=128, out_features=128, bias=True)\n",
       "    (activation): ReLU()\n",
       "  )\n",
       "  (forward_seq_1): FeedForward(\n",
       "    (layer): Linear(in_features=22, out_features=128, bias=True)\n",
       "    (activation): ReLU()\n",
       "  )\n",
       "  (forward_seq_2): FeedForward(\n",
       "    (layer): Linear(in_features=128, out_features=128, bias=True)\n",
       "    (activation): ReLU()\n",
       "  )\n",
       "  (forward_seq_3): FeedForward(\n",
       "    (layer): Linear(in_features=128, out_features=128, bias=True)\n",
       "    (activation): ReLU()\n",
       "  )\n",
       "  (forward_time_seq): FeedForward(\n",
       "    (layer): Linear(in_features=256, out_features=128, bias=True)\n",
       "    (activation): ReLU()\n",
       "  )\n",
       "  (mha_1): MultiHeadedAttention(\n",
       "    (attention): Attention()\n",
       "    (W_q): Linear(in_features=128, out_features=1024, bias=True)\n",
       "    (W_k): Linear(in_features=128, out_features=1024, bias=True)\n",
       "    (W_v): Linear(in_features=128, out_features=1024, bias=True)\n",
       "    (W_o): Linear(in_features=1024, out_features=128, bias=True)\n",
       "  )\n",
       "  (dropout_1): Dropout(p=0.1, inplace=False)\n",
       "  (addnorm_1): AddNorm(\n",
       "    (layer_norm): LayerNorm((128,), eps=1e-05, elementwise_affine=True)\n",
       "  )\n",
       "  (feedforward_1): FeedForward(\n",
       "    (layer): Linear(in_features=128, out_features=128, bias=True)\n",
       "    (activation): ReLU()\n",
       "  )\n",
       "  (mha_2): MultiHeadedAttention(\n",
       "    (attention): Attention()\n",
       "    (W_q): Linear(in_features=128, out_features=1024, bias=True)\n",
       "    (W_k): Linear(in_features=128, out_features=1024, bias=True)\n",
       "    (W_v): Linear(in_features=128, out_features=1024, bias=True)\n",
       "    (W_o): Linear(in_features=1024, out_features=128, bias=True)\n",
       "  )\n",
       "  (dropout_2): Dropout(p=0.1, inplace=False)\n",
       "  (addnorm_2): AddNorm(\n",
       "    (layer_norm): LayerNorm((128,), eps=1e-05, elementwise_affine=True)\n",
       "  )\n",
       "  (feedforward_2): FeedForward(\n",
       "    (layer): Linear(in_features=128, out_features=128, bias=True)\n",
       "    (activation): ReLU()\n",
       "  )\n",
       "  (feedforward_3): FeedForward(\n",
       "    (layer): Linear(in_features=128, out_features=22, bias=True)\n",
       "    (activation): ReLU()\n",
       "  )\n",
       ")"
      ]
     },
     "execution_count": 8,
     "metadata": {},
     "output_type": "execute_result"
    }
   ],
   "source": [
    "denoiser.eval()"
   ]
  },
  {
   "cell_type": "code",
   "execution_count": 9,
   "id": "8c1401cd-5e1c-4b45-81f0-b4dfbc8593a3",
   "metadata": {},
   "outputs": [
    {
     "data": {
      "text/plain": [
       "torch.Size([100, 32, 59, 22])"
      ]
     },
     "execution_count": 9,
     "metadata": {},
     "output_type": "execute_result"
    }
   ],
   "source": [
    "noised_samples.shape"
   ]
  },
  {
   "cell_type": "code",
   "execution_count": 10,
   "id": "b3459ffb-bfce-4502-965a-43a6a83fa4ab",
   "metadata": {},
   "outputs": [],
   "source": [
    "y_pred = denoiser(noised_samples, ts)"
   ]
  },
  {
   "cell_type": "code",
   "execution_count": 11,
   "id": "d5290347-9d82-4ec1-9cc0-aae1fa1e33bb",
   "metadata": {},
   "outputs": [
    {
     "data": {
      "text/plain": [
       "torch.Size([100, 32, 59, 22])"
      ]
     },
     "execution_count": 11,
     "metadata": {},
     "output_type": "execute_result"
    }
   ],
   "source": [
    "y_pred.shape"
   ]
  },
  {
   "cell_type": "code",
   "execution_count": 12,
   "id": "73ec04e1-bd87-4837-9458-1f5b3fbd41b3",
   "metadata": {},
   "outputs": [
    {
     "data": {
      "text/plain": [
       "tensor([[[0.0496, 0.0415, 0.0415,  ..., 0.0426, 0.0496, 0.0442],\n",
       "         [0.0496, 0.0415, 0.0415,  ..., 0.0426, 0.0496, 0.0442],\n",
       "         [0.0521, 0.0417, 0.0417,  ..., 0.0433, 0.0491, 0.0428],\n",
       "         ...,\n",
       "         [0.0508, 0.0415, 0.0415,  ..., 0.0430, 0.0490, 0.0434],\n",
       "         [0.0508, 0.0416, 0.0416,  ..., 0.0449, 0.0484, 0.0417],\n",
       "         [0.0521, 0.0417, 0.0417,  ..., 0.0433, 0.0491, 0.0428]],\n",
       "\n",
       "        [[0.0517, 0.0416, 0.0416,  ..., 0.0431, 0.0488, 0.0429],\n",
       "         [0.0509, 0.0415, 0.0415,  ..., 0.0442, 0.0486, 0.0437],\n",
       "         [0.0496, 0.0415, 0.0415,  ..., 0.0426, 0.0495, 0.0441],\n",
       "         ...,\n",
       "         [0.0508, 0.0416, 0.0416,  ..., 0.0449, 0.0483, 0.0416],\n",
       "         [0.0508, 0.0415, 0.0415,  ..., 0.0440, 0.0483, 0.0440],\n",
       "         [0.0521, 0.0417, 0.0417,  ..., 0.0438, 0.0483, 0.0423]]],\n",
       "       grad_fn=<SliceBackward0>)"
      ]
     },
     "execution_count": 12,
     "metadata": {},
     "output_type": "execute_result"
    }
   ],
   "source": [
    "y_pred[1][0:2]"
   ]
  },
  {
   "cell_type": "code",
   "execution_count": 46,
   "id": "993cca43-54c6-4b6f-bc06-5035da993edc",
   "metadata": {},
   "outputs": [],
   "source": [
    "cat_diff = CategoricalDiffusion(denoiser, noise_matrix)"
   ]
  },
  {
   "cell_type": "code",
   "execution_count": 47,
   "id": "ed98cb5d-bba6-4805-b684-aeb27125ab0f",
   "metadata": {},
   "outputs": [
    {
     "data": {
      "text/plain": [
       "tensor(325148.0625)"
      ]
     },
     "execution_count": 47,
     "metadata": {},
     "output_type": "execute_result"
    }
   ],
   "source": [
    "cat_diff.L_T(noised_samples, noise_matrix)"
   ]
  },
  {
   "cell_type": "code",
   "execution_count": 48,
   "id": "d0727b9f-8fb5-431f-85b3-5c05eaa510e2",
   "metadata": {},
   "outputs": [
    {
     "data": {
      "text/plain": [
       "tensor(364.4633, grad_fn=<NegBackward0>)"
      ]
     },
     "execution_count": 48,
     "metadata": {},
     "output_type": "execute_result"
    }
   ],
   "source": [
    "cat_diff.L_t0t1(X_seq[0:2],ts[:,0:2], noised_samples[:,0:2,:,:])"
   ]
  },
  {
   "cell_type": "code",
   "execution_count": 49,
   "id": "83117b40-e662-4780-8803-780ebe0eb39f",
   "metadata": {},
   "outputs": [
    {
     "name": "stdout",
     "output_type": "stream",
     "text": [
      "torch.Size([100, 32, 59, 22])\n"
     ]
    },
    {
     "data": {
      "text/plain": [
       "tensor(720177.4375, grad_fn=<SumBackward0>)"
      ]
     },
     "execution_count": 49,
     "metadata": {},
     "output_type": "execute_result"
    }
   ],
   "source": [
    "cat_diff.L_tminus1(X_seq, ts, noised_samples)"
   ]
  },
  {
   "cell_type": "code",
   "execution_count": 52,
   "id": "965c4449-8176-4ff2-a98d-d9a41bace6a0",
   "metadata": {},
   "outputs": [
    {
     "name": "stdout",
     "output_type": "stream",
     "text": [
      "Parameter containing:\n",
      "tensor([[-0.6056],\n",
      "        [ 0.0624],\n",
      "        [-0.3412],\n",
      "        [ 0.7145],\n",
      "        [-0.7960],\n",
      "        [-0.8140],\n",
      "        [ 0.4435],\n",
      "        [ 0.3451],\n",
      "        [-0.4423],\n",
      "        [-0.3507],\n",
      "        [-0.2473],\n",
      "        [-0.8043],\n",
      "        [ 0.1912],\n",
      "        [-0.2725],\n",
      "        [ 0.1511],\n",
      "        [-0.0134],\n",
      "        [-0.9085],\n",
      "        [ 0.3196],\n",
      "        [ 0.2804],\n",
      "        [ 0.3093],\n",
      "        [ 0.0128],\n",
      "        [-0.3858],\n",
      "        [-0.2689],\n",
      "        [ 0.9807],\n",
      "        [ 0.8842],\n",
      "        [ 0.4777],\n",
      "        [-0.6349],\n",
      "        [ 0.8628],\n",
      "        [ 0.2409],\n",
      "        [-0.7710],\n",
      "        [-0.1586],\n",
      "        [-0.4698],\n",
      "        [-0.5189],\n",
      "        [ 0.5831],\n",
      "        [-0.3778],\n",
      "        [ 0.0260],\n",
      "        [ 0.1287],\n",
      "        [-0.8608],\n",
      "        [-0.3708],\n",
      "        [ 0.7822],\n",
      "        [-0.0850],\n",
      "        [ 0.0196],\n",
      "        [ 0.2723],\n",
      "        [ 0.0415],\n",
      "        [-0.3743],\n",
      "        [ 0.2874],\n",
      "        [-0.9886],\n",
      "        [ 0.1126],\n",
      "        [ 0.1173],\n",
      "        [-0.5255],\n",
      "        [ 0.2560],\n",
      "        [ 0.5627],\n",
      "        [ 0.9989],\n",
      "        [ 0.1439],\n",
      "        [ 0.5417],\n",
      "        [-0.2490],\n",
      "        [-0.1010],\n",
      "        [ 0.7152],\n",
      "        [ 0.0624],\n",
      "        [ 0.0888],\n",
      "        [ 0.2784],\n",
      "        [-0.5481],\n",
      "        [ 0.5241],\n",
      "        [ 0.4038],\n",
      "        [ 0.7321],\n",
      "        [ 0.8894],\n",
      "        [-0.3780],\n",
      "        [ 0.0532],\n",
      "        [ 0.9320],\n",
      "        [-0.4618],\n",
      "        [-0.4879],\n",
      "        [-0.4038],\n",
      "        [ 0.6734],\n",
      "        [ 0.9982],\n",
      "        [-0.4187],\n",
      "        [-0.2947],\n",
      "        [-0.1515],\n",
      "        [ 0.7193],\n",
      "        [-0.8401],\n",
      "        [-0.3701],\n",
      "        [-0.6876],\n",
      "        [ 0.6989],\n",
      "        [ 0.5954],\n",
      "        [-0.9687],\n",
      "        [-0.9666],\n",
      "        [-0.0677],\n",
      "        [-0.6943],\n",
      "        [-0.7619],\n",
      "        [-0.5011],\n",
      "        [-0.3881],\n",
      "        [-0.8297],\n",
      "        [ 0.3602],\n",
      "        [-0.6650],\n",
      "        [ 0.3604],\n",
      "        [ 0.9435],\n",
      "        [ 0.6318],\n",
      "        [-0.5558],\n",
      "        [ 0.5328],\n",
      "        [ 0.6822],\n",
      "        [-0.6604],\n",
      "        [ 0.8022],\n",
      "        [ 0.6135],\n",
      "        [ 0.8733],\n",
      "        [-0.3456],\n",
      "        [ 0.9745],\n",
      "        [ 0.2760],\n",
      "        [-0.5118],\n",
      "        [-0.0517],\n",
      "        [ 0.0265],\n",
      "        [-0.9594],\n",
      "        [-0.1054],\n",
      "        [-0.0695],\n",
      "        [ 0.6565],\n",
      "        [ 0.9745],\n",
      "        [-0.9766],\n",
      "        [-0.8986],\n",
      "        [ 0.4884],\n",
      "        [-0.7667],\n",
      "        [-0.8272],\n",
      "        [-0.5015],\n",
      "        [-0.5678],\n",
      "        [ 0.3555],\n",
      "        [-0.7053],\n",
      "        [-0.8912],\n",
      "        [ 0.8186],\n",
      "        [-0.6524],\n",
      "        [ 0.9725],\n",
      "        [ 0.3769]], requires_grad=True)\n",
      "Parameter containing:\n",
      "tensor([-0.1466, -0.0027,  0.9219,  0.1666,  0.2113,  0.3026,  0.9080, -0.7410,\n",
      "         0.4455, -0.1590, -0.2454,  0.1485,  0.3176, -0.9873,  0.9469,  0.0850,\n",
      "        -0.8221, -0.0354,  0.6835, -0.7401, -0.4367,  0.2894,  0.7274,  0.3120,\n",
      "         0.0412,  0.9705,  0.4533,  0.2905, -0.3878,  0.6512, -0.4612, -0.5862,\n",
      "         0.3872,  0.0630, -0.7460, -0.8539,  0.7185,  0.8299,  0.2036, -0.1246,\n",
      "         0.6263, -0.5255,  0.7678, -0.4931,  0.1554,  0.0232, -0.7636, -0.3247,\n",
      "        -0.7633,  0.8660,  0.2720,  0.9457, -0.4310, -0.6186, -0.3479,  0.2150,\n",
      "         0.8733,  0.5333,  0.2539, -0.2750,  0.4795,  0.0340,  0.9918,  0.9512,\n",
      "         0.0664,  0.8199,  0.0047, -0.2161, -0.1787,  0.9991, -0.6883,  0.9977,\n",
      "        -0.1510, -0.4891,  0.9431, -0.5551,  0.5470,  0.6430, -0.1840, -0.2079,\n",
      "         0.0374, -0.5512, -0.9452,  0.0104,  0.9038,  0.7847,  0.4344,  0.6071,\n",
      "        -0.3848, -0.0312,  0.3653, -0.3447, -0.2124, -0.6663,  0.8643, -0.1086,\n",
      "        -0.4505,  0.2744, -0.0691, -0.8291,  0.3072, -0.6228,  0.0400,  0.7296,\n",
      "         0.8430, -0.6201,  0.9238, -0.4978,  0.2418, -0.0877,  0.6905,  0.2327,\n",
      "        -0.3670,  0.0589, -0.8527, -0.1524,  0.7645, -0.8312,  0.9163,  0.3229,\n",
      "         0.9386, -0.3540,  0.9520, -0.0195, -0.2921,  0.2615,  0.8443,  0.6257],\n",
      "       requires_grad=True)\n",
      "Parameter containing:\n",
      "tensor([[-0.0674,  0.0572, -0.0237,  ..., -0.0693,  0.0387,  0.0883],\n",
      "        [ 0.0313,  0.0779, -0.0254,  ...,  0.0830, -0.0655,  0.0527],\n",
      "        [-0.0547, -0.0217,  0.0141,  ...,  0.0820, -0.0221,  0.0682],\n",
      "        ...,\n",
      "        [-0.0058, -0.0588,  0.0288,  ...,  0.0576, -0.0400,  0.0579],\n",
      "        [ 0.0340, -0.0675, -0.0406,  ...,  0.0739,  0.0545,  0.0822],\n",
      "        [ 0.0422,  0.0876, -0.0334,  ..., -0.0240,  0.0858, -0.0368]],\n",
      "       requires_grad=True)\n",
      "Parameter containing:\n",
      "tensor([-1.6098e-02, -5.7278e-02, -1.6613e-02,  6.3704e-02,  6.6461e-02,\n",
      "        -5.8878e-02, -5.2496e-02, -8.4588e-02,  1.7110e-02, -2.1381e-02,\n",
      "         6.0067e-02,  8.1167e-03, -2.6111e-02, -1.7200e-02,  8.3051e-02,\n",
      "        -8.7818e-03,  5.3464e-03, -2.0764e-02,  1.8452e-03, -6.8226e-02,\n",
      "        -6.7491e-02, -1.5704e-02, -1.0927e-02,  7.3518e-02, -7.9314e-02,\n",
      "         5.7823e-02, -4.9088e-02,  3.2564e-02, -5.3897e-02,  6.1798e-02,\n",
      "        -4.8664e-02, -4.5879e-02,  1.2165e-02,  4.2238e-02,  7.0635e-02,\n",
      "        -7.5027e-03, -7.6417e-02, -7.3560e-02,  6.9241e-02,  7.3477e-02,\n",
      "        -5.9264e-02,  2.1396e-02,  6.7275e-02,  6.0915e-02,  3.7593e-03,\n",
      "        -4.3534e-02, -1.4902e-02, -6.7722e-02, -5.1357e-02,  5.7927e-02,\n",
      "         4.2144e-02,  2.1690e-02, -3.4297e-02,  8.2055e-02, -4.4104e-02,\n",
      "         3.4394e-02, -5.9383e-02, -2.9566e-02,  3.4894e-02, -1.5580e-02,\n",
      "        -1.3779e-02,  6.8549e-02, -1.4455e-02,  6.8217e-03,  5.3542e-02,\n",
      "        -6.4508e-02, -6.8665e-05, -2.5388e-02, -4.0780e-02,  1.0953e-02,\n",
      "        -6.3308e-02, -5.1527e-02, -5.7268e-02,  5.4562e-02,  7.5322e-02,\n",
      "         2.8193e-02,  1.4271e-02, -2.2909e-02,  7.3584e-02,  6.9162e-02,\n",
      "        -9.1001e-03,  1.2585e-02, -7.0596e-02, -1.4771e-03,  6.1249e-02,\n",
      "        -1.5120e-02,  8.5185e-02,  6.7225e-02, -2.6600e-02, -1.8291e-02,\n",
      "        -3.6538e-02, -7.7019e-02,  5.3054e-02, -5.8059e-02, -5.5623e-02,\n",
      "        -1.3165e-02,  8.0489e-02, -2.0753e-02, -6.8573e-03, -4.6557e-02,\n",
      "        -6.9865e-02, -2.1729e-02,  1.4032e-02, -8.4006e-03,  6.2328e-02,\n",
      "         4.9044e-02, -6.0820e-02,  2.0651e-02, -1.9592e-02, -4.8890e-02,\n",
      "        -7.6653e-02,  4.5240e-02, -6.2348e-02, -1.8705e-02, -4.1401e-02,\n",
      "        -7.0828e-02, -4.4021e-02,  2.0285e-02,  5.5906e-02, -4.9747e-03,\n",
      "         8.1026e-02,  4.5666e-03, -3.2796e-02,  3.0672e-02, -5.6576e-02,\n",
      "        -8.6352e-02, -8.6266e-02, -4.7097e-02], requires_grad=True)\n",
      "Parameter containing:\n",
      "tensor([[ 0.0173,  0.0034, -0.0807,  ..., -0.0869,  0.0244, -0.0821],\n",
      "        [ 0.0876,  0.0146, -0.0779,  ...,  0.0250,  0.0488, -0.0174],\n",
      "        [-0.0832, -0.0395, -0.0756,  ...,  0.0291,  0.0524, -0.0542],\n",
      "        ...,\n",
      "        [ 0.0346,  0.0655,  0.0269,  ..., -0.0169, -0.0257, -0.0326],\n",
      "        [-0.0076, -0.0012,  0.0708,  ..., -0.0536, -0.0600,  0.0674],\n",
      "        [ 0.0093, -0.0669, -0.0615,  ..., -0.0834, -0.0428, -0.0699]],\n",
      "       requires_grad=True)\n",
      "Parameter containing:\n",
      "tensor([-0.0796,  0.0639, -0.0630, -0.0196,  0.0814, -0.0082, -0.0048, -0.0091,\n",
      "         0.0867,  0.0236, -0.0219, -0.0862, -0.0622,  0.0005,  0.0519, -0.0737,\n",
      "         0.0519, -0.0719,  0.0439,  0.0309,  0.0527, -0.0283,  0.0203, -0.0306,\n",
      "        -0.0314,  0.0559,  0.0668, -0.0201, -0.0083,  0.0691, -0.0732, -0.0576,\n",
      "        -0.0704,  0.0238, -0.0563, -0.0556,  0.0612, -0.0629, -0.0737, -0.0180,\n",
      "        -0.0833,  0.0059, -0.0137,  0.0085,  0.0630,  0.0495, -0.0478, -0.0530,\n",
      "         0.0877,  0.0268, -0.0342, -0.0137,  0.0429, -0.0093,  0.0121,  0.0799,\n",
      "         0.0472, -0.0331,  0.0116, -0.0481, -0.0345, -0.0111,  0.0195, -0.0826,\n",
      "         0.0261, -0.0775, -0.0770,  0.0166, -0.0838,  0.0355, -0.0240,  0.0578,\n",
      "        -0.0744, -0.0730, -0.0692,  0.0582,  0.0168,  0.0754,  0.0057,  0.0527,\n",
      "        -0.0549, -0.0445, -0.0741,  0.0269,  0.0327,  0.0802, -0.0095, -0.0310,\n",
      "         0.0008, -0.0383, -0.0815, -0.0338,  0.0738, -0.0264,  0.0023,  0.0805,\n",
      "        -0.0288, -0.0691, -0.0578, -0.0299,  0.0463, -0.0442,  0.0012,  0.0096,\n",
      "        -0.0231,  0.0715, -0.0203, -0.0860, -0.0771,  0.0698, -0.0070, -0.0030,\n",
      "        -0.0039,  0.0419, -0.0048,  0.0400,  0.0467, -0.0683, -0.0190, -0.0817,\n",
      "        -0.0371, -0.0321, -0.0583,  0.0017,  0.0508,  0.0213,  0.0434,  0.0559],\n",
      "       requires_grad=True)\n",
      "Parameter containing:\n",
      "tensor([[-0.0170, -0.0914, -0.0151,  ..., -0.1979, -0.1413, -0.0707],\n",
      "        [-0.0876,  0.1663,  0.1212,  ...,  0.1567,  0.0368,  0.1519],\n",
      "        [-0.0590,  0.1837, -0.0767,  ...,  0.1907, -0.1720,  0.0340],\n",
      "        ...,\n",
      "        [-0.0829, -0.0471,  0.0051,  ...,  0.1362,  0.1681,  0.0652],\n",
      "        [-0.0173, -0.0985,  0.1234,  ..., -0.1854, -0.0163, -0.1222],\n",
      "        [ 0.1331, -0.0678, -0.2091,  ..., -0.1750,  0.0471, -0.0913]],\n",
      "       requires_grad=True)\n",
      "Parameter containing:\n",
      "tensor([ 0.2058, -0.1565, -0.1374,  0.1592,  0.1189,  0.0981, -0.1575, -0.0045,\n",
      "         0.0234,  0.0278, -0.0138,  0.2124,  0.0560, -0.1943,  0.1104, -0.0304,\n",
      "         0.1935, -0.1281, -0.0638, -0.0434,  0.1460,  0.1254, -0.1181,  0.0275,\n",
      "        -0.0186,  0.1675,  0.1531, -0.1406, -0.0878, -0.1132,  0.0355,  0.0214,\n",
      "         0.1867, -0.0450,  0.0032, -0.1496, -0.1816, -0.1571, -0.0230, -0.0731,\n",
      "        -0.0241, -0.0568, -0.1449,  0.0235, -0.1710, -0.0117,  0.1538,  0.1463,\n",
      "         0.1276, -0.0102,  0.1932,  0.0014, -0.1331, -0.1866, -0.1615, -0.1925,\n",
      "        -0.2019, -0.0570,  0.1030,  0.0827,  0.1165, -0.0892, -0.0534,  0.0342,\n",
      "         0.0750,  0.0944,  0.0507, -0.0401, -0.1216,  0.2089, -0.0589, -0.0317,\n",
      "        -0.0872, -0.2037, -0.1886,  0.1900, -0.0902, -0.0936,  0.0390,  0.0923,\n",
      "         0.1622, -0.1639,  0.0039, -0.0973,  0.1877,  0.1054, -0.0836,  0.0909,\n",
      "         0.0489,  0.1919, -0.0275, -0.0965,  0.0131, -0.0892,  0.0451,  0.0537,\n",
      "         0.0714,  0.0366,  0.0155,  0.0199, -0.1214,  0.0159,  0.0136, -0.0778,\n",
      "        -0.1833, -0.1827, -0.0902,  0.0683,  0.1874,  0.1605,  0.1417,  0.1092,\n",
      "         0.2078,  0.1830, -0.2009, -0.0238, -0.1865, -0.1538,  0.0694,  0.0867,\n",
      "        -0.2060,  0.1899,  0.1302,  0.1455,  0.1462,  0.0780,  0.1422, -0.0935],\n",
      "       requires_grad=True)\n",
      "Parameter containing:\n",
      "tensor([[-0.0151,  0.0188, -0.0053,  ..., -0.0803,  0.0207, -0.0053],\n",
      "        [ 0.0192, -0.0153, -0.0416,  ...,  0.0415, -0.0531,  0.0278],\n",
      "        [ 0.0038, -0.0319, -0.0629,  ..., -0.0196, -0.0530,  0.0729],\n",
      "        ...,\n",
      "        [-0.0874,  0.0806,  0.0420,  ...,  0.0088,  0.0431,  0.0867],\n",
      "        [-0.0523, -0.0642, -0.0617,  ..., -0.0299,  0.0151,  0.0084],\n",
      "        [ 0.0396, -0.0091, -0.0336,  ...,  0.0541,  0.0293,  0.0573]],\n",
      "       requires_grad=True)\n",
      "Parameter containing:\n",
      "tensor([-7.2873e-02, -2.3069e-03, -3.2642e-02,  5.1762e-03,  2.8412e-03,\n",
      "        -4.6878e-02,  6.7964e-02, -1.6908e-02,  4.9473e-02,  5.1466e-02,\n",
      "         8.0099e-02,  5.1898e-02, -4.0349e-02, -4.3502e-02,  3.2523e-02,\n",
      "         3.0299e-02, -4.5524e-02, -2.2981e-02, -4.2701e-02,  2.6544e-02,\n",
      "        -3.4663e-02, -5.9537e-02, -4.1154e-02,  7.0693e-02, -5.4917e-02,\n",
      "         7.6167e-02, -9.2770e-03, -3.6829e-02, -7.2675e-02, -4.1662e-02,\n",
      "        -4.0815e-02,  4.4332e-02, -3.4802e-02,  5.8832e-02,  4.7450e-02,\n",
      "        -1.1617e-02, -1.2255e-02, -1.5665e-02,  5.7249e-02,  4.6838e-02,\n",
      "        -5.8325e-02,  2.7978e-02, -6.9355e-02, -7.4187e-03, -6.1736e-02,\n",
      "        -7.9715e-02, -5.7819e-02, -1.6917e-02,  1.5964e-02,  6.5296e-02,\n",
      "        -7.7872e-02,  2.7871e-02, -3.3269e-02,  6.1690e-02, -5.9726e-02,\n",
      "         1.9475e-02,  3.1157e-02,  8.4763e-02,  7.1235e-02, -4.5472e-02,\n",
      "         1.1375e-02, -7.9135e-02, -1.4646e-02, -8.0821e-02,  3.7194e-02,\n",
      "         2.9275e-02,  3.9443e-02, -3.3733e-02, -7.2667e-02, -4.9221e-02,\n",
      "        -4.0359e-02, -1.0876e-02,  5.2864e-02,  5.6259e-02, -8.4425e-02,\n",
      "         7.8188e-02,  4.7157e-02, -8.0928e-02, -8.5535e-02, -4.6974e-04,\n",
      "         6.4453e-02,  1.8995e-02,  8.4639e-05,  4.8674e-02,  1.4630e-02,\n",
      "        -6.8714e-02,  2.7856e-02, -3.4546e-02,  1.2085e-03,  5.5979e-02,\n",
      "         5.8840e-02,  6.0115e-02,  2.5762e-02,  4.3609e-02,  8.5441e-02,\n",
      "         4.1756e-02, -5.7743e-02,  2.2556e-02, -1.7459e-02,  6.3223e-02,\n",
      "         4.2538e-02, -5.8219e-02, -7.0847e-02, -5.8244e-02,  3.2567e-02,\n",
      "         7.7820e-02,  1.7590e-02,  5.0731e-04,  1.1537e-02, -8.6554e-02,\n",
      "        -6.4629e-02,  5.0340e-02,  5.4698e-02,  3.8756e-02, -1.8283e-02,\n",
      "         6.2763e-02, -3.4317e-02,  3.0071e-02, -4.0899e-02, -8.5006e-02,\n",
      "        -3.0770e-02, -3.6394e-02, -7.9792e-02,  7.4708e-02, -2.6012e-02,\n",
      "         7.7216e-02,  6.5730e-02, -3.1807e-02], requires_grad=True)\n",
      "Parameter containing:\n",
      "tensor([[ 0.0488, -0.0736,  0.0826,  ..., -0.0084, -0.0689, -0.0071],\n",
      "        [-0.0229,  0.0254,  0.0157,  ...,  0.0483,  0.0874, -0.0083],\n",
      "        [ 0.0147, -0.0270,  0.0417,  ..., -0.0198, -0.0340,  0.0350],\n",
      "        ...,\n",
      "        [ 0.0580,  0.0505, -0.0476,  ...,  0.0234, -0.0555, -0.0281],\n",
      "        [-0.0152, -0.0296, -0.0778,  ..., -0.0705,  0.0781, -0.0462],\n",
      "        [ 0.0063,  0.0360,  0.0121,  ..., -0.0864,  0.0206, -0.0599]],\n",
      "       requires_grad=True)\n",
      "Parameter containing:\n",
      "tensor([ 0.0489,  0.0882, -0.0800,  0.0485,  0.0551,  0.0679,  0.0633, -0.0543,\n",
      "        -0.0381, -0.0343,  0.0087, -0.0076,  0.0177,  0.0414, -0.0422, -0.0103,\n",
      "        -0.0381,  0.0101,  0.0098, -0.0438, -0.0241,  0.0361,  0.0080,  0.0773,\n",
      "         0.0775,  0.0512, -0.0305, -0.0757, -0.0617, -0.0277,  0.0106,  0.0197,\n",
      "        -0.0522, -0.0084,  0.0244, -0.0642,  0.0186,  0.0037,  0.0171, -0.0218,\n",
      "        -0.0287, -0.0298, -0.0428, -0.0245, -0.0772, -0.0063,  0.0836,  0.0856,\n",
      "         0.0705,  0.0425,  0.0002, -0.0216,  0.0743, -0.0851, -0.0085, -0.0032,\n",
      "         0.0410, -0.0587,  0.0839, -0.0061, -0.0212, -0.0832, -0.0451, -0.0657,\n",
      "        -0.0616, -0.0375,  0.0166,  0.0511, -0.0602, -0.0112,  0.0174, -0.0037,\n",
      "        -0.0061, -0.0397,  0.0703,  0.0558,  0.0750, -0.0500,  0.0591, -0.0146,\n",
      "         0.0614,  0.0713,  0.0045,  0.0364, -0.0703, -0.0143, -0.0574, -0.0033,\n",
      "         0.0068, -0.0251,  0.0119,  0.0232, -0.0057, -0.0454, -0.0837,  0.0706,\n",
      "        -0.0813,  0.0116, -0.0107,  0.0376,  0.0426, -0.0758, -0.0648, -0.0692,\n",
      "         0.0017,  0.0676, -0.0480, -0.0512,  0.0681, -0.0456,  0.0794,  0.0664,\n",
      "        -0.0225, -0.0677,  0.0256,  0.0734,  0.0788, -0.0504,  0.0417,  0.0381,\n",
      "        -0.0618, -0.0877,  0.0833, -0.0486, -0.0464, -0.0641,  0.0877, -0.0107],\n",
      "       requires_grad=True)\n",
      "Parameter containing:\n",
      "tensor([[-0.0427, -0.0341,  0.0103,  ..., -0.0072, -0.0045,  0.0450],\n",
      "        [ 0.0497, -0.0625,  0.0454,  ..., -0.0325,  0.0394,  0.0178],\n",
      "        [-0.0286,  0.0107,  0.0493,  ..., -0.0008, -0.0295, -0.0368],\n",
      "        ...,\n",
      "        [ 0.0114, -0.0140, -0.0509,  ...,  0.0261, -0.0265,  0.0140],\n",
      "        [-0.0343,  0.0282,  0.0032,  ..., -0.0106, -0.0366,  0.0142],\n",
      "        [ 0.0125,  0.0083, -0.0296,  ..., -0.0146, -0.0583, -0.0032]],\n",
      "       requires_grad=True)\n",
      "Parameter containing:\n",
      "tensor([-0.0476, -0.0148,  0.0512,  0.0416,  0.0530,  0.0072, -0.0474, -0.0489,\n",
      "         0.0225, -0.0314, -0.0323,  0.0301,  0.0130,  0.0260,  0.0441, -0.0124,\n",
      "        -0.0601,  0.0129, -0.0016,  0.0038, -0.0181,  0.0366,  0.0448,  0.0621,\n",
      "         0.0518,  0.0594, -0.0210, -0.0364, -0.0579,  0.0325, -0.0279, -0.0084,\n",
      "        -0.0103, -0.0271, -0.0072, -0.0612,  0.0071, -0.0303, -0.0525, -0.0135,\n",
      "         0.0093,  0.0174, -0.0158,  0.0348, -0.0456, -0.0329, -0.0248,  0.0438,\n",
      "         0.0427,  0.0321,  0.0221, -0.0451,  0.0543,  0.0129,  0.0259,  0.0521,\n",
      "         0.0394,  0.0121, -0.0400, -0.0576, -0.0380, -0.0125, -0.0071, -0.0188,\n",
      "        -0.0002,  0.0199, -0.0095, -0.0382, -0.0172, -0.0578, -0.0177,  0.0504,\n",
      "        -0.0028, -0.0253, -0.0111,  0.0183, -0.0488,  0.0052,  0.0114, -0.0589,\n",
      "        -0.0220,  0.0295,  0.0213,  0.0474,  0.0115, -0.0463, -0.0376,  0.0086,\n",
      "         0.0218, -0.0481, -0.0573, -0.0203,  0.0347, -0.0533,  0.0229, -0.0570,\n",
      "        -0.0483, -0.0347,  0.0070,  0.0084, -0.0029,  0.0333,  0.0609,  0.0394,\n",
      "        -0.0226, -0.0112,  0.0601, -0.0404, -0.0285, -0.0380, -0.0500,  0.0378,\n",
      "        -0.0361,  0.0278,  0.0430,  0.0103,  0.0621, -0.0306, -0.0366,  0.0025,\n",
      "         0.0106, -0.0289,  0.0482, -0.0464,  0.0235,  0.0399, -0.0583, -0.0063],\n",
      "       requires_grad=True)\n",
      "Parameter containing:\n",
      "tensor([[ 0.0877, -0.0783, -0.0095,  ...,  0.0538, -0.0585, -0.0442],\n",
      "        [ 0.0854,  0.0698, -0.0586,  ...,  0.0252, -0.0396,  0.0406],\n",
      "        [-0.0731,  0.0386,  0.0479,  ...,  0.0427, -0.0200,  0.0372],\n",
      "        ...,\n",
      "        [ 0.0730,  0.0261,  0.0436,  ..., -0.0713, -0.0519,  0.0535],\n",
      "        [ 0.0655,  0.0553, -0.0318,  ...,  0.0710, -0.0295, -0.0340],\n",
      "        [ 0.0041, -0.0698, -0.0756,  ...,  0.0584, -0.0495, -0.0852]],\n",
      "       requires_grad=True)\n",
      "Parameter containing:\n",
      "tensor([ 0.0569, -0.0205,  0.0371,  ..., -0.0029,  0.0339, -0.0278],\n",
      "       requires_grad=True)\n",
      "Parameter containing:\n",
      "tensor([[ 0.0396, -0.0498, -0.0195,  ..., -0.0704,  0.0675,  0.0677],\n",
      "        [ 0.0863,  0.0241, -0.0194,  ...,  0.0787, -0.0551,  0.0320],\n",
      "        [-0.0083, -0.0566, -0.0747,  ...,  0.0069, -0.0854, -0.0678],\n",
      "        ...,\n",
      "        [-0.0093,  0.0382,  0.0708,  ...,  0.0492, -0.0821, -0.0356],\n",
      "        [-0.0582,  0.0236, -0.0262,  ...,  0.0406, -0.0406, -0.0672],\n",
      "        [-0.0354,  0.0438,  0.0820,  ..., -0.0830,  0.0494, -0.0312]],\n",
      "       requires_grad=True)\n",
      "Parameter containing:\n",
      "tensor([-0.0100,  0.0444, -0.0182,  ..., -0.0502, -0.0399,  0.0844],\n",
      "       requires_grad=True)\n",
      "Parameter containing:\n",
      "tensor([[ 0.0454,  0.0021, -0.0206,  ...,  0.0048, -0.0039,  0.0710],\n",
      "        [ 0.0550, -0.0763, -0.0194,  ...,  0.0278,  0.0742, -0.0218],\n",
      "        [-0.0334,  0.0708,  0.0143,  ..., -0.0126,  0.0859, -0.0862],\n",
      "        ...,\n",
      "        [-0.0384, -0.0227,  0.0298,  ..., -0.0834, -0.0191,  0.0654],\n",
      "        [-0.0204,  0.0639,  0.0785,  ..., -0.0683, -0.0464, -0.0023],\n",
      "        [-0.0388,  0.0119, -0.0831,  ...,  0.0777,  0.0602, -0.0756]],\n",
      "       requires_grad=True)\n",
      "Parameter containing:\n",
      "tensor([-0.0488, -0.0277, -0.0635,  ..., -0.0691,  0.0572,  0.0614],\n",
      "       requires_grad=True)\n",
      "Parameter containing:\n",
      "tensor([[-0.0295, -0.0097,  0.0201,  ..., -0.0069, -0.0248,  0.0198],\n",
      "        [ 0.0127,  0.0211,  0.0267,  ...,  0.0288, -0.0087, -0.0221],\n",
      "        [ 0.0009,  0.0090,  0.0050,  ...,  0.0002, -0.0210, -0.0009],\n",
      "        ...,\n",
      "        [-0.0175, -0.0011,  0.0294,  ..., -0.0257,  0.0289,  0.0147],\n",
      "        [ 0.0213,  0.0129,  0.0238,  ...,  0.0238,  0.0017,  0.0220],\n",
      "        [-0.0169, -0.0098, -0.0012,  ..., -0.0267, -0.0067,  0.0236]],\n",
      "       requires_grad=True)\n",
      "Parameter containing:\n",
      "tensor([-0.0106,  0.0132,  0.0296, -0.0191,  0.0007, -0.0054,  0.0011,  0.0176,\n",
      "         0.0278,  0.0095, -0.0154, -0.0202,  0.0034,  0.0114, -0.0118,  0.0145,\n",
      "        -0.0029,  0.0026, -0.0252,  0.0096,  0.0177, -0.0264, -0.0161, -0.0285,\n",
      "         0.0092,  0.0113, -0.0053,  0.0157,  0.0065, -0.0193,  0.0152, -0.0119,\n",
      "         0.0201,  0.0252, -0.0127,  0.0148, -0.0252, -0.0221,  0.0312, -0.0265,\n",
      "        -0.0268,  0.0040, -0.0184,  0.0219,  0.0112,  0.0270, -0.0293,  0.0070,\n",
      "        -0.0206,  0.0252,  0.0032,  0.0166, -0.0081,  0.0253,  0.0306,  0.0184,\n",
      "        -0.0030,  0.0107, -0.0074,  0.0037, -0.0295,  0.0011,  0.0178, -0.0190,\n",
      "         0.0094,  0.0276,  0.0235,  0.0224, -0.0152, -0.0037,  0.0162, -0.0090,\n",
      "         0.0262,  0.0166,  0.0017,  0.0075, -0.0205, -0.0159,  0.0129,  0.0249,\n",
      "        -0.0097,  0.0094, -0.0116, -0.0267,  0.0078, -0.0075,  0.0282, -0.0270,\n",
      "         0.0294, -0.0247,  0.0137,  0.0072,  0.0093,  0.0045, -0.0135, -0.0271,\n",
      "        -0.0242, -0.0040, -0.0299, -0.0108, -0.0299, -0.0137,  0.0310, -0.0274,\n",
      "         0.0174, -0.0110, -0.0129,  0.0197,  0.0245,  0.0033,  0.0047, -0.0050,\n",
      "         0.0141,  0.0048,  0.0134, -0.0308, -0.0082,  0.0279,  0.0101,  0.0295,\n",
      "         0.0048, -0.0169, -0.0250,  0.0258, -0.0286, -0.0167, -0.0196,  0.0002],\n",
      "       requires_grad=True)\n",
      "Parameter containing:\n",
      "tensor([1., 1., 1., 1., 1., 1., 1., 1., 1., 1., 1., 1., 1., 1., 1., 1., 1., 1.,\n",
      "        1., 1., 1., 1., 1., 1., 1., 1., 1., 1., 1., 1., 1., 1., 1., 1., 1., 1.,\n",
      "        1., 1., 1., 1., 1., 1., 1., 1., 1., 1., 1., 1., 1., 1., 1., 1., 1., 1.,\n",
      "        1., 1., 1., 1., 1., 1., 1., 1., 1., 1., 1., 1., 1., 1., 1., 1., 1., 1.,\n",
      "        1., 1., 1., 1., 1., 1., 1., 1., 1., 1., 1., 1., 1., 1., 1., 1., 1., 1.,\n",
      "        1., 1., 1., 1., 1., 1., 1., 1., 1., 1., 1., 1., 1., 1., 1., 1., 1., 1.,\n",
      "        1., 1., 1., 1., 1., 1., 1., 1., 1., 1., 1., 1., 1., 1., 1., 1., 1., 1.,\n",
      "        1., 1.], requires_grad=True)\n",
      "Parameter containing:\n",
      "tensor([0., 0., 0., 0., 0., 0., 0., 0., 0., 0., 0., 0., 0., 0., 0., 0., 0., 0., 0., 0., 0., 0., 0., 0.,\n",
      "        0., 0., 0., 0., 0., 0., 0., 0., 0., 0., 0., 0., 0., 0., 0., 0., 0., 0., 0., 0., 0., 0., 0., 0.,\n",
      "        0., 0., 0., 0., 0., 0., 0., 0., 0., 0., 0., 0., 0., 0., 0., 0., 0., 0., 0., 0., 0., 0., 0., 0.,\n",
      "        0., 0., 0., 0., 0., 0., 0., 0., 0., 0., 0., 0., 0., 0., 0., 0., 0., 0., 0., 0., 0., 0., 0., 0.,\n",
      "        0., 0., 0., 0., 0., 0., 0., 0., 0., 0., 0., 0., 0., 0., 0., 0., 0., 0., 0., 0., 0., 0., 0., 0.,\n",
      "        0., 0., 0., 0., 0., 0., 0., 0.], requires_grad=True)\n",
      "Parameter containing:\n",
      "tensor([[-0.0742,  0.0732,  0.0694,  ..., -0.0714, -0.0354,  0.0085],\n",
      "        [ 0.0361, -0.0398,  0.0703,  ...,  0.0841, -0.0713, -0.0507],\n",
      "        [ 0.0380,  0.0670,  0.0847,  ..., -0.0813, -0.0187,  0.0518],\n",
      "        ...,\n",
      "        [ 0.0544,  0.0166,  0.0204,  ...,  0.0100, -0.0204, -0.0034],\n",
      "        [-0.0349, -0.0492, -0.0284,  ...,  0.0577, -0.0201,  0.0152],\n",
      "        [-0.0663, -0.0579,  0.0351,  ..., -0.0110,  0.0597, -0.0848]],\n",
      "       requires_grad=True)\n",
      "Parameter containing:\n",
      "tensor([ 0.0322, -0.0326,  0.0718,  0.0517,  0.0488, -0.0791,  0.0601, -0.0680,\n",
      "        -0.0404, -0.0105, -0.0873,  0.0863,  0.0604, -0.0644,  0.0777, -0.0340,\n",
      "         0.0267, -0.0517, -0.0875,  0.0830, -0.0565, -0.0066,  0.0751,  0.0355,\n",
      "        -0.0211, -0.0406, -0.0121,  0.0308,  0.0687,  0.0126,  0.0826,  0.0649,\n",
      "        -0.0351, -0.0539, -0.0232, -0.0468,  0.0661, -0.0708,  0.0240,  0.0311,\n",
      "        -0.0166,  0.0098, -0.0747, -0.0713, -0.0649,  0.0799, -0.0065,  0.0154,\n",
      "        -0.0273,  0.0265,  0.0168,  0.0478, -0.0113, -0.0740, -0.0038, -0.0646,\n",
      "        -0.0019,  0.0392, -0.0037,  0.0597, -0.0673, -0.0106,  0.0840, -0.0344,\n",
      "         0.0790, -0.0856,  0.0733,  0.0470,  0.0669,  0.0619, -0.0748, -0.0565,\n",
      "         0.0126,  0.0646, -0.0675, -0.0078,  0.0048,  0.0612,  0.0670, -0.0731,\n",
      "         0.0569, -0.0431, -0.0811, -0.0648, -0.0100,  0.0333, -0.0543, -0.0169,\n",
      "        -0.0365,  0.0593,  0.0521, -0.0107,  0.0576, -0.0630, -0.0021, -0.0343,\n",
      "        -0.0265, -0.0067,  0.0735, -0.0584, -0.0629, -0.0326, -0.0389,  0.0463,\n",
      "         0.0743, -0.0791, -0.0032,  0.0521, -0.0782,  0.0848,  0.0116,  0.0318,\n",
      "        -0.0800,  0.0320,  0.0733, -0.0180, -0.0757, -0.0261, -0.0355, -0.0343,\n",
      "        -0.0245,  0.0818,  0.0200,  0.0120,  0.0798, -0.0815,  0.0673, -0.0278],\n",
      "       requires_grad=True)\n",
      "Parameter containing:\n",
      "tensor([[ 0.0488,  0.0657,  0.0710,  ...,  0.0542, -0.0043, -0.0154],\n",
      "        [ 0.0437,  0.0435, -0.0875,  ...,  0.0238, -0.0026, -0.0431],\n",
      "        [-0.0873,  0.0775, -0.0800,  ..., -0.0011, -0.0806, -0.0568],\n",
      "        ...,\n",
      "        [-0.0446,  0.0584, -0.0459,  ...,  0.0111,  0.0274,  0.0214],\n",
      "        [-0.0252,  0.0389, -0.0427,  ...,  0.0794,  0.0407,  0.0558],\n",
      "        [-0.0206, -0.0413, -0.0720,  ...,  0.0486,  0.0316, -0.0035]],\n",
      "       requires_grad=True)\n",
      "Parameter containing:\n",
      "tensor([-0.0391, -0.0378,  0.0428,  ..., -0.0332, -0.0460,  0.0551],\n",
      "       requires_grad=True)\n",
      "Parameter containing:\n",
      "tensor([[ 0.0101,  0.0584, -0.0200,  ...,  0.0330,  0.0648,  0.0427],\n",
      "        [ 0.0274,  0.0562, -0.0408,  ..., -0.0552,  0.0795, -0.0405],\n",
      "        [-0.0101, -0.0033,  0.0456,  ...,  0.0854,  0.0113,  0.0821],\n",
      "        ...,\n",
      "        [ 0.0414, -0.0419, -0.0713,  ..., -0.0102,  0.0817, -0.0372],\n",
      "        [-0.0091, -0.0765,  0.0113,  ..., -0.0659,  0.0011,  0.0341],\n",
      "        [-0.0381, -0.0743, -0.0821,  ...,  0.0619,  0.0134,  0.0260]],\n",
      "       requires_grad=True)\n",
      "Parameter containing:\n",
      "tensor([ 0.0260,  0.0778, -0.0237,  ..., -0.0507,  0.0582, -0.0541],\n",
      "       requires_grad=True)\n",
      "Parameter containing:\n",
      "tensor([[ 0.0222,  0.0425,  0.0360,  ..., -0.0201,  0.0285, -0.0456],\n",
      "        [ 0.0190, -0.0423,  0.0408,  ...,  0.0827, -0.0238,  0.0785],\n",
      "        [ 0.0366,  0.0473, -0.0229,  ..., -0.0646,  0.0005, -0.0178],\n",
      "        ...,\n",
      "        [ 0.0563,  0.0780,  0.0123,  ...,  0.0721, -0.0115,  0.0535],\n",
      "        [ 0.0055, -0.0228,  0.0433,  ..., -0.0657,  0.0013,  0.0038],\n",
      "        [ 0.0470,  0.0458,  0.0824,  ..., -0.0008,  0.0464, -0.0248]],\n",
      "       requires_grad=True)\n",
      "Parameter containing:\n",
      "tensor([ 0.0878,  0.0104,  0.0082,  ...,  0.0367, -0.0347,  0.0151],\n",
      "       requires_grad=True)\n",
      "Parameter containing:\n",
      "tensor([[ 0.0048, -0.0063, -0.0250,  ...,  0.0241,  0.0106, -0.0216],\n",
      "        [-0.0284,  0.0181,  0.0013,  ..., -0.0048, -0.0045,  0.0093],\n",
      "        [ 0.0256,  0.0256,  0.0086,  ..., -0.0243, -0.0236, -0.0117],\n",
      "        ...,\n",
      "        [-0.0045,  0.0176, -0.0252,  ..., -0.0259, -0.0036, -0.0201],\n",
      "        [-0.0160, -0.0201,  0.0047,  ..., -0.0058, -0.0043,  0.0037],\n",
      "        [ 0.0181,  0.0092,  0.0133,  ..., -0.0192,  0.0246, -0.0167]],\n",
      "       requires_grad=True)\n",
      "Parameter containing:\n",
      "tensor([ 2.8884e-02, -3.0368e-02, -2.6822e-02,  1.0248e-02, -1.8538e-02,\n",
      "        -1.3720e-02,  2.0022e-03, -2.8400e-02, -1.5795e-02, -7.3414e-05,\n",
      "         2.6904e-02,  5.6352e-03, -2.9723e-02, -2.0592e-02,  1.3991e-02,\n",
      "        -7.1788e-03,  5.7974e-03,  1.7582e-02, -1.1169e-02,  2.2953e-02,\n",
      "        -5.8200e-04, -1.6721e-02,  1.4729e-02,  1.2163e-02,  5.4172e-03,\n",
      "         1.5508e-02,  9.6200e-03,  4.1053e-03, -1.1119e-02,  1.0968e-02,\n",
      "        -2.6612e-02, -8.2264e-03, -2.3305e-02, -9.7992e-04, -1.5698e-02,\n",
      "         2.6311e-02, -4.6062e-03,  8.9780e-03,  2.1235e-02, -2.5424e-02,\n",
      "         1.5719e-02,  3.0545e-02, -2.6894e-02, -5.2829e-03,  2.3688e-02,\n",
      "         1.4782e-02,  2.6027e-02, -2.6027e-02, -1.4395e-02,  1.9341e-02,\n",
      "        -1.7326e-02, -2.1668e-02,  1.3376e-02, -1.8489e-02, -2.5145e-02,\n",
      "        -2.5602e-02,  3.7730e-03,  5.9973e-03, -1.1909e-02,  1.9223e-02,\n",
      "         5.2569e-03,  1.2812e-02,  1.8987e-02, -1.1194e-03, -2.8810e-02,\n",
      "         1.4954e-02, -2.2779e-02,  2.1713e-02,  1.3958e-02, -2.1189e-02,\n",
      "         1.6442e-02,  1.9167e-02,  2.1260e-02, -1.2322e-02, -8.5595e-03,\n",
      "         4.1168e-03,  2.2378e-02, -2.0375e-02, -3.5785e-03, -5.2041e-03,\n",
      "         1.0112e-02,  6.4372e-03, -2.9058e-02,  1.1172e-02, -4.6403e-03,\n",
      "        -2.0955e-02,  1.9809e-02, -3.8478e-03, -2.6859e-02,  3.9324e-03,\n",
      "        -2.4055e-02,  1.5424e-03,  5.8696e-03,  7.0638e-04,  2.4993e-02,\n",
      "         1.6895e-02,  2.4853e-02, -8.0678e-03, -3.0857e-02,  5.5326e-03,\n",
      "         7.0872e-03,  1.2426e-02, -1.5014e-02,  6.3770e-03, -1.4663e-03,\n",
      "        -9.1833e-03, -6.2727e-03,  2.8414e-02,  1.1365e-02,  1.7741e-03,\n",
      "        -1.9914e-02,  1.1190e-02, -2.2292e-02, -1.5083e-02,  2.3471e-02,\n",
      "         3.0043e-02, -2.0279e-02, -1.4155e-02, -2.2188e-02, -7.1446e-03,\n",
      "        -6.6642e-03,  4.2137e-03,  2.4961e-02, -2.9602e-02,  1.1568e-02,\n",
      "         2.2179e-02,  1.1935e-02, -8.7686e-03], requires_grad=True)\n",
      "Parameter containing:\n",
      "tensor([1., 1., 1., 1., 1., 1., 1., 1., 1., 1., 1., 1., 1., 1., 1., 1., 1., 1.,\n",
      "        1., 1., 1., 1., 1., 1., 1., 1., 1., 1., 1., 1., 1., 1., 1., 1., 1., 1.,\n",
      "        1., 1., 1., 1., 1., 1., 1., 1., 1., 1., 1., 1., 1., 1., 1., 1., 1., 1.,\n",
      "        1., 1., 1., 1., 1., 1., 1., 1., 1., 1., 1., 1., 1., 1., 1., 1., 1., 1.,\n",
      "        1., 1., 1., 1., 1., 1., 1., 1., 1., 1., 1., 1., 1., 1., 1., 1., 1., 1.,\n",
      "        1., 1., 1., 1., 1., 1., 1., 1., 1., 1., 1., 1., 1., 1., 1., 1., 1., 1.,\n",
      "        1., 1., 1., 1., 1., 1., 1., 1., 1., 1., 1., 1., 1., 1., 1., 1., 1., 1.,\n",
      "        1., 1.], requires_grad=True)\n",
      "Parameter containing:\n",
      "tensor([0., 0., 0., 0., 0., 0., 0., 0., 0., 0., 0., 0., 0., 0., 0., 0., 0., 0., 0., 0., 0., 0., 0., 0.,\n",
      "        0., 0., 0., 0., 0., 0., 0., 0., 0., 0., 0., 0., 0., 0., 0., 0., 0., 0., 0., 0., 0., 0., 0., 0.,\n",
      "        0., 0., 0., 0., 0., 0., 0., 0., 0., 0., 0., 0., 0., 0., 0., 0., 0., 0., 0., 0., 0., 0., 0., 0.,\n",
      "        0., 0., 0., 0., 0., 0., 0., 0., 0., 0., 0., 0., 0., 0., 0., 0., 0., 0., 0., 0., 0., 0., 0., 0.,\n",
      "        0., 0., 0., 0., 0., 0., 0., 0., 0., 0., 0., 0., 0., 0., 0., 0., 0., 0., 0., 0., 0., 0., 0., 0.,\n",
      "        0., 0., 0., 0., 0., 0., 0., 0.], requires_grad=True)\n",
      "Parameter containing:\n",
      "tensor([[ 0.0323, -0.0331, -0.0848,  ..., -0.0075,  0.0713, -0.0342],\n",
      "        [ 0.0017, -0.0189, -0.0683,  ..., -0.0732, -0.0698, -0.0630],\n",
      "        [-0.0153,  0.0319, -0.0411,  ..., -0.0156, -0.0712, -0.0129],\n",
      "        ...,\n",
      "        [-0.0086, -0.0605,  0.0110,  ..., -0.0386,  0.0773, -0.0217],\n",
      "        [-0.0208,  0.0645, -0.0562,  ...,  0.0339, -0.0569, -0.0447],\n",
      "        [-0.0742, -0.0185, -0.0366,  ..., -0.0518, -0.0306, -0.0056]],\n",
      "       requires_grad=True)\n",
      "Parameter containing:\n",
      "tensor([-0.0218,  0.0022,  0.0547,  0.0013,  0.0291,  0.0542, -0.0854,  0.0344,\n",
      "        -0.0100, -0.0413,  0.0411, -0.0602, -0.0744, -0.0458,  0.0271, -0.0616,\n",
      "         0.0444,  0.0403,  0.0799,  0.0024, -0.0383,  0.0775, -0.0673, -0.0542,\n",
      "        -0.0130,  0.0714,  0.0375,  0.0430,  0.0098,  0.0108, -0.0292,  0.0829,\n",
      "         0.0552, -0.0870, -0.0602,  0.0519,  0.0079,  0.0708, -0.0359, -0.0157,\n",
      "        -0.0377, -0.0753,  0.0834, -0.0403,  0.0195, -0.0394, -0.0157, -0.0186,\n",
      "         0.0241, -0.0855, -0.0685, -0.0451, -0.0774, -0.0341, -0.0852,  0.0774,\n",
      "         0.0469,  0.0033,  0.0818, -0.0333, -0.0092,  0.0179, -0.0708,  0.0351,\n",
      "         0.0581,  0.0307, -0.0042,  0.0783, -0.0249,  0.0450,  0.0260, -0.0630,\n",
      "         0.0110,  0.0731,  0.0240,  0.0323, -0.0338, -0.0363,  0.0009,  0.0013,\n",
      "         0.0665,  0.0170,  0.0463,  0.0129,  0.0845, -0.0260,  0.0739, -0.0461,\n",
      "         0.0077, -0.0489,  0.0423, -0.0012, -0.0278, -0.0082, -0.0399,  0.0518,\n",
      "        -0.0188, -0.0155, -0.0139,  0.0557,  0.0410,  0.0413, -0.0135, -0.0591,\n",
      "        -0.0348, -0.0017,  0.0568, -0.0196, -0.0457,  0.0040, -0.0086,  0.0548,\n",
      "        -0.0718,  0.0345,  0.0815,  0.0698, -0.0742, -0.0049,  0.0667,  0.0386,\n",
      "        -0.0024,  0.0232,  0.0443,  0.0231,  0.0353, -0.0433, -0.0032, -0.0471],\n",
      "       requires_grad=True)\n",
      "Parameter containing:\n",
      "tensor([[-0.0037, -0.0153, -0.0611,  ..., -0.0088, -0.0053,  0.0333],\n",
      "        [ 0.0727,  0.0088, -0.0454,  ...,  0.0515,  0.0233,  0.0468],\n",
      "        [-0.0815, -0.0346, -0.0665,  ..., -0.0576,  0.0726, -0.0229],\n",
      "        ...,\n",
      "        [ 0.0800, -0.0331,  0.0575,  ...,  0.0698, -0.0654, -0.0492],\n",
      "        [ 0.0452, -0.0793,  0.0322,  ..., -0.0405, -0.0404, -0.0452],\n",
      "        [-0.0409, -0.0328, -0.0200,  ..., -0.0458,  0.0735,  0.0468]],\n",
      "       requires_grad=True)\n",
      "Parameter containing:\n",
      "tensor([ 0.0301, -0.0491,  0.0009, -0.0105,  0.0172, -0.0821, -0.0217,  0.0407,\n",
      "        -0.0448,  0.0866,  0.0415,  0.0715, -0.0718,  0.0212, -0.0735,  0.0222,\n",
      "        -0.0488,  0.0795,  0.0762,  0.0415,  0.0721, -0.0672],\n",
      "       requires_grad=True)\n"
     ]
    }
   ],
   "source": [
    "for parameter in cat_diff.parameters():\n",
    "    print(parameter)"
   ]
  },
  {
   "cell_type": "code",
   "execution_count": 98,
   "id": "b8a4cfb9-b98c-4de0-9a17-e3ef639f4bda",
   "metadata": {},
   "outputs": [
    {
     "data": {
      "text/plain": [
       "torch.Size([100, 32, 59, 22])"
      ]
     },
     "execution_count": 98,
     "metadata": {},
     "output_type": "execute_result"
    }
   ],
   "source": [
    "noised_samples.shape"
   ]
  },
  {
   "cell_type": "code",
   "execution_count": 102,
   "id": "8c7d6b68-3151-4523-977a-94c3661ec4f4",
   "metadata": {},
   "outputs": [],
   "source": [
    "y_pred_reshaped = y_pred.view(noised_samples.shape)"
   ]
  },
  {
   "cell_type": "code",
   "execution_count": 120,
   "id": "ebde4ad3-1401-4104-a239-666036fe0020",
   "metadata": {},
   "outputs": [
    {
     "data": {
      "text/plain": [
       "tensor(True)"
      ]
     },
     "execution_count": 120,
     "metadata": {},
     "output_type": "execute_result"
    }
   ],
   "source": [
    "(y_pred_reshaped[2][0] == y_pred[64]).all()"
   ]
  },
  {
   "cell_type": "code",
   "execution_count": 123,
   "id": "802d72a5-1f30-468e-b6a6-9751c1348398",
   "metadata": {},
   "outputs": [
    {
     "data": {
      "text/plain": [
       "tensor(True)"
      ]
     },
     "execution_count": 123,
     "metadata": {},
     "output_type": "execute_result"
    }
   ],
   "source": [
    "(noised_samples[2][0]==noised_samples_reshaped[64]).all()"
   ]
  },
  {
   "cell_type": "code",
   "execution_count": 125,
   "id": "2ca16017-6ad0-4220-8f27-b52edeab3c04",
   "metadata": {},
   "outputs": [],
   "source": [
    "new_test = y_pred_reshaped[2]"
   ]
  },
  {
   "cell_type": "code",
   "execution_count": 129,
   "id": "781875c7-777d-4c90-a079-72c3a19c8c0a",
   "metadata": {},
   "outputs": [
    {
     "data": {
      "text/plain": [
       "tensor([[[0.0000, 0.0000, 0.0000,  ..., 0.0000, 0.0000, 0.0000],\n",
       "         [0.0000, 0.0000, 0.0000,  ..., 0.0000, 0.0000, 0.0000],\n",
       "         [0.0000, 0.0000, 0.0000,  ..., 0.0000, 0.0000, 0.0000],\n",
       "         ...,\n",
       "         [0.0000, 0.0000, 0.0000,  ..., 0.0000, 0.0000, 0.0000],\n",
       "         [0.0000, 0.0000, 0.0000,  ..., 0.0000, 0.0000, 0.0000],\n",
       "         [0.0000, 0.0000, 0.0000,  ..., 0.0000, 0.0000, 0.0000]],\n",
       "\n",
       "        [[0.0000, 0.0000, 0.0000,  ..., 0.0000, 0.0000, 0.0000],\n",
       "         [0.0000, 0.0000, 0.0000,  ..., 0.0000, 0.0000, 0.0000],\n",
       "         [0.0000, 0.0000, 0.0000,  ..., 0.0000, 0.0000, 0.0000],\n",
       "         ...,\n",
       "         [0.0000, 0.0000, 0.0000,  ..., 0.0000, 0.0000, 0.0000],\n",
       "         [0.0000, 0.0000, 0.0000,  ..., 0.0000, 0.0000, 0.0000],\n",
       "         [0.0000, 0.0000, 0.0000,  ..., 0.0000, 0.0000, 0.0000]],\n",
       "\n",
       "        [[0.0000, 0.0000, 0.0000,  ..., 0.0409, 0.0000, 0.0000],\n",
       "         [0.0000, 0.0000, 0.0000,  ..., 0.0000, 0.0000, 0.0000],\n",
       "         [0.0000, 0.0000, 0.0000,  ..., 0.0415, 0.0000, 0.0000],\n",
       "         ...,\n",
       "         [0.0000, 0.0000, 0.0000,  ..., 0.0408, 0.0000, 0.0000],\n",
       "         [0.0000, 0.0000, 0.0000,  ..., 0.0000, 0.0000, 0.0000],\n",
       "         [0.0000, 0.0000, 0.0000,  ..., 0.0000, 0.0000, 0.0000]],\n",
       "\n",
       "        ...,\n",
       "\n",
       "        [[0.0000, 0.0406, 0.0000,  ..., 0.0000, 0.0000, 0.0000],\n",
       "         [0.0000, 0.0000, 0.0000,  ..., 0.0422, 0.0000, 0.0000],\n",
       "         [0.0000, 0.0414, 0.0000,  ..., 0.0000, 0.0000, 0.0000],\n",
       "         ...,\n",
       "         [0.0000, 0.0000, 0.0000,  ..., 0.0000, 0.0000, 0.0000],\n",
       "         [0.0000, 0.0000, 0.0000,  ..., 0.0000, 0.0000, 0.0000],\n",
       "         [0.0000, 0.0000, 0.0000,  ..., 0.0000, 0.0000, 0.0000]],\n",
       "\n",
       "        [[0.0000, 0.0000, 0.0000,  ..., 0.0000, 0.0000, 0.0000],\n",
       "         [0.0000, 0.0000, 0.0000,  ..., 0.0000, 0.0000, 0.0000],\n",
       "         [0.0000, 0.0000, 0.0000,  ..., 0.0000, 0.0000, 0.0000],\n",
       "         ...,\n",
       "         [0.0000, 0.0000, 0.0000,  ..., 0.0000, 0.0000, 0.0000],\n",
       "         [0.0000, 0.0000, 0.0000,  ..., 0.0000, 0.0000, 0.0000],\n",
       "         [0.0000, 0.0000, 0.0000,  ..., 0.0000, 0.0000, 0.0000]],\n",
       "\n",
       "        [[0.0000, 0.0000, 0.0000,  ..., 0.0000, 0.0000, 0.0000],\n",
       "         [0.0000, 0.0000, 0.0000,  ..., 0.0000, 0.0000, 0.0000],\n",
       "         [0.0000, 0.0000, 0.0000,  ..., 0.0000, 0.0000, 0.0000],\n",
       "         ...,\n",
       "         [0.0000, 0.0000, 0.0000,  ..., 0.0432, 0.0000, 0.0000],\n",
       "         [0.0000, 0.0000, 0.0000,  ..., 0.0000, 0.0416, 0.0000],\n",
       "         [0.0000, 0.0000, 0.0000,  ..., 0.0000, 0.0461, 0.0000]]],\n",
       "       grad_fn=<MulBackward0>)"
      ]
     },
     "execution_count": 129,
     "metadata": {},
     "output_type": "execute_result"
    }
   ],
   "source": [
    "(new_test * noised_samples[0])"
   ]
  },
  {
   "cell_type": "code",
   "execution_count": 94,
   "id": "3b3d4d74-f9d4-4670-bdd3-7134af6a84eb",
   "metadata": {},
   "outputs": [
    {
     "data": {
      "text/plain": [
       "tensor([1.0826, 1.2775, 0.1294, 1.0052, 0.5819, 0.8000, 0.4890, 0.0455])"
      ]
     },
     "execution_count": 94,
     "metadata": {},
     "output_type": "execute_result"
    }
   ],
   "source": [
    "test[test>0]"
   ]
  },
  {
   "cell_type": "code",
   "execution_count": 58,
   "id": "83f9b41c-fd54-475a-b936-e15744b7f347",
   "metadata": {},
   "outputs": [
    {
     "data": {
      "text/plain": [
       "tensor([[[0.0000, 0.0000, 0.0000,  ..., 0.0000, 0.0000, 0.0297],\n",
       "         [0.0000, 0.0000, 0.0000,  ..., 0.0000, 0.0000, 0.0297],\n",
       "         [0.0000, 0.0000, 0.0000,  ..., 0.0000, 0.0000, 0.0297],\n",
       "         ...,\n",
       "         [0.0000, 0.0000, 0.0000,  ..., 0.0000, 0.0000, 0.0297],\n",
       "         [0.0000, 0.0000, 0.0000,  ..., 0.0000, 0.0000, 0.0297],\n",
       "         [0.0000, 0.0000, 0.0000,  ..., 0.0000, 0.0000, 0.0297]],\n",
       "\n",
       "        [[0.0000, 0.0000, 0.0000,  ..., 0.0000, 0.0000, 0.0297],\n",
       "         [0.0000, 0.0000, 0.0000,  ..., 0.0000, 0.0000, 0.0297],\n",
       "         [0.0000, 0.0000, 0.0000,  ..., 0.0000, 0.0000, 0.0297],\n",
       "         ...,\n",
       "         [0.0000, 0.0000, 0.0000,  ..., 0.0000, 0.0000, 0.0297],\n",
       "         [0.0000, 0.0000, 0.0000,  ..., 0.0000, 0.0000, 0.0297],\n",
       "         [0.0000, 0.0000, 0.0000,  ..., 0.0000, 0.0000, 0.0297]],\n",
       "\n",
       "        [[0.0000, 0.0000, 0.0000,  ..., 0.9703, 0.0000, 0.0297],\n",
       "         [0.0000, 0.0000, 0.0000,  ..., 0.0000, 0.0000, 0.0297],\n",
       "         [0.0000, 0.0000, 0.0000,  ..., 0.9703, 0.0000, 0.0297],\n",
       "         ...,\n",
       "         [0.0000, 0.0000, 0.0000,  ..., 0.9703, 0.0000, 0.0297],\n",
       "         [0.0000, 0.0000, 0.0000,  ..., 0.0000, 0.0000, 0.0297],\n",
       "         [0.0000, 0.0000, 0.0000,  ..., 0.0000, 0.0000, 0.0297]],\n",
       "\n",
       "        ...,\n",
       "\n",
       "        [[0.0000, 0.9703, 0.0000,  ..., 0.0000, 0.0000, 0.0297],\n",
       "         [0.0000, 0.0000, 0.0000,  ..., 0.9703, 0.0000, 0.0297],\n",
       "         [0.0000, 0.9703, 0.0000,  ..., 0.0000, 0.0000, 0.0297],\n",
       "         ...,\n",
       "         [0.0000, 0.0000, 0.0000,  ..., 0.0000, 0.0000, 0.0297],\n",
       "         [0.0000, 0.0000, 0.0000,  ..., 0.0000, 0.0000, 0.0297],\n",
       "         [0.0000, 0.0000, 0.0000,  ..., 0.0000, 0.0000, 0.0297]],\n",
       "\n",
       "        [[0.0000, 0.0000, 0.0000,  ..., 0.0000, 0.0000, 0.0297],\n",
       "         [0.0000, 0.0000, 0.0000,  ..., 0.0000, 0.0000, 0.0297],\n",
       "         [0.0000, 0.0000, 0.0000,  ..., 0.0000, 0.0000, 0.0297],\n",
       "         ...,\n",
       "         [0.0000, 0.0000, 0.0000,  ..., 0.0000, 0.0000, 0.0297],\n",
       "         [0.0000, 0.0000, 0.0000,  ..., 0.0000, 0.0000, 0.0297],\n",
       "         [0.0000, 0.0000, 0.0000,  ..., 0.0000, 0.0000, 0.0297]],\n",
       "\n",
       "        [[0.0000, 0.0000, 0.0000,  ..., 0.0000, 0.0000, 0.0297],\n",
       "         [0.0000, 0.0000, 0.0000,  ..., 0.0000, 0.0000, 0.0297],\n",
       "         [0.0000, 0.0000, 0.0000,  ..., 0.0000, 0.0000, 0.0297],\n",
       "         ...,\n",
       "         [0.0000, 0.0000, 0.0000,  ..., 0.9703, 0.0000, 0.0297],\n",
       "         [0.0000, 0.0000, 0.0000,  ..., 0.0000, 0.9703, 0.0297],\n",
       "         [0.0000, 0.0000, 0.0000,  ..., 0.0000, 0.9703, 0.0297]]])"
      ]
     },
     "execution_count": 58,
     "metadata": {},
     "output_type": "execute_result"
    }
   ],
   "source": [
    "torch.matmul(x0,noise_matrix.matrix_power(3))"
   ]
  },
  {
   "cell_type": "code",
   "execution_count": 39,
   "id": "6571ddb8-c3aa-4d20-a9ef-31cf8183d0c8",
   "metadata": {},
   "outputs": [],
   "source": [
    "reverse_marginals = torch.zeros(noised_samples.shape[0]-2, noised_samples.shape[1], noised_samples.shape[2], noised_samples.shape[3])"
   ]
  },
  {
   "cell_type": "code",
   "execution_count": 41,
   "id": "bb18f30c-2d04-47f3-a4b4-ab94a83a10b4",
   "metadata": {},
   "outputs": [],
   "source": [
    "for t in range(2, noised_samples.shape[0]):\n",
    "    xt = noised_samples[t]\n",
    "    x0 = noised_samples[0]\n",
    "\n",
    "    numer = torch.matmul(xt, noise_matrix.t()) * torch.matmul(x0, noise_matrix.matrix_power(t-1))\n",
    "    denom = torch.matmul(torch.matmul(x0, noise_matrix.matrix_power(t)), xt.permute(0,2,1))\n",
    "    denom = torch.diagonal(denom, dim1=-2, dim2=-1).unsqueeze(-1)\n",
    "    reverse_marginals[t-2] = numer/denom"
   ]
  },
  {
   "cell_type": "code",
   "execution_count": 63,
   "id": "06491486-2c02-42df-b345-f43b58df53e3",
   "metadata": {},
   "outputs": [
    {
     "data": {
      "text/plain": [
       "tensor([0., 0., 0., 0., 0., 0., 0., 0., 0., 0., 0., 0., 0., 0., 0., 0., 0., 0.,\n",
       "        0., 0., 0., 1.])"
      ]
     },
     "execution_count": 63,
     "metadata": {},
     "output_type": "execute_result"
    }
   ],
   "source": [
    "noised_samples[3][0][0]"
   ]
  },
  {
   "cell_type": "code",
   "execution_count": 86,
   "id": "805943ce-0805-4ad2-85df-533b7dd167b0",
   "metadata": {},
   "outputs": [],
   "source": [
    "test = reverse_marginals[1]"
   ]
  },
  {
   "cell_type": "code",
   "execution_count": 87,
   "id": "6b0be97c-3e78-45a8-9089-560180036387",
   "metadata": {},
   "outputs": [
    {
     "data": {
      "text/plain": [
       "tensor([[[0.0000, 0.0000, 0.0000,  ..., 0.0000, 0.0000, 0.6700],\n",
       "         [0.0000, 0.0000, 0.0000,  ..., 0.0000, 0.0000, 0.0000],\n",
       "         [0.0000, 0.0000, 0.0000,  ..., 0.0000, 0.0000, 0.0000],\n",
       "         ...,\n",
       "         [0.0000, 0.0000, 0.0000,  ..., 0.0000, 0.0000, 0.0000],\n",
       "         [0.0000, 0.0000, 0.0000,  ..., 0.0000, 0.0000, 0.0000],\n",
       "         [0.0000, 0.0000, 0.0000,  ..., 0.0000, 0.0000, 0.0000]],\n",
       "\n",
       "        [[0.0000, 0.0000, 0.0000,  ..., 0.0000, 0.0000, 0.0000],\n",
       "         [0.0000, 0.0000, 0.0000,  ..., 0.0000, 0.0000, 0.0000],\n",
       "         [0.0000, 0.0000, 0.0000,  ..., 0.0000, 0.0000, 0.0000],\n",
       "         ...,\n",
       "         [0.0000, 0.0000, 0.0000,  ..., 0.0000, 0.0000, 0.0000],\n",
       "         [0.0000, 0.0000, 0.0000,  ..., 0.0000, 0.0000, 0.0000],\n",
       "         [0.0000, 0.0000, 0.0000,  ..., 0.0000, 0.0000, 0.0000]],\n",
       "\n",
       "        [[0.0000, 0.0000, 0.0000,  ..., 1.0000, 0.0000, 0.0000],\n",
       "         [0.0000, 0.0000, 0.0000,  ..., 0.0000, 0.0000, 0.0000],\n",
       "         [0.0000, 0.0000, 0.0000,  ..., 1.0000, 0.0000, 0.0000],\n",
       "         ...,\n",
       "         [0.0000, 0.0000, 0.0000,  ..., 1.0000, 0.0000, 0.0000],\n",
       "         [0.0000, 0.0000, 0.0000,  ..., 0.0000, 0.0000, 0.0000],\n",
       "         [0.0000, 0.0000, 0.0000,  ..., 0.0000, 0.0000, 0.0000]],\n",
       "\n",
       "        ...,\n",
       "\n",
       "        [[0.0000, 1.0000, 0.0000,  ..., 0.0000, 0.0000, 0.0000],\n",
       "         [0.0000, 0.0000, 0.0000,  ..., 1.0000, 0.0000, 0.0000],\n",
       "         [0.0000, 1.0000, 0.0000,  ..., 0.0000, 0.0000, 0.0000],\n",
       "         ...,\n",
       "         [0.0000, 0.0000, 0.0000,  ..., 0.0000, 0.0000, 0.0000],\n",
       "         [0.0000, 0.0000, 0.0000,  ..., 0.0000, 0.0000, 0.0000],\n",
       "         [0.0000, 0.0000, 0.0000,  ..., 0.0000, 0.0000, 0.0000]],\n",
       "\n",
       "        [[0.0000, 0.0000, 0.0000,  ..., 0.0000, 0.0000, 0.0000],\n",
       "         [0.0000, 0.0000, 0.0000,  ..., 0.0000, 0.0000, 0.0000],\n",
       "         [0.0000, 0.0000, 0.0000,  ..., 0.0000, 0.0000, 0.0000],\n",
       "         ...,\n",
       "         [0.0000, 0.0000, 0.0000,  ..., 0.0000, 0.0000, 0.0000],\n",
       "         [0.0000, 0.0000, 0.0000,  ..., 0.0000, 0.0000, 0.0000],\n",
       "         [0.0000, 0.0000, 0.0000,  ..., 0.0000, 0.0000, 0.0000]],\n",
       "\n",
       "        [[0.0000, 0.0000, 0.0000,  ..., 0.0000, 0.0000, 0.0000],\n",
       "         [0.0000, 0.0000, 0.0000,  ..., 0.0000, 0.0000, 0.0000],\n",
       "         [0.0000, 0.0000, 0.0000,  ..., 0.0000, 0.0000, 0.0000],\n",
       "         ...,\n",
       "         [0.0000, 0.0000, 0.0000,  ..., 1.0000, 0.0000, 0.0000],\n",
       "         [0.0000, 0.0000, 0.0000,  ..., 0.0000, 1.0000, 0.0000],\n",
       "         [0.0000, 0.0000, 0.0000,  ..., 0.0000, 0.3300, 0.6700]]])"
      ]
     },
     "execution_count": 87,
     "metadata": {},
     "output_type": "execute_result"
    }
   ],
   "source": [
    "test"
   ]
  },
  {
   "cell_type": "code",
   "execution_count": 69,
   "id": "7f29c32d-c96e-4be1-9773-edbeac6a3092",
   "metadata": {},
   "outputs": [
    {
     "data": {
      "text/plain": [
       "torch.Size([32, 59, 22])"
      ]
     },
     "execution_count": 69,
     "metadata": {},
     "output_type": "execute_result"
    }
   ],
   "source": [
    "test.shape"
   ]
  },
  {
   "cell_type": "code",
   "execution_count": 73,
   "id": "5063f4ce-8bbb-4804-a0f5-48c01ac1f036",
   "metadata": {},
   "outputs": [],
   "source": [
    "other_test = test * torch.matmul(noised_samples[0], noise_matrix.matrix_power(3))"
   ]
  },
  {
   "cell_type": "code",
   "execution_count": 78,
   "id": "0aa8083c-1894-4e89-b3ea-5cf68b4f3c77",
   "metadata": {},
   "outputs": [
    {
     "data": {
      "text/plain": [
       "tensor([[0.0000, 0.0000, 0.0000,  ..., 0.0000, 0.0000, 0.0239],\n",
       "        [0.0000, 0.0000, 0.0000,  ..., 0.0000, 0.0000, 0.0000],\n",
       "        [0.0000, 0.0000, 0.0000,  ..., 0.0000, 0.0000, 0.0000],\n",
       "        ...,\n",
       "        [0.0000, 0.0000, 0.0000,  ..., 0.0000, 0.0000, 0.0000],\n",
       "        [0.0000, 0.0000, 0.0000,  ..., 0.0000, 0.0000, 0.0000],\n",
       "        [0.0000, 0.0000, 0.0000,  ..., 0.0000, 0.0000, 0.0000]])"
      ]
     },
     "execution_count": 78,
     "metadata": {},
     "output_type": "execute_result"
    }
   ],
   "source": [
    "other_test[0]"
   ]
  },
  {
   "cell_type": "code",
   "execution_count": 28,
   "id": "d4c59108-eabd-4612-97d8-e65762304f50",
   "metadata": {},
   "outputs": [
    {
     "data": {
      "text/plain": [
       "torch.Size([32, 1])"
      ]
     },
     "execution_count": 28,
     "metadata": {},
     "output_type": "execute_result"
    }
   ],
   "source": [
    "ts[1].unsqueeze(1).shape"
   ]
  },
  {
   "cell_type": "code",
   "execution_count": 30,
   "id": "b508bf9e-278e-4d9d-93ec-f0945342f111",
   "metadata": {},
   "outputs": [
    {
     "data": {
      "text/plain": [
       "torch.Size([32, 59, 22])"
      ]
     },
     "execution_count": 30,
     "metadata": {},
     "output_type": "execute_result"
    }
   ],
   "source": [
    "noised_samples[1].shape"
   ]
  },
  {
   "cell_type": "code",
   "execution_count": 38,
   "id": "e26635af-ea02-4c00-b57d-f84664fb5602",
   "metadata": {},
   "outputs": [
    {
     "data": {
      "text/plain": [
       "tensor([[[[0.0000, 0.0000, 0.0000,  ..., 0.0000, 0.0000, 0.0000],\n",
       "          [0.0000, 0.0000, 0.0000,  ..., 0.0000, 0.0000, 0.0000],\n",
       "          [0.0000, 0.0000, 0.0000,  ..., 0.0000, 0.0000, 0.0000],\n",
       "          ...,\n",
       "          [0.0000, 0.0000, 0.0000,  ..., 0.0000, 0.0000, 0.0000],\n",
       "          [0.0000, 0.0000, 0.0000,  ..., 0.0000, 0.0000, 0.0000],\n",
       "          [0.0000, 0.0000, 0.0000,  ..., 0.0000, 0.0000, 0.0000]],\n",
       "\n",
       "         [[0.0000, 0.0000, 0.0000,  ..., 0.0000, 0.0000, 0.0000],\n",
       "          [0.0000, 0.0000, 0.0000,  ..., 0.0000, 0.0000, 0.0000],\n",
       "          [0.0000, 0.0000, 0.0000,  ..., 0.0000, 0.0000, 0.0000],\n",
       "          ...,\n",
       "          [0.0000, 0.0000, 0.0000,  ..., 0.0000, 0.0000, 0.0000],\n",
       "          [0.0000, 0.0000, 0.0000,  ..., 0.0000, 0.0000, 0.0000],\n",
       "          [0.0000, 0.0000, 0.0000,  ..., 0.0000, 0.0000, 0.0000]],\n",
       "\n",
       "         [[0.0000, 0.0000, 0.0000,  ..., 0.9900, 0.0000, 0.0000],\n",
       "          [0.0000, 0.0000, 0.0000,  ..., 0.0000, 0.0000, 0.0000],\n",
       "          [0.0000, 0.0000, 0.0000,  ..., 0.9900, 0.0000, 0.0000],\n",
       "          ...,\n",
       "          [0.0000, 0.0000, 0.0000,  ..., 0.9900, 0.0000, 0.0000],\n",
       "          [0.0000, 0.0000, 0.0000,  ..., 0.0000, 0.0000, 0.0000],\n",
       "          [0.0000, 0.0000, 0.0000,  ..., 0.0000, 0.0000, 0.0000]],\n",
       "\n",
       "         ...,\n",
       "\n",
       "         [[0.0000, 0.9900, 0.0000,  ..., 0.0000, 0.0000, 0.0000],\n",
       "          [0.0000, 0.0000, 0.0000,  ..., 0.9900, 0.0000, 0.0000],\n",
       "          [0.0000, 0.9900, 0.0000,  ..., 0.0000, 0.0000, 0.0000],\n",
       "          ...,\n",
       "          [0.0000, 0.0000, 0.0000,  ..., 0.0000, 0.0000, 0.0000],\n",
       "          [0.0000, 0.0000, 0.0000,  ..., 0.0000, 0.0000, 0.0000],\n",
       "          [0.0000, 0.0000, 0.0000,  ..., 0.0000, 0.0000, 0.0000]],\n",
       "\n",
       "         [[0.0000, 0.0000, 0.0000,  ..., 0.0000, 0.0000, 0.0000],\n",
       "          [0.0000, 0.0000, 0.0000,  ..., 0.0000, 0.0000, 0.0000],\n",
       "          [0.0000, 0.0000, 0.0000,  ..., 0.0000, 0.0000, 0.0000],\n",
       "          ...,\n",
       "          [0.0000, 0.0000, 0.0000,  ..., 0.0000, 0.0000, 0.0000],\n",
       "          [0.0000, 0.0000, 0.0000,  ..., 0.0000, 0.0000, 0.0000],\n",
       "          [0.0000, 0.0000, 0.0000,  ..., 0.0000, 0.0000, 0.0000]],\n",
       "\n",
       "         [[0.0000, 0.0000, 0.0000,  ..., 0.0000, 0.0000, 0.0000],\n",
       "          [0.0000, 0.0000, 0.0000,  ..., 0.0000, 0.0000, 0.0000],\n",
       "          [0.0000, 0.0000, 0.0000,  ..., 0.0000, 0.0000, 0.0000],\n",
       "          ...,\n",
       "          [0.0000, 0.0000, 0.0000,  ..., 0.9900, 0.0000, 0.0000],\n",
       "          [0.0000, 0.0000, 0.0000,  ..., 0.0000, 0.9900, 0.0000],\n",
       "          [0.0000, 0.0000, 0.0000,  ..., 0.0000, 0.9900, 0.0000]]],\n",
       "\n",
       "\n",
       "        [[[0.0000, 0.0000, 0.0000,  ..., 0.0000, 0.0000, 0.0000],\n",
       "          [0.0000, 0.0000, 0.0000,  ..., 0.0000, 0.0000, 0.0000],\n",
       "          [0.0000, 0.0000, 0.0000,  ..., 0.0000, 0.0000, 0.0000],\n",
       "          ...,\n",
       "          [0.0000, 0.0000, 0.0000,  ..., 0.0000, 0.0000, 0.0000],\n",
       "          [0.0000, 0.0000, 0.0000,  ..., 0.0000, 0.0000, 0.0000],\n",
       "          [0.0000, 0.0000, 0.0000,  ..., 0.0000, 0.0000, 0.0000]],\n",
       "\n",
       "         [[0.0000, 0.0000, 0.0000,  ..., 0.0000, 0.0000, 0.0000],\n",
       "          [0.0000, 0.0000, 0.0000,  ..., 0.0000, 0.0000, 0.0000],\n",
       "          [0.0000, 0.0000, 0.0000,  ..., 0.0000, 0.0000, 0.0000],\n",
       "          ...,\n",
       "          [0.0000, 0.0000, 0.0000,  ..., 0.0000, 0.0000, 0.0000],\n",
       "          [0.0000, 0.0000, 0.0000,  ..., 0.0000, 0.0000, 0.0000],\n",
       "          [0.0000, 0.0000, 0.0000,  ..., 0.0000, 0.0000, 0.0000]],\n",
       "\n",
       "         [[0.0000, 0.0000, 0.0000,  ..., 0.9900, 0.0000, 0.0000],\n",
       "          [0.0000, 0.0000, 0.0000,  ..., 0.0000, 0.0000, 0.0000],\n",
       "          [0.0000, 0.0000, 0.0000,  ..., 0.9900, 0.0000, 0.0000],\n",
       "          ...,\n",
       "          [0.0000, 0.0000, 0.0000,  ..., 0.9900, 0.0000, 0.0000],\n",
       "          [0.0000, 0.0000, 0.0000,  ..., 0.0000, 0.0000, 0.0000],\n",
       "          [0.0000, 0.0000, 0.0000,  ..., 0.0000, 0.0000, 0.0000]],\n",
       "\n",
       "         ...,\n",
       "\n",
       "         [[0.0000, 0.9900, 0.0000,  ..., 0.0000, 0.0000, 0.0000],\n",
       "          [0.0000, 0.0000, 0.0000,  ..., 0.9900, 0.0000, 0.0000],\n",
       "          [0.0000, 0.9900, 0.0000,  ..., 0.0000, 0.0000, 0.0000],\n",
       "          ...,\n",
       "          [0.0000, 0.0000, 0.0000,  ..., 0.0000, 0.0000, 0.0000],\n",
       "          [0.0000, 0.0000, 0.0000,  ..., 0.0000, 0.0000, 0.0000],\n",
       "          [0.0000, 0.0000, 0.0000,  ..., 0.0000, 0.0000, 0.0000]],\n",
       "\n",
       "         [[0.0000, 0.0000, 0.0000,  ..., 0.0000, 0.0000, 0.0000],\n",
       "          [0.0000, 0.0000, 0.0000,  ..., 0.0000, 0.0000, 0.0000],\n",
       "          [0.0000, 0.0000, 0.0000,  ..., 0.0000, 0.0000, 0.0000],\n",
       "          ...,\n",
       "          [0.0000, 0.0000, 0.0000,  ..., 0.0000, 0.0000, 0.0000],\n",
       "          [0.0000, 0.0000, 0.0000,  ..., 0.0000, 0.0000, 0.0000],\n",
       "          [0.0000, 0.0000, 0.0000,  ..., 0.0000, 0.0000, 0.0000]],\n",
       "\n",
       "         [[0.0000, 0.0000, 0.0000,  ..., 0.0000, 0.0000, 0.0000],\n",
       "          [0.0000, 0.0000, 0.0000,  ..., 0.0000, 0.0000, 0.0000],\n",
       "          [0.0000, 0.0000, 0.0000,  ..., 0.0000, 0.0000, 0.0000],\n",
       "          ...,\n",
       "          [0.0000, 0.0000, 0.0000,  ..., 0.9900, 0.0000, 0.0000],\n",
       "          [0.0000, 0.0000, 0.0000,  ..., 0.0000, 0.9900, 0.0000],\n",
       "          [0.0000, 0.0000, 0.0000,  ..., 0.0000, 0.9900, 0.0000]]],\n",
       "\n",
       "\n",
       "        [[[0.0000, 0.0000, 0.0000,  ..., 0.0000, 0.0000, 0.0000],\n",
       "          [0.0000, 0.0000, 0.0000,  ..., 0.0000, 0.0000, 0.0000],\n",
       "          [0.0000, 0.0000, 0.0000,  ..., 0.0000, 0.0000, 0.0000],\n",
       "          ...,\n",
       "          [0.0000, 0.0000, 0.0000,  ..., 0.0000, 0.0000, 0.0000],\n",
       "          [0.0000, 0.0000, 0.0000,  ..., 0.0000, 0.0000, 0.0000],\n",
       "          [0.0000, 0.0000, 0.0000,  ..., 0.0000, 0.0000, 0.0000]],\n",
       "\n",
       "         [[0.0000, 0.0000, 0.0000,  ..., 0.0000, 0.0000, 0.0000],\n",
       "          [0.0000, 0.0000, 0.0000,  ..., 0.0000, 0.0000, 0.0000],\n",
       "          [0.0000, 0.0000, 0.0000,  ..., 0.0000, 0.0000, 0.0000],\n",
       "          ...,\n",
       "          [0.0000, 0.0000, 0.0000,  ..., 0.0000, 0.0000, 0.0000],\n",
       "          [0.0000, 0.0000, 0.0000,  ..., 0.0000, 0.0000, 0.0000],\n",
       "          [0.0000, 0.0000, 0.0000,  ..., 0.0000, 0.0000, 0.0000]],\n",
       "\n",
       "         [[0.0000, 0.0000, 0.0000,  ..., 0.9900, 0.0000, 0.0000],\n",
       "          [0.0000, 0.0000, 0.0000,  ..., 0.0000, 0.0000, 0.0000],\n",
       "          [0.0000, 0.0000, 0.0000,  ..., 0.9900, 0.0000, 0.0000],\n",
       "          ...,\n",
       "          [0.0000, 0.0000, 0.0000,  ..., 0.9900, 0.0000, 0.0000],\n",
       "          [0.0000, 0.0000, 0.0000,  ..., 0.0000, 0.0000, 0.0000],\n",
       "          [0.0000, 0.0000, 0.0000,  ..., 0.0000, 0.0000, 0.0000]],\n",
       "\n",
       "         ...,\n",
       "\n",
       "         [[0.0000, 0.9900, 0.0000,  ..., 0.0000, 0.0000, 0.0000],\n",
       "          [0.0000, 0.0000, 0.0000,  ..., 0.9900, 0.0000, 0.0000],\n",
       "          [0.0000, 0.9900, 0.0000,  ..., 0.0000, 0.0000, 0.0000],\n",
       "          ...,\n",
       "          [0.0000, 0.0000, 0.0000,  ..., 0.0000, 0.0000, 0.0000],\n",
       "          [0.0000, 0.0000, 0.0000,  ..., 0.0000, 0.0000, 0.0000],\n",
       "          [0.0000, 0.0000, 0.0000,  ..., 0.0000, 0.0000, 0.0000]],\n",
       "\n",
       "         [[0.0000, 0.0000, 0.0000,  ..., 0.0000, 0.0000, 0.0000],\n",
       "          [0.0000, 0.0000, 0.0000,  ..., 0.0000, 0.0000, 0.0000],\n",
       "          [0.0000, 0.0000, 0.0000,  ..., 0.0000, 0.0000, 0.0000],\n",
       "          ...,\n",
       "          [0.0000, 0.0000, 0.0000,  ..., 0.0000, 0.0000, 0.0000],\n",
       "          [0.0000, 0.0000, 0.0000,  ..., 0.0000, 0.0000, 0.0000],\n",
       "          [0.0000, 0.0000, 0.0000,  ..., 0.0000, 0.0000, 0.0000]],\n",
       "\n",
       "         [[0.0000, 0.0000, 0.0000,  ..., 0.0000, 0.0000, 0.0000],\n",
       "          [0.0000, 0.0000, 0.0000,  ..., 0.0000, 0.0000, 0.0000],\n",
       "          [0.0000, 0.0000, 0.0000,  ..., 0.0000, 0.0000, 0.0000],\n",
       "          ...,\n",
       "          [0.0000, 0.0000, 0.0000,  ..., 0.9900, 0.0000, 0.0000],\n",
       "          [0.0000, 0.0000, 0.0000,  ..., 0.0000, 0.9900, 0.0000],\n",
       "          [0.0000, 0.0000, 0.0000,  ..., 0.0000, 0.9900, 0.0000]]],\n",
       "\n",
       "\n",
       "        ...,\n",
       "\n",
       "\n",
       "        [[[0.0100, 0.0100, 0.0100,  ..., 0.0100, 0.0100, 1.0000],\n",
       "          [0.0100, 0.0100, 0.0100,  ..., 0.0100, 0.0100, 1.0000],\n",
       "          [0.0100, 0.0100, 0.0100,  ..., 0.0100, 0.0100, 1.0000],\n",
       "          ...,\n",
       "          [0.0100, 0.0100, 0.0100,  ..., 0.0100, 0.0100, 1.0000],\n",
       "          [0.0100, 0.0100, 0.0100,  ..., 0.0100, 0.0100, 1.0000],\n",
       "          [0.0100, 0.0100, 0.0100,  ..., 0.0100, 0.0100, 1.0000]],\n",
       "\n",
       "         [[0.0100, 0.0100, 0.0100,  ..., 0.0100, 0.0100, 1.0000],\n",
       "          [0.0100, 0.0100, 0.0100,  ..., 0.0100, 0.0100, 1.0000],\n",
       "          [0.0100, 0.0100, 0.0100,  ..., 0.0100, 0.0100, 1.0000],\n",
       "          ...,\n",
       "          [0.0100, 0.0100, 0.0100,  ..., 0.0100, 0.0100, 1.0000],\n",
       "          [0.0100, 0.0100, 0.0100,  ..., 0.0100, 0.0100, 1.0000],\n",
       "          [0.0100, 0.0100, 0.0100,  ..., 0.0100, 0.0100, 1.0000]],\n",
       "\n",
       "         [[0.0100, 0.0100, 0.0100,  ..., 0.0100, 0.0100, 1.0000],\n",
       "          [0.0100, 0.0100, 0.0100,  ..., 0.0100, 0.0100, 1.0000],\n",
       "          [0.0100, 0.0100, 0.0100,  ..., 0.0100, 0.0100, 1.0000],\n",
       "          ...,\n",
       "          [0.0100, 0.0100, 0.0100,  ..., 0.0100, 0.0100, 1.0000],\n",
       "          [0.0100, 0.0100, 0.0100,  ..., 0.0100, 0.0100, 1.0000],\n",
       "          [0.0100, 0.0100, 0.0100,  ..., 0.0100, 0.0100, 1.0000]],\n",
       "\n",
       "         ...,\n",
       "\n",
       "         [[0.0100, 0.0100, 0.0100,  ..., 0.0100, 0.0100, 1.0000],\n",
       "          [0.0100, 0.0100, 0.0100,  ..., 0.0100, 0.0100, 1.0000],\n",
       "          [0.0100, 0.0100, 0.0100,  ..., 0.0100, 0.0100, 1.0000],\n",
       "          ...,\n",
       "          [0.0100, 0.0100, 0.0100,  ..., 0.0100, 0.0100, 1.0000],\n",
       "          [0.0100, 0.0100, 0.0100,  ..., 0.0100, 0.0100, 1.0000],\n",
       "          [0.0100, 0.0100, 0.0100,  ..., 0.0100, 0.0100, 1.0000]],\n",
       "\n",
       "         [[0.0100, 0.0100, 0.0100,  ..., 0.0100, 0.0100, 1.0000],\n",
       "          [0.0100, 0.0100, 0.0100,  ..., 0.0100, 0.0100, 1.0000],\n",
       "          [0.0100, 0.0100, 0.0100,  ..., 0.0100, 0.0100, 1.0000],\n",
       "          ...,\n",
       "          [0.0100, 0.0100, 0.0100,  ..., 0.0100, 0.0100, 1.0000],\n",
       "          [0.0100, 0.0100, 0.0100,  ..., 0.0100, 0.0100, 1.0000],\n",
       "          [0.0100, 0.0100, 0.0100,  ..., 0.0100, 0.0100, 1.0000]],\n",
       "\n",
       "         [[0.0100, 0.0100, 0.0100,  ..., 0.0100, 0.0100, 1.0000],\n",
       "          [0.0100, 0.0100, 0.0100,  ..., 0.0100, 0.0100, 1.0000],\n",
       "          [0.0100, 0.0100, 0.0100,  ..., 0.0100, 0.0100, 1.0000],\n",
       "          ...,\n",
       "          [0.0100, 0.0100, 0.0100,  ..., 0.0100, 0.0100, 1.0000],\n",
       "          [0.0100, 0.0100, 0.0100,  ..., 0.0100, 0.0100, 1.0000],\n",
       "          [0.0100, 0.0100, 0.0100,  ..., 0.0100, 0.0100, 1.0000]]],\n",
       "\n",
       "\n",
       "        [[[0.0100, 0.0100, 0.0100,  ..., 0.0100, 0.0100, 1.0000],\n",
       "          [0.0100, 0.0100, 0.0100,  ..., 0.0100, 0.0100, 1.0000],\n",
       "          [0.0100, 0.0100, 0.0100,  ..., 0.0100, 0.0100, 1.0000],\n",
       "          ...,\n",
       "          [0.0100, 0.0100, 0.0100,  ..., 0.0100, 0.0100, 1.0000],\n",
       "          [0.0100, 0.0100, 0.0100,  ..., 0.0100, 0.0100, 1.0000],\n",
       "          [0.0100, 0.0100, 0.0100,  ..., 0.0100, 0.0100, 1.0000]],\n",
       "\n",
       "         [[0.0100, 0.0100, 0.0100,  ..., 0.0100, 0.0100, 1.0000],\n",
       "          [0.0100, 0.0100, 0.0100,  ..., 0.0100, 0.0100, 1.0000],\n",
       "          [0.0100, 0.0100, 0.0100,  ..., 0.0100, 0.0100, 1.0000],\n",
       "          ...,\n",
       "          [0.0100, 0.0100, 0.0100,  ..., 0.0100, 0.0100, 1.0000],\n",
       "          [0.0100, 0.0100, 0.0100,  ..., 0.0100, 0.0100, 1.0000],\n",
       "          [0.0100, 0.0100, 0.0100,  ..., 0.0100, 0.0100, 1.0000]],\n",
       "\n",
       "         [[0.0100, 0.0100, 0.0100,  ..., 0.0100, 0.0100, 1.0000],\n",
       "          [0.0100, 0.0100, 0.0100,  ..., 0.0100, 0.0100, 1.0000],\n",
       "          [0.0100, 0.0100, 0.0100,  ..., 0.0100, 0.0100, 1.0000],\n",
       "          ...,\n",
       "          [0.0100, 0.0100, 0.0100,  ..., 0.0100, 0.0100, 1.0000],\n",
       "          [0.0100, 0.0100, 0.0100,  ..., 0.0100, 0.0100, 1.0000],\n",
       "          [0.0100, 0.0100, 0.0100,  ..., 0.0100, 0.0100, 1.0000]],\n",
       "\n",
       "         ...,\n",
       "\n",
       "         [[0.0100, 0.0100, 0.0100,  ..., 0.0100, 0.0100, 1.0000],\n",
       "          [0.0100, 0.0100, 0.0100,  ..., 0.0100, 0.0100, 1.0000],\n",
       "          [0.0100, 0.0100, 0.0100,  ..., 0.0100, 0.0100, 1.0000],\n",
       "          ...,\n",
       "          [0.0100, 0.0100, 0.0100,  ..., 0.0100, 0.0100, 1.0000],\n",
       "          [0.0100, 0.0100, 0.0100,  ..., 0.0100, 0.0100, 1.0000],\n",
       "          [0.0100, 0.0100, 0.0100,  ..., 0.0100, 0.0100, 1.0000]],\n",
       "\n",
       "         [[0.0100, 0.0100, 0.0100,  ..., 0.0100, 0.0100, 1.0000],\n",
       "          [0.0100, 0.0100, 0.0100,  ..., 0.0100, 0.0100, 1.0000],\n",
       "          [0.0100, 0.0100, 0.0100,  ..., 0.0100, 0.0100, 1.0000],\n",
       "          ...,\n",
       "          [0.0100, 0.0100, 0.0100,  ..., 0.0100, 0.0100, 1.0000],\n",
       "          [0.0100, 0.0100, 0.0100,  ..., 0.0100, 0.0100, 1.0000],\n",
       "          [0.0100, 0.0100, 0.0100,  ..., 0.0100, 0.0100, 1.0000]],\n",
       "\n",
       "         [[0.0100, 0.0100, 0.0100,  ..., 0.0100, 0.0100, 1.0000],\n",
       "          [0.0100, 0.0100, 0.0100,  ..., 0.0100, 0.0100, 1.0000],\n",
       "          [0.0100, 0.0100, 0.0100,  ..., 0.0100, 0.0100, 1.0000],\n",
       "          ...,\n",
       "          [0.0100, 0.0100, 0.0100,  ..., 0.0100, 0.0100, 1.0000],\n",
       "          [0.0100, 0.0100, 0.0100,  ..., 0.0100, 0.0100, 1.0000],\n",
       "          [0.0100, 0.0100, 0.0100,  ..., 0.0100, 0.0100, 1.0000]]],\n",
       "\n",
       "\n",
       "        [[[0.0100, 0.0100, 0.0100,  ..., 0.0100, 0.0100, 1.0000],\n",
       "          [0.0100, 0.0100, 0.0100,  ..., 0.0100, 0.0100, 1.0000],\n",
       "          [0.0100, 0.0100, 0.0100,  ..., 0.0100, 0.0100, 1.0000],\n",
       "          ...,\n",
       "          [0.0100, 0.0100, 0.0100,  ..., 0.0100, 0.0100, 1.0000],\n",
       "          [0.0100, 0.0100, 0.0100,  ..., 0.0100, 0.0100, 1.0000],\n",
       "          [0.0100, 0.0100, 0.0100,  ..., 0.0100, 0.0100, 1.0000]],\n",
       "\n",
       "         [[0.0100, 0.0100, 0.0100,  ..., 0.0100, 0.0100, 1.0000],\n",
       "          [0.0100, 0.0100, 0.0100,  ..., 0.0100, 0.0100, 1.0000],\n",
       "          [0.0100, 0.0100, 0.0100,  ..., 0.0100, 0.0100, 1.0000],\n",
       "          ...,\n",
       "          [0.0100, 0.0100, 0.0100,  ..., 0.0100, 0.0100, 1.0000],\n",
       "          [0.0100, 0.0100, 0.0100,  ..., 0.0100, 0.0100, 1.0000],\n",
       "          [0.0100, 0.0100, 0.0100,  ..., 0.0100, 0.0100, 1.0000]],\n",
       "\n",
       "         [[0.0100, 0.0100, 0.0100,  ..., 0.0100, 0.0100, 1.0000],\n",
       "          [0.0100, 0.0100, 0.0100,  ..., 0.0100, 0.0100, 1.0000],\n",
       "          [0.0100, 0.0100, 0.0100,  ..., 0.0100, 0.0100, 1.0000],\n",
       "          ...,\n",
       "          [0.0100, 0.0100, 0.0100,  ..., 0.0100, 0.0100, 1.0000],\n",
       "          [0.0100, 0.0100, 0.0100,  ..., 0.0100, 0.0100, 1.0000],\n",
       "          [0.0100, 0.0100, 0.0100,  ..., 0.0100, 0.0100, 1.0000]],\n",
       "\n",
       "         ...,\n",
       "\n",
       "         [[0.0100, 0.0100, 0.0100,  ..., 0.0100, 0.0100, 1.0000],\n",
       "          [0.0100, 0.0100, 0.0100,  ..., 0.0100, 0.0100, 1.0000],\n",
       "          [0.0100, 0.0100, 0.0100,  ..., 0.0100, 0.0100, 1.0000],\n",
       "          ...,\n",
       "          [0.0100, 0.0100, 0.0100,  ..., 0.0100, 0.0100, 1.0000],\n",
       "          [0.0100, 0.0100, 0.0100,  ..., 0.0100, 0.0100, 1.0000],\n",
       "          [0.0100, 0.0100, 0.0100,  ..., 0.0100, 0.0100, 1.0000]],\n",
       "\n",
       "         [[0.0100, 0.0100, 0.0100,  ..., 0.0100, 0.0100, 1.0000],\n",
       "          [0.0100, 0.0100, 0.0100,  ..., 0.0100, 0.0100, 1.0000],\n",
       "          [0.0100, 0.0100, 0.0100,  ..., 0.0100, 0.0100, 1.0000],\n",
       "          ...,\n",
       "          [0.0100, 0.0100, 0.0100,  ..., 0.0100, 0.0100, 1.0000],\n",
       "          [0.0100, 0.0100, 0.0100,  ..., 0.0100, 0.0100, 1.0000],\n",
       "          [0.0100, 0.0100, 0.0100,  ..., 0.0100, 0.0100, 1.0000]],\n",
       "\n",
       "         [[0.0100, 0.0100, 0.0100,  ..., 0.0100, 0.0100, 1.0000],\n",
       "          [0.0100, 0.0100, 0.0100,  ..., 0.0100, 0.0100, 1.0000],\n",
       "          [0.0100, 0.0100, 0.0100,  ..., 0.0100, 0.0100, 1.0000],\n",
       "          ...,\n",
       "          [0.0100, 0.0100, 0.0100,  ..., 0.0100, 0.0100, 1.0000],\n",
       "          [0.0100, 0.0100, 0.0100,  ..., 0.0100, 0.0100, 1.0000],\n",
       "          [0.0100, 0.0100, 0.0100,  ..., 0.0100, 0.0100, 1.0000]]]])"
      ]
     },
     "execution_count": 38,
     "metadata": {},
     "output_type": "execute_result"
    }
   ],
   "source": [
    "torch.matmul(noised_samples, noise_matrix.t()) * torch.matmul("
   ]
  },
  {
   "cell_type": "code",
   "execution_count": 21,
   "id": "40d18028-2ce8-402e-bcec-f29f275d7b24",
   "metadata": {},
   "outputs": [
    {
     "data": {
      "text/plain": [
       "tensor(325811.2188)"
      ]
     },
     "execution_count": 21,
     "metadata": {},
     "output_type": "execute_result"
    }
   ],
   "source": [
    "L_T(noised_samples_reshaped, noise_matrix)"
   ]
  },
  {
   "cell_type": "code",
   "execution_count": null,
   "id": "196e2e5d-d4c7-49eb-9ffd-11bac261aff3",
   "metadata": {},
   "outputs": [],
   "source": [
    "class CategoricalDiffusion(torch.nn.Module):\n",
    "    def __init__(\n",
    "        denoiser\n",
    "        \n",
    "    ):\n",
    "        super().__init__(**kwargs)\n",
    "        self.denoiser = denoiser\n",
    "\n",
    "    def denoising_process(self, noised_sample, ts):\n",
    "        y_pred = self.denoiser(noised_sample)\n",
    "        return y_pred\n",
    "\n",
    "    def L_T(self, noised_sample, noise_matrix):\n",
    "        vals, vecs = torch.linalg.eig(noise_matrix.t())\n",
    "        vals = torch.real(vals)\n",
    "        vecs = torch.real(vecs)\n",
    "\n",
    "        PxT = vecs[:, torch.argmax(vals)].unsqueeze(0).unsqueeze(1)\n",
    "\n",
    "        no_zeros_PxT = PxT + 1e-6\n",
    "        no_zeros_X   = noised_sample + 1e-6\n",
    "        \n",
    "        dkl_steady_state = torch.sum(\n",
    "            no_zeros_X * torch.log(no_zeros_X/no_zeros_PxT)\n",
    "        )\n",
    "\n",
    "        return dkl_steady_state\n",
    "\n",
    "    def L_tminus1(self, real, noise, forward_step):\n",
    "        fake = self.denoising_process(noise)\n",
    "        output = real*fake\n",
    "        qxtminus1_giv_xt_xtilde = reverse_marginal(noise_matrix, forward_step, reverse_step, output, noise)\n",
    "        qxtminus1_xt_giv_xtilde = qxtminus1_giv_xt_xtilde * noise_matrix.matrix_power(forward_step)\n",
    "\n",
    "\n",
    "    def L_t1(self, real, fake):\n",
    "        \"\"\"\n",
    "        \n",
    "        \"\"\"\n",
    "        return torch.sum(real * torch.log(fake+1e-6))\n",
    "        "
   ]
  }
 ],
 "metadata": {
  "kernelspec": {
   "display_name": "Python 3 (ipykernel)",
   "language": "python",
   "name": "python3"
  },
  "language_info": {
   "codemirror_mode": {
    "name": "ipython",
    "version": 3
   },
   "file_extension": ".py",
   "mimetype": "text/x-python",
   "name": "python",
   "nbconvert_exporter": "python",
   "pygments_lexer": "ipython3",
   "version": "3.11.4"
  }
 },
 "nbformat": 4,
 "nbformat_minor": 5
}
